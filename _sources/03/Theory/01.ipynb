{
 "cells": [
  {
   "attachments": {},
   "cell_type": "markdown",
   "metadata": {
    "nbgrader": {
     "grade": false,
     "locked": true,
     "solution": false
    }
   },
   "source": [
    "<figure>\n",
    "  <IMG SRC=\"https://raw.githubusercontent.com/mbakker7/exploratory_computing_with_python/master/tudelft_logo.png\" WIDTH=250 ALIGN=\"right\">\n",
    "</figure>\n",
    "\n",
    "\n",
    "# 3. Advanced strings and functions, files and debugging."
   ]
  },
  {
   "attachments": {},
   "cell_type": "markdown",
   "metadata": {},
   "source": [
    "It is common to have the first cell in a Notebook with all imports needed.\n",
    "\n",
    "We start to impor `pi` function from the `math` module and  `os` module that we will use later.\n"
   ]
  },
  {
   "cell_type": "code",
   "execution_count": 1,
   "metadata": {
    "collapsed": true,
    "nbgrader": {
     "grade": false,
     "locked": true,
     "solution": false
    }
   },
   "outputs": [],
   "source": [
    "from math import pi \n",
    "import os "
   ]
  },
  {
   "attachments": {},
   "cell_type": "markdown",
   "metadata": {
    "nbgrader": {
     "grade": false,
     "locked": true,
     "solution": false
    }
   },
   "source": [
    "## 3.1 Advanced Strings\n",
    "\n",
    "Welcome to the third Notebook. In this Notebook we are going to learn some advanced Python. Let's first start with strings. Run the code below and see what it prints out."
   ]
  },
  {
   "cell_type": "code",
   "execution_count": 1,
   "metadata": {
    "collapsed": true,
    "nbgrader": {
     "grade": false,
     "locked": true,
     "solution": false
    }
   },
   "outputs": [
    {
     "name": "stdout",
     "output_type": "stream",
     "text": [
      "This is an F-String\n",
      "This is a string\n"
     ]
    }
   ],
   "source": [
    "MyFString = f\"This is an F-String\"\n",
    "MyString = \"This is a string\"\n",
    "print(MyFString)\n",
    "print(MyString)"
   ]
  },
  {
   "attachments": {},
   "cell_type": "markdown",
   "metadata": {
    "nbgrader": {
     "grade": false,
     "locked": true,
     "solution": false
    }
   },
   "source": [
    "\n",
    "Now let's try inserting some data into our <b><code>print()</code></b> function. We'll use the list of integers <b><code>[1,2,3,4]</code></b>. "
   ]
  },
  {
   "cell_type": "code",
   "execution_count": 2,
   "metadata": {
    "collapsed": true,
    "nbgrader": {
     "grade": false,
     "locked": true,
     "solution": false
    }
   },
   "outputs": [
    {
     "name": "stdout",
     "output_type": "stream",
     "text": [
      "Data1: 1, Data2: 2, Data3: 3, Data4: 4\n",
      "Data1: 1 ,Data2: 2 ,Data3: 3 ,Data4: 4\n"
     ]
    }
   ],
   "source": [
    "Data = [1,2,3,4]\n",
    "\n",
    "MyFString = f\"Data1: {Data[0]}, Data2: {Data[1]}, Data3: {Data[2]}, Data4: {Data[3]}\"\n",
    "\n",
    "print(MyFString)\n",
    "print(\"Data1:\",Data[0],\",Data2:\",Data[1],\",Data3:\",Data[2],\",Data4:\",Data[3])"
   ]
  },
  {
   "attachments": {},
   "cell_type": "markdown",
   "metadata": {
    "nbgrader": {
     "grade": false,
     "locked": true,
     "solution": false
    }
   },
   "source": [
    "As you can see from the above code, it is much easier to insert variables in a string by using an f-string (formatted string)."
   ]
  },
  {
   "attachments": {},
   "cell_type": "markdown",
   "metadata": {
    "nbgrader": {
     "grade": false,
     "locked": true,
     "solution": false
    }
   },
   "source": [
    "### Formatting numbers\n",
    "\n",
    "Using f-strings makes formatting numbers really easy. Just add a colon character after a number value and specify how you want to format the number. The following table demonstrates a couple of examples with the number $1$:<br><br>\n",
    "\n",
    "| Code | Result|\n",
    "|------|------|\n",
    "| 1:.2f | 1.00|\n",
    "| 1:.0f| 1|\n",
    "| 1:.10f| 1.0000000000 | \n",
    "| 1:%| 100.000000%|\n",
    "| 1:.1%| 100.0% |\n",
    "| 1:e| 1.000000e+00 |\n",
    "\n",
    "As you can see the default number of decimal places is six. Furthermore, the <b><code>%</code></b> formatting operator assumes that $1$ is equal to $100$%, which is usual when working with fractions, and the formatting operator <b><code>e</code></b> formats using scientific notation."
   ]
  },
  {
   "attachments": {},
   "cell_type": "markdown",
   "metadata": {
    "nbgrader": {
     "grade": false,
     "locked": true,
     "solution": false
    }
   },
   "source": [
    "Now let's use our newfound knowledge of strings to make a simple progress bar. During other courses, you'll sometimes have to write algorithms that take a long time to run. In this case, it is useful to have a progress bar. Our example of a progress bar makes use of the <b><code>sleep()</code></b> function, from the <b><code>time</code></b> module, to simulate elapsed time."
   ]
  },
  {
   "cell_type": "code",
   "execution_count": 3,
   "metadata": {
    "collapsed": true,
    "nbgrader": {
     "grade": false,
     "locked": true,
     "solution": false
    }
   },
   "outputs": [
    {
     "name": "stdout",
     "output_type": "stream",
     "text": [
      "Loading: 0%\n",
      "Loading: 10%\n",
      "Loading: 20%\n",
      "Loading: 30%\n",
      "Loading: 40%\n",
      "Loading: 50%\n",
      "Loading: 60%\n",
      "Loading: 70%\n",
      "Loading: 80%\n",
      "Loading: 90%\n",
      "Loading: 100%\n"
     ]
    }
   ],
   "source": [
    "import time\n",
    "\n",
    "for i in range(11):\n",
    "    print(f\"Loading: {i*10}%\", )\n",
    "    time.sleep(0.5) "
   ]
  },
  {
   "attachments": {},
   "cell_type": "markdown",
   "metadata": {
    "nbgrader": {
     "grade": false,
     "locked": true,
     "solution": false
    }
   },
   "source": [
    "This works! Though it is not that pretty to look at. It would look nicer to not have it print a new line each time. This is where <b>escape characters</b> come in. These characters can do some special things in strings. Below an example of some escape characters:\n"
   ]
  },
  {
   "attachments": {},
   "cell_type": "markdown",
   "metadata": {
    "nbgrader": {
     "grade": false,
     "locked": true,
     "solution": false
    }
   },
   "source": [
    "<h3>Escape characters</h3>\n",
    "\n",
    "| Code | Result|\n",
    "|------|------|\n",
    "|   \\\\'  | ' |\n",
    "| \\\\\\    | \\\\ |\n",
    "| \\\\n | new line| \n",
    "| \\\\r | carriage return  |\n",
    "| \\\\t | tab |\n",
    "| \\\\b | backspace |\n",
    "\n",
    "We can use some of these characters in our code. Let's use the carriage return character to make our progress bar not print out a new line every time. We can do this by adding <b><code>end=\"\\r\"</code></b> into our print function. The <b><code>end</code></b> keyword specifies a string that gets printed at the end. The string we print at the end here is the carriage return character. This carriage resets the print function to the start of the line; thus making the next print function overwrite the current printed line. Try it and see what happens:"
   ]
  },
  {
   "cell_type": "code",
   "execution_count": 4,
   "metadata": {
    "collapsed": true,
    "nbgrader": {
     "grade": false,
     "locked": true,
     "solution": false
    }
   },
   "outputs": [
    {
     "name": "stdout",
     "output_type": "stream",
     "text": [
      "This is a very important message\n"
     ]
    }
   ],
   "source": [
    "print(\"Will I get overwritten?\", end=\"\\r\")\n",
    "print(\"This is a very important message\")"
   ]
  },
  {
   "attachments": {},
   "cell_type": "markdown",
   "metadata": {
    "nbgrader": {
     "grade": false,
     "locked": true,
     "solution": false
    }
   },
   "source": [
    "Now let's add this to our progress bar... "
   ]
  },
  {
   "cell_type": "code",
   "execution_count": 5,
   "metadata": {
    "collapsed": true,
    "nbgrader": {
     "grade": false,
     "locked": true,
     "solution": false
    }
   },
   "outputs": [
    {
     "name": "stdout",
     "output_type": "stream",
     "text": [
      "Loading complete!\n"
     ]
    }
   ],
   "source": [
    "import time\n",
    "for i in range(11):\n",
    "    print(f\"Loading: {i*10}%\", end=\"\\r\")\n",
    "    time.sleep(0.5) \n",
    "print(\"Loading complete!\")"
   ]
  },
  {
   "attachments": {},
   "cell_type": "markdown",
   "metadata": {
    "nbgrader": {
     "grade": false,
     "locked": true,
     "solution": false
    }
   },
   "source": [
    "As you can see, it works beautifully!"
   ]
  },
  {
   "attachments": {},
   "cell_type": "markdown",
   "metadata": {
    "nbgrader": {
     "grade": false,
     "locked": true,
     "solution": false
    }
   },
   "source": [
    "## 3.2 Advanced Functions\n",
    "\n",
    "Sometimes you want to use the same code multiple times, so you could embed this code into a function. However, sometimes the code you want to use is so short that putting it into a function feels a bit over the top. This is where <b>lambda functions</b> are useful. <br><br>Lambda functions are functions that can take any number of arguments but can only have one expression in their function body. To demonstrate, see the code below. Here we have two functions that do exactly the same, but one is a lambda function and the other one is a normal function. "
   ]
  },
  {
   "cell_type": "code",
   "execution_count": 6,
   "metadata": {
    "collapsed": true,
    "nbgrader": {
     "grade": false,
     "locked": true,
     "solution": false
    }
   },
   "outputs": [
    {
     "name": "stdout",
     "output_type": "stream",
     "text": [
      "The square root of 16 is equal to 4\n",
      "The square root of 16 is equal to 4\n"
     ]
    }
   ],
   "source": [
    "sqrt_lambda = lambda x : x**0.5\n",
    "\n",
    "def sqrt(x):\n",
    "    sqrt = x**0.5\n",
    "    return sqrt\n",
    "\n",
    "print(f\"The square root of 16 is equal to {sqrt_lambda(16):.0f}\")\n",
    "print(f\"The square root of 16 is equal to {sqrt(16):.0f}\")"
   ]
  },
  {
   "attachments": {},
   "cell_type": "markdown",
   "metadata": {
    "nbgrader": {
     "grade": false,
     "locked": true,
     "solution": false
    }
   },
   "source": [
    "<div style=\"text-align: justify\">\n",
    "As you can see, the lambda version is much more concise. It automatically returns the computed value for you as well."
   ]
  },
  {
   "attachments": {},
   "cell_type": "markdown",
   "metadata": {},
   "source": [
    "## 3.3 Working with files\n",
    "\n",
    "A lot of the work you'll do in Python will have the following structure:\n",
    "1. Read data from a file\n",
    "2. Perform computations on the data\n",
    "3. Visualize the results and/or save the results to a file\n",
    "\n",
    "So far, we have only learned about computations. So let's learn a bit about how to manage files. Actually, opening or saving files is usually done with the help of modules which you will learn in more detail in Notebook 4 and 6. What we'll discuss here is how to manage file paths.\n",
    "\n",
    "### File paths\n",
    "\n",
    "To learn how to use files we need to learn how file paths in computers work. If you are tech-savvy and know how file paths work you can skip this part.\n",
    "\n",
    "File paths in computers work like a tree. They start at the <b>root</b> directory, which is often the <b><code>C:</code></b> drive (in Windows). This is the name of the hard drive that stores your Operating System. From the <b><code>C:</code></b> drive you can navigate into other directories. This is done using the **``\\``** character, however in other Operating Systems often the <b><code>/</code></b> delimiter is used.\n",
    "\n",
    "If a file is in the folder <b><code>Users</code></b>, which is stored in the <b><code>C:</code></b> directory, the file path would be <b><code>C:\\Users</code></b>. These types of file paths are called <b>absolute paths</b>. This file path is valid for most computers that run Windows, but some other Operating Systems may have different folder setups. This is why it is useful to use <b>relative paths</b>. Relative paths do not start from the root directory. Instead, they start from the directory you are currently in. By default, Jupyter Notebooks are stored in <b><code>C:\\Users\\CurrentUser</code></b> (where <b><code>CurrentUser</code></b> is your Windows username). To move into a directory using a relative path, for example, to the desktop folder, you would just write <b><code>.\\Desktop</code></b>. To move back a directory, using a relative path, you would type <b><code>..</code></b>\n",
    "\n",
    "`os.listdir()` or `os.listdir('./')` list all the entries in your current directory `os.listdir('../')` list all entries if we go back one level. \n",
    "\n",
    ":::{note}\n",
    "We use the `/` as delimiter, since a `\\` won't work on macOS\n",
    ":::"
   ]
  },
  {
   "cell_type": "code",
   "execution_count": 2,
   "metadata": {
    "nbgrader": {
     "grade": false,
     "locked": true,
     "solution": false
    }
   },
   "outputs": [
    {
     "name": "stdout",
     "output_type": "stream",
     "text": [
      "['01.ipynb']\n",
      "['01.ipynb']\n",
      "['Exercises', 'In_a_Nutshell', 'Theory']\n"
     ]
    }
   ],
   "source": [
    "import os\n",
    "\n",
    "print(os.listdir())\n",
    "print(os.listdir('./'))\n",
    "\n",
    "print(os.listdir('../'))"
   ]
  },
  {
   "attachments": {},
   "cell_type": "markdown",
   "metadata": {
    "nbgrader": {
     "grade": false,
     "locked": true,
     "solution": false
    }
   },
   "source": [
    ":::{warning}\n",
    "Keep in mind that, in Python, all file paths must be strings!\n",
    ":::"
   ]
  },
  {
   "attachments": {},
   "cell_type": "markdown",
   "metadata": {
    "nbgrader": {
     "grade": false,
     "locked": true,
     "solution": false
    }
   },
   "source": [
    "### ``pathlib`` and <code>os</code> modules\n",
    "\n",
    "These modules are very useful in managing and navigating your file paths. The function <b><code>path.expanduser('~')</code></b>, from the <b><code>os</code></b> module, allows you to find your root directory, independent of your Operating System. Try the below cell to see it."
   ]
  },
  {
   "cell_type": "code",
   "execution_count": 5,
   "metadata": {
    "nbgrader": {
     "grade": false,
     "locked": true,
     "solution": false
    }
   },
   "outputs": [
    {
     "name": "stdout",
     "output_type": "stream",
     "text": [
      "C:\\Users\\mmendozalugo\n"
     ]
    }
   ],
   "source": [
    "from pathlib import Path\n",
    "import os\n",
    "\n",
    "root_path = os.path.expanduser('~')\n",
    "print(root_path)\n"
   ]
  },
  {
   "attachments": {},
   "cell_type": "markdown",
   "metadata": {
    "nbgrader": {
     "grade": false,
     "locked": true,
     "solution": false
    }
   },
   "source": [
    "The path shown above is thus the absolute path to your current directory.\n",
    "\n",
    "This can come in handy when you write a code that needs to create directories in the user's computer to save data files and/or plots. As an example, the code below checks if a directory exists and, if it doesn't, it creates one.\n",
    "\n",
    "The `os.path.join` is used to concatenate two strings to form a path string with the appropriate delimiter.\n",
    "\n",
    "The code will check if a directory named `plots` exists in your current directory if not, it will create one."
   ]
  },
  {
   "cell_type": "code",
   "execution_count": null,
   "metadata": {},
   "outputs": [],
   "source": [
    "print('Contents of current directory (before):')\n",
    "print(os.listdir(root_path))\n",
    "\n",
    "imdir = os.path.join(root_path,'plots') \n",
    "print(f'\\nimdir = {imdir}')\n",
    "\n",
    "Path(imdir).mkdir(parents=True, exist_ok=True)\n",
    "\n",
    "print('\\nContents of current directory (after creating the new directory):')\n",
    "print(os.listdir(root_path))\n"
   ]
  },
  {
   "cell_type": "code",
   "execution_count": 17,
   "metadata": {
    "tags": [
     "remove-input"
    ]
   },
   "outputs": [
    {
     "name": "stdout",
     "output_type": "stream",
     "text": [
      "Contents of current directory (before):\n",
      "['Exercises', 'In_a_Nutshell', 'Theory']\n",
      "imdir =  C:\\Users\\mmendozalugo\\plots\n",
      "\n",
      "Contents of current directory (after creating the new directory):\n",
      "['Exercises', 'In_a_Nutshell', 'plots', 'Theory']\n"
     ]
    }
   ],
   "source": [
    "root_path = r'C:\\Users\\mmendozalugo\\OneDrive\\PhD\\Work\\Python_MOOC\\PM\\learn-python\\book\\03'\n",
    "\n",
    "print('Contents of current directory (before):')\n",
    "print(os.listdir(root_path))\n",
    "\n",
    "imdir = os.path.join(root_path,'plots') \n",
    "print('imdir = ',r'C:\\Users\\mmendozalugo\\plots')\n",
    "\n",
    "Path(imdir).mkdir(parents=True, exist_ok=True)\n",
    "\n",
    "print('\\nContents of current directory (after creating the new directory):')\n",
    "print(os.listdir(root_path))\n"
   ]
  },
  {
   "attachments": {},
   "cell_type": "markdown",
   "metadata": {},
   "source": [
    "To delete the folder that was just created we run the code bellow."
   ]
  },
  {
   "cell_type": "code",
   "execution_count": null,
   "metadata": {},
   "outputs": [],
   "source": [
    "try:\n",
    "    os.rmdir(imdir)\n",
    "    print(f'Directory {imdir} has been deleted.')\n",
    "except:\n",
    "    print('You already deleted the folder. :)')"
   ]
  },
  {
   "cell_type": "code",
   "execution_count": 18,
   "metadata": {
    "tags": [
     "remove-input"
    ]
   },
   "outputs": [
    {
     "name": "stdout",
     "output_type": "stream",
     "text": [
      "Directory C:\\Users\\mmendozalugo\\plots has been deleted.\n"
     ]
    }
   ],
   "source": [
    "print('Directory', r'C:\\Users\\mmendozalugo\\plots','has been deleted.')\n"
   ]
  },
  {
   "attachments": {},
   "cell_type": "markdown",
   "metadata": {
    "nbgrader": {
     "grade": false,
     "locked": true,
     "solution": false
    }
   },
   "source": [
    "Now you are, hopefully, a bit more used to working with file paths. For the next test, we are going to try to open a file. We can use some built-in Python functions to open a <b><i>*.txt</i></b> file and print its contents."
   ]
  },
  {
   "attachments": {},
   "cell_type": "markdown",
   "metadata": {
    "nbgrader": {
     "grade": false,
     "locked": true,
     "solution": false
    }
   },
   "source": [
    "## 3.4 Debugging\n",
    "\n",
    "It is very easy (and common) to make mistakes when programming. We call these errors <i>bugs</i>. Finding these <i>bugs</i> in your program and resolving them is what we call <i>debugging</i>.\n",
    "\n",
    "Errors\n",
    "According to <a href=\"https://greenteapress.com/wp/think-python-2e/\"><i>Think Python</i></a> — <i>Appendix A</i>, there are three different types of errors:\n",
    "\n",
    "### 1. Syntax errors\n",
    "\n",
    "<i>\"In computer science, the syntax of a computer language is the set of rules that defines the combinations of symbols that are considered to be correctly structured statements or expressions in that language.\"</i><br><br>Therefore, a syntax error is an error that does not obey the rules of the programming language. For example, parenthesis always comes in pairs... so <b><code>(1+2)</code></b> is OK, but <b><code>1+2)</code></b> is not. Below another example of a syntax error.  As you will see — this error is caught by the interpreter before running the code (hence, the <code>print</code> statements do not result in anything being printed).\n",
    "\n",
    "For example if I want to raise 2 to the 3rd power applying the wrong syntax, it will cause a syntax error."
   ]
  },
  {
   "cell_type": "code",
   "execution_count": 12,
   "metadata": {
    "collapsed": true,
    "nbgrader": {
     "grade": false,
     "locked": true,
     "solution": false
    }
   },
   "outputs": [
    {
     "ename": "SyntaxError",
     "evalue": "invalid syntax (2052218902.py, line 4)",
     "output_type": "error",
     "traceback": [
      "\u001b[1;36m  Cell \u001b[1;32mIn[12], line 4\u001b[1;36m\u001b[0m\n\u001b[1;33m    2***3\u001b[0m\n\u001b[1;37m       ^\u001b[0m\n\u001b[1;31mSyntaxError\u001b[0m\u001b[1;31m:\u001b[0m invalid syntax\n"
     ]
    }
   ],
   "source": [
    "print('Message before')\n",
    "2***3\n",
    "print('Message after')"
   ]
  },
  {
   "attachments": {},
   "cell_type": "markdown",
   "metadata": {
    "nbgrader": {
     "grade": false,
     "locked": true,
     "solution": false
    }
   },
   "source": [
    "### 2. Runtime errors\n",
    "\n",
    "<i>\"The second type of error is a runtime error. This type of error does not appear until after the program has started running. These errors are also called <b>exceptions</b>, as they usually indicate that something exceptional (and bad) has happened.\"</i>\n",
    "\n",
    "Below an example of a small script to express fractions as decimals that will cause a runtime error. The error will appear, since you cannot divide by 0."
   ]
  },
  {
   "cell_type": "code",
   "execution_count": 1,
   "metadata": {
    "collapsed": true,
    "nbgrader": {
     "grade": false,
     "locked": true,
     "solution": false
    }
   },
   "outputs": [
    {
     "name": "stdout",
     "output_type": "stream",
     "text": [
      "New fraction was added from 1and 6!\n",
      " It is equal to 0.167\n",
      "New fraction was added from 7and 8!\n",
      " It is equal to 0.875\n",
      "New fraction was added from 5and -1!\n",
      " It is equal to -5.000\n"
     ]
    },
    {
     "ename": "ZeroDivisionError",
     "evalue": "division by zero",
     "output_type": "error",
     "traceback": [
      "\u001b[1;31m---------------------------------------------------------------------------\u001b[0m",
      "\u001b[1;31mZeroDivisionError\u001b[0m                         Traceback (most recent call last)",
      "Cell \u001b[1;32mIn[1], line 6\u001b[0m\n\u001b[0;32m      3\u001b[0m fractions \u001b[39m=\u001b[39m []\n\u001b[0;32m      5\u001b[0m \u001b[39mfor\u001b[39;00m i \u001b[39min\u001b[39;00m \u001b[39mrange\u001b[39m(\u001b[39mlen\u001b[39m(numerators)):\n\u001b[1;32m----> 6\u001b[0m     fractions\u001b[39m.\u001b[39mappend(numerators[i] \u001b[39m/\u001b[39;49m denominators[i])\n\u001b[0;32m      7\u001b[0m     \u001b[39mprint\u001b[39m(\u001b[39mf\u001b[39m\u001b[39m'\u001b[39m\u001b[39mNew fraction was added from \u001b[39m\u001b[39m{\u001b[39;00mnumerators[i]\u001b[39m}\u001b[39;00m\u001b[39m'\u001b[39m \n\u001b[0;32m      8\u001b[0m           \u001b[39mf\u001b[39m\u001b[39m'\u001b[39m\u001b[39mand \u001b[39m\u001b[39m{\u001b[39;00mdenominators[i]\u001b[39m}\u001b[39;00m\u001b[39m!\u001b[39m\u001b[39m\\n\u001b[39;00m\u001b[39m It is equal to \u001b[39m\u001b[39m{\u001b[39;00mfractions[i]\u001b[39m:\u001b[39;00m\u001b[39m.3f\u001b[39m\u001b[39m}\u001b[39;00m\u001b[39m'\u001b[39m)\n",
      "\u001b[1;31mZeroDivisionError\u001b[0m: division by zero"
     ]
    }
   ],
   "source": [
    "numerators = [1, 7, 5, 12, -1]\n",
    "denominators = [6, 8, -1, 0, 5]\n",
    "fractions = []\n",
    "\n",
    "for i in range(len(numerators)):\n",
    "    fractions.append(numerators[i] / denominators[i])\n",
    "    print(f'New fraction was added from {numerators[i]}' \n",
    "          f'and {denominators[i]}!\\n It is equal to {fractions[i]:.3f}')\n",
    "   "
   ]
  },
  {
   "attachments": {},
   "cell_type": "markdown",
   "metadata": {
    "nbgrader": {
     "grade": false,
     "locked": true,
     "solution": false
    }
   },
   "source": [
    "### 3. Semantic errors\n",
    "\n",
    "According to the Oxford Dictionary, 'semantic' is an adjective relating to meaning. Therefore, a 'semantic error' is an error in the meaning of your code. Your code will still run without giving any error back, but it will not result in what you expected (or desired). For that reason, semantic errors are the hardest to identify. Below an example:\n",
    "\n",
    "I want to raise 2 to the 3rd power. However, I apply the wrong syntax that does not represent \"pow()\". \n",
    "\n",
    "No error message is created, because this syntax is used for another function in Python. However, this results in an output I did not expect nor desire."
   ]
  },
  {
   "cell_type": "code",
   "execution_count": 14,
   "metadata": {
    "collapsed": true,
    "nbgrader": {
     "grade": false,
     "locked": true,
     "solution": false
    }
   },
   "outputs": [
    {
     "name": "stdout",
     "output_type": "stream",
     "text": [
      "2 to the 3rd power is 1\n"
     ]
    }
   ],
   "source": [
    "power_of_2 = 2^3\n",
    "print(f'2 to the 3rd power is {power_of_2}')"
   ]
  },
  {
   "attachments": {},
   "cell_type": "markdown",
   "metadata": {
    "nbgrader": {
     "grade": false,
     "locked": true,
     "solution": false
    }
   },
   "source": [
    "### Debugging strategies\n",
    "\n",
    "There are a few ways to debug a program. A simple one is to debug by tracking your values using print statements. By printing the values of the variables in between, we can find where the program does something unwanted. For example, the code block below:"
   ]
  },
  {
   "cell_type": "code",
   "execution_count": 15,
   "metadata": {
    "collapsed": true,
    "nbgrader": {
     "grade": false,
     "locked": true,
     "solution": false
    }
   },
   "outputs": [
    {
     "name": "stdout",
     "output_type": "stream",
     "text": [
      "The sum of the elements of the list A is 3.\n"
     ]
    }
   ],
   "source": [
    "A = [0, 1, 2, 3]\n",
    "\n",
    "def sumA(my_list):\n",
    "    \"returns the sum of all the values in a given list\"\n",
    "    my_sum = 0\n",
    "    i = 0\n",
    "    while i < len(A):\n",
    "        my_sum = A[i]\n",
    "        i += 1\n",
    "    return my_sum\n",
    "\n",
    "print('The sum of the elements of the list A is {}.'.format(sumA(A)))"
   ]
  },
  {
   "attachments": {},
   "cell_type": "markdown",
   "metadata": {
    "nbgrader": {
     "grade": false,
     "locked": true,
     "solution": false
    }
   },
   "source": [
    "We see that our <b><code>sumA()</code></b> function outputs $3$, which isn't the sum of the contents of the list $A$. By adding a <b><code>print(my_sum)</code></b> inside the loop we can get a clearer understanding of what goes wrong."
   ]
  },
  {
   "cell_type": "code",
   "execution_count": 16,
   "metadata": {
    "collapsed": true,
    "nbgrader": {
     "grade": false,
     "locked": true,
     "solution": false
    }
   },
   "outputs": [
    {
     "name": "stdout",
     "output_type": "stream",
     "text": [
      "var my_sum[0] = 0\n",
      "var my_sum[1] = 1\n",
      "var my_sum[2] = 2\n",
      "var my_sum[3] = 3\n",
      "The sum of the elements of the list A is 3.\n"
     ]
    }
   ],
   "source": [
    "def sumA(my_list):\n",
    "    \"returns the sum of all the values in a given list\"\n",
    "    my_sum = 0\n",
    "    i = 0\n",
    "    while i < len(A):\n",
    "        my_sum = A[i]\n",
    "        print('var my_sum[{}] = {}'.format(i,my_sum))\n",
    "        i += 1\n",
    "    return my_sum\n",
    "\n",
    "print('The sum of the elements of the list A is {}.'.format(sumA(A)))"
   ]
  },
  {
   "attachments": {},
   "cell_type": "markdown",
   "metadata": {
    "nbgrader": {
     "grade": false,
     "locked": true,
     "solution": false
    }
   },
   "source": [
    "It looks like the function is just stating the values of the list $A$, but not adding them... so we must have forgotten to add something. Below the fixed version of that function."
   ]
  },
  {
   "cell_type": "code",
   "execution_count": null,
   "metadata": {
    "collapsed": true,
    "nbgrader": {
     "grade": false,
     "locked": true,
     "solution": false
    }
   },
   "outputs": [],
   "source": [
    "def sumA_fixed(my_list):\n",
    "    \"returns the sum of all the values in a given list\"\n",
    "    my_sum = 0\n",
    "    i = 0\n",
    "    while i < len(A):\n",
    "        my_sum += A[i]\n",
    "        print('var my_sum[{}] = {}'.format(i,my_sum))\n",
    "        i += 1\n",
    "    return my_sum\n",
    "\n",
    "print('The sum of the elements of the list A is {}.'.format(sumA_fixed(A)))"
   ]
  },
  {
   "attachments": {},
   "cell_type": "markdown",
   "metadata": {
    "nbgrader": {
     "grade": false,
     "locked": true,
     "solution": false
    }
   },
   "source": [
    "## Additional study material\n",
    "\n",
    "* Official Python Documentation - https://docs.python.org/3/tutorial/inputoutput.html\n",
    "* https://realpython.com/python-f-strings/\n",
    "* Official Python Documentation - https://docs.python.org/3/reference/expressions.html\n",
    "* https://realpython.com/python-lambda/\n",
    "* Official Python Documentation - https://docs.python.org/3/library/filesys.html\n",
    "* https://realpython.com/working-with-files-in-python/\n",
    "* Think Python (2nd ed.) - Section 14 \n",
    "* Official Python Documentation - https://docs.python.org/3/library/debug.html\n",
    "* Think Python (2nd ed.) - Appendix A and all (sub-)sections"
   ]
  },
  {
   "attachments": {},
   "cell_type": "markdown",
   "metadata": {
    "nbgrader": {
     "grade": false,
     "locked": true,
     "solution": false
    }
   },
   "source": [
    "After this Notebook you should be able to:\n",
    "\n",
    "- print a variable, formatting it in an appropriate manner\n",
    "- know the existence of escape characters\n",
    "- know how to use lambda functions\n",
    "- understand how file paths work\n",
    "- create and delete new directories \n",
    "- know the three different types of errors\n",
    "- have a plan when debugging your code"
   ]
  }
 ],
 "metadata": {
  "kernelspec": {
   "display_name": "base",
   "language": "python",
   "name": "python3"
  },
  "language_info": {
   "codemirror_mode": {
    "name": "ipython",
    "version": 3
   },
   "file_extension": ".py",
   "mimetype": "text/x-python",
   "name": "python",
   "nbconvert_exporter": "python",
   "pygments_lexer": "ipython3",
   "version": "3.8.13"
  },
  "latex_envs": {
   "LaTeX_envs_menu_present": true,
   "autoclose": false,
   "autocomplete": true,
   "bibliofile": "biblio.bib",
   "cite_by": "apalike",
   "current_citInitial": 1,
   "eqLabelWithNumbers": true,
   "eqNumInitial": 1,
   "hotkeys": {
    "equation": "Ctrl-E",
    "itemize": "Ctrl-I"
   },
   "labels_anchors": false,
   "latex_user_defs": false,
   "report_style_numbering": false,
   "user_envs_cfg": false
  }
 },
 "nbformat": 4,
 "nbformat_minor": 2
}
