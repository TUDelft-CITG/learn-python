{
 "cells": [
  {
   "attachments": {},
   "cell_type": "markdown",
   "metadata": {},
   "source": [
    "# 3. Advanced strings and functions, files and debugging."
   ]
  },
  {
   "cell_type": "code",
   "execution_count": 1,
   "metadata": {},
   "outputs": [],
   "source": [
    "from math import pi \n",
    "import os "
   ]
  },
  {
   "attachments": {},
   "cell_type": "markdown",
   "metadata": {},
   "source": [
    "## 3.1 Advanced Strings\n",
    "In Python, <b><code>strings</code></b> are created using quotes ('' or \"\") and are immutable, while <b><code>f-strings</code></b> are formatted strings that allow embedding expressions inside curly braces { } for dynamic value substitution during runtime. Here is a couple of examples for strings:"
   ]
  },
  {
   "cell_type": "code",
   "execution_count": 2,
   "metadata": {},
   "outputs": [
    {
     "name": "stdout",
     "output_type": "stream",
     "text": [
      "Alice 25 engineer\n"
     ]
    }
   ],
   "source": [
    "name = \"Alice\"\n",
    "age = 25\n",
    "profession = \"engineer\"\n",
    "\n",
    "print (name,age,profession)\n"
   ]
  },
  {
   "attachments": {},
   "cell_type": "markdown",
   "metadata": {},
   "source": [
    "Here is the same example made as a complete sentence using <b><code>f-strings</code></b>. "
   ]
  },
  {
   "cell_type": "code",
   "execution_count": 3,
   "metadata": {},
   "outputs": [
    {
     "name": "stdout",
     "output_type": "stream",
     "text": [
      "My name is Alice, I'm 25 years old, and I work as an engineer.\n"
     ]
    }
   ],
   "source": [
    "intro = f\"My name is {name}, I'm {age} years old, and I work as an {profession}.\"\n",
    "\n",
    "print (intro)"
   ]
  },
  {
   "attachments": {},
   "cell_type": "markdown",
   "metadata": {},
   "source": [
    "### Formatting numbers\n",
    "Python's f-strings provide a convenient way to format numbers by using the colon character and specifying the desired format. The following table demonstrates a couple of examples with the number $1$ using <code>f-strings</code></b>:<br><br>\n",
    "\n",
    "| Code | Result|\n",
    "|------|------|\n",
    "| 1:.2f | 1.00|\n",
    "| 1:.0f| 1|\n",
    "| 1:.10f| 1.0000000000 | \n",
    "| 1:%| 100.000000%|\n",
    "| 1:.1%| 100.0% |\n",
    "| 1:e| 1.000000e+00 |"
   ]
  },
  {
   "attachments": {},
   "cell_type": "markdown",
   "metadata": {},
   "source": [
    "In the example below, the sleep() function from the time module is used to simulate the passage of time and provide a simple demonstration of a progress bar implementation. We define a function <b>simulate_long_running_algorithm()</b> that performs a loop with a sleep of 0.5 seconds between iterations. Within each iteration, the progress of the algorithm is calculated and used to construct a progress bar string. The progress bar consists of a series of equal signs (=) that visually represent the progress, followed by the percentage completion formatted to one decimal defined inside an <code>f-strings</code>."
   ]
  },
  {
   "cell_type": "code",
   "execution_count": 5,
   "metadata": {},
   "outputs": [
    {
     "name": "stdout",
     "output_type": "stream",
     "text": [
      "[====================] 100.0%\n",
      "Algorithm complete!\n"
     ]
    }
   ],
   "source": [
    "import time\n",
    "\n",
    "def simulate_long_running_algorithm():\n",
    "    total_iterations = 10\n",
    "    for i in range(total_iterations):\n",
    "        time.sleep(0.5)  # Simulating processing time\n",
    "        progress = (i + 1) / total_iterations\n",
    "        progress_bar = f\"[{'=' * int(progress * 20):20s}] {progress * 100:.1f}%\"\n",
    "        print(progress_bar, end='\\r')  # Print on the same line\n",
    "    print(\"\\nAlgorithm complete!\")\n",
    "\n",
    "simulate_long_running_algorithm()\n"
   ]
  },
  {
   "attachments": {},
   "cell_type": "markdown",
   "metadata": {},
   "source": [
    "<h3>Escape characters</h3>\n",
    "\n",
    "<code>Escape characters</code> in programming are special characters that are used to represent certain non-printable or special characters within strings. They are typically represented by a backslash (' \\ ') followed by a specific character or sequence. We used two <code>escape characters</code> in the previous example, can you identify them?\n",
    "\n",
    "| Code | Result| Description |\n",
    "|------|------|------ |\n",
    "|   \\\\'  | ' |  represents the escape sequence for a single quote (').|\n",
    "| \\\\\\    | \\\\ | represents the escape sequence for a backslash (' \\ ').|\n",
    "| \\\\n | new line| represents the escape sequence for a new line character, which moves the cursor to the beginning of the next line. | \n",
    "| \\\\r | carriage return  | represents the escape sequence for a carriage return character, which moves the cursor to the beginning of the current line.|\n",
    "| \\\\t | tab |represents the escape sequence for a tab character, which adds horizontal spacing. |\n",
    "| \\\\b | backspace |  represents the escape sequence for a backspace character, which moves the cursor one position back. |"
   ]
  },
  {
   "attachments": {},
   "cell_type": "markdown",
   "metadata": {},
   "source": [
    "## 3.2 Advanced Functions\n",
    "\n",
    "An example of an advanced fuction can be the  <code>lambda function</code>. It is an anonymous function in Python that can be defined in a single line using the <b>lambda</b> keyword. It is typically used for simple and concise operations without the need for a formal function definition.\n",
    "\n",
    "Here's an example that showcases the difference between lambda functions and normal functions:"
   ]
  },
  {
   "cell_type": "code",
   "execution_count": 6,
   "metadata": {},
   "outputs": [
    {
     "name": "stdout",
     "output_type": "stream",
     "text": [
      "12\n",
      "12\n"
     ]
    }
   ],
   "source": [
    "# Normal function\n",
    "def multiply(x, y):\n",
    "    return x * y\n",
    "\n",
    "result = multiply(3, 4)\n",
    "print(result)  # Output: 12\n",
    "\n",
    "# Lambda function\n",
    "multiply_lambda = lambda x, y: x * y\n",
    "\n",
    "result_lambda = multiply_lambda(3, 4)\n",
    "print(result_lambda)  # Output: 12\n"
   ]
  },
  {
   "attachments": {},
   "cell_type": "markdown",
   "metadata": {},
   "source": [
    "Both the normal function and the <code>lambda function</code> are used to multiply 3 and 4. The results obtained from both approaches are identical (12). The key difference is that the normal function is defined with the def keyword, whereas the <code>lambda function</code> is defined using the lambda keyword without a formal function name.\n",
    "\n",
    "<code>lambda functions</code> are particularly useful in scenarios where a small, one-time function is needed without the need for a full function definition and name."
   ]
  },
  {
   "attachments": {},
   "cell_type": "markdown",
   "metadata": {},
   "source": [
    "## 3.3 Working with files\n",
    "\n",
    "A lot of the work you'll do in Python will have the following structure:\n",
    "1. Read data from a file\n",
    "2. Perform computations on the data\n",
    "3. Visualize the results and/or save the results to a file"
   ]
  },
  {
   "attachments": {},
   "cell_type": "markdown",
   "metadata": {},
   "source": [
    "### File paths\n",
    "File paths on computers work based on a hierarchical structure, often represented as a tree. The root directory serves as the starting point, typically represented by a drive letter (e.g., C: on Windows). From the root directory, you can navigate to other directories using a delimiter character (\\ on Windows or / on Unix-based systems). Each directory can contain files and subdirectories, forming a hierarchical structure.\n",
    "\n",
    "Absolute paths specify the complete path from the root directory, while relative paths are relative to the current working directory. By understanding and manipulating file paths, you can effectively locate and access files and directories on a computer's file system."
   ]
  },
  {
   "attachments": {},
   "cell_type": "markdown",
   "metadata": {},
   "source": [
    "### ``pathlib`` and <code>os</code> modules\n",
    "\n",
    "The <code>os</code> module in Python provides functions for interacting with the operating system, offering operations related to file management, directory handling, process management, and environment variables. It allows you to perform tasks such as creating, deleting, and modifying files and directories, launching external processes, accessing and modifying environment variables, and writing platform-independent code.\n",
    "\n",
    "On the other hand, the <code>pathlib</code> module introduced in Python 3.4 offers an object-oriented approach to working with file paths and directories. It provides the Path class, which represents paths as objects, allowing for more intuitive and expressive manipulation of paths compared to the traditional string-based operations in <code>os</code>. With <code>pathlib</code>, you can perform operations like joining paths, checking file existence, accessing file attributes, and creating directories in a more convenient and readable manner.\n",
    "\n",
    "The table below summuraizes some codes you can use for creating and adjusting your own file paths:"
   ]
  },
  {
   "attachments": {},
   "cell_type": "markdown",
   "metadata": {},
   "source": [
    "| Code | Result | Description |\n",
    "|------|--------|-------------|\n",
    "| `os.path.join(path, *paths)` | Path string | Joins one or more path components intelligently. It concatenates the arguments using the appropriate path delimiter for the operating system. |\n",
    "| `os.path.abspath(path)` | Absolute path string | Returns the absolute path of the specified path. It resolves any symbolic links and references to parent directories. |\n",
    "| `os.path.exists(path)` | Boolean | Checks if the specified path exists in the file system. Returns `True` if the path exists, and `False` otherwise. |\n",
    "| `os.path.isdir(path)` | Boolean | Checks if the specified path is a directory. Returns `True` if the path is a directory, and `False` otherwise. |\n",
    "| `os.path.isfile(path)` | Boolean | Checks if the specified path is a regular file. Returns `True` if the path is a file, and `False` otherwise. |\n",
    "| `os.path.splitext(path)` | Tuple (base, ext) | Splits the specified path into its base name and extension. Returns a tuple where the first element is the base name and the second element is the extension (including the dot). |\n",
    "| `os.path.basename(path)` | Base name string | Returns the base name (the file or directory name) from the specified path. |\n",
    "| `os.path.dirname(path)` | Directory name string | Returns the directory name from the specified path. |\n",
    "\n",
    "Here are some examples of how to use these codes: "
   ]
  },
  {
   "cell_type": "code",
   "execution_count": 8,
   "metadata": {},
   "outputs": [
    {
     "name": "stdout",
     "output_type": "stream",
     "text": [
      "Path: folder\\subfolder\\file.txt\n",
      "Absolute Path: c:\\Users\\ahmed\\Documents\\GitHub\\learn-python\\book\\03\\In_a_Nutshell\\folder\\subfolder\\file.txt\n",
      "Exists: False\n",
      "Is Directory: False\n",
      "Is File: False\n",
      "Base Name: file.txt\n",
      "Directory Name: folder\\subfolder\n",
      "Extension: .txt\n"
     ]
    }
   ],
   "source": [
    "import os\n",
    "\n",
    "path = os.path.join('folder', 'subfolder', 'file.txt')  # Joining path components intelligently using appropriate delimiter.\n",
    "absolute_path = os.path.abspath(path)  # Getting the absolute path of the specified path.\n",
    "exists = os.path.exists(path)  # Checking if the specified path exists.\n",
    "is_directory = os.path.isdir(path)  # Checking if the specified path is a directory.\n",
    "is_file = os.path.isfile(path)  # Checking if the specified path is a file.\n",
    "base_name, extension = os.path.splitext(path)  # Splitting the path into base name and extension.\n",
    "basename = os.path.basename(path)  # Getting the base name (file or directory name) from the path.\n",
    "dirname = os.path.dirname(path)  # Getting the directory name from the path.\n",
    "\n",
    "# Printing the information\n",
    "print(\"Path:\", path)  # Path string\n",
    "print(\"Absolute Path:\", absolute_path)  # Absolute path string\n",
    "print(\"Exists:\", exists)  # Boolean indicating if path exists\n",
    "print(\"Is Directory:\", is_directory)  # Boolean indicating if path is a directory\n",
    "print(\"Is File:\", is_file)  # Boolean indicating if path is a file\n",
    "print(\"Base Name:\", basename)  # Base name of the file or directory\n",
    "print(\"Directory Name:\", dirname)  # Directory name of the path\n",
    "print(\"Extension:\", extension)  # File extension with the dot\n"
   ]
  },
  {
   "attachments": {},
   "cell_type": "markdown",
   "metadata": {},
   "source": [
    "This code demonstrates the usage of various <code>os.path</code> functions to perform operations on file paths, such as joining paths, obtaining absolute paths, checking existence, identifying directories or files, splitting paths into base names and extensions, and retrieving the base name and directory name from a path. The corresponding outputs are displayed to provide the relevant information."
   ]
  },
  {
   "attachments": {},
   "cell_type": "markdown",
   "metadata": {},
   "source": [
    "## 3.4 Debugging \n",
    "\n",
    "Debugging in Python refers to the process of identifying and resolving errors or issues in a program. It involves analyzing the code execution, tracking down bugs, and correcting them to ensure the program functions as intended. \n",
    "\n",
    "Python provides several built-in tools and techniques for debugging, including print statements, using a debugger, logging, and exception handling. Debugging allows developers to gain insights into the program's flow, variable values, and identify the root cause of errors, ultimately improving the program's reliability and performance.\n",
    "\n",
    "### 1. Syntax errors\n",
    "\n",
    "<code>Syntax errors</code> in Python are mistakes in the structure or grammar of the code that violate the language's syntax rules, resulting in the program failing to execute.\n",
    "\n",
    "Example with a <code>syntax error</code>:\n",
    "\n"
   ]
  },
  {
   "cell_type": "code",
   "execution_count": 9,
   "metadata": {},
   "outputs": [
    {
     "ename": "SyntaxError",
     "evalue": "incomplete input (3691034111.py, line 1)",
     "output_type": "error",
     "traceback": [
      "\u001b[1;36m  Cell \u001b[1;32mIn[9], line 1\u001b[1;36m\u001b[0m\n\u001b[1;33m    print(\"Hello, World!\"\u001b[0m\n\u001b[1;37m                         ^\u001b[0m\n\u001b[1;31mSyntaxError\u001b[0m\u001b[1;31m:\u001b[0m incomplete input\n"
     ]
    }
   ],
   "source": [
    "print(\"Hello, World!\""
   ]
  },
  {
   "attachments": {},
   "cell_type": "markdown",
   "metadata": {},
   "source": [
    "Could you spot and fix the syntax error? The error was missing to close the parenthesis,the solution is shown below: "
   ]
  },
  {
   "cell_type": "code",
   "execution_count": null,
   "metadata": {},
   "outputs": [],
   "source": [
    "print(\"Hello, World!\")"
   ]
  },
  {
   "attachments": {},
   "cell_type": "markdown",
   "metadata": {},
   "source": [
    "### 2. Runtime errors\n",
    "\n",
    "<code>Runtime errors</code>, also known as exceptions, occur during the execution of a program when unexpected conditions or behaviors are encountered, leading to program termination or abnormal behavior.\n",
    "\n",
    "For example:"
   ]
  },
  {
   "cell_type": "code",
   "execution_count": 16,
   "metadata": {},
   "outputs": [
    {
     "ename": "IndexError",
     "evalue": "list index out of range",
     "output_type": "error",
     "traceback": [
      "\u001b[1;31m---------------------------------------------------------------------------\u001b[0m",
      "\u001b[1;31mIndexError\u001b[0m                                Traceback (most recent call last)",
      "Cell \u001b[1;32mIn[16], line 3\u001b[0m\n\u001b[0;32m      1\u001b[0m \u001b[39m# Runtime error: accessing an index that is out of range\u001b[39;00m\n\u001b[0;32m      2\u001b[0m numbers \u001b[39m=\u001b[39m [\u001b[39m1\u001b[39m, \u001b[39m2\u001b[39m, \u001b[39m3\u001b[39m]\n\u001b[1;32m----> 3\u001b[0m \u001b[39mprint\u001b[39m(numbers[\u001b[39m3\u001b[39;49m])\n",
      "\u001b[1;31mIndexError\u001b[0m: list index out of range"
     ]
    }
   ],
   "source": [
    "# Runtime error: accessing an index that is out of range\n",
    "numbers = [1, 2, 3]\n",
    "print(numbers[3])"
   ]
  },
  {
   "attachments": {},
   "cell_type": "markdown",
   "metadata": {},
   "source": [
    "Solution: Use a valid index within the range of the list. See the cell below:"
   ]
  },
  {
   "cell_type": "code",
   "execution_count": 17,
   "metadata": {},
   "outputs": [
    {
     "name": "stdout",
     "output_type": "stream",
     "text": [
      "3\n"
     ]
    }
   ],
   "source": [
    "numbers = [1, 2, 3]\n",
    "print(numbers[2])"
   ]
  },
  {
   "attachments": {},
   "cell_type": "markdown",
   "metadata": {},
   "source": [
    "### 3. Semantic errors\n",
    "\n",
    "<code>Semantic errors</code>, also known as logic errors, are mistakes in the program's logic or algorithm that lead to undesired or incorrect behavior without causing the program to terminate or throw an error.\n",
    "\n",
    "For example: "
   ]
  },
  {
   "cell_type": "code",
   "execution_count": 21,
   "metadata": {},
   "outputs": [
    {
     "name": "stdout",
     "output_type": "stream",
     "text": [
      "7.8\n"
     ]
    }
   ],
   "source": [
    "# Semantic error: incorrect calculation of the average\n",
    "numbers = [5, 8, 12, 3, 6]\n",
    "total = sum(numbers)\n",
    "average = total / len(numbers) + 1\n",
    "print (average)"
   ]
  },
  {
   "attachments": {},
   "cell_type": "markdown",
   "metadata": {},
   "source": [
    "Solution: Move the addition after calculating the average. Like this:"
   ]
  },
  {
   "cell_type": "code",
   "execution_count": 22,
   "metadata": {},
   "outputs": [
    {
     "name": "stdout",
     "output_type": "stream",
     "text": [
      "7.0\n"
     ]
    }
   ],
   "source": [
    "real_average = (total + 1) / len(numbers)\n",
    "print (real_average)"
   ]
  },
  {
   "attachments": {},
   "cell_type": "markdown",
   "metadata": {},
   "source": [
    "### Debugging strategies\n",
    "\n",
    "\n",
    "Debugging strategies are a set of techniques and approaches used to identify and fix errors or issues in code during the software development process, ensuring the program functions correctly and as intended. Some debugging strategies that can be applied by you during your work could include:\n",
    "\n",
    "1. Using print statements: Inserting print statements at critical points in the code to display the values of variables and track the program's flow.\n",
    "2. Utilizing a debugger: Running the code in a debugger, setting breakpoints, and stepping through the code line by line to examine variable values and identify issues.\n",
    "3. Logging: Adding log statements to record the program's execution and capture relevant information for analysis.\n",
    "4. Exception handling: Wrapping sections of code in try-except blocks to catch and handle specific exceptions, allowing for graceful error handling and troubleshooting.\n",
    "5. Code review: Having someone else review the code to spot potential errors or provide fresh insights.\n",
    "\n",
    "\n",
    "By employing these strategies, you can effectively identify and resolve issues in your code, enhancing program functionality and reliability."
   ]
  },
  {
   "attachments": {},
   "cell_type": "markdown",
   "metadata": {},
   "source": []
  }
 ],
 "metadata": {
  "kernelspec": {
   "display_name": "Python 3",
   "language": "python",
   "name": "python3"
  },
  "language_info": {
   "codemirror_mode": {
    "name": "ipython",
    "version": 3
   },
   "file_extension": ".py",
   "mimetype": "text/x-python",
   "name": "python",
   "nbconvert_exporter": "python",
   "pygments_lexer": "ipython3",
   "version": "3.11.2"
  },
  "orig_nbformat": 4
 },
 "nbformat": 4,
 "nbformat_minor": 2
}
