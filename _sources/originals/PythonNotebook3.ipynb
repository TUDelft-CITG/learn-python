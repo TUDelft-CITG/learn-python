{
 "cells": [
  {
   "cell_type": "markdown",
   "metadata": {
    "nbgrader": {
     "grade": false,
     "locked": true,
     "solution": false
    }
   },
   "source": [
    "<figure>\n",
    "  <IMG SRC=\"https://raw.githubusercontent.com/mbakker7/exploratory_computing_with_python/master/tudelft_logo.png\" WIDTH=250 ALIGN=\"right\">\n",
    "</figure>\n",
    "\n",
    "\n",
    "# Python Notebook #3\n",
    "\n",
    "## Table of Contents\n",
    "\n",
    "<ul>\n",
    "    <li> <a href=\"#advanced_strings\">3.1 Advanced Strings</a>\n",
    "    <li> <a href=\"#advanced_functions\">3.2 Advanced Functions</a>\n",
    "    <li> <a href=\"#working_with_files\">3.3 Working with files</a>\n",
    "    <li> <a href=\"#debugging\">3.4 Debugging</a>\n",
    "</ul>"
   ]
  },
  {
   "cell_type": "code",
   "execution_count": null,
   "metadata": {
    "collapsed": true,
    "nbgrader": {
     "grade": false,
     "locked": true,
     "solution": false
    }
   },
   "outputs": [],
   "source": [
    "# it is common to have the first cell in a Notebook with \n",
    "# all imports needed\n",
    "\n",
    "from math import pi # access to pi without writing 'math.pi' every time\n",
    "import os # module that we will use later\n"
   ]
  },
  {
   "cell_type": "markdown",
   "metadata": {
    "nbgrader": {
     "grade": false,
     "locked": true,
     "solution": false
    }
   },
   "source": [
    "<div id='advanced_strings'></div><br><h2> 3.1 Advanced Strings</h2><br><div style=\"text-align: justify\">Welcome to the third Notebook. In this Notebook we are going to learn some advanced Python. Let's first start with strings. Run the code below and see what it prints out.<b><b>\n"
   ]
  },
  {
   "cell_type": "code",
   "execution_count": null,
   "metadata": {
    "collapsed": true,
    "nbgrader": {
     "grade": false,
     "locked": true,
     "solution": false
    }
   },
   "outputs": [],
   "source": [
    "MyFString = f\"This is an F-String\"\n",
    "MyString = \"This is a string\"\n",
    "print(MyFString)\n",
    "print(MyString)"
   ]
  },
  {
   "cell_type": "markdown",
   "metadata": {
    "nbgrader": {
     "grade": false,
     "locked": true,
     "solution": false
    }
   },
   "source": [
    "<div style=\"text-align: justify\">\n",
    "Now let's try inserting some data into our <b><code>print()</code></b> function. We'll use the list of integers <b><code>[1,2,3,4]</code></b>. "
   ]
  },
  {
   "cell_type": "code",
   "execution_count": null,
   "metadata": {
    "collapsed": true,
    "nbgrader": {
     "grade": false,
     "locked": true,
     "solution": false
    }
   },
   "outputs": [],
   "source": [
    "Data = [1,2,3,4]\n",
    "\n",
    "MyFString = f\"Data1: {Data[0]}, Data2: {Data[1]}, Data3: {Data[2]}, Data4: {Data[3]}\"\n",
    "\n",
    "print(MyFString)\n",
    "print(\"Data1:\",Data[0],\",Data2:\",Data[1],\",Data3:\",Data[2],\",Data4:\",Data[3])"
   ]
  },
  {
   "cell_type": "markdown",
   "metadata": {
    "nbgrader": {
     "grade": false,
     "locked": true,
     "solution": false
    }
   },
   "source": [
    "<div style=\"text-align: justify\">As you can see from the above code, it is much easier to insert variables in a string by using an f-string (formatted string)."
   ]
  },
  {
   "cell_type": "markdown",
   "metadata": {
    "nbgrader": {
     "grade": false,
     "locked": true,
     "solution": false
    }
   },
   "source": [
    "<div class=\"alert alert-block alert-info\">\n",
    "<b>Exercise 3.1.1</b><br><br>\n",
    "<div style=\"text-align: justify\">\n",
    "    Use the <code>print()</code> function and an f-string to make a statement about some car using all variables stored in the <code>car_info</code> dictionary.\n",
    "</div>"
   ]
  },
  {
   "cell_type": "code",
   "execution_count": null,
   "metadata": {
    "collapsed": true,
    "nbgrader": {
     "grade": false,
     "locked": true,
     "solution": false
    }
   },
   "outputs": [],
   "source": [
    "# you do not have to change anything in this cell\n",
    "\n",
    "car_info = {\n",
    "    'top_speed' : '229', #km/h\n",
    "    'type' : 'Opel Astra'\n",
    "}"
   ]
  },
  {
   "cell_type": "code",
   "execution_count": null,
   "metadata": {
    "collapsed": true
   },
   "outputs": [],
   "source": [
    "# type your code here\n",
    "message = ...\n",
    "\n",
    "###BEGIN SOLUTION TEMPLATE=\n",
    "message = f\"Car {car_info['type']} can drive at max {car_info['top_speed']} km per hour\"\n",
    "###END SOLUTION\n",
    "\n",
    "print(message)"
   ]
  },
  {
   "cell_type": "code",
   "execution_count": null,
   "metadata": {
    "collapsed": true,
    "nbgrader": {
     "grade": true,
     "grade_id": "Q3.1.1",
     "locked": true,
     "points": "1",
     "solution": false
    }
   },
   "outputs": [],
   "source": [
    "###BEGIN HIDDEN TESTS\n",
    "assert car_info['top_speed'] in message and car_info['type'] in message, '3.1.1 - Incorrect answer'\n",
    "###END HIDDEN TESTS"
   ]
  },
  {
   "cell_type": "markdown",
   "metadata": {
    "nbgrader": {
     "grade": false,
     "locked": true,
     "solution": false
    }
   },
   "source": [
    "<h3>Formatting numbers</h3><br><div style=\"text-align: justify\">Using f-strings makes formatting numbers really easy. Just add a colon character after a number value and specify how you want to format the number. The following table demonstrates a couple of examples with the number $1$:<br><br>\n",
    "\n",
    "| Code | Result|\n",
    "|------|------|\n",
    "| 1:.2f | 1.00|\n",
    "| 1:.0f| 1|\n",
    "| 1:.10f| 1.0000000000 | \n",
    "| 1:%| 100.000000%|\n",
    "| 1:.1%| 100.0% |\n",
    "| 1:e| 1.000000e+00 |\n",
    "\n",
    "<div style=\"text-align: justify\"><br>As you can see the default number of decimal places is six. Furthermore, the <b><code>%</code></b> formatting operator assumes that $1$ is equal to $100$%, which is usual when working with fractions, and the formatting operator <b><code>e</code></b> formats using scientific notation."
   ]
  },
  {
   "cell_type": "markdown",
   "metadata": {
    "nbgrader": {
     "grade": false,
     "locked": true,
     "solution": false
    }
   },
   "source": [
    "<div class=\"alert alert-block alert-info\">\n",
    "<b>Exercise 3.1.2</b><br><br> Print the value of <b>π</b> using $4$ decimal places.\n",
    "</div>"
   ]
  },
  {
   "cell_type": "code",
   "execution_count": null,
   "metadata": {
    "collapsed": true
   },
   "outputs": [],
   "source": [
    "# write your code here\n",
    "rounded_pi = ...\n",
    "\n",
    "###BEGIN SOLUTION TEMPLATE=\n",
    "rounded_pi = f\"{pi:.4f}\"\n",
    "###END SOLUTION\n",
    "print(rounded_pi)"
   ]
  },
  {
   "cell_type": "code",
   "execution_count": null,
   "metadata": {
    "collapsed": true,
    "nbgrader": {
     "grade": true,
     "grade_id": "Q3.1.2",
     "locked": true,
     "points": "1",
     "solution": false
    }
   },
   "outputs": [],
   "source": [
    "###BEGIN HIDDEN TESTS\n",
    "assert rounded_pi == \"3.1416\", '3.1.2 - Incorrect answer'\n",
    "###END HIDDEN TESTS"
   ]
  },
  {
   "cell_type": "markdown",
   "metadata": {
    "nbgrader": {
     "grade": false,
     "locked": true,
     "solution": false
    }
   },
   "source": [
    "<div style=\"text-align: justify\">\n",
    "Now let's use our newfound knowledge of strings to make a simple progress bar. During other courses, you'll sometimes have to write algorithms that take a long time to run. In this case, it is useful to have a progress bar. Our example of a progress bar makes use of the <b><code>sleep()</code></b> function, from the <b><code>time</code></b> module, to simulate elapsed time."
   ]
  },
  {
   "cell_type": "code",
   "execution_count": null,
   "metadata": {
    "collapsed": true,
    "nbgrader": {
     "grade": false,
     "locked": true,
     "solution": false
    }
   },
   "outputs": [],
   "source": [
    "import time\n",
    "\n",
    "for i in range(11):\n",
    "    print(f\"Loading: {i*10}%\", )\n",
    "    time.sleep(0.5)  # Wait for 0.5 seconds"
   ]
  },
  {
   "cell_type": "markdown",
   "metadata": {
    "nbgrader": {
     "grade": false,
     "locked": true,
     "solution": false
    }
   },
   "source": [
    "<div style=\"text-align: justify\">\n",
    "This works! Though it is not that pretty to look at. It would look nicer to not have it print a new line each time. This is where <b>escape characters</b> come in. These characters can do some special things in strings. Below an example of some escape characters:\n"
   ]
  },
  {
   "cell_type": "markdown",
   "metadata": {
    "nbgrader": {
     "grade": false,
     "locked": true,
     "solution": false
    }
   },
   "source": [
    "<h3>Escape characters</h3>\n",
    "\n",
    "| Code | Result|\n",
    "|------|------|\n",
    "|   \\\\'  | ' |\n",
    "| \\\\\\    | \\\\ |\n",
    "| \\\\n | new line| \n",
    "| \\\\r | carriage return  |\n",
    "| \\\\t | tab |\n",
    "| \\\\b | backspace |\n",
    "\n",
    "<div style=\"text-align: justify\"><br>We can use some of these characters in our code. Let's use the carriage return character to make our progress bar not print out a new line every time. We can do this by adding <b><code>end=\"\\r\"</code></b> into our print function. The <b><code>end</code></b> keyword specifies a string that gets printed at the end. The string we print at the end here is the carriage return character. This carriage resets the print function to the start of the line; thus making the next print function overwrite the current printed line. Try it and see what happens:"
   ]
  },
  {
   "cell_type": "code",
   "execution_count": null,
   "metadata": {
    "collapsed": true,
    "nbgrader": {
     "grade": false,
     "locked": true,
     "solution": false
    }
   },
   "outputs": [],
   "source": [
    "print(\"Will I get overwritten?\", end=\"\\r\")\n",
    "print(\"This is a very important message\")"
   ]
  },
  {
   "cell_type": "markdown",
   "metadata": {
    "nbgrader": {
     "grade": false,
     "locked": true,
     "solution": false
    }
   },
   "source": [
    "Now let's add this to our progress bar... "
   ]
  },
  {
   "cell_type": "code",
   "execution_count": null,
   "metadata": {
    "collapsed": true,
    "nbgrader": {
     "grade": false,
     "locked": true,
     "solution": false
    }
   },
   "outputs": [],
   "source": [
    "import time\n",
    "for i in range(11):\n",
    "    print(f\"Loading: {i*10}%\", end=\"\\r\")\n",
    "    time.sleep(0.5) # Wait for 0.5 seconds\n",
    "print(\"Loading complete!\")"
   ]
  },
  {
   "cell_type": "markdown",
   "metadata": {
    "nbgrader": {
     "grade": false,
     "locked": true,
     "solution": false
    }
   },
   "source": [
    "As you can see, it works beautifully!"
   ]
  },
  {
   "cell_type": "markdown",
   "metadata": {
    "nbgrader": {
     "grade": false,
     "locked": true,
     "solution": false
    }
   },
   "source": [
    "<div class=\"alert alert-block alert-danger\"><b>Additional study material:</b>\n",
    "    \n",
    "* Official Python Documentation - https://docs.python.org/3/tutorial/inputoutput.html\n",
    "* https://realpython.com/python-f-strings/\n",
    "* Think Python (2nd ed.) - Section 14 "
   ]
  },
  {
   "cell_type": "markdown",
   "metadata": {
    "nbgrader": {
     "grade": false,
     "locked": true,
     "solution": false
    }
   },
   "source": [
    "<div id='advanced_functions'><br>\n",
    "<div style=\"text-align: justify\"><h2>3.2 Advanced Functions</h2><br>Sometimes you want to use the same code multiple times, so you could embed this code into a function. However, sometimes the code you want to use is so short that putting it into a function feels a bit over the top. This is where <b>lambda functions</b> are useful. <br><br>Lambda functions are functions that can take any number of arguments but can only have one expression in their function body. To demonstrate, see the code below. Here we have two functions that do exactly the same, but one is a lambda function and the other one is a normal function. "
   ]
  },
  {
   "cell_type": "code",
   "execution_count": null,
   "metadata": {
    "collapsed": true,
    "nbgrader": {
     "grade": false,
     "locked": true,
     "solution": false
    }
   },
   "outputs": [],
   "source": [
    "sqrt_lambda = lambda x : x**0.5\n",
    "\n",
    "def sqrt(x):\n",
    "    sqrt = x**0.5\n",
    "    return sqrt\n",
    "\n",
    "print(f\"The square root of 16 is equal to {sqrt_lambda(16):.0f}\")\n",
    "print(f\"The square root of 16 is equal to {sqrt(16):.0f}\")"
   ]
  },
  {
   "cell_type": "markdown",
   "metadata": {
    "nbgrader": {
     "grade": false,
     "locked": true,
     "solution": false
    }
   },
   "source": [
    "<div style=\"text-align: justify\">\n",
    "As you can see, the lambda version is much more concise. It automatically returns the computed value for you as well."
   ]
  },
  {
   "cell_type": "markdown",
   "metadata": {
    "nbgrader": {
     "grade": false,
     "locked": true,
     "solution": false
    }
   },
   "source": [
    "<div class=\"alert alert-block alert-info\">\n",
    "<b>Exercise 3.2.1</b><br><br><div style=\"text-align: justify\"> Write a lambda function that converts a number from degrees to radians.\n",
    "</div>"
   ]
  },
  {
   "cell_type": "code",
   "execution_count": null,
   "metadata": {
    "collapsed": true
   },
   "outputs": [],
   "source": [
    "DegToRad = ...\n",
    "\n",
    "###BEGIN SOLUTION TEMPLATE=\n",
    "DegToRad = lambda theta : theta * (pi / 180)\n",
    "###END SOLUTION\n",
    "\n",
    "Angle = 180 # Degrees\n",
    "print(f\"An angle of {Angle} Degrees is equal to {DegToRad(180):.3f} radians\")"
   ]
  },
  {
   "cell_type": "code",
   "execution_count": null,
   "metadata": {
    "collapsed": true,
    "nbgrader": {
     "grade": true,
     "grade_id": "Q3.2.1",
     "locked": true,
     "points": "1",
     "solution": false
    }
   },
   "outputs": [],
   "source": [
    "###BEGIN HIDDEN TESTS\n",
    "assert type(DegToRad) == type(lambda x: x) and abs(DegToRad(90) - pi/2) <= 1e-6, '3.2.1 - Incorrect answer'\n",
    "###END HIDDEN TESTS"
   ]
  },
  {
   "cell_type": "markdown",
   "metadata": {
    "nbgrader": {
     "grade": false,
     "locked": true,
     "solution": false
    }
   },
   "source": [
    "<div class=\"alert alert-block alert-info\">\n",
    "<b>Exercise 3.2.2</b><br><br><div style=\"text-align: justify\"> Write a lambda function that takes four inputs: $(x_1, y_1, x_2, y_2)$ and computes the <a href=\"https://en.wikipedia.org/wiki/Euclidean_distance\">Euclidian distance</a> between point 1 $(x_1,y_1)$ and point 2 $(x_2,y_2)$.\n",
    "</div>"
   ]
  },
  {
   "cell_type": "code",
   "execution_count": null,
   "metadata": {
    "collapsed": true
   },
   "outputs": [],
   "source": [
    "Distance = ...\n",
    "\n",
    "###BEGIN SOLUTION TEMPLATE=\n",
    "Distance = lambda x1, y1, x2, y2: sqrt((x1 - x2) ** 2 + (y1 - y2) ** 2)\n",
    "###END SOLUTION\n",
    "\n",
    "x1, y1 = 1, 1\n",
    "x2, y2 = 2, 2\n",
    "\n",
    "print(f\"Distance between points ({x1}, {y1}) and ({x2}, {y2}) is {Distance(x1, y1, x2, y2):.3f}\")"
   ]
  },
  {
   "cell_type": "code",
   "execution_count": null,
   "metadata": {
    "collapsed": true,
    "nbgrader": {
     "grade": true,
     "grade_id": "Q3.2.2",
     "locked": true,
     "points": "1",
     "solution": false
    }
   },
   "outputs": [],
   "source": [
    "###BEGIN HIDDEN TESTS\n",
    "assert abs(Distance(1, 1, 3, 3) - 2 * sqrt(2)) <= 1e-6, '3.2.2 - Incorrect answer'\n",
    "###END HIDDEN TESTS"
   ]
  },
  {
   "cell_type": "markdown",
   "metadata": {
    "nbgrader": {
     "grade": false,
     "locked": true,
     "solution": false
    }
   },
   "source": [
    "<div class=\"alert alert-block alert-danger\"><b>Additional study material:</b>\n",
    "    \n",
    "* Official Python Documentation - https://docs.python.org/3/reference/expressions.html\n",
    "* https://realpython.com/python-lambda/"
   ]
  },
  {
   "cell_type": "markdown",
   "metadata": {
    "nbgrader": {
     "grade": false,
     "locked": true,
     "solution": false
    }
   },
   "source": [
    "<div id='working_with_files'><br><h2>3.3 Working with files</h2><br><div style=\"text-align: justify\">A lot of the work you'll do in Python will have the following structure:<br><br>1. Read data from a file<br>2. Perform computations on the data<br>3. Visualize the results and/or save the results to a file<br><br>So far, we have only learned about computations. So let's learn a bit about how to manage files. Actually, opening or saving files is usually done with the help of modules which you will learn in more detail in Notebook 4 and 6. What we'll discuss here is how to manage file paths.<br><h3>File paths</h3><br>\n",
    "To learn how to use files we need to learn how file paths in computers work. If you are tech-savvy and know how file paths work you can skip this part. <br><br>\n",
    "File paths in computers work like a tree. They start at the <b>root</b> directory, which is often the <b><code>C:</code></b> drive (in Windows). This is the name of the hard drive that stores your Operating System. From the <b><code>C:</code></b> drive you can navigate into other directories. This is done using the <b><code>\\</code></b> character, however in other Operating Systems often the <b><code>/</code></b> delimiter is used.<br> If a file is in the folder <b><code>Users</code></b>, which is stored in the <b><code>C:</code></b> directory, the file path would be <b><code>C:\\Users</code></b>. These types of file paths are called <b>absolute paths</b>. This file path is valid for most computers that run Windows, but some other Operating Systems may have different folder setups. This is why it is useful to use <b>relative paths</b>. Relative paths do not start from the root directory. Instead, they start from the directory you are currently in. By default, Jupyter Notebooks are stored in <b><code>C:\\Users\\CurrentUser</code></b> (where <b><code>CurrentUser</code></b> is your Windows username). To move into a directory using a relative path, for example, to the desktop folder, you would just write <b><code>.\\Desktop</code></b>. To move back a directory, using a relative path, you would type <b><code>..</code></b>"
   ]
  },
  {
   "cell_type": "code",
   "execution_count": null,
   "metadata": {
    "nbgrader": {
     "grade": false,
     "locked": true,
     "solution": false
    }
   },
   "outputs": [],
   "source": [
    "import os\n",
    "\n",
    "# List all the entries in your current directory\n",
    "print(os.listdir())\n",
    "\n",
    "#or like this\n",
    "print(os.listdir('./'))\n",
    "\n",
    "# List all entries if we go back one level\n",
    "print(os.listdir('../')) # note that we use the / as delimiter, since a \\ won't work on Mac\n",
    "\n",
    "# Now list all contents of the directory resource, which is one level back\n",
    "os.listdir('../resource')"
   ]
  },
  {
   "cell_type": "markdown",
   "metadata": {
    "nbgrader": {
     "grade": false,
     "locked": true,
     "solution": false
    }
   },
   "source": [
    "<div style=\"text-align: justify\">You see that, since you are using Vocareum, the script does not access your computer paths. Using relative (or absolute) paths in Vocareum will result in you navigating through Vocareum's folders, which is useful for the purpose of this course as you will be accessing files that we upload here. The theory remains the same once you migrate your Python skills to your own computer, outside of Vocareum."
   ]
  },
  {
   "cell_type": "markdown",
   "metadata": {
    "nbgrader": {
     "grade": false,
     "locked": true,
     "solution": false
    }
   },
   "source": [
    "<div class=\"alert alert-block alert-warning\"><center>\n",
    "Keep in mind that, in Python, all file paths must be strings!"
   ]
  },
  {
   "cell_type": "markdown",
   "metadata": {
    "nbgrader": {
     "grade": false,
     "locked": true,
     "solution": false
    }
   },
   "source": [
    "<h4><code>pathlib</code> and <code>os</code> modules</h4><div style=\"text-align: justify\"><br>These modules are very useful in managing and navigating your file paths. The function <b><code>path.expanduser('~')</code></b>, from the <b><code>os</code></b> module, allows you to find your root directory (or Vocareum's root directory in this case), independent of your Operating System. Try the below cell to see it."
   ]
  },
  {
   "cell_type": "code",
   "execution_count": null,
   "metadata": {
    "nbgrader": {
     "grade": false,
     "locked": true,
     "solution": false
    }
   },
   "outputs": [],
   "source": [
    "from pathlib import Path\n",
    "import os\n",
    "\n",
    "root_path = os.path.expanduser('~')\n",
    "print(root_path)"
   ]
  },
  {
   "cell_type": "markdown",
   "metadata": {
    "nbgrader": {
     "grade": false,
     "locked": true,
     "solution": false
    }
   },
   "source": [
    "<div style=\"text-align: justify\">The path shown above is thus the absolute path to your current directory.\n",
    "\n",
    "This can come in handy when you write a code that needs to create directories in the user's computer to save data files and/or plots. As an example, the code below checks if a directory exists and, if it doesn't, it creates one."
   ]
  },
  {
   "cell_type": "code",
   "execution_count": null,
   "metadata": {
    "nbgrader": {
     "grade": false,
     "locked": true,
     "solution": false
    }
   },
   "outputs": [],
   "source": [
    "# Print contents of current directory using the root_path\n",
    "print('Contents of current directory (before):')\n",
    "print(os.listdir(root_path))\n",
    "\n",
    "# the os.path.join is used to concatenate two strings to form a path string with the appropriate delimiter\n",
    "\n",
    "imdir = os.path.join(root_path,'plots') \n",
    "print(f'\\nimdir = {imdir}')\n",
    "\n",
    "# the below line will check if a directory named 'plots' exists in your current directory..\n",
    "# if not, it will create one\n",
    "\n",
    "Path(imdir).mkdir(parents=True, exist_ok=True)\n",
    "\n",
    "print('\\nContents of current directory (after creating the new directory):')\n",
    "print(os.listdir(root_path))"
   ]
  },
  {
   "cell_type": "code",
   "execution_count": null,
   "metadata": {
    "nbgrader": {
     "grade": false,
     "locked": true,
     "solution": false
    }
   },
   "outputs": [],
   "source": [
    "# run this cell to delete the folder that was just created\n",
    "try:\n",
    "    os.rmdir(imdir)\n",
    "    print(f'Directory {imdir} has been deleted.')\n",
    "except:\n",
    "    print('You already deleted the folder. :)')"
   ]
  },
  {
   "cell_type": "markdown",
   "metadata": {
    "nbgrader": {
     "grade": false,
     "locked": true,
     "solution": false
    }
   },
   "source": [
    "<div style=\"text-align: justify\">Now you are, hopefully, a bit more used to working with file paths. For the next test, we are going to try to open a file. We can use some built-in Python functions to open a <b><i>*.txt</i></b> file and print its contents."
   ]
  },
  {
   "cell_type": "markdown",
   "metadata": {
    "nbgrader": {
     "grade": false,
     "locked": true,
     "solution": false
    }
   },
   "source": [
    "<div class=\"alert alert-block alert-info\"><div style=\"text-align: justify\"><b>(Fixing) Exercise 3.3.1</b><br><br>\n",
    "    An engineer from Shell wrote a piece of code to find the file with updated logs. The file has a <code>*.txt</code> extension. It is located in the Vocareum environment and can be accessed using a relative or absolute path. The engineer wrote a piece of code to read the file and print its contents but something went wrong.\n",
    "</div>"
   ]
  },
  {
   "cell_type": "code",
   "execution_count": null,
   "metadata": {
    "nbgrader": {
     "grade": false,
     "locked": false,
     "solution": false
    }
   },
   "outputs": [],
   "source": [
    "FilePath = \"./resource/lib/publicdata/UpdatedLogs.txt\"# Path of the file + (filename.txt)\n",
    "\n",
    "###BEGIN SOLUTION TEMPLATE=\n",
    "FilePath = \"./resource/lib/publicdata/updated_logs.txt\"\n",
    "###END SOLUTION\n",
    "\n",
    "\n",
    "txt_File = open(FilePath, mode=\"r\")                         # Open the file in read (r) mode\n",
    "File_Contents = txt_File.read()                             # Read the contents of the file\n",
    "txt_File.close()                                            # Close the file (good practice to do so!)\n",
    "\n",
    "print(File_Contents)                                        # Print the file"
   ]
  },
  {
   "cell_type": "code",
   "execution_count": null,
   "metadata": {
    "collapsed": true,
    "nbgrader": {
     "grade": true,
     "grade_id": "Q3.3.1",
     "locked": true,
     "points": "1",
     "solution": false
    }
   },
   "outputs": [],
   "source": [
    "###BEGIN HIDDEN TESTS\n",
    "assert FilePath == \"./resource/lib/publicdata/updated_logs.txt\", '3.3.1 - Incorrect answer'\n",
    "###END HIDDEN TESTS"
   ]
  },
  {
   "cell_type": "markdown",
   "metadata": {
    "nbgrader": {
     "grade": false,
     "locked": true,
     "solution": false
    }
   },
   "source": [
    "<div class=\"alert alert-block alert-danger\"><b>Additional study material:</b>\n",
    "    \n",
    "* Official Python Documentation - https://docs.python.org/3/library/filesys.html\n",
    "* https://realpython.com/working-with-files-in-python/\n",
    "* Think Python (2nd ed.) - Section 14 "
   ]
  },
  {
   "cell_type": "markdown",
   "metadata": {
    "nbgrader": {
     "grade": false,
     "locked": true,
     "solution": false
    }
   },
   "source": [
    "<div id='debugging'><br><h2>3.4 Debugging</h2><br><div style=\"text-align: justify\">It is very easy (and common) to make mistakes when programming. We call these errors <i>bugs</i>. Finding these <i>bugs</i> in your program and resolving them is what we call <i>debugging</i>.<h3>Errors</h3><br><div style=\"text-align: justify\">\n",
    "    According to <a href=\"https://greenteapress.com/wp/think-python-2e/\"><i>Think Python</i></a> — <i>Appendix A</i>, there are three different types of errors:<br><h4>1. Syntax errors</h4><br>\n",
    "<i>\"In computer science, the syntax of a computer language is the set of rules that defines the combinations of symbols that are considered to be correctly structured statements or expressions in that language.\"</i><br><br>Therefore, a syntax error is an error that does not obey the rules of the programming language. For example, parenthesis always comes in pairs... so <b><code>(1+2)</code></b> is OK, but <b><code>1+2)</code></b> is not. Below another example of a syntax error.  As you will see — this error is caught by the interpreter before running the code (hence, the <code>print</code> statements do not result in anything being printed)."
   ]
  },
  {
   "cell_type": "code",
   "execution_count": null,
   "metadata": {
    "collapsed": true,
    "nbgrader": {
     "grade": false,
     "locked": true,
     "solution": false
    }
   },
   "outputs": [],
   "source": [
    "# I want to raise 2 to the 3rd power.\n",
    "# However, I apply the wrong syntax, causing a syntax error:\n",
    "print('Message before')\n",
    "2***3\n",
    "print('Message after')"
   ]
  },
  {
   "cell_type": "markdown",
   "metadata": {
    "nbgrader": {
     "grade": false,
     "locked": true,
     "solution": false
    }
   },
   "source": [
    "<h4>2. Runtime errors</h4><div style=\"text-align: justify\"><br><i>\"The second type of error is a runtime error. This type of error does not appear until after the program has started running. These errors are also called <b>exceptions</b>, as they usually indicate that something exceptional (and bad) has happened.\"</i><br><br>Below an example of a runtime error:"
   ]
  },
  {
   "cell_type": "code",
   "execution_count": null,
   "metadata": {
    "collapsed": true,
    "nbgrader": {
     "grade": false,
     "locked": true,
     "solution": false
    }
   },
   "outputs": [],
   "source": [
    "# A small script to express fractions as decimals\n",
    "numerators = [1, 7, 5, 12, -1]\n",
    "denominators = [6, 8, -1, 0, 5]\n",
    "fractions = []\n",
    "\n",
    "for i in range(len(numerators)):\n",
    "    fractions.append(numerators[i] / denominators[i])\n",
    "    print(f'New fraction was added from {numerators[i]} and {denominators[i]}!\\n It is equal to {fractions[i]:.3f}')\n",
    "    # Error will appear, since you cannot divide by 0"
   ]
  },
  {
   "cell_type": "markdown",
   "metadata": {
    "nbgrader": {
     "grade": false,
     "locked": true,
     "solution": false
    }
   },
   "source": [
    "<h4>3. Semantic errors</h4><div style=\"text-align: justify\"><br>According to the Oxford Dictionary, 'semantic' is an adjective relating to meaning. Therefore, a 'semantic error' is an error in the meaning of your code. Your code will still run without giving any error back, but it will not result in what you expected (or desired). For that reason, semantic errors are the hardest to identify. Below an example:"
   ]
  },
  {
   "cell_type": "code",
   "execution_count": null,
   "metadata": {
    "collapsed": true,
    "nbgrader": {
     "grade": false,
     "locked": true,
     "solution": false
    }
   },
   "outputs": [],
   "source": [
    "# I want to raise 2 to the 3rd power.\n",
    "# However, I apply the wrong syntax that does not represent \"pow()\". \n",
    "# No error message is created, because this syntax is used \n",
    "# for another function in Python\n",
    "# However, this results in an output I did not expect nor desire\n",
    "\n",
    "power_of_2 = 2^3\n",
    "print(f'2 to the 3rd power is {power_of_2}')"
   ]
  },
  {
   "cell_type": "markdown",
   "metadata": {
    "nbgrader": {
     "grade": false,
     "locked": true,
     "solution": false
    }
   },
   "source": [
    "<h3>Debugging strategies</h3><div style=\"text-align: justify\"><br>There are a few ways to debug a program. A simple one is to debug by tracking your values using print statements. By printing the values of the variables in between, we can find where the program does something unwanted. For example, the code block below:"
   ]
  },
  {
   "cell_type": "code",
   "execution_count": null,
   "metadata": {
    "collapsed": true,
    "nbgrader": {
     "grade": false,
     "locked": true,
     "solution": false
    }
   },
   "outputs": [],
   "source": [
    "A = [0, 1, 2, 3]\n",
    "\n",
    "def sumA(my_list):\n",
    "    \"returns the sum of all the values in a given list\"\n",
    "    my_sum = 0\n",
    "    i = 0\n",
    "    while i < len(A):\n",
    "        my_sum = A[i]\n",
    "        i += 1\n",
    "    return my_sum\n",
    "\n",
    "print('The sum of the elements of the list A is {}.'.format(sumA(A)))"
   ]
  },
  {
   "cell_type": "markdown",
   "metadata": {
    "nbgrader": {
     "grade": false,
     "locked": true,
     "solution": false
    }
   },
   "source": [
    "<div style=\"text-align: justify\">We see that our <b><code>sumA()</code></b> function outputs $3$, which isn't the sum of the contents of the list $A$. By adding a <b><code>print(my_sum)</code></b> inside the loop we can get a clearer understanding of what goes wrong."
   ]
  },
  {
   "cell_type": "code",
   "execution_count": null,
   "metadata": {
    "collapsed": true,
    "nbgrader": {
     "grade": false,
     "locked": true,
     "solution": false
    }
   },
   "outputs": [],
   "source": [
    "def sumA(my_list):\n",
    "    \"returns the sum of all the values in a given list\"\n",
    "    my_sum = 0\n",
    "    i = 0\n",
    "    while i < len(A):\n",
    "        my_sum = A[i]\n",
    "        print('var my_sum[{}] = {}'.format(i,my_sum))\n",
    "        i += 1\n",
    "    return my_sum\n",
    "\n",
    "print('The sum of the elements of the list A is {}.'.format(sumA(A)))"
   ]
  },
  {
   "cell_type": "markdown",
   "metadata": {
    "nbgrader": {
     "grade": false,
     "locked": true,
     "solution": false
    }
   },
   "source": [
    "<div style=\"text-align: justify\">It looks like the function is just stating the values of the list $A$, but not adding them... so we must have forgotten to add something. Below the fixed version of that function."
   ]
  },
  {
   "cell_type": "code",
   "execution_count": null,
   "metadata": {
    "collapsed": true,
    "nbgrader": {
     "grade": false,
     "locked": true,
     "solution": false
    }
   },
   "outputs": [],
   "source": [
    "def sumA_fixed(my_list):\n",
    "    \"returns the sum of all the values in a given list\"\n",
    "    my_sum = 0\n",
    "    i = 0\n",
    "    while i < len(A):\n",
    "        my_sum += A[i]\n",
    "        print('var my_sum[{}] = {}'.format(i,my_sum))\n",
    "        i += 1\n",
    "    return my_sum\n",
    "\n",
    "print('The sum of the elements of the list A is {}.'.format(sumA_fixed(A)))"
   ]
  },
  {
   "cell_type": "markdown",
   "metadata": {
    "nbgrader": {
     "grade": false,
     "locked": true,
     "solution": false
    }
   },
   "source": [
    "<div class=\"alert alert-block alert-info\"><b>(Fixing) Exercise 3.4.1</b><br><br><div style=\"text-align: justify\">Fix the syntax errors so it prints \"AES\" without removing the variable that holds it. You'll need to fix 2 errors."
   ]
  },
  {
   "cell_type": "code",
   "execution_count": null,
   "metadata": {
    "collapsed": true
   },
   "outputs": [],
   "source": [
    "def get_abbreviation():\n",
    "    my abbreviation = \"AES\"\n",
    "     return my_abbreviation\n",
    "        \n",
    "###BEGIN SOLUTION TEMPLATE=\n",
    "def get_abbreviation():\n",
    "    my_abbreviation = \"AES\"\n",
    "    return my_abbreviation\n",
    "###END SOLUTION\n",
    "        \n",
    "print(get_abbreviation())"
   ]
  },
  {
   "cell_type": "code",
   "execution_count": null,
   "metadata": {
    "collapsed": true,
    "nbgrader": {
     "grade": true,
     "grade_id": "Q3.4.1",
     "locked": true,
     "points": "1",
     "solution": false
    }
   },
   "outputs": [],
   "source": [
    "###BEGIN HIDDEN TESTS\n",
    "assert get_abbreviation() == \"AES\", '3.4.1 - Incorrect answer'\n",
    "###END HIDDEN TESTS"
   ]
  },
  {
   "cell_type": "markdown",
   "metadata": {
    "nbgrader": {
     "grade": false,
     "locked": true,
     "solution": false
    }
   },
   "source": [
    "<div class=\"alert alert-block alert-info\"><b>(Fixing) Exercise 3.4.2</b><br><br><div style=\"text-align: justify\">Solve the runtime error so all values of $B$ are printed. The output after running <code>create_string_from_lists()</code> should be the following:<br>\n",
    "<code>\n",
    "A[0] = 2\n",
    "B[0] = 5\n",
    "A[1] = 3\n",
    "B[1] = 6\n",
    "A[2] = 4\n",
    "B[2] = 7\n",
    "B[3] = 8\n",
    "</code>"
   ]
  },
  {
   "cell_type": "code",
   "execution_count": null,
   "metadata": {
    "collapsed": true
   },
   "outputs": [],
   "source": [
    "def create_string_from_lists():\n",
    "    s = \"\"\n",
    "    \n",
    "    A = [2, 3, 4]\n",
    "    B = [5, 6, 7, 8]\n",
    "    for i in range(4):\n",
    "        s += f\"A[{i}] = {A[i]}\\n\"\n",
    "        s += f\"B[{i}] = {B[i]}\\n\"\n",
    "    print(s)\n",
    "\n",
    "###BEGIN SOLUTION TEMPLATE=\n",
    "def create_string_from_lists():\n",
    "    s = \"\"\n",
    "    \n",
    "    A = [2, 3, 4]\n",
    "    B = [5, 6, 7, 8]\n",
    "    for i in range(4):\n",
    "        \n",
    "        if i < 3:\n",
    "            s += f\"A[{i}] = {A[i]}\\n\"\n",
    "            s += f\"B[{i}] = {B[i]}\\n\"\n",
    "        else:\n",
    "            s += f\"B[{i}] = {B[i]}\\n\"\n",
    "    print(s)   \n",
    "###END SOLUTION\n",
    "\n",
    "create_string_from_lists()"
   ]
  },
  {
   "cell_type": "code",
   "execution_count": null,
   "metadata": {
    "collapsed": true,
    "nbgrader": {
     "grade": true,
     "grade_id": "Q3.4.2",
     "locked": true,
     "points": "1",
     "solution": false
    }
   },
   "outputs": [],
   "source": [
    "###BEGIN HIDDEN TESTS\n",
    "assert \"B[3] = 8\" in create_string_from_lists(), '3.4.2 - Incorrect answer'\n",
    "###END HIDDEN TESTS"
   ]
  },
  {
   "cell_type": "markdown",
   "metadata": {
    "nbgrader": {
     "grade": false,
     "locked": true,
     "solution": false
    }
   },
   "source": [
    "<div class=\"alert alert-block alert-info\"><b>(Fixing) Exercise 3.4.3</b><br><br><div style=\"text-align: justify\">Find the semantic error in this function:"
   ]
  },
  {
   "cell_type": "code",
   "execution_count": null,
   "metadata": {
    "collapsed": true
   },
   "outputs": [],
   "source": [
    "def factorial(x):\n",
    "    \"returns the factorial of x\"\n",
    "    if x == 0:\n",
    "        return 1\n",
    "    else: \n",
    "        return x ** factorial(x-1)\n",
    "\n",
    "###BEGIN SOLUTION TEMPLATE=\n",
    "def factorial(x):\n",
    "    \"returns the factorial of x\"\n",
    "    if x == 0:\n",
    "        return 1\n",
    "    else: \n",
    "        return x * factorial(x-1)\n",
    "###END SOLUTION\n",
    "\n",
    "factorial(4)"
   ]
  },
  {
   "cell_type": "code",
   "execution_count": null,
   "metadata": {
    "collapsed": true,
    "nbgrader": {
     "grade": true,
     "grade_id": "Q3.4.3",
     "locked": true,
     "points": "1",
     "solution": false
    }
   },
   "outputs": [],
   "source": [
    "###BEGIN HIDDEN TESTS\n",
    "assert factorial(5) == 120, '3.4.3 - Incorrect answer'\n",
    "###END HIDDEN TESTS"
   ]
  },
  {
   "cell_type": "markdown",
   "metadata": {
    "nbgrader": {
     "grade": false,
     "locked": true,
     "solution": false
    }
   },
   "source": [
    "<div class=\"alert alert-block alert-danger\"><b>Additional study material:</b>\n",
    "    \n",
    "* Official Python Documentation - https://docs.python.org/3/library/debug.html\n",
    "* Think Python (2nd ed.) - Appendix A and all (sub-)sections"
   ]
  },
  {
   "cell_type": "markdown",
   "metadata": {
    "nbgrader": {
     "grade": false,
     "locked": true,
     "solution": false
    }
   },
   "source": [
    "<h4>After this Notebook you should be able to:</h4>\n",
    "\n",
    "- print a variable, formatting it in an appropriate manner\n",
    "- know the existence of escape characters\n",
    "- know how to use lambda functions\n",
    "- understand how file paths work\n",
    "- create and delete new directories \n",
    "- know the three different types of errors\n",
    "- have a plan when debugging your code"
   ]
  }
 ],
 "metadata": {
  "kernelspec": {
   "display_name": "Python 3.7",
   "language": "python",
   "name": "python37"
  },
  "language_info": {
   "codemirror_mode": {
    "name": "ipython",
    "version": 3
   },
   "file_extension": ".py",
   "mimetype": "text/x-python",
   "name": "python",
   "nbconvert_exporter": "python",
   "pygments_lexer": "ipython3",
   "version": "3.7.5"
  },
  "latex_envs": {
   "LaTeX_envs_menu_present": true,
   "autoclose": false,
   "autocomplete": true,
   "bibliofile": "biblio.bib",
   "cite_by": "apalike",
   "current_citInitial": 1,
   "eqLabelWithNumbers": true,
   "eqNumInitial": 1,
   "hotkeys": {
    "equation": "Ctrl-E",
    "itemize": "Ctrl-I"
   },
   "labels_anchors": false,
   "latex_user_defs": false,
   "report_style_numbering": false,
   "user_envs_cfg": false
  },
  "vscode": {
   "interpreter": {
    "hash": "1fe2f2b718b1108b9c4176932db8a0ead471245140baaa21ea96a4066683e6b2"
   }
  }
 },
 "nbformat": 4,
 "nbformat_minor": 2
}
