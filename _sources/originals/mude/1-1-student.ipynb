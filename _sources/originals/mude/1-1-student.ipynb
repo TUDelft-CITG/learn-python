{
 "cells": [
  {
   "cell_type": "markdown",
   "metadata": {},
   "source": [
    "# Computations using Numpy\n"
   ]
  },
  {
   "cell_type": "markdown",
   "metadata": {},
   "source": [
    "This notebook is based on the Numpy lesson from [Aalto Scientific Computing: Python for Scientific Computing](https://github.com/AaltoSciComp/python-for-scicomp/) and [W3Schools](https://www.w3schools.com/python/numpy/)."
   ]
  },
  {
   "cell_type": "markdown",
   "metadata": {},
   "source": [
    "## Contents\n",
    "- [What is an array?](#What-is-an-array?)\n",
    "    - [Performance check](#Performance-check)\n",
    "- [Creating arrays](#Creating-arrays)\n",
    "- [Array Data types](#Array-Data-types)\n",
    "- [Saving and loading arrays](#Saving-and-loading-arrays)\n",
    "- [Array reshaping](#Array-reshaping)\n",
    "- [Array maths](#Array-maths)\n",
    "- [Dot product and matrix multiplication](#Dot-product-and-matrix-multiplication)\n",
    "- [Indexing and Slicing](#Indexing-and-Slicing)\n",
    "- [View vs copy](#View-vs-copy)\n",
    "- [Types of operations](#Types-of-operations)\n",
    "    - [Array methods](#Array-methods)\n",
    "- [Example: Linear algebra using Numpy](#Example:-Linear-algebra-using-Numpy)\n",
    "- [More linear algebra and other advanced math](#More-linear-algebra-and-other-advanced-math)\n",
    "- [Optional Exercises](#Optional-Exercises)\n",
    "- [See also](#See-also)"
   ]
  },
  {
   "cell_type": "markdown",
   "metadata": {},
   "source": [
    "## What is an array?\n",
    "\n",
    "For example, consider `[1, 2.5, 'asdf', False, [1.5, True]]` - this is a Python list but it has different types for every element. When you do math on this, every element has to be handled separately.\n",
    "\n",
    "Lists may serve the purpose of arrays, but they are slow to process. Numpy aims to provide an array object that is up to 50x faster than traditional Python lists. Numpy is the most used library for scientific computing. Even if you are not using it directly, chances are high that some library uses it in the background.\n",
    "\n",
    "The array data structure in numpy is called `ndarray`, it provides a lot of supporting functions that make working with `ndarray` very easy.\n",
    "\n",
    "An array is a ‘grid’ of values, with all the same types. It is indexed by tuples of non negative indices and provides the framework for multiple dimensions. An array has:\n",
    "\n",
    "- `dtype` - data type. Arrays always contain one type\n",
    "- `shape` - shape of the data, for example 3×2 or 3×2×500 or even 500 (one dimensional) or [] (zero dimensional).\n",
    "- `data` - raw data storage in memory. This can be passed to C or Fortran code for efficient calculations."
   ]
  },
  {
   "cell_type": "markdown",
   "metadata": {},
   "source": [
    "## Performance check\n",
    "\n",
    "To quickly show the fast performances of NumPy arrays, we can compare the results of a basic operations using lists and array. In particular we will compute the square of 10000 elements."
   ]
  },
  {
   "cell_type": "markdown",
   "metadata": {},
   "source": [
    "We first do this using Python lists, by creating a list with values from 0 to 9999, and one ‘empty’ list, to store the result in."
   ]
  },
  {
   "cell_type": "code",
   "execution_count": null,
   "metadata": {
    "ExecuteTime": {
     "end_time": "2022-07-01T15:53:26.360758Z",
     "start_time": "2022-07-01T15:53:26.350363Z"
    }
   },
   "outputs": [],
   "source": [
    "a = list(range(10000))\n",
    "b = [ 0 ] * 10000"
   ]
  },
  {
   "cell_type": "code",
   "execution_count": null,
   "metadata": {},
   "outputs": [],
   "source": [
    "%%timeit\n",
    "for i in range(len(a)):\n",
    "    b[i] = a[i]**2"
   ]
  },
  {
   "cell_type": "markdown",
   "metadata": {},
   "source": [
    "That looks and feels quite fast. But let’s take a look at how NumPy performs for the same task. We first import the `numpy` module, then we create our *a* and *b* containers again, which are now `ndarray` objects. Finally we perform the square operation."
   ]
  },
  {
   "cell_type": "code",
   "execution_count": null,
   "metadata": {},
   "outputs": [],
   "source": [
    "import numpy as np\n",
    "a = np.arange(10000)\n",
    "b = np.zeros(10000)"
   ]
  },
  {
   "cell_type": "code",
   "execution_count": null,
   "metadata": {},
   "outputs": [],
   "source": [
    "%%timeit\n",
    "b = a ** 2"
   ]
  },
  {
   "cell_type": "markdown",
   "metadata": {},
   "source": [
    "We see that working with numpy arrays provides substantial performance improvements."
   ]
  },
  {
   "cell_type": "markdown",
   "metadata": {
    "ExecuteTime": {
     "end_time": "2022-07-01T15:53:31.006650Z",
     "start_time": "2022-07-01T15:53:27.226245Z"
    }
   },
   "source": [
    "> **Note**: To evaluate the time of the computation we used the `%%timeit` command. `%%timeit` is a so-called Jupyter notebook *magic command* which is intiated with a `%` or `%%` prefix for line and cell commands, respectively. This `%%` cell magic has to be the first thing in the Jupyter cell, otherwise it will not work. There are many other interesting magic commands available, such as shown [here](https://towardsdatascience.com/top-8-magic-commands-in-jupyter-notebook-c1582e813560).\n"
   ]
  },
  {
   "cell_type": "markdown",
   "metadata": {},
   "source": [
    "## Creating arrays"
   ]
  },
  {
   "cell_type": "markdown",
   "metadata": {},
   "source": [
    "Arrays can be created using many different functions, this section will provide an overview in the many useful ways in which arrays can be created."
   ]
  },
  {
   "cell_type": "markdown",
   "metadata": {},
   "source": [
    "You can create an array from a Python list by using `np.array` and passing a Python list:"
   ]
  },
  {
   "cell_type": "markdown",
   "metadata": {},
   "source": [
    ">**Note**: To print the values of variables, we will make use of *f-strings*. F-strings have been introduced in Python 3.6, and they are recommended for print formatting since they improve code readability and are less prone to errors. We use f-strings by adding the letter *f* before the string we want to print, and then entering the name of the variables within curly brackets `{` and `}`. More info can be found [here](https://www.geeksforgeeks.org/formatted-string-literals-f-strings-python/)"
   ]
  },
  {
   "cell_type": "code",
   "execution_count": null,
   "metadata": {
    "ExecuteTime": {
     "end_time": "2022-07-01T15:53:36.717514Z",
     "start_time": "2022-07-01T15:53:36.707698Z"
    }
   },
   "outputs": [],
   "source": [
    "a = np.array([1,2,3])               # 1-dimensional array (rank 1)\n",
    "b = np.array([[1,2,3],[4,5,6]])     # 2-dimensional array (rank 2)\n",
    "\n",
    "# the print statements use f-strings to format the print output. \n",
    "print(f'a:{a}\\n')                                   # \\n creates a new line \n",
    "print(f'a:\\t{a}\\n')                                 # \\n adds a tab, a specific character for indentation\n",
    "print(f'b:\\n{b}\\n')\n",
    "print(f'shape of a: {a.shape}')                     # the shape (# rows, # columns)\n",
    "print(f'shape of b: {b.shape}')                     # the shape (# rows, # columns)\n",
    "print(f'size of a: {a.size}')                       # number of elements in the array b\n",
    "print(f'size of b: {b.size}')                       # number of elements in the array b"
   ]
  },
  {
   "cell_type": "markdown",
   "metadata": {},
   "source": [
    "Often it is useful to create an array with constant values; the following functions can be used to achieve this:"
   ]
  },
  {
   "cell_type": "code",
   "execution_count": null,
   "metadata": {
    "ExecuteTime": {
     "end_time": "2022-07-01T15:53:36.770186Z",
     "start_time": "2022-07-01T15:53:36.750150Z"
    }
   },
   "outputs": [],
   "source": [
    "print(np.zeros((2, 3)), '\\n')           # Create a 2x3 array with all elements set to 0\n",
    "print(np.ones((1,2)), '\\n')             # Create a 1x2 array with all elements set to 1\n",
    "print(np.full((2,2),7), '\\n')           # Create a 2x2 array with all elements set to 7\n",
    "print(np.eye(2), '\\n')                  # Create a 2x2 identity matrix"
   ]
  },
  {
   "cell_type": "markdown",
   "metadata": {},
   "source": [
    "Other common ways to create a vector include using evenly spaced values in an interval or by specifying the data type"
   ]
  },
  {
   "cell_type": "code",
   "execution_count": null,
   "metadata": {
    "ExecuteTime": {
     "end_time": "2022-07-01T15:53:36.841345Z",
     "start_time": "2022-07-01T15:53:36.820880Z"
    }
   },
   "outputs": [],
   "source": [
    "a = np.arange(10)              # Evenly spaced values in an interval, with default stepsize 1\n",
    "b = np.linspace(0,9,10)        # An array with 10 values between 0 and 9  \n",
    "                               # (check the difference with np.arange in the next section)\n",
    "\n",
    "c = np.ones((3, 2), bool)      # 3x2 boolean array\n",
    "\n",
    "print(f'a:\\n{a}\\n')\n",
    "print(f'b:\\n{b}\\n')\n",
    "print(f'c:\\n{c}')"
   ]
  },
  {
   "cell_type": "markdown",
   "metadata": {},
   "source": [
    " ---\n",
    " ## Array Data types\n",
    "\n",
    " What exactly is the difference between `np.arange(10)` and `np.linspace(0,9,10)`? \n",
    " \n",
    " - ``np.arange(10)`` results in ``array([0, 1, 2, 3, 4, 5, 6, 7, 8, 9])`` with dtype **int64**,\n",
    " - while ``np.linspace(0,9,10)`` results in ``array([0., 1., 2., 3., 4., 5., 6., 7., 8., 9.])`` with dtype **float64**.\n",
    "\n",
    " Both ``np.linspace`` and ``np.arange`` take dtype (data type) as an argument and can be adjusted to match each other in that way:"
   ]
  },
  {
   "cell_type": "code",
   "execution_count": null,
   "metadata": {
    "ExecuteTime": {
     "end_time": "2022-07-01T15:53:36.923930Z",
     "start_time": "2022-07-01T15:53:36.889193Z"
    }
   },
   "outputs": [],
   "source": [
    "print('As int64:')\n",
    "print(np.arange(10))\n",
    "print(np.linspace(0,9,10, dtype=np.int64))\n",
    "print('\\n')\n",
    "\n",
    "print('As float64:')\n",
    "print(np.arange(10, dtype=np.float64))\n",
    "print(np.linspace(0,9,10))"
   ]
  },
  {
   "cell_type": "markdown",
   "metadata": {},
   "source": [
    "---\n",
    "In many occasions (especially when something goes different than expected) it is useful to check and control, or change, the datatype of the array:"
   ]
  },
  {
   "cell_type": "code",
   "execution_count": null,
   "metadata": {
    "ExecuteTime": {
     "end_time": "2022-07-01T15:53:36.958655Z",
     "start_time": "2022-07-01T15:53:36.950718Z"
    }
   },
   "outputs": [],
   "source": [
    "d = np.ones((3, 2), bool)\n",
    "\n",
    "print(f'd:\\n{d}\\n')\n",
    "print(f'datatype of d:\\n{d.dtype}\\n')\n",
    "\n",
    "e = d.astype(int)\n",
    "      \n",
    "print(f'e:\\n{e}\\n')\n",
    "print(f'datatype of d:\\n{e.dtype}\\n')"
   ]
  },
  {
   "cell_type": "markdown",
   "metadata": {},
   "source": [
    "When converting floats to integers using `.astype()`, all floats in a numpy array are rounded to the largest integer lower than or equal to the float representation:"
   ]
  },
  {
   "cell_type": "code",
   "execution_count": null,
   "metadata": {
    "ExecuteTime": {
     "end_time": "2022-06-30T19:18:04.756250Z",
     "start_time": "2022-06-30T19:18:04.748300Z"
    }
   },
   "outputs": [],
   "source": [
    "nums = np.linspace(0,2,11)\n",
    "print(f'nums:\\n{nums}\\n')\n",
    "\n",
    "numsint = nums.astype(np.int64)\n",
    "print(f'nums as integer:\\n{numsint}\\n')"
   ]
  },
  {
   "cell_type": "markdown",
   "metadata": {},
   "source": [
    "Did you notice anything in the previous two cells?\n",
    "\n",
    "Right! We called the `astype` function not from the `np` module, but from the `ndarray` objects themselves. These are indeed *methods*, rather than *functions*. The main differences are highlighted in the table below.\n",
    "\n",
    "\n",
    "|Method      | Function|\n",
    "| :----------- | :-----------|\n",
    "| is associated with the objects of the class they belong to  | is not associated with any object|\n",
    "| is called 'on' an object and we cannot invoke it just by its name  | we can invoke a function just by its name.|\n",
    "\n",
    "Nearly all the method versions do the same thing as the function versions. Choosing the method or the function will usually depend on which one is easier to type or read. Some examples will be provided later in this notebook."
   ]
  },
  {
   "cell_type": "markdown",
   "metadata": {},
   "source": [
    "---\n",
    "### <font color='red'>Exercise</font>"
   ]
  },
  {
   "cell_type": "markdown",
   "metadata": {},
   "source": [
    "Create an array with elements ranging from 10 up to 15 (inclusive), with data type=unsigned 8 bit integer. \n",
    "Use the following functions:\n",
    "- Creating a python list and converting it to an array using `np.array()`\n",
    "- using `np.linspace()`\n",
    "- using `np.arange()`"
   ]
  },
  {
   "cell_type": "code",
   "execution_count": null,
   "metadata": {
    "ExecuteTime": {
     "end_time": "2022-06-30T19:18:04.816547Z",
     "start_time": "2022-06-30T19:18:04.796928Z"
    }
   },
   "outputs": [],
   "source": [
    "print('Your code here')\n",
    "print('Your code here')\n",
    "print('Your code here')"
   ]
  },
  {
   "cell_type": "markdown",
   "metadata": {},
   "source": [
    "---\n",
    "## Saving and loading arrays\n",
    "When working with arrays, it might be useful to save or load an array to a file on your computer. This can be done using the `np.save()` and `np.load()` functions respectively:"
   ]
  },
  {
   "cell_type": "code",
   "execution_count": null,
   "metadata": {
    "ExecuteTime": {
     "end_time": "2022-06-19T14:12:17.037022Z",
     "start_time": "2022-06-19T14:12:17.023276Z"
    },
    "scrolled": true
   },
   "outputs": [],
   "source": [
    "arr = np.linspace(0, 10, 11)  # Create an array\n",
    "print(f'arr:\\n{arr}')\n",
    "\n",
    "np.save('arr.npy', arr)       # Save the array to a file on your computer\n",
    "arr = None                    # Setting the arr parameter to None\n",
    "print(f'arr:\\n{arr}')\n",
    "\n",
    "arr = np.load('arr.npy')      # Load the array from the created .npy file \n",
    "print(arr)"
   ]
  },
  {
   "cell_type": "markdown",
   "metadata": {},
   "source": [
    "You now saved `arr.npy` such that you can use it later and in different scripts! It is also possible to load csv or txt files using the `np.loadtxt()` function. by passing the correct string representing the delimiter character, a txt or csv file can be loaded as an array:"
   ]
  },
  {
   "cell_type": "code",
   "execution_count": null,
   "metadata": {
    "ExecuteTime": {
     "end_time": "2022-06-19T14:12:17.049361Z",
     "start_time": "2022-06-19T14:12:17.040476Z"
    }
   },
   "outputs": [],
   "source": [
    "arr_from_csv = np.loadtxt('example_data.csv', delimiter=',')  # This file uses the comma as the seperating character\n",
    "\n",
    "arr_from_txt = np.loadtxt('example_data.txt', delimiter='\\t') # This file uses a tab as the seperating character\n",
    "\n",
    "print(f'array from csv file:\\n{arr_from_csv}\\n')\n",
    "print(f'array from txt file:\\n{arr_from_txt}')"
   ]
  },
  {
   "cell_type": "markdown",
   "metadata": {},
   "source": [
    "---\n",
    "### <font color='red'>Exercise</font>"
   ]
  },
  {
   "cell_type": "markdown",
   "metadata": {},
   "source": [
    "Load the provided csv `taxi_duration.txt` using the `np.loadtxt` function. The text file contains two columns: one representing the day of the year, and the other representing the daily total duration of taxi rides corresponding to the day of the year. Check the number of days in your loaded dataset. You can preview the file in a text editor if you want."
   ]
  },
  {
   "cell_type": "code",
   "execution_count": null,
   "metadata": {
    "ExecuteTime": {
     "end_time": "2022-06-30T19:18:24.834359Z",
     "start_time": "2022-06-30T19:18:24.824656Z"
    }
   },
   "outputs": [],
   "source": [
    "taxis = 'Your code here'\n",
    "# print(f'The dataset is {len(taxis)} days long.')"
   ]
  },
  {
   "cell_type": "markdown",
   "metadata": {},
   "source": [
    "Now, visualize the dataset by running the cell below"
   ]
  },
  {
   "cell_type": "code",
   "execution_count": null,
   "metadata": {
    "ExecuteTime": {
     "end_time": "2022-06-30T19:20:22.724156Z",
     "start_time": "2022-06-30T19:20:22.455107Z"
    }
   },
   "outputs": [],
   "source": [
    "from plotting_functions import plot_taxi_time_series\n",
    "plot_taxi_time_series(taxis)"
   ]
  },
  {
   "cell_type": "markdown",
   "metadata": {},
   "source": [
    "---\n",
    "## Array reshaping\n",
    "Arrays can be [reshaped](https://numpy.org/doc/stable/reference/generated/numpy.reshape.html) in many different ways, as long as the number of entries in the new shape does not differ from the number of entries in the original array. \n",
    "For example, the following array can be reshaped into a 3 by 3 array:\n",
    "\n",
    "<img src=\"./1dim.png\" alt=\"drawing\" width=\"600\"/>\n",
    "\n",
    "By reshaping this array into a 3 by 3 array using the default reading order, the following array is created:\n",
    "\n",
    "<img src=\"./2dim.png\" alt=\"drawindg\" style=\"width:200px;\"/>\n"
   ]
  },
  {
   "cell_type": "code",
   "execution_count": null,
   "metadata": {
    "ExecuteTime": {
     "end_time": "2022-06-19T15:45:00.005091Z",
     "start_time": "2022-06-19T15:44:59.973626Z"
    },
    "tags": [
     "allow_errors"
    ]
   },
   "outputs": [],
   "source": [
    "arr = np.arange(10)\n",
    "print(f'original:\\n{arr}')\n",
    "print(f'\\n5 rows and 2 columns:\\n{arr.reshape((5, 2))}')\n",
    "print(f'\\n2 rows and 5 columns:\\n{arr.reshape((2, -1))}') # -1 provides the fitting lenght of the dimension\n",
    "print(f'\\n1 row and 5 columns:\\n{arr.reshape((1, 5))}')   # This action will cause an error because \n",
    "                                                          # 10 entries do not fit in a 1 by 5 array"
   ]
  },
  {
   "cell_type": "markdown",
   "metadata": {},
   "source": [
    "---\n",
    "### <font color='red'>Exercise</font>"
   ]
  },
  {
   "cell_type": "markdown",
   "metadata": {},
   "source": [
    "Reshape the Taxi array as loaded in the previous exercise such that the array columns represent weekdays and the array rows represent different weeks in the period of the data set. Note that the first day of the year 2016 was a *friday*, so the week representation in the columns will start at *friday*."
   ]
  },
  {
   "cell_type": "code",
   "execution_count": null,
   "metadata": {
    "ExecuteTime": {
     "end_time": "2022-06-30T19:22:10.446976Z",
     "start_time": "2022-06-30T19:22:10.442911Z"
    },
    "scrolled": true
   },
   "outputs": [],
   "source": [
    "taxi_weeks = 'Your code here'"
   ]
  },
  {
   "cell_type": "markdown",
   "metadata": {
    "ExecuteTime": {
     "end_time": "2022-06-26T09:24:54.678197Z",
     "start_time": "2022-06-26T09:24:54.637068Z"
    }
   },
   "source": [
    "A visualization of the reshaped array:"
   ]
  },
  {
   "cell_type": "code",
   "execution_count": null,
   "metadata": {
    "ExecuteTime": {
     "end_time": "2022-06-30T19:23:19.025535Z",
     "start_time": "2022-06-30T19:23:18.668725Z"
    }
   },
   "outputs": [],
   "source": [
    "from plotting_functions import plot_taxi_weeks\n",
    "plot_taxi_weeks(taxi_weeks, labels = ['friday','saturday','sunday','monday','tuesday','wednesday','thursday'])"
   ]
  },
  {
   "cell_type": "markdown",
   "metadata": {},
   "source": [
    "---\n",
    "## Array maths\n",
    "\n",
    "\n",
    "Clearly, you can do math on arrays.  Math in NumPy is fast because it is implemented in C or Fortran, just like in most other high-level languages such as R and Matlab.\n",
    "\n",
    "By default, in NumPy all math is performed element-by-element. "
   ]
  },
  {
   "cell_type": "code",
   "execution_count": null,
   "metadata": {
    "ExecuteTime": {
     "end_time": "2022-06-30T19:26:28.411658Z",
     "start_time": "2022-06-30T19:26:28.402647Z"
    }
   },
   "outputs": [],
   "source": [
    "a = np.array([[1,2],[3,4]])\n",
    "b = np.array([[5,6],[7,8]])\n",
    "\n",
    "c = a + b\n",
    "d = np.add(a,b)\n",
    "\n",
    "print('a\\n', a, '\\n')\n",
    "print('b:\\n', b, '\\n')\n",
    "\n",
    "print('a + b:\\n', a + b, '\\n')\n",
    "print('a * b:\\n', a * b, '\\n')\n",
    "print('a / b:\\n', a / b, '\\n')\n",
    "print('square root of a:\\n', np.sqrt(a), '\\n')"
   ]
  },
  {
   "cell_type": "markdown",
   "metadata": {},
   "source": [
    "Also the sum or mean an array can be obtained through the `np.mean` and `np.std` functions:"
   ]
  },
  {
   "cell_type": "code",
   "execution_count": null,
   "metadata": {
    "ExecuteTime": {
     "end_time": "2022-06-30T19:26:28.898518Z",
     "start_time": "2022-06-30T19:26:28.878550Z"
    }
   },
   "outputs": [],
   "source": [
    "print('sum of a:\\n', np.sum(a), '\\n')\n",
    "print('mean of a:\\n', np.mean(a), '\\n')"
   ]
  },
  {
   "cell_type": "markdown",
   "metadata": {},
   "source": [
    "\n",
    "In the above cell we see that `np.sum(a)` provides the sum of all elements in a. If we wish to get the sum per row or per column we can specify the *axis* over which to sum (0 corresponds to rows and 1 corresponds to columns):"
   ]
  },
  {
   "cell_type": "code",
   "execution_count": null,
   "metadata": {
    "ExecuteTime": {
     "end_time": "2022-06-30T19:26:29.610745Z",
     "start_time": "2022-06-30T19:26:29.601866Z"
    }
   },
   "outputs": [],
   "source": [
    "a = np.array([[1,2],[3,4]])\n",
    "\n",
    "print('a\\n', a, '\\n')\n",
    "print('sum of a:\\n', np.sum(a), '\\n')                       # No specified axis\n",
    "print('sum of a per column:\\n', np.sum(a, axis = 0), '\\n')  # sum over axis 0\n",
    "print('sum of a per row:\\n', np.sum(a, axis = 1))           # sum over axis 1"
   ]
  },
  {
   "cell_type": "markdown",
   "metadata": {},
   "source": [
    "---\n",
    "### <font color='red'>Exercise</font>"
   ]
  },
  {
   "cell_type": "markdown",
   "metadata": {},
   "source": [
    "Compute the standard deviation of the trip *duration* data, using the following functions: `np.sqrt()`, `np.mean()`, `np.sum()`, `np.size()`, and the mathematical operators `-` and `/`.\n",
    "\n",
    "The standard deviation is defined as $\\sqrt{\\frac{\\sum^{n}_{i=0} \\left( x_i - \\bar{x} \\right)^2}{n}}$ for a vector x with size n. Compare the result with the usage of the `np.std()` function.\n",
    "\n",
    "The array to use for this exercise is the `durations` array as defined below, which contains only the Taxi ride durations of the original imported array (no day of the year column)"
   ]
  },
  {
   "cell_type": "code",
   "execution_count": null,
   "metadata": {
    "ExecuteTime": {
     "end_time": "2022-06-30T19:26:30.709843Z",
     "start_time": "2022-06-30T19:26:30.702703Z"
    }
   },
   "outputs": [],
   "source": [
    "durations = taxis[:,1]\n",
    "\n",
    "mean_duration = 'Your code here'\n",
    "std_duration = 'Your code here'\n",
    "\n",
    "print(f'Mean duration: {mean_duration}\\nStandard deviation of the duration: {std_duration}')\n"
   ]
  },
  {
   "cell_type": "markdown",
   "metadata": {},
   "source": [
    "Next, compute the mean and standard deviation per weekday using the `taxi_weeks` array:\n",
    "- On which weekday, on average, does the highest taxi ride duration occur?"
   ]
  },
  {
   "cell_type": "code",
   "execution_count": null,
   "metadata": {
    "ExecuteTime": {
     "end_time": "2022-06-30T19:26:31.420314Z",
     "start_time": "2022-06-30T19:26:31.416623Z"
    },
    "scrolled": true
   },
   "outputs": [],
   "source": [
    "mean_duration = 'Your code here'\n",
    "std_duration = 'Your code here'\n",
    "\n",
    "print(f'Mean duration: {mean_duration}\\nStandard deviation of the duration: {std_duration}')\n",
    "print(np.std(taxi_weeks, axis=0))"
   ]
  },
  {
   "cell_type": "markdown",
   "metadata": {},
   "source": [
    "---\n",
    "## Dot product and matrix multiplication\n",
    "As we saw in the previous example, the `*` operator or `.multiply()` function performs an element wise multiplication. To perform matrix multiplication, the `@` operator can be used:"
   ]
  },
  {
   "cell_type": "code",
   "execution_count": null,
   "metadata": {
    "ExecuteTime": {
     "end_time": "2022-06-30T19:26:32.265450Z",
     "start_time": "2022-06-30T19:26:32.247773Z"
    }
   },
   "outputs": [],
   "source": [
    "a = np.eye(3) * 2\n",
    "b = np.arange(1,10, dtype=np.float64).reshape((3,3))\n",
    "\n",
    "print(f'a\\n{a}\\n') \n",
    "print(f'b:\\n{b}\\n')\n",
    "print(f'a * b:\\n{a * b}\\n')               # Element-wise multiplication\n",
    "print(f'a @ b:\\n{a @ b}\\n')               # dot product or matrix multiplication\n",
    "print(f'np.dot(a, b):\\n{np.dot(a, b)}\\n') # dot product or matrix multiplication"
   ]
  },
  {
   "cell_type": "markdown",
   "metadata": {},
   "source": [
    "To transpose an array representing a vector or matrix, the `np.transpose()` function can be used. Alternatively, an array can be transposed by accessing its `.T` attribute. "
   ]
  },
  {
   "cell_type": "code",
   "execution_count": null,
   "metadata": {
    "ExecuteTime": {
     "end_time": "2022-06-30T19:26:33.118948Z",
     "start_time": "2022-06-30T19:26:33.112240Z"
    }
   },
   "outputs": [],
   "source": [
    "a = np.arange(6)\n",
    "a = a.reshape((3,2))                              # a now has 3 rows and 2 columns\n",
    "print(f'a:\\n{a}\\n')\n",
    "print(f'np.transpose(a):\\n{np.transpose(a)}\\n')   # a now has 2 rows and 3 columns\n",
    "print(f'a.T:\\n{a.T}')                             # a now has 2 rows and 3 columns (same outcome as line above)"
   ]
  },
  {
   "cell_type": "markdown",
   "metadata": {},
   "source": [
    "---\n",
    "### <font color='red'>Exercise</font>"
   ]
  },
  {
   "cell_type": "markdown",
   "metadata": {},
   "source": [
    "Create the two matrices A and B as numpy arrays: $A = \\begin{bmatrix} 1&4&2\\\\0&2&1\\\\3&7&6 \\end{bmatrix}$, $B = \\begin{bmatrix} 2&0&1\\\\0&3&0\\\\1&2&0 \\end{bmatrix}$.\n",
    "\n",
    "Next, perform the following operations:\n",
    "- Compute $C = A + B$\n",
    "- Compute $D = A \\cdot B$\n",
    "- Compute $D^T$"
   ]
  },
  {
   "cell_type": "code",
   "execution_count": null,
   "metadata": {
    "ExecuteTime": {
     "end_time": "2022-06-30T19:26:34.557000Z",
     "start_time": "2022-06-30T19:26:34.552438Z"
    }
   },
   "outputs": [],
   "source": [
    "A = 'Your code here'\n",
    "B = 'Your code here'\n",
    "C = 'Your code here'\n",
    "D = 'Your code here'\n",
    "\n",
    "print(f'{A}\\n')\n",
    "print(f'{B}\\n')\n",
    "print(f'{C}\\n')\n",
    "print(f'{D}\\n')"
   ]
  },
  {
   "cell_type": "markdown",
   "metadata": {},
   "source": [
    "## Indexing and Slicing\n",
    "\n",
    "NumPy has many ways to extract values out of arrays:\n",
    "\n",
    "- You can select a single element\n",
    "- You can select rows or columns\n",
    "- You can select ranges where a condition is true.\n",
    "\n",
    "An example of some ways of indexing is shown in the following image (credits GeeksForGeeks):\n",
    "\n",
    "<img src=\"https://media.geeksforgeeks.org/wp-content/uploads/Numpy1.jpg\" alt=\"indexing\" style=\"width:400px;\"/>\n",
    "\n",
    "\n",
    "\n",
    "Clever and efficient use of these operations is a key to NumPy's speed. "
   ]
  },
  {
   "cell_type": "markdown",
   "metadata": {},
   "source": [
    "<font color='red'>Reminder: In python, all indexing starts at zero, so to select the index of the first element in a list or numpy array is represented by a 0!</font>"
   ]
  },
  {
   "cell_type": "code",
   "execution_count": null,
   "metadata": {
    "ExecuteTime": {
     "end_time": "2022-06-30T19:26:37.393492Z",
     "start_time": "2022-06-30T19:26:37.387136Z"
    }
   },
   "outputs": [],
   "source": [
    "a = np.arange(16).reshape(4, 4)        # 4x4 matrix from 0 to 15\n",
    "print(f'a:\\n{a}\\n')\n",
    "print(f'a[0]:\\n{a[0]}\\n')              # first row\n",
    "print(f'a[:,0]:\\n{a[:,0]}\\n')          # first column\n",
    "print(f'a[1:3,1:3]:\\n{a[1:3,1:3]}\\n')  # middle 2x2 array\n",
    "\n",
    "print(f'a[(0, 1), (1, 1)]:\\n{a[(0, 1), (1, 1)]}')               # second element of first and second row as array"
   ]
  },
  {
   "cell_type": "markdown",
   "metadata": {},
   "source": [
    "You can also perform *boolean indexing* on arrays, such as shown below:"
   ]
  },
  {
   "cell_type": "code",
   "execution_count": null,
   "metadata": {
    "ExecuteTime": {
     "end_time": "2022-06-30T19:26:38.247841Z",
     "start_time": "2022-06-30T19:26:38.242145Z"
    }
   },
   "outputs": [],
   "source": [
    "print(f'a > 7:\\n{a > 7}\\n')        # creates boolean matrix of same size as a \n",
    "print(f'a[a > 7]:\\n{a[a > 7]}\\n')  # array with matching values of above criterion"
   ]
  },
  {
   "cell_type": "markdown",
   "metadata": {},
   "source": [
    "---\n",
    "### <font color='red'>Exercise</font>"
   ]
  },
  {
   "cell_type": "markdown",
   "metadata": {},
   "source": [
    "For the reshaped taxi ride duration array `taxi_weeks`, create the following arrays using slicing:\n",
    "- An array containing only daily total durations of *fridays* \n",
    "- An array containing *monday's* total durations from week 2 up to week 5\n",
    "- An array containing only entries with a total duration of more than 600 minutes"
   ]
  },
  {
   "cell_type": "code",
   "execution_count": null,
   "metadata": {
    "ExecuteTime": {
     "end_time": "2022-06-30T19:26:39.913802Z",
     "start_time": "2022-06-30T19:26:39.910639Z"
    }
   },
   "outputs": [],
   "source": [
    "fridays = 'Your code here'\n",
    "print(fridays)\n",
    "\n",
    "mondays_week_2_to_5 = 'Your code here'\n",
    "print(mondays_week_2_to_5)\n",
    "\n",
    "total_duration_over_6000 = 'Your code here'\n",
    "print(total_duration_over_6000)"
   ]
  },
  {
   "cell_type": "markdown",
   "metadata": {
    "ExecuteTime": {
     "end_time": "2022-06-26T10:00:34.938121Z",
     "start_time": "2022-06-26T10:00:34.934887Z"
    },
    "code_folding": []
   },
   "source": [
    "### <font color='red'>Exercise</font>"
   ]
  },
  {
   "cell_type": "markdown",
   "metadata": {},
   "source": [
    "The reshaped array `taxi_weeks` currently starts on a friday because this is the first day of the year. People often prefer to have the first column of the array corresponding to a monday instead. Using *slicing* and *reshaping*, create a new version of `taxi_weeks` from the `durations` array where the first column represents monday and chronological order is maintained."
   ]
  },
  {
   "cell_type": "markdown",
   "metadata": {},
   "source": [
    "> Hint: It is easier if you remove some observations at the beginning and the end because they are not part of a full week of observations."
   ]
  },
  {
   "cell_type": "code",
   "execution_count": null,
   "metadata": {
    "ExecuteTime": {
     "end_time": "2022-06-30T19:26:45.492564Z",
     "start_time": "2022-06-30T19:26:45.488855Z"
    }
   },
   "outputs": [],
   "source": [
    "taxi_weeks_monday = 'Your code here'"
   ]
  },
  {
   "cell_type": "markdown",
   "metadata": {},
   "source": [
    "Again, we visualise the result:"
   ]
  },
  {
   "cell_type": "code",
   "execution_count": null,
   "metadata": {
    "ExecuteTime": {
     "end_time": "2022-06-30T19:27:19.811872Z",
     "start_time": "2022-06-30T19:27:19.418465Z"
    },
    "scrolled": true
   },
   "outputs": [],
   "source": [
    "labels = ['monday', 'tuesday', 'wednesday', 'thursday','friday', 'saturday', 'sunday']\n",
    "plot_taxi_weeks(taxi_weeks_monday,labels)"
   ]
  },
  {
   "cell_type": "markdown",
   "metadata": {},
   "source": [
    "---\n",
    "## View vs copy\n",
    "See the cell below:"
   ]
  },
  {
   "cell_type": "code",
   "execution_count": null,
   "metadata": {
    "ExecuteTime": {
     "end_time": "2022-06-19T14:12:18.162370Z",
     "start_time": "2022-06-19T14:12:18.149896Z"
    }
   },
   "outputs": [],
   "source": [
    "a = np.eye(4)         # Create an array\n",
    "print(f'a:\\n{a}\\n')   # Print a\n",
    "\n",
    "b = a[:,0]            # Set variable b as the first column of b\n",
    "b[0] = 5              # Set all elements in b to 5\n",
    "print(f'b:\\n{b}\\n')   # print b\n",
    "\n",
    "print(f'a:\\n{a}\\n')   # print a again"
   ]
  },
  {
   "cell_type": "markdown",
   "metadata": {},
   "source": [
    "The change in ``b`` has also changed the array ``a``!\n",
    "This is because ``b`` is merely a *view* of a part of array ``a``.  Both\n",
    "variables point to the same memory. Hence, if one is changed, the other\n",
    "one also changes! If you need to keep the original array as is, use `np.copy(a)` or `a.copy()`."
   ]
  },
  {
   "cell_type": "code",
   "execution_count": null,
   "metadata": {
    "ExecuteTime": {
     "end_time": "2022-06-19T14:12:18.662616Z",
     "start_time": "2022-06-19T14:12:18.640303Z"
    }
   },
   "outputs": [],
   "source": [
    "a = np.eye(4)         # Create an array\n",
    "print(f'a:\\n{a}\\n')   # Print a \n",
    "\n",
    "b = np.copy(a)[:,0]   # Set variable b as a copy of the first column of b\n",
    "b[0] = 5              # Set all elements in b to 5\n",
    "print(f'b:\\n{b}\\n')   # print b\n",
    "\n",
    "print(f'a:\\n{a}\\n')   # print a again"
   ]
  },
  {
   "cell_type": "markdown",
   "metadata": {},
   "source": [
    "## Types of operations\n",
    "\n",
    "There are different types of standard operations in NumPy:\n",
    "\n",
    "**ufuncs**, or universal functions operats on ndarrays in an element-by-element fashion. They can be *unary*, operating on a single input, or *binary*, operating on two inputs.\n",
    "\n",
    "They are used to implement vectorization in NumPy which is way faster than iterating over elements. They also provide broadcasting and additional methods like reduce, accumulate etc. that are very helpful for computation.\n",
    "\n",
    "ufuncs also take additional arguments, like:\n",
    "\n",
    "`where` boolean array or condition defining where the operations should take place.\n",
    "\n",
    "`dtype` defining the return type of elements.\n",
    "\n",
    "`out` output array where the return value should be copied.\n",
    "\n",
    "A thorough explanation and list of ufunc is available at [W3Schools](https://www.w3schools.com/python/numpy/numpy_ufunc.asp)"
   ]
  },
  {
   "cell_type": "markdown",
   "metadata": {},
   "source": [
    "There are ufunc equivalents for Python's native arithmetic operators, e.g., the standard addition, subtraction, multiplication, division, negation, exponentiation, and so on. The ufunc however allows for more control, for instance we can use the `out` argument to specify the array where the result of the calculation will be stored (rather than creating a temporary array). This turns out to be particularly useful for large computations."
   ]
  },
  {
   "cell_type": "markdown",
   "metadata": {},
   "source": [
    "Example: in-place addition. Create an array, add it to itself using a ufunc."
   ]
  },
  {
   "cell_type": "code",
   "execution_count": null,
   "metadata": {
    "ExecuteTime": {
     "end_time": "2022-06-19T14:12:18.981700Z",
     "start_time": "2022-06-19T14:12:18.968190Z"
    }
   },
   "outputs": [],
   "source": [
    "x = np.array([1, 2, 3])\n",
    "\n",
    "print(f'x before addition: {x}')\n",
    "print(f'id before addition: {id(x)}')    # get the memory-ID of x\n",
    "np.add(x, x, x)                          # Third argument is output array\n",
    "np.add(x, x, x)\n",
    "print(f'x after addition: {x}')\n",
    "print(f'id after addition: {id(x)}')     # get the memory-ID of x\n",
    "                                         # - notice  it is the same!"
   ]
  },
  {
   "cell_type": "markdown",
   "metadata": {},
   "source": [
    "Example: broadcasting.  Can you add a 1-dimensional array of shape `(3)`\n",
    "  to an 2-dimensional array of shape `(3, 2)`?   With broadcasting you\n",
    "  can, and most of the times it happens 'under the hood'."
   ]
  },
  {
   "cell_type": "code",
   "execution_count": null,
   "metadata": {
    "ExecuteTime": {
     "end_time": "2022-06-19T14:12:19.313612Z",
     "start_time": "2022-06-19T14:12:19.290281Z"
    }
   },
   "outputs": [],
   "source": [
    "a = np.array([[1, 2, 3],\n",
    "             [4, 5, 6]])\n",
    "print(f'a:\\n{a}\\n')                         # Print a \n",
    "\n",
    "b = np.array([10, 10, 10])\n",
    "print(f'b:\\n{b}\\n')                         # Print b\n",
    "\n",
    "print(f'np.add(a, b):\\n{np.add(a, b)}\\n')   # add arrays a and b"
   ]
  },
  {
   "cell_type": "markdown",
   "metadata": {},
   "source": [
    "Broadcasting is smart and consistent about what it does. The basics of broadcasting are [documented here](https://numpy.org/doc/stable/user/basics.broadcasting.html). The basic idea is that it expands dimensions of the smaller array so that they are compatible in shape."
   ]
  },
  {
   "cell_type": "markdown",
   "metadata": {},
   "source": [
    "### Array methods\n",
    "Array methods also implement useful operations, sometimes similar to the ufuncs.\n",
    "\n",
    "Remember that array methods are called on the `ndarray` object. You can find the full list of methods [here](https://numpy.org/doc/stable/reference/arrays.ndarray.html) along with all other important informations on `ndarray`.  "
   ]
  },
  {
   "cell_type": "code",
   "execution_count": null,
   "metadata": {
    "ExecuteTime": {
     "end_time": "2022-06-19T14:12:19.774526Z",
     "start_time": "2022-06-19T14:12:19.754807Z"
    }
   },
   "outputs": [],
   "source": [
    "x = np.arange(12)\n",
    "x.shape = (3, 4)\n",
    "x                    #  array([[ 0,  1,  2,  3],\n",
    "                     #         [ 4,  5,  6,  7],\n",
    "                     #         [ 8,  9, 10, 11]])\n",
    "x.max()              #  11"
   ]
  },
  {
   "cell_type": "markdown",
   "metadata": {},
   "source": [
    "## Example: Linear algebra using Numpy\n",
    "\n",
    "In this short example, we will solve a linear system of equations using numpy. \n",
    "\n",
    "Let's say we want to fit a polynomial $y = a_0 x^2 + a_1 x + a_2$ through the points $(1,0)$, $(2,2)$, and $(3,1)$.\n",
    "We can obtain the variables $a_0$, $a_1$, and $a_2$ by solving the folowing linear system of equations:\n",
    "\n",
    "$\\begin{bmatrix} 1 & 1 & 1\\\\ 4 & 2 & 1\\\\ 9 & 3 & 1 \\end{bmatrix} \\begin{bmatrix} a_0\\\\ a_1\\\\ a_2 \\end{bmatrix} = \\begin{bmatrix} 0\\\\ 2\\\\ 1 \\end{bmatrix}$\n",
    "\n",
    "If we want to solve a simple system of linear equations in the form of $\\mathbf{A}\\mathbf{x} = \\mathbf{b}$, when given A and b. If A is invertable, then this equation can be solved by inverting rearranging the matrix and vectors: $\\mathbf{A}^{-1}\\mathbf{b} = \\mathbf{x}$"
   ]
  },
  {
   "cell_type": "code",
   "execution_count": null,
   "metadata": {
    "ExecuteTime": {
     "end_time": "2022-06-19T14:12:20.095747Z",
     "start_time": "2022-06-19T14:12:20.080533Z"
    }
   },
   "outputs": [],
   "source": [
    "A = np.array([[1, 1, 1], \n",
    "              [4, 2, 1], \n",
    "              [9, 3, 1]])\n",
    "b = np.array([0, 2, 1]).T\n",
    "\n",
    "x = np.linalg.inv(A) @ b\n",
    "\n",
    "print(f'A:\\n{A}\\n')\n",
    "print(f'b:\\n{b}\\n')\n",
    "print(f'x:\\n{x}\\n')"
   ]
  },
  {
   "cell_type": "markdown",
   "metadata": {},
   "source": [
    "Checking the specified conditions:"
   ]
  },
  {
   "cell_type": "code",
   "execution_count": null,
   "metadata": {
    "ExecuteTime": {
     "end_time": "2022-06-19T14:12:24.949348Z",
     "start_time": "2022-06-19T14:12:24.942277Z"
    }
   },
   "outputs": [],
   "source": [
    "a0, a1, a2 = x    \n",
    "\n",
    "print(f'a0 * 1**2 + a1 * 1 + a2 = {a0 * 1**2 + a1 * 1 + a2:.2f}')  # Check solution at x = 1\n",
    "print(f'a0 * 2**2 + a1 * 2 + a2 = {a0 * 2**2 + a1 * 2 + a2:.2f}')  # Check solution at x = 2\n",
    "print(f'a0 * 3**2 + a1 * 3 + a2 = {a0 * 3**2 + a1 * 3 + a2:.2f}')  # Check solution at x = 3"
   ]
  },
  {
   "cell_type": "markdown",
   "metadata": {},
   "source": [
    "It can be seen that the solution is nearly correct... The values of used in these calculations are floats, which cannnot represent every number exactly. Therefore, when performing calculations, the outcome might differ by a very small amount in the order of 1e-15 times the magnitude of the number."
   ]
  },
  {
   "cell_type": "markdown",
   "metadata": {},
   "source": [
    "---\n",
    "Alternatively, we could have used the `np.linalg.solve()` function to solve the equation $\\mathbf{A}\\mathbf{x} = \\mathbf{b}$ given **A** and **b**:"
   ]
  },
  {
   "cell_type": "code",
   "execution_count": null,
   "metadata": {
    "ExecuteTime": {
     "end_time": "2022-06-19T14:12:25.385378Z",
     "start_time": "2022-06-19T14:12:25.370247Z"
    }
   },
   "outputs": [],
   "source": [
    "x = np.linalg.solve(A, b)\n",
    "print(x)"
   ]
  },
  {
   "cell_type": "markdown",
   "metadata": {},
   "source": [
    "---\n",
    "Another way of obtaining the parameters of a polynomial fitted to a number of coordinates (utilizing the least squares method) is through the `np.polyfit()` function, where the x and y coordinates of the coordinates must be passed in two seperate arrays:"
   ]
  },
  {
   "cell_type": "code",
   "execution_count": null,
   "metadata": {
    "ExecuteTime": {
     "end_time": "2022-06-19T14:12:25.731155Z",
     "start_time": "2022-06-19T14:12:25.713075Z"
    }
   },
   "outputs": [],
   "source": [
    "coordinates = np.array([[1, 0], # Define an array containing the required coordinates\n",
    "                        [2, 2],\n",
    "                        [3, 1]])\n",
    "\n",
    "x =  np.polyfit(coordinates[:,0], coordinates[:,1], deg=2) # Use the np.polyfit function specifying the coordinates and the degree of polynomial\n",
    "print(x)"
   ]
  },
  {
   "cell_type": "markdown",
   "metadata": {},
   "source": [
    "---\n",
    "This shows that there are always multiple options to tackling a poblem using numpy, and for a lot of scenarios there is likely already a numpy function which can be used to reduce the amount of code needed to perform a task."
   ]
  },
  {
   "cell_type": "markdown",
   "metadata": {},
   "source": [
    "## More linear algebra and other advanced math\n",
    "\n",
    "In general, you use `arrays` (n-dimensions), not `matrixes`\n",
    "(specialized 2-dimensional) in NumPy.\n",
    "\n",
    "Internally, NumPy doesn't invent its own math routines: it relies on\n",
    "[BLAS](https://en.wikipedia.org/wiki/Basic_Linear_Algebra_Subprograms)\n",
    "and [LAPACK](https://en.wikipedia.org/wiki/LAPACK) to do this kind\n",
    "of math - the same as many other languages.\n",
    "\n",
    "- [Linear algebra in numpy documentation](https://numpy.org/doc/stable/reference/routines.linalg.html)\n",
    "\n",
    "- [Scipy](https://docs.scipy.org/doc/scipy/reference/) has\n",
    "  more usful functions\n",
    "\n",
    "- Many other libraries use NumPy arrays as the standard data\n",
    "  structure: they take data in this format, and return it similarly.\n",
    "  Thus, all the other packages you may want to use are compatible\n"
   ]
  },
  {
   "cell_type": "markdown",
   "metadata": {},
   "source": [
    "## Optional Exercises\n",
    "\n",
    "   If you have extra time, try these out.\n",
    "\n",
    "   1. Reverse a vector: given a vector, reverse it such that the last\n",
    "      element becomes the first, e.g. ``[1, 2, 3]`` => ``[3, 2, 1]``\n",
    "\n",
    "   2. Create a 2D array with zeros on the borders and 1 inside.\n",
    "\n",
    "   3. Create a random array of length 20 with elements [0, 1), then add 10 to all\n",
    "      elements in the range [0.2, 0.7).\n",
    "\n",
    "   4. What is `np.round(0.5)`? What is ``np.round(1.5)``? Why?\n",
    "\n",
    "   5. In addition to ``np.round``, explore `numpy.ceil`, `numpy.floor`,\n",
    "      `numpy.trunc`. In particular, take note of how they behave with\n",
    "      negative numbers.\n",
    "\n",
    "   6. Recall the identity $sin^2(x) + cos^2(x) = 1$. Create a\n",
    "      random 4x4 array with values in the range [0, 10). Now test the\n",
    "      equality with `numpy.equal`. What result do you get with\n",
    "      `numpy.allclose` instead of ``np.equal``?\n",
    "\n",
    "   7. Create a 1D array with 10 random elements. Sort it.\n",
    "\n",
    "   8. What's the difference between `np_array.sort()` and\n",
    "      `np.sort(np_array)`?\n",
    "\n",
    "   9. For the random array in question 8, instead of sorting it, perform\n",
    "      an indirect sort. That is, return the list of indices which would\n",
    "      index the array in sorted order.\n",
    "\n",
    "   10. Create a 4x4 array of zeros, and another 4x4 array of ones. Next\n",
    "       combine them into a single 8x4 array with the content of the zeros\n",
    "       array on top and the ones on the bottom.  Finally, do the same,\n",
    "       but create a 4x8 array with the zeros on the left and the ones on\n",
    "       the right."
   ]
  },
  {
   "cell_type": "code",
   "execution_count": null,
   "metadata": {
    "ExecuteTime": {
     "end_time": "2022-06-19T14:12:26.224649Z",
     "start_time": "2022-06-19T14:12:26.206876Z"
    }
   },
   "outputs": [],
   "source": [
    "# Answer for Ex. 1\n"
   ]
  },
  {
   "cell_type": "code",
   "execution_count": null,
   "metadata": {
    "ExecuteTime": {
     "end_time": "2022-06-19T14:12:26.474002Z",
     "start_time": "2022-06-19T14:12:26.460567Z"
    }
   },
   "outputs": [],
   "source": [
    "# Answer for Ex. 2\n"
   ]
  },
  {
   "cell_type": "code",
   "execution_count": null,
   "metadata": {
    "ExecuteTime": {
     "end_time": "2022-06-19T14:12:26.702969Z",
     "start_time": "2022-06-19T14:12:26.696217Z"
    }
   },
   "outputs": [],
   "source": [
    "# Answer for Ex. 3\n",
    "# YOUR SOLUTION MAY BE DIFFERENT IF YOU USE A DIFFERENT SEED\n",
    "np.random.seed(42)\n"
   ]
  },
  {
   "cell_type": "code",
   "execution_count": null,
   "metadata": {
    "ExecuteTime": {
     "end_time": "2022-06-19T14:12:26.929738Z",
     "start_time": "2022-06-19T14:12:26.925391Z"
    }
   },
   "outputs": [],
   "source": [
    "# Answer for Ex. 4\n"
   ]
  },
  {
   "cell_type": "code",
   "execution_count": null,
   "metadata": {
    "ExecuteTime": {
     "end_time": "2022-06-19T14:12:27.229140Z",
     "start_time": "2022-06-19T14:12:27.208488Z"
    }
   },
   "outputs": [],
   "source": [
    "# Answer for Ex. 5\n"
   ]
  },
  {
   "cell_type": "code",
   "execution_count": null,
   "metadata": {
    "ExecuteTime": {
     "end_time": "2022-06-19T14:12:27.483903Z",
     "start_time": "2022-06-19T14:12:27.479675Z"
    }
   },
   "outputs": [],
   "source": [
    "# Answer for Ex. 6\n",
    "# YOUR SOLUTION MAY BE DIFFERENT IF YOU USE A DIFFERENT SEED\n",
    "np.random.seed(42)\n"
   ]
  },
  {
   "cell_type": "code",
   "execution_count": null,
   "metadata": {
    "ExecuteTime": {
     "end_time": "2022-06-19T14:12:27.731045Z",
     "start_time": "2022-06-19T14:12:27.726535Z"
    }
   },
   "outputs": [],
   "source": [
    "# Answer for Ex. 7\n",
    "# YOUR SOLUTION MAY BE DIFFERENT IF YOU USE A DIFFERENT SEED\n",
    "np.random.seed(42)\n"
   ]
  },
  {
   "cell_type": "code",
   "execution_count": null,
   "metadata": {
    "ExecuteTime": {
     "end_time": "2022-06-19T14:12:28.084292Z",
     "start_time": "2022-06-19T14:12:28.079122Z"
    }
   },
   "outputs": [],
   "source": [
    "# Answer for Ex. 8\n"
   ]
  },
  {
   "cell_type": "code",
   "execution_count": null,
   "metadata": {
    "ExecuteTime": {
     "end_time": "2022-06-19T14:12:28.274953Z",
     "start_time": "2022-06-19T14:12:28.259871Z"
    }
   },
   "outputs": [],
   "source": [
    "# Answer for Ex. 9\n",
    "# YOUR SOLUTION MAY BE DIFFERENT IF YOU USE A DIFFERENT SEED\n",
    "np.random.seed(42)\n"
   ]
  },
  {
   "cell_type": "code",
   "execution_count": null,
   "metadata": {
    "ExecuteTime": {
     "end_time": "2022-06-19T14:12:28.519886Z",
     "start_time": "2022-06-19T14:12:28.513541Z"
    },
    "scrolled": true
   },
   "outputs": [],
   "source": [
    "# Answer for Ex. 10.\n"
   ]
  },
  {
   "cell_type": "markdown",
   "metadata": {},
   "source": [
    "## See also\n",
    "\n",
    "\n",
    "* NumPy manual <https://numpy.org/doc/stable/reference/>`\n",
    "* Basic array class reference <https://numpy.org/doc/stable/reference/arrays.html>\n",
    "* Indexing <https://numpy.org/doc/stable/reference/arrays.indexing.html>`\n",
    "* ufuncs <https://numpy.org/doc/stable/reference/ufuncs.html>`\n",
    "* 2020 Nature paper on NumPy's role and basic concepts <https://www.nature.com/articles/s41586-020-2649-2>`"
   ]
  }
 ],
 "metadata": {
  "kernelspec": {
   "display_name": "Python 3.9.13 ('base')",
   "language": "python",
   "name": "python3"
  },
  "language_info": {
   "codemirror_mode": {
    "name": "ipython",
    "version": 3
   },
   "file_extension": ".py",
   "mimetype": "text/x-python",
   "name": "python",
   "nbconvert_exporter": "python",
   "pygments_lexer": "ipython3",
   "version": "3.9.13"
  },
  "varInspector": {
   "cols": {
    "lenName": 16,
    "lenType": 16,
    "lenVar": 40
   },
   "kernels_config": {
    "python": {
     "delete_cmd_postfix": "",
     "delete_cmd_prefix": "del ",
     "library": "var_list.py",
     "varRefreshCmd": "print(var_dic_list())"
    },
    "r": {
     "delete_cmd_postfix": ") ",
     "delete_cmd_prefix": "rm(",
     "library": "var_list.r",
     "varRefreshCmd": "cat(var_dic_list()) "
    }
   },
   "types_to_exclude": [
    "module",
    "function",
    "builtin_function_or_method",
    "instance",
    "_Feature"
   ],
   "window_display": false
  },
  "vscode": {
   "interpreter": {
    "hash": "cf78f3d1bc82cb39ac7a1165ed20acb9158792c8f97b380f92edad57bf927ea3"
   }
  }
 },
 "nbformat": 4,
 "nbformat_minor": 4
}
