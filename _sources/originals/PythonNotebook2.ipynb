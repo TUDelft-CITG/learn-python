{
 "cells": [
  {
   "cell_type": "markdown",
   "metadata": {
    "nbgrader": {
     "grade": false,
     "locked": true,
     "solution": false
    }
   },
   "source": [
    "<figure>\n",
    "  <IMG SRC=\"https://raw.githubusercontent.com/mbakker7/exploratory_computing_with_python/master/tudelft_logo.png\" WIDTH=250 ALIGN=\"right\">\n",
    "</figure>\n",
    "\n",
    "# Python Notebook #2\n",
    "\n",
    "\n",
    "## Table of Contents\n",
    "<ul>\n",
    "    <li> <a href=\"#modules\">2.1 Python Modules</a>\n",
    "    <li> <a href=\"#condition_if\">2.2 Conditions and if statements</a>\n",
    "    <li> <a href=\"#datastructure\">2.3 Data Structures</a>\n",
    "    <li> <a href=\"#loops\">2.4 Loops </a>\n",
    "    \n",
    "</ul>"
   ]
  },
  {
   "cell_type": "markdown",
   "metadata": {
    "id": "fHmKWsUSKuj4",
    "nbgrader": {
     "grade": false,
     "locked": true,
     "solution": false
    }
   },
   "source": [
    "<div id=\"modules\"></div><br>\n",
    "<h2>2.1 Python Modules</h2><br><div style=\"text-align: justify\">Previously, you have learned how to: <br><br>1) initialize variables in Python; <br>2) perform simple actions with them (eg.: adding numbers together, displaying variables content, etc);<br>3) work with functions (have your own code in a function to reuse it many times or use a function, which was written by another person). <br><br>However, the scope of the last Notebook was limited by your Python knowledge and available functions in standard/vanilla Python (so-called <a href=\"https://docs.python.org/3/library/functions.html\">'built-in' Python functions</a>).\n",
    "There are not many Python built-in functions that can be useful for you, such as functions for math, plotting, signal processing, etc. Luckily, there are countless modules/packages written by other people.\n",
    "</div>\n"
   ]
  },
  {
   "cell_type": "markdown",
   "metadata": {
    "id": "oyr90lgAQGtD",
    "nbgrader": {
     "grade": false,
     "locked": true,
     "solution": false
    }
   },
   "source": [
    "<h3>Python built-in modules</h3><br><div style=\"text-align: justify\">By installing any version of Python, you also automatically install its built-in modules.<br><br>One may wonder — why do they provide some functions within built-in modules, but not directly as a built-in function, such as the <b><code>abs()</code></b> or <b><code>print()</code></b>?<br><br>The answers may vary, but, generally, it is to keep your code clean; compact; and, working.<br><br>It keeps your code clean and compact as you only load functions that you need. It keeps your code working as it allows you to define your own functions with (almost) any kind of name, and use them easily, without worrying that you might <i>'break'</i> something if there is a function with the same name that does something completely different.</div>"
   ]
  },
  {
   "cell_type": "markdown",
   "metadata": {
    "id": "67a2hkUyRh_P",
    "nbgrader": {
     "grade": false,
     "locked": true,
     "solution": false
    }
   },
   "source": [
    "<h4><code>math</code></h4><br><div style=\"text-align: justify\">The <code>math</code> module is one of the most popular modules since it contains all implementations of basic math functions ($sin$, $cos$, $exp$, rounding, and other functions — the full list can be found <a href=\"https://docs.python.org/3/library/math.html\">here</a>). <br><br>In order to access it, you just have to import it into your code with an <b><code>import</code></b> statement.\n",
    "</div>"
   ]
  },
  {
   "cell_type": "code",
   "execution_count": null,
   "metadata": {
    "colab": {
     "base_uri": "https://localhost:8080/"
    },
    "collapsed": true,
    "id": "A1WjrfHoHYFV",
    "nbgrader": {
     "grade": false,
     "locked": true,
     "solution": false
    },
    "outputId": "e14b2fc7-6b0b-4f6e-8342-45c3791030b9"
   },
   "outputs": [],
   "source": [
    "# importing all contents of the module math\n",
    "\n",
    "import math\n",
    "\n",
    "print(math) # showing that math is actually a built-in Python module"
   ]
  },
  {
   "cell_type": "markdown",
   "metadata": {
    "id": "0ssGu7FsTEtz",
    "nbgrader": {
     "grade": false,
     "locked": true,
     "solution": false
    }
   },
   "source": [
    "You can now use its functions like this:"
   ]
  },
  {
   "cell_type": "code",
   "execution_count": null,
   "metadata": {
    "colab": {
     "base_uri": "https://localhost:8080/"
    },
    "collapsed": true,
    "id": "11FBTZH7TATg",
    "nbgrader": {
     "grade": false,
     "locked": true,
     "solution": false
    },
    "outputId": "41f2699c-47a3-4ed2-f7be-b1f2ea059819"
   },
   "outputs": [],
   "source": [
    "print(f'Square root of 16 is equal to {int(math.sqrt(16))}')"
   ]
  },
  {
   "cell_type": "markdown",
   "metadata": {
    "id": "0EscmfkpTxXv",
    "nbgrader": {
     "grade": false,
     "locked": true,
     "solution": false
    }
   },
   "source": [
    "You can also use the constants defined within the module, such as **`math.pi`**:"
   ]
  },
  {
   "cell_type": "code",
   "execution_count": null,
   "metadata": {
    "colab": {
     "base_uri": "https://localhost:8080/"
    },
    "collapsed": true,
    "id": "DtwKkug2TiGT",
    "nbgrader": {
     "grade": false,
     "locked": true,
     "solution": false
    },
    "outputId": "60ffed22-e0e0-459b-e1dc-d35edfb5a3ff"
   },
   "outputs": [],
   "source": [
    "print(f'π is equal to {math.pi}')\n",
    "\n",
    "# you can also format the print() function to print the variable up to some decimal, like below:\n",
    "\n",
    "print('π is equal to {:.2f}'.format(math.pi)) \n",
    "\n",
    "# change the number 2 on the ':.2f' to print with more (or fewer) decimals\n",
    "\n",
    "print('π is equal to {:.1f}'.format(math.pi))\n",
    "\n",
    "# this way of printing is quicker if you have to print a sentence with many variables in it, such as below:\n",
    "\n",
    "print('π with two decimals is {:.2f}, with three decimals is {:.3f} and with four decimals is {:.4f}'.\\\n",
    "      format(math.pi, math.pi, math.pi))"
   ]
  },
  {
   "cell_type": "markdown",
   "metadata": {
    "nbgrader": {
     "grade": false,
     "locked": true,
     "solution": false
    }
   },
   "source": [
    "<b><div class=\"alert alert-block alert-warning\"><center>\n",
    "More information on printing best practices <a href=\"https://realpython.com/python-string-formatting/\">here</a>.</center></div></b>"
   ]
  },
  {
   "cell_type": "markdown",
   "metadata": {
    "id": "M8OQGFnGf_S9",
    "nbgrader": {
     "grade": false,
     "locked": true,
     "solution": false
    }
   },
   "source": [
    "<h4><code>math.pi</code></h4><br><div style=\"text-align: justify\">As you can see, both constants and functions of a module are accessed by using: the module's name (in this case <b><code>math</code></b>) and a <b><code>.</code></b> followed by the name of the constant/function (in this case <b><code>pi</code></b>).<br><br>We are able to do this since we have loaded all contents of the module by using the <b><code>import</code></b> keyword. If we try to use these functions somehow differently — we will get an error:"
   ]
  },
  {
   "cell_type": "code",
   "execution_count": null,
   "metadata": {
    "colab": {
     "base_uri": "https://localhost:8080/",
     "height": 201
    },
    "collapsed": true,
    "id": "98zHvteQUA3S",
    "nbgrader": {
     "grade": false,
     "locked": true,
     "solution": false
    },
    "outputId": "914a0a33-dfc6-45bc-d4c2-941ec4e666a9"
   },
   "outputs": [],
   "source": [
    "print('Square root of 16 is equal to')\n",
    "print(sqrt(16))"
   ]
  },
  {
   "cell_type": "markdown",
   "metadata": {
    "id": "LRTVWDEqhGyk",
    "nbgrader": {
     "grade": false,
     "locked": true,
     "solution": false
    }
   },
   "source": [
    "<div style=\"text-align: justify\">\n",
    "You could, however, directly specify the functionality of the module you want to access. Then, the above cell would work.<br><br>This is done by typing: <code>from <b>module_name</b> import <b>necessary_functionality</b></code>, as shown below:"
   ]
  },
  {
   "cell_type": "code",
   "execution_count": null,
   "metadata": {
    "colab": {
     "base_uri": "https://localhost:8080/"
    },
    "collapsed": true,
    "id": "By8SDKMXhBKD",
    "nbgrader": {
     "grade": false,
     "locked": true,
     "solution": false
    },
    "outputId": "b277aeda-58a3-4e6d-de0e-038d843d77fe"
   },
   "outputs": [],
   "source": [
    "from math import sqrt\n",
    "\n",
    "print(f'Square root of 16 is equal to {int(sqrt(16))}.')"
   ]
  },
  {
   "cell_type": "code",
   "execution_count": null,
   "metadata": {
    "colab": {
     "base_uri": "https://localhost:8080/"
    },
    "collapsed": true,
    "id": "pVo16M0whkK7",
    "nbgrader": {
     "grade": false,
     "locked": true,
     "solution": false
    },
    "outputId": "053cee25-dc6b-4604-d69c-1025bbf60e6c"
   },
   "outputs": [],
   "source": [
    "from math import pi\n",
    "\n",
    "print(f'π is equal to {pi}.')"
   ]
  },
  {
   "cell_type": "markdown",
   "metadata": {
    "nbgrader": {
     "grade": false,
     "locked": true,
     "solution": false
    }
   },
   "source": [
    "<h4>Listing all functions</h4><br><div style=\"text-align: justify\"> Sometimes, when you use a module for the first time, you may have no clue about the functions inside of it. In order to unveil all the potential a module has to offer, you can either access the documentation on the corresponding web resource or you can use some Python code, as shown below:\n",
    "  "
   ]
  },
  {
   "cell_type": "code",
   "execution_count": null,
   "metadata": {
    "collapsed": true,
    "nbgrader": {
     "grade": false,
     "locked": true,
     "solution": false
    }
   },
   "outputs": [],
   "source": [
    "import math\n",
    "\n",
    "# listing all contents of a module\n",
    "print('contents of math:', dir(math))\n",
    "\n",
    "# trying to learn something about, let's say, hypot thingy\n",
    "# note that \\n here is used to add a new lines\n",
    "print('\\n\\nmath hypot is a', math.hypot) "
   ]
  },
  {
   "cell_type": "code",
   "execution_count": null,
   "metadata": {
    "collapsed": true,
    "nbgrader": {
     "grade": false,
     "locked": true,
     "solution": false
    }
   },
   "outputs": [],
   "source": [
    "# you can also use ? or ?? to read the documentation about it in Python\n",
    "math.hypot?"
   ]
  },
  {
   "cell_type": "markdown",
   "metadata": {
    "id": "2SUM0W23oAdC",
    "nbgrader": {
     "grade": false,
     "locked": true,
     "solution": false
    }
   },
   "source": [
    "<h3>Python third-party modules</h3><br><div style=\"text-align: justify\"> Besides built-in modules, there are also modules developed by other people and companies, which can be also used in your code.\n",
    "These modules are not installed by default in Python, they are usually installed by using the <i>'pip'</i> or <i>'conda'</i> package managers and accessed like any other Python module.<br><br> <a href=\"https://www.youtube.com/watch?v=Z_Kxg-EYvxM\">This YouTube video</a> explains how to install Python Packages with <i>'pip'</i> and <i>'conda'</i>. However, for the purpose of this course, you will not need to use these since Vocareum has all the needed modules built in it, without the need of accessing modules from your PC. In any case, we strongly advise you to try Python outside of Vocareum. Then, if in any doubt when installing your packages, please contact one of the TAs of this course. "
   ]
  },
  {
   "cell_type": "markdown",
   "metadata": {
    "id": "_o1yzxJC0NaZ",
    "nbgrader": {
     "grade": false,
     "locked": true,
     "solution": false
    }
   },
   "source": [
    "<h4><code>numpy</code></h4><br><div style=\"text-align: justify\">The <b><code>numpy</code></b> module is one of the most popular Python modules for numerical applications. Due to its popularity, developers tend to skip using the whole module name and use a smaller version of it <b>(<code>np</code>)</b>. A different name to access a module can be done by using the <b><code>as</code></b> keyword, as shown below."
   ]
  },
  {
   "cell_type": "code",
   "execution_count": null,
   "metadata": {
    "colab": {
     "base_uri": "https://localhost:8080/"
    },
    "collapsed": true,
    "id": "qWOdG82IhoiX",
    "nbgrader": {
     "grade": false,
     "locked": true,
     "solution": false
    },
    "outputId": "99446932-b303-4d84-912a-e1d4fb90545d"
   },
   "outputs": [],
   "source": [
    "import numpy as np\n",
    "\n",
    "# printing some metainfo about the package, to show that it is not \n",
    "# a built-in Python package\n",
    "print(np)\n",
    "\n",
    "# creating 50 evenly spaced elements between 0 and 2π\n",
    "x = np.linspace(0, 2 * np.pi, 50)\n",
    "\n",
    "# calculating cos(x) for each element of x\n",
    "y = np.cos(x)\n",
    "\n",
    "# printing x and y\n",
    "print('\\n\\nx =', x)\n",
    "print('\\n\\ny =', y)"
   ]
  },
  {
   "cell_type": "markdown",
   "metadata": {
    "nbgrader": {
     "grade": false,
     "locked": true,
     "solution": false
    }
   },
   "source": [
    "<div style=\"text-align: justify\">You will learn more about this and other packages in separate Notebooks since these packages are frequently used by the scientific programming community."
   ]
  },
  {
   "cell_type": "markdown",
   "metadata": {
    "id": "bl_ufrrc2PGB",
    "nbgrader": {
     "grade": false,
     "locked": true,
     "solution": false
    }
   },
   "source": [
    "<h4><code>matplotlib</code></h4><br><div style=\"text-align: justify\"> The <b><code>matplotlib</code></b> module is used to plot data. It contains a lot of visualization techniques and, for simplicity, it has many submodules within the main module. Thus, in order to access functions, you have to specify the whole path that you want to import.<br><br>For example, if the function you need is located within the <b><code>matplotlib</code></b> module and <b><code>pyplot</code></b> submodule, you need to <b><code>import matplotlib.pyplot</code></b>;  then, the access command to that function is simply <b><code>pyplot.<b>your_function</b>()</code></b>.<br><br>Below we use the data generated in the previous cell to create a simple plot using the <b><code>pyplot.plot()</code></b> function:"
   ]
  },
  {
   "cell_type": "code",
   "execution_count": null,
   "metadata": {
    "colab": {
     "base_uri": "https://localhost:8080/",
     "height": 282
    },
    "collapsed": true,
    "id": "COq85MFE06s1",
    "nbgrader": {
     "grade": false,
     "locked": true,
     "solution": false
    },
    "outputId": "67086bf1-4b12-4929-a420-ae9322bbbcce"
   },
   "outputs": [],
   "source": [
    "# in order to import a submodule the parent module \n",
    "# must also be specified\n",
    "\n",
    "import matplotlib.pyplot as plt\n",
    "\n",
    "# it is common to import matplotlib.pyplot as plt\n",
    "\n",
    "# plt.plot() function takes x-axis values as the first argument \n",
    "# and y-axis (or f(x)) values as the second argument\n",
    "\n",
    "plt.plot(x, y)"
   ]
  },
  {
   "cell_type": "code",
   "execution_count": null,
   "metadata": {
    "colab": {
     "base_uri": "https://localhost:8080/",
     "height": 282
    },
    "collapsed": true,
    "id": "bd01J-Dc8iDJ",
    "nbgrader": {
     "grade": false,
     "locked": true,
     "solution": false
    },
    "outputId": "792ba793-3ff8-4f5a-bcdd-8271082d6c83"
   },
   "outputs": [],
   "source": [
    "# plt.scatter() works in a similar way, \n",
    "# but it does not connect the dots\n",
    "\n",
    "plt.scatter(x, y)"
   ]
  },
  {
   "cell_type": "markdown",
   "metadata": {
    "id": "qdHLw0oC84pg",
    "nbgrader": {
     "grade": false,
     "locked": true,
     "solution": false
    }
   },
   "source": [
    "<h3>Loading Python files as modules</h3><br><div style=\"text-align: justify\">Finally, you can also load your own (or somebody else's) Python files as modules. This is quite helpful, as it allows you to keep your code projects well-structured without the need to copy and paste everything.<br><br>In order to import another <b>*.py</b> file as a module, you only need to have that file and your Notebook file in the same directory and use the <code>import</code> keyword. More info on this <a href='https://csatlas.com/python-import-file-module/'>here</a>."
   ]
  },
  {
   "cell_type": "markdown",
   "metadata": {
    "id": "su7ODKnqB7tv",
    "nbgrader": {
     "grade": false,
     "locked": true,
     "solution": false
    }
   },
   "source": [
    "<div class=\"alert alert-block alert-info\"><b>(Searching) Exercise 2.1.1</b><br><br><div style=\"text-align: justify\">Write a function, using a function from the <code>math</code> module, to find the greatest common divisor of any two numbers. Your function should return one integer number."
   ]
  },
  {
   "cell_type": "code",
   "execution_count": null,
   "metadata": {
    "colab": {
     "base_uri": "https://localhost:8080/"
    },
    "collapsed": true,
    "id": "YjB37kkNGsr9",
    "outputId": "36e77aac-9e26-4c63-fbf5-e030e5539ab1"
   },
   "outputs": [],
   "source": [
    "def find_gcd(a, b):\n",
    "    ...\n",
    "\n",
    "###BEGIN SOLUTION TEMPLATE=\n",
    "\n",
    "import math\n",
    "\n",
    "def find_gcd(a, b):\n",
    "    gcd = math.gcd(a, b)\n",
    "    return gcd\n",
    "\n",
    "###END SOLUTION\n",
    "print('The greatest common divisor of 2 and 4 is:', find_gcd(2, 4))"
   ]
  },
  {
   "cell_type": "code",
   "execution_count": null,
   "metadata": {
    "collapsed": true,
    "nbgrader": {
     "grade": true,
     "grade_id": "Q2.1.1",
     "locked": true,
     "points": "1",
     "solution": false
    }
   },
   "outputs": [],
   "source": [
    "###BEGIN HIDDEN TESTS\n",
    "assert find_gcd(16, 32) == 16, '2.1.1 — Incorrect answer'\n",
    "###END HIDDEN TESTS"
   ]
  },
  {
   "cell_type": "markdown",
   "metadata": {
    "id": "aaxayx2RH9IM",
    "nbgrader": {
     "grade": false,
     "locked": true,
     "solution": false
    }
   },
   "source": [
    "<div class=\"alert alert-block alert-info\"><b>(Searching) Exercise 2.1.2</b><br><br><div style=\"text-align: justify\">We can only take and store measurements at a limited number of locations and/or times. But what if we are interested in a value in between, i.e., at a location/time where we do not have a measurement? Then we can use interpolation to estimate that value. A popular, and simple, interpolation technique is <a href=\"https://en.wikipedia.org/wiki/Linear_interpolation\">linear interpolation</a>. \n",
    "Your task is to use the module <code>scipy</code> to perform a 1D linear interpolation between a set of known points, where <code>x_known</code> and <code>y_known</code> are arrays with the measured $x$ and $y$ values. Use Google to look up the 1D interpolation function in <code>scipy</code>.<br><br>In the code below you have to replace the <code>...</code> with the correct code."
   ]
  },
  {
   "cell_type": "code",
   "execution_count": null,
   "metadata": {
    "collapsed": true,
    "id": "ZazhpxxTIzxE"
   },
   "outputs": [],
   "source": [
    "... # import the module/submodule\n",
    "def interpolate_inbetween(x_known, y_known, x_predict):\n",
    "    f = ... # call the 1D interpolation function with proper arguments\n",
    "    return f(x_predict)\n",
    "\n",
    "###BEGIN SOLUTION TEMPLATE=\n",
    "from scipy import interpolate\n",
    "\n",
    "def interpolate_inbetween(x_known, y_known, x_predict):\n",
    "    f = interpolate.interp1d(x_known, y_known)\n",
    "    return f(x_predict)\n",
    "###END SOLUTION\n",
    "\n",
    "# Let's try it...\n",
    "y_predict = interpolate_inbetween([1, 2], [1, 2], 1.5)\n",
    "print(y_predict)"
   ]
  },
  {
   "cell_type": "code",
   "execution_count": null,
   "metadata": {
    "collapsed": true,
    "nbgrader": {
     "grade": true,
     "grade_id": "Q2.1.2",
     "locked": true,
     "points": "1",
     "solution": false
    }
   },
   "outputs": [],
   "source": [
    "###BEGIN HIDDEN TESTS\n",
    "assert abs(interpolate_inbetween([1, 2], [1, 2], 1.5) - 1.5) <= 1e-6, '2.1.2 — Incorrect answer'\n",
    "###END HIDDEN TESTS"
   ]
  },
  {
   "cell_type": "markdown",
   "metadata": {
    "id": "Ue4CKV8PKnBG",
    "nbgrader": {
     "grade": false,
     "locked": true,
     "solution": false
    }
   },
   "source": [
    "<div class=\"alert alert-block alert-info\"><b>(Searching) Exercise 2.1.3</b><br><br><div style=\"text-align: justify\">Now, let's try to measure the running time of a function, for that we will need the <code>time</code> module. Use it to measure the working time of the <code>cool_function()</code> below."
   ]
  },
  {
   "cell_type": "code",
   "execution_count": null,
   "metadata": {
    "collapsed": true,
    "id": "C1aOizjOK7sl",
    "nbgrader": {
     "grade": false,
     "locked": true,
     "solution": false
    }
   },
   "outputs": [],
   "source": [
    "# you do not need to change anything in this cell\n",
    "\n",
    "def cool_function():\n",
    "    x = 0\n",
    "    for i in range(100000000):\n",
    "        x += 1\n"
   ]
  },
  {
   "cell_type": "code",
   "execution_count": null,
   "metadata": {
    "collapsed": true,
    "id": "ussCGciULEJa",
    "nbgrader": {
     "grade": false,
     "grade_id": "Q2.1.3",
     "locked": false,
     "points": "1",
     "solution": false
    }
   },
   "outputs": [],
   "source": [
    "# complete the code by replacing only the ... to create a function to calculate the running time of any function\n",
    "\n",
    "... # remember to import the module needed\n",
    "\n",
    "def measure_time(func):\n",
    "    t0 = ... # use a function from the time module to store the current time\n",
    "    func()\n",
    "    t1 = ... # and again\n",
    "    return ... # this should calcate the running time\n",
    "\n",
    "###BEGIN SOLUTION TEMPLATE=\n",
    "import time\n",
    "\n",
    "def measure_time(func):\n",
    "    t0 = time.time()\n",
    "    func()\n",
    "    t1 = time.time()\n",
    "    return t1 - t0\n",
    "###END SOLUTION\n",
    "\n",
    "# Let's try it for our cool_function\n",
    "print('It took {:.2f} seconds for Python to count from 0 to 100000000.'.format(measure_time(cool_function)))"
   ]
  },
  {
   "cell_type": "code",
   "execution_count": null,
   "metadata": {
    "collapsed": true,
    "nbgrader": {
     "grade": true,
     "grade_id": "Q2.1.3",
     "locked": true,
     "points": "1",
     "solution": false
    }
   },
   "outputs": [],
   "source": [
    "###BEGIN HIDDEN TESTS\n",
    "assert type(measure_time(cool_function)) == float, '2.1.3 — Incorrect answer'\n",
    "###END HIDDEN TESTS"
   ]
  },
  {
   "cell_type": "markdown",
   "metadata": {
    "id": "PQbf2l1kAOWu",
    "nbgrader": {
     "grade": false,
     "locked": true,
     "solution": false
    }
   },
   "source": [
    "<div class=\"alert alert-block alert-danger\"><b>Additional study material:</b>\n",
    "    \n",
    "* Official Python Documentation - https://docs.python.org/3/tutorial/modules.html\n",
    "* https://realpython.com/python-modules-packages/\n",
    "* Think Python (2nd ed.) - Sections 3 and 14 "
   ]
  },
  {
   "cell_type": "markdown",
   "metadata": {
    "id": "fHmKWsUSKuj4",
    "nbgrader": {
     "grade": false,
     "locked": true,
     "solution": false
    }
   },
   "source": [
    "<div id='condition_if'></div><br><h2> 2.2 Conditions and <code>if</code> statements</h2><br><div style=\"text-align: justify\">In previous Sections you have learned how to create variables, alter them with the help of operators and access the code of professional software developers/scientists. With this, you can already do plenty of stuff in Python. However, it still lacks versatility. If you want to apply other processing techniques for other data — you would need to manually rewrite your code and then change it back once the data changes again. Not that handy, right?<br><br>In this Section you will learn how to <i>steer</i> the flow of your code — process data differently based on some conditions. For that you will learn a construction called the <b><code>if</code></b> statement.\n",
    "\n"
   ]
  },
  {
   "cell_type": "markdown",
   "metadata": {
    "id": "oyr90lgAQGtD",
    "nbgrader": {
     "grade": false,
     "locked": true,
     "solution": false
    }
   },
   "source": [
    "<h3><code>if </code>keyword</h3><br><div style=\"text-align: justify\">The <b><code>if</code></b> statement in Python is similar to how we use it in English. <i>\"If I have apples, I can make an apple pie\"</i> — clearly states that an apple pie will exist under the condition of you having apples. Otherwise, no pie. <br><br>\n",
    "Well, it is the same in Python:"
   ]
  },
  {
   "cell_type": "code",
   "execution_count": null,
   "metadata": {
    "colab": {
     "base_uri": "https://localhost:8080/"
    },
    "collapsed": true,
    "id": "QGXlz9tvM56U",
    "nbgrader": {
     "grade": false,
     "locked": true,
     "solution": false
    },
    "outputId": "63cc3e01-7c4c-4829-d4b2-9ae08b587791"
   },
   "outputs": [],
   "source": [
    "amount_of_apples = 0\n",
    "\n",
    "if amount_of_apples > 0:\n",
    "    print(\"You have apples!\\nLet's make a pie!\")\n",
    "\n",
    "print('End of the cell block...')"
   ]
  },
  {
   "cell_type": "markdown",
   "metadata": {
    "id": "qiElV_BSNYgl",
    "nbgrader": {
     "grade": false,
     "locked": true,
     "solution": false
    }
   },
   "source": [
    "<div style=\"text-align: justify\">As you can see - nothing is printed besides <i>'End of the cell block...'.<br><br></i>But we can clearly see that there is another print statement! Why it is not printed? Because we have no apples... thus no pie for you.<br><br>Let's acquire some fruit and see whether something will change..."
   ]
  },
  {
   "cell_type": "code",
   "execution_count": null,
   "metadata": {
    "colab": {
     "base_uri": "https://localhost:8080/"
    },
    "collapsed": true,
    "id": "ja5Tz_GLNoUH",
    "nbgrader": {
     "grade": false,
     "locked": true,
     "solution": false
    },
    "outputId": "6bd36f78-2958-4bb6-ffcc-420951b3f8ba"
   },
   "outputs": [],
   "source": [
    "# adding 5 apples to our supply\n",
    "\n",
    "amount_of_apples += 5\n",
    "\n",
    "if amount_of_apples > 0:\n",
    "    print(\"You have apples!\\nLet's make a pie!\") \n",
    "\n",
    "print('End of the cell block...')"
   ]
  },
  {
   "cell_type": "markdown",
   "metadata": {
    "id": "UYZHMFlmNyyA",
    "nbgrader": {
     "grade": false,
     "locked": true,
     "solution": false
    }
   },
   "source": [
    "<div style=\"text-align: justify\">Now you can see that the same <b><code>if</code></b> statement prints text. It happened because our statement <b><code>amount_of_apples > 0</code></b> is now <b><code>True</code></b>.<br><br>That's how an <b><code>if</code></b> statement works — you type the <b><code>if</code></b> keyword, a statement and a colon. Beneath it, with an indentation of 4 spaces (1 tab), you place any code you want to run in case that <b><code>if</code></b> statement is <b><code>True</code></b>. This indentation is the same as described in Notebook 1 when defining a function.<br><br>If the result of the conditional expression is <b><code>False</code></b>, then the code inside of the <b><code>if</code></b> statement block will not run. Here's another example:"
   ]
  },
  {
   "cell_type": "code",
   "execution_count": null,
   "metadata": {
    "colab": {
     "base_uri": "https://localhost:8080/"
    },
    "collapsed": true,
    "id": "b1eW-x-3QMbZ",
    "nbgrader": {
     "grade": false,
     "locked": true,
     "solution": false
    },
    "outputId": "5d7df045-b19f-432d-e620-30d7cb34f605"
   },
   "outputs": [],
   "source": [
    "my_age = 25\n",
    "\n",
    "if my_age >= 18 and my_age <= 65:\n",
    "    print(\"I'm an adult, I have to work right now :(\")\n",
    "\n",
    "print('End of the cell block...')"
   ]
  },
  {
   "cell_type": "markdown",
   "metadata": {
    "id": "7dhdkRKERIz_",
    "nbgrader": {
     "grade": false,
     "locked": true,
     "solution": false
    }
   },
   "source": [
    "<div style=\"text-align: justify\">Slightly different setting but still the same construction. As you can see in this case, the condition of the <b><code>if</code></b> statement is more complicated than the previous one. It combines two smaller conditions by using the keyword <b><code>and</code></b>. Only if both conditions are <b><code>True</code></b> the final result is <b><code>True</code></b> (otherwise it would be <b><code>False</code></b>). <br><br>\n",
    "<b><div class=\"alert alert-block alert-warning\"><center>Thus, the condition can be as long and as complicated as you want it to be, just make sure that it is readable.</center></div></b>."
   ]
  },
  {
   "cell_type": "markdown",
   "metadata": {
    "id": "h3uicp2sTA5x",
    "nbgrader": {
     "grade": false,
     "locked": true,
     "solution": false
    }
   },
   "source": [
    "<h3><code>elif</code> keyword</h3><br>Now, let's add a bit more logic to our last example:"
   ]
  },
  {
   "cell_type": "code",
   "execution_count": null,
   "metadata": {
    "colab": {
     "base_uri": "https://localhost:8080/"
    },
    "collapsed": true,
    "id": "cZQHBzWcSdn8",
    "nbgrader": {
     "grade": false,
     "locked": true,
     "solution": false
    },
    "outputId": "0fdc9367-527d-4c1c-d4a2-b15d230a0f79"
   },
   "outputs": [],
   "source": [
    "my_age = 25\n",
    "\n",
    "if my_age >= 18 and my_age <= 65:\n",
    "    print(\"I'm an adult, I have to work right now :(\")\n",
    "elif my_age > 65:\n",
    "    print(\"I can finally retire!\")\n",
    "\n",
    "print('End of the cell block...')"
   ]
  },
  {
   "cell_type": "markdown",
   "metadata": {
    "id": "_6NOt61ZSufk",
    "nbgrader": {
     "grade": false,
     "locked": true,
     "solution": false
    }
   },
   "source": [
    "Still the same output, but what if we change our age..."
   ]
  },
  {
   "cell_type": "code",
   "execution_count": null,
   "metadata": {
    "colab": {
     "base_uri": "https://localhost:8080/"
    },
    "collapsed": true,
    "id": "QZ-AGXaJSy7j",
    "nbgrader": {
     "grade": false,
     "locked": true,
     "solution": false
    },
    "outputId": "9208a2bb-328b-4fe0-d1fd-65c443c8902f"
   },
   "outputs": [],
   "source": [
    "my_age = 66\n",
    "\n",
    "if my_age >= 18 and my_age <= 65:\n",
    "    print(\"I'm an adult, I have to work right now :(\") # msg #1\n",
    "elif my_age > 65:\n",
    "    print(\"I can finally retire!\") # msg #2\n",
    "\n",
    "print('End of the cell block...')"
   ]
  },
  {
   "cell_type": "markdown",
   "metadata": {
    "id": "u8RcnX-sTm4G",
    "nbgrader": {
     "grade": false,
     "locked": true,
     "solution": false
    }
   },
   "source": [
    "<div style=\"text-align: justify\">See.. we have a different output. Changing the value of our variable <b><code>my_age</code></b> changed the output of the <b><code>if</code></b> statement. Furthermore, the <b><code>elif</code></b> keyword helped us to add more logic to our code. Now, we have three different output scenarios:<br>\n",
    "- print message #$1$ if <b><code>my_age</code></b> is within the $[18, 65]$ range;<br>\n",
    "- print message #$2$ if <b><code>my_age</code></b> is bigger than $65$; and, <br>\n",
    "- print none of them if <b><code>my_age</code></b> doesn't comply with none of the conditions (as shown below)."
   ]
  },
  {
   "cell_type": "code",
   "execution_count": null,
   "metadata": {
    "colab": {
     "base_uri": "https://localhost:8080/"
    },
    "collapsed": true,
    "id": "9r9Mx2gkVyS7",
    "nbgrader": {
     "grade": false,
     "locked": true,
     "solution": false
    },
    "outputId": "4a513321-cca9-4c5e-ee7d-da2157e039d5"
   },
   "outputs": [],
   "source": [
    "my_age = 15\n",
    "\n",
    "if my_age >= 18 and my_age <= 65:\n",
    "    print(\"I'm an adult, I have to work right now :(\") # msg #1\n",
    "elif my_age > 65:\n",
    "    print(\"I can finally retire!\") # msg #2\n",
    "\n",
    "print('End of the cell block...')"
   ]
  },
  {
   "cell_type": "markdown",
   "metadata": {
    "id": "1lfzBWNfVwN0",
    "nbgrader": {
     "grade": false,
     "locked": true,
     "solution": false
    }
   },
   "source": [
    "<div style=\"text-align: justify\">\n",
    "One can also substitute an <code>elif</code> block by a different <code>if</code> block, however it is preferred to use <code>elif</code> instead to <i>\"keep the condition together\"</i> and to reduce code size.<br>\n",
    "<div class=\"alert alert-block alert-warning\"><center>It is important to know that there should be only <b>one</b> <code>if</code> block and <b>any number of</b> <code>elif</code> blocks within it.</center></div><br>A last example below:"
   ]
  },
  {
   "cell_type": "code",
   "execution_count": null,
   "metadata": {
    "colab": {
     "base_uri": "https://localhost:8080/"
    },
    "collapsed": true,
    "id": "0krMMx5DYpeO",
    "nbgrader": {
     "grade": false,
     "locked": true,
     "solution": false
    },
    "outputId": "19ac187f-b814-4aa5-ef91-9db6691ded6c"
   },
   "outputs": [],
   "source": [
    "# Setting my_age to run the first elif block\n",
    "\n",
    "my_age = 88\n",
    "\n",
    "if my_age >= 18 and my_age <= 65:\n",
    "    print(\"I'm an adult, I have to work right now :(\")\n",
    "elif my_age > 65:\n",
    "    print(\"I can finally retire!\")\n",
    "elif my_age < 10:\n",
    "    print(\"I'm really, really young\")\n",
    "\n",
    "# Setting my_age to run the second elif block\n",
    "\n",
    "my_age = 7\n",
    "\n",
    "if my_age >= 18 and my_age <= 65:\n",
    "    print(\"I'm an adult, I have to work right now :(\")\n",
    "elif my_age > 65:\n",
    "    print(\"I can finally retire!\")\n",
    "elif my_age < 10:\n",
    "    print(\"I'm really really young\")\n",
    "\n",
    "print('End of the cell block...')"
   ]
  },
  {
   "cell_type": "markdown",
   "metadata": {
    "id": "WGUFngFNV6ys",
    "nbgrader": {
     "grade": false,
     "locked": true,
     "solution": false
    }
   },
   "source": [
    "<h3><code>else</code> keyword</h3><br><div style=\"text-align: justify\">We can go even further and add an additional scenario to our <b><code>if</code></b> statement with the <b><code>else</code></b> keyword. It runs the code inside of it <b>only</b> when none of the <b><code>if</code></b> and <b><code>elif</code></b> conditions are <b><code>True</code></b>:"
   ]
  },
  {
   "cell_type": "code",
   "execution_count": null,
   "metadata": {
    "colab": {
     "base_uri": "https://localhost:8080/"
    },
    "collapsed": true,
    "id": "ieXD271nW903",
    "nbgrader": {
     "grade": false,
     "locked": true,
     "solution": false
    },
    "outputId": "ff7edbd8-33b5-4b6e-c7e7-657ec1d4e8a0"
   },
   "outputs": [],
   "source": [
    "my_age = 13\n",
    "\n",
    "if my_age >= 18 and my_age <= 65:\n",
    "    print(\"I'm an adult, I have to work right now :(\")\n",
    "elif my_age > 65:\n",
    "    print(\"I can finally retire!\")\n",
    "elif my_age < 10:\n",
    "    print(\"I'm really really young\")\n",
    "else:\n",
    "    print(\"I'm just young\")\n",
    "\n",
    "print('End of the cell block...')"
   ]
  },
  {
   "cell_type": "markdown",
   "metadata": {
    "id": "5_e10m98XJIn",
    "nbgrader": {
     "grade": false,
     "locked": true,
     "solution": false
    }
   },
   "source": [
    "<div style=\"text-align: justify\">\n",
    "    On the previous example, since <b><code>my_age</code></b> is <b>not</b> between $[18,65]$, <b>nor</b> bigger than $65$, <b>nor</b> smaller than $10$, the <b><code>else</code></b> block is run.\n",
    "\n",
    "Below, a final example:"
   ]
  },
  {
   "cell_type": "code",
   "execution_count": null,
   "metadata": {
    "colab": {
     "base_uri": "https://localhost:8080/"
    },
    "collapsed": true,
    "id": "Qc9WVQTxX76r",
    "nbgrader": {
     "grade": false,
     "locked": true,
     "solution": false
    },
    "outputId": "e4a5e6aa-6ebc-43c0-f7f2-eab350c66a8f"
   },
   "outputs": [],
   "source": [
    "# Setting age to run the if block\n",
    "my_age = 27\n",
    "\n",
    "if my_age >= 18 and my_age <= 65:\n",
    "    print(\"I'm an adult, I have to work right now :(\")\n",
    "elif my_age > 65:\n",
    "    print(\"I can finally retire!\")\n",
    "elif my_age < 10:\n",
    "    print(\"I'm really really young\")\n",
    "else:\n",
    "    print(\"I'm just young\")\n",
    "\n",
    "print('End of the cell block...')\n",
    "print('------------------------')\n",
    "\n",
    "# Setting age to run the first elif block\n",
    "my_age = 71\n",
    "\n",
    "if my_age >= 18 and my_age <= 65:\n",
    "    print(\"I'm an adult, I have to work right now :(\")\n",
    "elif my_age > 65: # first elif block\n",
    "    print(\"I can finally retire!\")\n",
    "elif my_age < 10:\n",
    "    print(\"I'm really really young\")\n",
    "else:\n",
    "    print(\"I'm just young\")\n",
    "\n",
    "print('End of the cell block...')\n",
    "print('------------------------')\n",
    "\n",
    "# Setting age to run the second elif block\n",
    "my_age = 9\n",
    "\n",
    "if my_age >= 18 and my_age <= 65:\n",
    "    print(\"I'm an adult, I have to work right now :(\")\n",
    "elif my_age > 65:\n",
    "    print(\"I can finally retire!\")\n",
    "elif my_age < 10: # second elif block\n",
    "    print(\"I'm really really young\")\n",
    "else:\n",
    "    print(\"I'm just young\")\n",
    "\n",
    "print('End of the cell block...')\n",
    "print('------------------------')\n",
    "\n",
    "# Setting age to run the else block\n",
    "my_age = 13\n",
    "\n",
    "if my_age >= 18 and my_age <= 65:\n",
    "    print(\"I'm an adult, I have to work right now :(\")\n",
    "elif my_age > 65:\n",
    "    print(\"I can finally retire!\")\n",
    "elif my_age < 10:\n",
    "    print(\"I'm really really young\")\n",
    "else: # else block\n",
    "    print(\"I'm just young\")\n",
    "\n",
    "print('End of the cell block...')\n",
    "print('------------------------')"
   ]
  },
  {
   "cell_type": "markdown",
   "metadata": {
    "id": "xAytN9YkYOtw",
    "nbgrader": {
     "grade": false,
     "locked": true,
     "solution": false
    }
   },
   "source": [
    "<div style=\"text-align: justify\">That's almost everything you have to know about <b><code>if</code></b> statements! The last two things are:<br><br>\n",
    "1) It goes from top to bottom. When the first condition to be <b><code>True</code></b> runs, it skips all conditions after it — as shown below:"
   ]
  },
  {
   "cell_type": "code",
   "execution_count": null,
   "metadata": {
    "colab": {
     "base_uri": "https://localhost:8080/"
    },
    "collapsed": true,
    "id": "clMld7oKa0n7",
    "nbgrader": {
     "grade": false,
     "locked": true,
     "solution": false
    },
    "outputId": "5cfedbfb-f653-4d90-abd0-658353746aea"
   },
   "outputs": [],
   "source": [
    "random_number = 17\n",
    "\n",
    "if random_number > 35:\n",
    "    print('Condition #1')\n",
    "elif random_number > 25:\n",
    "    print('Condition #2')\n",
    "elif random_number > 15:\n",
    "    print('Condition #3')\n",
    "elif random_number > 5:\n",
    "    print('Condition #4')\n",
    "else:\n",
    "    print('Condition #5')"
   ]
  },
  {
   "cell_type": "markdown",
   "metadata": {
    "id": "rfwRtedNbVs8",
    "nbgrader": {
     "grade": false,
     "locked": true,
     "solution": false
    }
   },
   "source": [
    "<div style=\"text-align: justify\">2) You can put almost everything inside each condition block and you can define variables within each block:"
   ]
  },
  {
   "cell_type": "code",
   "execution_count": null,
   "metadata": {
    "colab": {
     "base_uri": "https://localhost:8080/",
     "height": 242
    },
    "collapsed": true,
    "id": "5II4-Zcvbf3j",
    "nbgrader": {
     "grade": false,
     "locked": true,
     "solution": false
    },
    "outputId": "cb2f7c29-2970-48a2-eacc-56d6e3f1a829"
   },
   "outputs": [],
   "source": [
    "my_income = 150\n",
    "my_degree = 'BSc'\n",
    "\n",
    "if my_degree == 'BSc':\n",
    "    x = 5\n",
    "    if my_income > 300:\n",
    "        b = 2\n",
    "        print('I am a rich BSc student')\n",
    "    else:\n",
    "        print('I am a poor BSc student')\n",
    "\n",
    "elif my_degree == 'MSc':\n",
    "\n",
    "    if my_income > 300:\n",
    "        print('I am a rich MSc student')\n",
    "    else:\n",
    "        print('I am a poor MSc student')\n",
    "\n",
    "print('x =', x)\n",
    "print('b =', b)"
   ]
  },
  {
   "cell_type": "markdown",
   "metadata": {
    "id": "9nDrNWr2cjMd",
    "nbgrader": {
     "grade": false,
     "locked": true,
     "solution": false
    }
   },
   "source": [
    "<div style=\"text-align: justify\">As you can see, we can make it as complicated as we want in terms of conditional branching.<br><br>Additionally, you can see that only variables within the blocks which run were created, while other variables were not. Thus, we have a <i>NameError</i> that we tried to access a variable <b><code>(b)</code></b> that was not defined."
   ]
  },
  {
   "cell_type": "markdown",
   "metadata": {
    "id": "su7ODKnqB7tv",
    "nbgrader": {
     "grade": false,
     "locked": true,
     "solution": false
    }
   },
   "source": [
    "<div class=\"alert alert-block alert-info\"><b> Exercise 2.2.1</b><br><br><div style=\"text-align: justify\">One of the most crucial applications of <code>if</code> statements is filtering the data from errors and checking whether an error is within a certain limit.<br><br>For example, checking whether the difference between an estimated value and the actual value are within a certain range.<br><br>\n",
    "Mathematically speaking, this can be expressed as<br><br> $$|\\hat{y} - y| < \\epsilon$$<br>where $\\hat{y}$ is your estimated value, $y$ is the actual value and $\\epsilon$ is a certain error threshold.<br><br><br>The function <code>check_error_size()</code> below must do the same — it should return <code>True</code> if the error is within the acceptable range <code>eps</code> and <code>False</code> if it is not."
   ]
  },
  {
   "cell_type": "code",
   "execution_count": null,
   "metadata": {
    "collapsed": true,
    "id": "y5NHCoFlp0dF"
   },
   "outputs": [],
   "source": [
    "def check_error_size(estimated_value, true_value, eps):\n",
    "    ... # your if statement (error in acceptable range)\n",
    "        return True\n",
    "    ... # statement if not in acceptable range\n",
    "        return False\n",
    "\n",
    "###BEGIN SOLUTION TEMPLATE=\n",
    "def check_error_size(estimated_value, true_value, eps):\n",
    "    if abs(estimated_value - true_value) <= eps:\n",
    "        return True\n",
    "    else:\n",
    "        return False\n",
    "###END SOLUTION\n",
    "\n",
    "#You can try to check it by yourself by running the function with some self-chosen numbers\n",
    "check_error(...)"
   ]
  },
  {
   "cell_type": "code",
   "execution_count": null,
   "metadata": {
    "collapsed": true,
    "nbgrader": {
     "grade": true,
     "grade_id": "Q2.2.1",
     "locked": true,
     "points": "1",
     "solution": false
    }
   },
   "outputs": [],
   "source": [
    "###BEGIN HIDDEN TESTS\n",
    "assert check_error(0.5, 0.4, 0.2), '2.2.1 - Incorrect answer'\n",
    "###END HIDDEN TESTS"
   ]
  },
  {
   "cell_type": "markdown",
   "metadata": {
    "id": "HH2SHjK9rypL",
    "nbgrader": {
     "grade": false,
     "locked": true,
     "solution": false
    }
   },
   "source": [
    "<div class=\"alert alert-block alert-info\"><b>Exercise 2.2.2</b><br><br><div style=\"text-align: justify\">Use the knowledge you have obtained in this Notebook and write your very own function to classify soil samples based on the average grain size. The classification you have to implement is the following:<br>\n",
    "\n",
    "1.   Clay: avg grain size $<$ 0.002 mm\n",
    "2.   Silt: 0.002 mm $\\leq$ avg grain size $<$ 0.063 mm\n",
    "3.   Sand: 0.063 mm $\\leq$ avg grain size $<$ 2 mm\n",
    "4.   Gravel: 2 mm $\\leq$ avg grain size $<$ 63 mm\n",
    "\n",
    "<div style=\"text-align: justify\">Your task is to write the function, which will return the name of the soil type based on the provided average grain size in meters."
   ]
  },
  {
   "cell_type": "code",
   "execution_count": null,
   "metadata": {
    "collapsed": true,
    "id": "zn9ifDM8tJoX"
   },
   "outputs": [],
   "source": [
    "def classify_soil(avg_grain_size):\n",
    "    ...\n",
    "\n",
    "###BEGIN SOLUTION TEMPLATE=\n",
    "def classify_soil(avg_grain_size):\n",
    "    if avg_grain_size < 0.002:\n",
    "        return 'Clay'\n",
    "    elif avg_grain_size >= 0.002 and avg_grain_size < 0.063:\n",
    "        return 'Silt'\n",
    "    elif avg_grain_size >= 0.063 and avg_grain_size < 2:\n",
    "        return 'Sand'\n",
    "    elif avg_grain_size >= 2:\n",
    "        return 'Gravel'\n",
    "###END SOLUTION\n",
    "\n",
    "print(classify_soil(1.5))"
   ]
  },
  {
   "cell_type": "code",
   "execution_count": null,
   "metadata": {
    "collapsed": true,
    "nbgrader": {
     "grade": true,
     "grade_id": "Q2.2.2",
     "locked": true,
     "points": "1",
     "solution": false
    }
   },
   "outputs": [],
   "source": [
    "###BEGIN HIDDEN TESTS\n",
    "assert classify_soil(0.0015) == 'Clay' and \\\n",
    "classify_soil(0.05) == 'Silt' and \\\n",
    "classify_soil(0.1) == 'Sand' and \\\n",
    "classify_soil(2.5) == 'Gravel' , '2.2.2 - Incorrect answer'\n",
    "###END HIDDEN TESTS"
   ]
  },
  {
   "cell_type": "markdown",
   "metadata": {
    "id": "esf3kvxPtKB1",
    "nbgrader": {
     "grade": false,
     "locked": true,
     "solution": false
    }
   },
   "source": [
    "<div class=\"alert alert-block alert-info\"><b>Exercise 2.2.3 — Triangle Inequality</b><br><br><div style=\"text-align: justify\">Let's imagine that you received a request to manage a web-application, which provides and visualizes <a href=\"https://en.wikipedia.org/wiki/Interferometric_synthetic-aperture_radar\"><b>InSAR</b></a> data of the estimated displacement in an area.<br><br>The app is already quite cool, however, there is always room for improvement. For example, one might want to look into the statistics over the area of a triangle.<br><br>Your goal is to help implement such functionality by checking whether the user selected a valid triangle. You need to do this by checking that the length of <b>each</b> of the sides is smaller than the sum of the other two."
   ]
  },
  {
   "cell_type": "code",
   "execution_count": null,
   "metadata": {
    "collapsed": true,
    "id": "yWqQpiUHtWxo"
   },
   "outputs": [],
   "source": [
    "def check_triangle(side_a, side_b, side_c):\n",
    "    ...\n",
    "\n",
    "###BEGIN SOLUTION TEMPLATE=\n",
    "def check_triangle(side_a, side_b, side_c):\n",
    "    part1 = side_a < (side_b + side_c)\n",
    "    part2 = side_b < (side_a + side_c)\n",
    "    part3 = side_c < (side_a + side_b)\n",
    "    \n",
    "\n",
    "    if part1 and part2 and part3:\n",
    "        return \"Valid Triangle\"\n",
    "    else:\n",
    "        return \"Invalid Triangle\"\n",
    "###END SOLUTION"
   ]
  },
  {
   "cell_type": "code",
   "execution_count": null,
   "metadata": {
    "collapsed": true,
    "nbgrader": {
     "grade": true,
     "grade_id": "Q2.2.3",
     "locked": true,
     "points": "1",
     "solution": false
    }
   },
   "outputs": [],
   "source": [
    "###BEGIN HIDDEN TESTS\n",
    "assert check_triangle(1, 2, 3) == \"Invalid Triangle\" and check_triangle(3, 4, 5) == \"Valid Triangle\", '2.2.3 - Incorrect answer'\n",
    "###END HIDDEN TESTS"
   ]
  },
  {
   "cell_type": "markdown",
   "metadata": {
    "id": "TcZ--kZgtX4f",
    "nbgrader": {
     "grade": false,
     "locked": true,
     "solution": false
    }
   },
   "source": [
    "<div class=\"alert alert-block alert-info\"><b>(Searching) Exercise 2.2.4</b><br><br><div style=\"text-align: justify\">Conditional expression is a way how one can compress an <code>if</code> statement to a more compact (and logical) statement. Your task is to rewrite the below <code>if</code> statement by using the <i>'conditional expression'</i> technique."
   ]
  },
  {
   "cell_type": "code",
   "execution_count": null,
   "metadata": {
    "collapsed": true,
    "id": "l8fBsW3ea-Ko",
    "nbgrader": {
     "grade": false,
     "locked": true,
     "solution": false
    }
   },
   "outputs": [],
   "source": [
    "y = 0\n",
    "x = 5\n",
    "\n",
    "if x % 2 == 0:\n",
    "    y = x ** 2\n",
    "else:\n",
    "    y = x % 3\n",
    "    \n"
   ]
  },
  {
   "cell_type": "code",
   "execution_count": null,
   "metadata": {
    "collapsed": true
   },
   "outputs": [],
   "source": [
    "# write your code here\n",
    "y = ...\n",
    "\n",
    "###BEGIN SOLUTION TEMPLATE=\n",
    "y = x ** 2 if x % 2 == 0 else x % 3\n",
    "###END SOLUTION\n",
    "\n",
    "print(y)"
   ]
  },
  {
   "cell_type": "markdown",
   "metadata": {
    "id": "lDKimbtECAAz",
    "nbgrader": {
     "grade": false,
     "locked": true,
     "solution": false
    }
   },
   "source": [
    "<div class=\"alert alert-block alert-danger\"><b>Additional study material:</b>\n",
    "    \n",
    "* Official Python Documentation - https://docs.python.org/3/tutorial/controlflow.html\n",
    "* https://realpython.com/python-conditional-statements/\n",
    "* Think Python (2nd ed.) - Section 5"
   ]
  },
  {
   "cell_type": "markdown",
   "metadata": {
    "id": "fHmKWsUSKuj4",
    "nbgrader": {
     "grade": false,
     "locked": true,
     "solution": false
    }
   },
   "source": [
    "<div id=\"datastructure\"></div><br><h2>2.3 Data Structures</h2><br><div style=\"text-align: justify\">In this Section you will tackle a data management problem! In the first module you have learned how to create variables, which is cool. But when you populate a lot of variables, or you want to store & access them within one entity, you need to have a data structure.<br><br>There are plenty of them, which differ their use cases and complexity. Today we will tackle some of the standard Python built-in data structures. The most popular of those are: <b><code>list</code></b>, <b><code>dict</code></b> and <b><code>tuple</code></b>."
   ]
  },
  {
   "cell_type": "markdown",
   "metadata": {
    "id": "BcEOnv2kTT9A",
    "nbgrader": {
     "grade": false,
     "locked": true,
     "solution": false
    }
   },
   "source": [
    "<h3><code>list</code></h3><br><div style=\"text-align: justify\">First, the easiest and the most popular data structure in Python: <b><code>list</code></b> (which is similar to a typical array you could have seen in a different programming language).<br><br>\n",
    "You can create a list in the following ways:"
   ]
  },
  {
   "cell_type": "code",
   "execution_count": null,
   "metadata": {
    "colab": {
     "base_uri": "https://localhost:8080/"
    },
    "collapsed": true,
    "id": "U8OUPaXESz44",
    "nbgrader": {
     "grade": false,
     "locked": true,
     "solution": false
    },
    "outputId": "ee38751f-5efe-4a85-a9a9-a34efc3bfb02"
   },
   "outputs": [],
   "source": [
    "# 1). Creating an empty list, option 1\n",
    "\n",
    "empty_list1 = []\n",
    "print('Type of my_list1 object', type(empty_list1))\n",
    "print('Contents of my_list1', empty_list1)\n",
    "print('--------------------')\n",
    "\n",
    "# 2). Creating an empty list, option 2 - using the class constructor\n",
    "\n",
    "empty_list2 = list()\n",
    "print('Type of my_list2 object', type(empty_list2))\n",
    "print('Contents of my_list2', empty_list2)\n",
    "print('--------------------')\n",
    "\n",
    "# 3). Creating a list from existing data - option 1\n",
    "\n",
    "my_var1 = 5\n",
    "my_var2 = \"hello\"\n",
    "my_var3 = 37.5\n",
    "\n",
    "my_list = [my_var1, my_var2, my_var3]\n",
    "print('Type of my_list3 object', type(my_list))\n",
    "print('Contents of my_list3', my_list)\n",
    "print('--------------------')\n",
    "\n",
    "# 4). Creating a list from existing data - option 2\n",
    "\n",
    "cool_rock = \"sandstone\" # remember that a string is a collection of characters\n",
    "\n",
    "list_with_letters = list(cool_rock)\n",
    "\n",
    "print('Type of my_list3 object', type(list_with_letters))\n",
    "print('Contents of list_with_letters', list_with_letters)\n",
    "print('--------------------')\n"
   ]
  },
  {
   "cell_type": "markdown",
   "metadata": {
    "id": "I-9MNCzBUgH9",
    "nbgrader": {
     "grade": false,
     "locked": true,
     "solution": false
    }
   },
   "source": [
    "<div style=\"text-align: justify\">As you can see, in all three cases we created a list, only the method how we did it was slightly different: <br><br>\n",
    "- the first method uses the bracket notation,<br>\n",
    "- the second method uses class constructor approach. <br><br>\n",
    "Both methods also apply to the other data structures.<br><br>\n",
    "Now, we have a list — what can we do with it?\n",
    "Well... we can access and modify any element of an existing list. In order to access a list element, square brackets <b><code>[]</code></b> are used with the index of the element we want to access inside. Sounds easy, but keep in mind that Python has a zero-based indexing (as mentioned in Section 1.4 in Notebook 1).<br><br> \n",
    "  As a reminder, a zero-based indexing means that the first element has index 0 (not 1), the second element has index 1 (not 2) and the n-th element has index n - 1 (not n)!"
   ]
  },
  {
   "cell_type": "code",
   "execution_count": null,
   "metadata": {
    "colab": {
     "base_uri": "https://localhost:8080/",
     "height": 295
    },
    "collapsed": true,
    "id": "CksNFv0AVmLw",
    "nbgrader": {
     "grade": false,
     "locked": true,
     "solution": false
    },
    "outputId": "bbddff89-959c-4065-89a5-04500ceedf91"
   },
   "outputs": [],
   "source": [
    "# len() function returns the lengths of an iterable (string, list, array, etc)\n",
    "print(len(my_list))\n",
    "\n",
    "# We have 3 elements, thus we can access 0th, 1st, and 2nd elements\n",
    "print('First element of my list:', my_list[0])\n",
    "\n",
    "print('Last element of my list:', my_list[2])\n",
    "\n",
    "# After the element is accessed, it can be used as any variable,\n",
    "# the list only provides a convenient storage\n",
    "\n",
    "summation = my_list[0] + my_list[2]\n",
    "print(f'Sum of {my_list[0]} and {my_list[2]} is {summation}')\n",
    "\n",
    "# Since it is a storage - we can easily alter and swap list elements\n",
    "my_list[0] += 7\n",
    "my_list[1] = \"My new element\"\n",
    "\n",
    "print(my_list)\n",
    "\n",
    "# However we can only access data we have - Python will give us an error for the following\n",
    "\n",
    "my_list[10] = 199"
   ]
  },
  {
   "cell_type": "markdown",
   "metadata": {
    "id": "zxkLDWef7IM-",
    "nbgrader": {
     "grade": false,
     "locked": true,
     "solution": false
    }
   },
   "source": [
    "<div style=\"text-align: justify\">\n",
    "We can also add new elements to a list, or remove them! Adding is realized with the <b><code>append</code></b> method and removal of an element uses the <b><code>del</code></b> keyword."
   ]
  },
  {
   "cell_type": "code",
   "execution_count": null,
   "metadata": {
    "colab": {
     "base_uri": "https://localhost:8080/"
    },
    "collapsed": true,
    "id": "Yos0Cl9C7W1H",
    "nbgrader": {
     "grade": false,
     "locked": true,
     "solution": false
    },
    "outputId": "ba48887c-c2ff-4fc6-a231-68543e8bf97a"
   },
   "outputs": [],
   "source": [
    "# adding a new element to the end of the list\n",
    "my_list.append(\"new addition to  my variable collection!\")\n",
    "print(my_list)\n",
    "\n",
    "# we can also store a list inside a list - list inception! Useful for matrices, images etc\n",
    "my_list.append(['another list', False, 1 + 2j])\n",
    "print(my_list)\n",
    "\n",
    "# Let's remove 37.5\n",
    "\n",
    "del my_list[2]\n",
    "\n",
    "print(my_list)"
   ]
  },
  {
   "cell_type": "markdown",
   "metadata": {
    "id": "WZgLxAbJ8icK",
    "nbgrader": {
     "grade": false,
     "locked": true,
     "solution": false
    }
   },
   "source": [
    "<div style=\"text-align: justify\">\n",
    "Lists also have other useful functionalities, as you can see from the <a href=\"https://docs.python.org/3/tutorial/datastructures.html\">official documentation</a>. Since lists are still objects you can try and apply some operations to them as well."
   ]
  },
  {
   "cell_type": "code",
   "execution_count": null,
   "metadata": {
    "colab": {
     "base_uri": "https://localhost:8080/"
    },
    "collapsed": true,
    "id": "UEBv_4u09K9T",
    "nbgrader": {
     "grade": false,
     "locked": true,
     "solution": false
    },
    "outputId": "96987502-088b-48d8-d114-2b9967f2de78"
   },
   "outputs": [],
   "source": [
    "lst1 = [2, 4, False]\n",
    "lst2 = ['second list', 0, 222]\n",
    "\n",
    "#what will happen?\n",
    "lst1 = lst1 + lst2\n",
    "print(lst1)\n",
    "\n",
    "lst2 = lst2 * 4\n",
    "print(lst2)\n",
    "\n",
    "lst2[3] = 5050\n",
    "print(lst2)"
   ]
  },
  {
   "cell_type": "markdown",
   "metadata": {
    "id": "SVvYBl6H96du",
    "nbgrader": {
     "grade": false,
     "locked": true,
     "solution": false
    }
   },
   "source": [
    "<div style=\"text-align: justify\">\n",
    "As you can see, adding lists together concatenates them and multiplying them basically does the same thing (it performs addition several times, just like in real math...).<br><br> Additionally, you can also use the <b><code>in</code></b> keyword to check the presence of a value inside a list."
   ]
  },
  {
   "cell_type": "code",
   "execution_count": null,
   "metadata": {
    "colab": {
     "base_uri": "https://localhost:8080/"
    },
    "collapsed": true,
    "id": "15hwh0COFf-p",
    "nbgrader": {
     "grade": false,
     "locked": true,
     "solution": false
    },
    "outputId": "2b3d16c6-9487-49ea-a6f6-8ffb989ac95c"
   },
   "outputs": [],
   "source": [
    "print(lst1)\n",
    "\n",
    "if 222 in lst1:\n",
    "    print('We found 222 inside lst1')\n",
    "else:\n",
    "    print('Nope, nothing there....')"
   ]
  },
  {
   "cell_type": "markdown",
   "metadata": {
    "id": "NAJZYyQd-fG2",
    "nbgrader": {
     "grade": false,
     "locked": true,
     "solution": false
    }
   },
   "source": [
    "<h3><code>tuple</code></h3><br><div style=\"text-align: justify\">If you understood how <code>list</code> works, then you already understand 95% of <b><code>tuple</code></b>. Tuples are just like lists, with some small differences.<br><br>1.   In order to create a tuple you need to use <b><code>()</code></b> brackets, comma or a <b><code>tuple</code></b> class constructor.<br>2.   You can change the content of your list, however tuples are immutable (just like strings).\n",
    "\n"
   ]
  },
  {
   "cell_type": "code",
   "execution_count": null,
   "metadata": {
    "colab": {
     "base_uri": "https://localhost:8080/",
     "height": 313
    },
    "collapsed": true,
    "id": "QnEd7YSsE2Ih",
    "nbgrader": {
     "grade": false,
     "locked": true,
     "solution": false
    },
    "outputId": "1a2e1b57-dbff-4c7d-d7c4-8968fecf67a1"
   },
   "outputs": [],
   "source": [
    "# Creating an empty tuple - a bit useless, since you cannot change it\n",
    "\n",
    "tupl1 = tuple() # option 1 with class constructor\n",
    "print('Type of tupl1', type(tupl1))\n",
    "print('Content of tupl1', tupl1)\n",
    "\n",
    "tupl2 = () # option 2 with ()\n",
    "print(type(tupl2), tupl2)"
   ]
  },
  {
   "cell_type": "code",
   "execution_count": null,
   "metadata": {
    "collapsed": true,
    "nbgrader": {
     "grade": false,
     "locked": true,
     "solution": false
    }
   },
   "outputs": [],
   "source": [
    "# Creating a non-empty tuple using brackets\n",
    "\n",
    "my_var1 = 26.5\n",
    "my_var2 = 'Oil'\n",
    "my_var3 = False\n",
    "\n",
    "my_tuple = (my_var1, my_var2, my_var3, 'some additional stuff', 777)\n",
    "print('my tuple', my_tuple)\n",
    "\n",
    "# Creating a non-empty tuple using comma\n",
    "\n",
    "comma_tuple = 2, 'hi!', 228\n",
    "print('A comma made tuple', comma_tuple)\n",
    "\n",
    "# now, let's try to access an element\n",
    "print('4th element of my_tuple:', my_tuple[3])\n",
    "\n",
    "# but, can we change it?\n",
    "my_tuple[3] = 'will I change?'"
   ]
  },
  {
   "cell_type": "markdown",
   "metadata": {
    "id": "1RxahCCiHJRl",
    "nbgrader": {
     "grade": false,
     "locked": true,
     "solution": false
    }
   },
   "source": [
    "<div style=\"text-align: justify\">\n",
    "Since tuples are immutable, it has no <b><code>append()</code></b> method nor any other methods that alter the object they target.<br><br>\n",
    "You might think that tuple is a useless class. However, there are some reasons for it to exist:<br><br>\n",
    "1)   Storing constants & objects which shouldn't be changed.<br>\n",
    "2)   Saving memory (tuple uses less memory to store the same data than a list).\n",
    "\n"
   ]
  },
  {
   "cell_type": "code",
   "execution_count": null,
   "metadata": {
    "colab": {
     "base_uri": "https://localhost:8080/"
    },
    "collapsed": true,
    "id": "A9cA-BpNIMzd",
    "nbgrader": {
     "grade": false,
     "locked": true,
     "solution": false
    },
    "outputId": "d7100baa-0a2c-4498-b8c0-01d1733e732f"
   },
   "outputs": [],
   "source": [
    "#creating a list and a tuple from the same data\n",
    "\n",
    "my_name = 'Vasyan'\n",
    "my_age = 27\n",
    "is_student = True\n",
    "\n",
    "a = (my_name, my_age, is_student)\n",
    "b = [my_name, my_age, is_student]\n",
    "\n",
    "print('size of a =', a.__sizeof__(), 'bytes') #.__sizeof__() determines the size of a variable in bytes\n",
    "print('size of b =', b.__sizeof__(), 'bytes')"
   ]
  },
  {
   "cell_type": "markdown",
   "metadata": {
    "id": "IYyveiZJJOTZ",
    "nbgrader": {
     "grade": false,
     "locked": true,
     "solution": false
    }
   },
   "source": [
    "<h3><code>dict</code></h3><br><div style=\"text-align: justify\">After seeing lists and tuples, you may think: <br><br>\"Wow, storing all my variables within another variable is cool and gnarly! But... sometimes it's boring & inconvenient to access my data by using it's position within a tuple/list. Is there a way that I can store my object within a data structure but access it via something meaningful, like a keyword...?\"<br><br>Don't worry if you had this exact same thought.. Python had it as well!<br><br>Dictionaries are suited especially for that purpose — to each element you want to store, you give it a nickname (i.e., a key) and use that key to access the value you want."
   ]
  },
  {
   "cell_type": "code",
   "execution_count": null,
   "metadata": {
    "colab": {
     "base_uri": "https://localhost:8080/"
    },
    "collapsed": true,
    "id": "r5vjDJ8CKaT8",
    "nbgrader": {
     "grade": false,
     "locked": true,
     "solution": false
    },
    "outputId": "46ee6315-d5a5-40a5-8db3-175a681dbf0c"
   },
   "outputs": [],
   "source": [
    "# Creating an empty dictionary - we used () for tuples and and [] for lists. \n",
    "# Now, it's time to use {}.\n",
    "\n",
    "empty_dict1 = {}\n",
    "print('Type of empty_dict1', type(empty_dict1))\n",
    "print('Content of it ->', empty_dict1)\n",
    "\n",
    "# Creating an empty dictionary - using class constructor\n",
    "empty_dict2 = dict()\n",
    "print('Type of empty_dict2', type(empty_dict2))\n",
    "print('Content of it ->', empty_dict2)"
   ]
  },
  {
   "cell_type": "code",
   "execution_count": null,
   "metadata": {
    "collapsed": true,
    "nbgrader": {
     "grade": false,
     "locked": true,
     "solution": false
    }
   },
   "outputs": [],
   "source": [
    "# Creating a non-empty dictionary - specifying pairs of key:value pattern\n",
    "my_dict = {\n",
    "    'name': 'Jarno',\n",
    "    'color': 'red',\n",
    "    'year': 2007,\n",
    "    'is cool': True,\n",
    "    6: 'it works',\n",
    "    (2, 22): 'that is a strange key'\n",
    "}\n",
    "\n",
    "print('Content of my_dict>>>', my_dict)"
   ]
  },
  {
   "cell_type": "markdown",
   "metadata": {
    "id": "2tQEahKqM9p8",
    "nbgrader": {
     "grade": false,
     "locked": true,
     "solution": false
    }
   },
   "source": [
    "<div style=\"text-align: justify\">\n",
    "In the last example, you can see that only strings, numbers, or tuples were used as keys. Dictionaries can only use immutable data (or numbers) as keys:"
   ]
  },
  {
   "cell_type": "code",
   "execution_count": null,
   "metadata": {
    "colab": {
     "base_uri": "https://localhost:8080/",
     "height": 242
    },
    "collapsed": true,
    "id": "V38R-AweNbF7",
    "nbgrader": {
     "grade": false,
     "locked": true,
     "solution": false
    },
    "outputId": "6039cc3b-8d72-4f23-986f-e1027265aec5"
   },
   "outputs": [],
   "source": [
    "# using mutable structures won't work: \n",
    "\n",
    "mutable_key_dict = {\n",
    "    5: 'lets try',\n",
    "    True: 'I hope it will run perfectly',\n",
    "    6.78: 'heh',\n",
    "    ['No problemo', 'right?']: False  \n",
    "}\n",
    "\n",
    "print(mutable_key_dict)"
   ]
  },
  {
   "cell_type": "markdown",
   "metadata": {
    "id": "erVQ8Yy6OFzW",
    "nbgrader": {
     "grade": false,
     "locked": true,
     "solution": false
    }
   },
   "source": [
    "<div style=\"text-align: justify\">\n",
    "Alright, now it is time to access the data we have managed to store inside <b><code>my_dict</code></b>..."
   ]
  },
  {
   "cell_type": "code",
   "execution_count": null,
   "metadata": {
    "colab": {
     "base_uri": "https://localhost:8080/",
     "height": 313
    },
    "collapsed": true,
    "id": "4_s_--xzORQx",
    "nbgrader": {
     "grade": false,
     "locked": true,
     "solution": false
    },
    "outputId": "d2dcabbb-057f-41e2-d54c-07d8ca3aa344"
   },
   "outputs": [],
   "source": [
    "# for that we use keys!\n",
    "\n",
    "print('Some random content of my_dict', my_dict['name'], my_dict[(2, 22)])"
   ]
  },
  {
   "cell_type": "code",
   "execution_count": null,
   "metadata": {
    "collapsed": true,
    "nbgrader": {
     "grade": false,
     "locked": true,
     "solution": false
    }
   },
   "outputs": [],
   "source": [
    "# remember the mutable key dict? Let's make it work by omitting the list item\n",
    "mutable_key_dict = {\n",
    "    5: 'lets try',\n",
    "    True: 'I hope it will run perfectly',\n",
    "    6.78: 'heh'\n",
    "}\n",
    "\n",
    "# You can see that it doesn't give any errors but how do we access the data inside it?\n",
    "# use keys!\n",
    "print('Accessing weird dictionary...')\n",
    "print(mutable_key_dict[True])\n",
    "print(mutable_key_dict[5])\n",
    "print(mutable_key_dict[6.78])"
   ]
  },
  {
   "cell_type": "code",
   "execution_count": null,
   "metadata": {
    "collapsed": true,
    "nbgrader": {
     "grade": false,
     "locked": true,
     "solution": false
    }
   },
   "outputs": [],
   "source": [
    "# Trying to access something we have and something we don't have\n",
    "print('My favorite year is', my_dict['year'])\n",
    "print('My favorite song is', my_dict['song'])"
   ]
  },
  {
   "cell_type": "markdown",
   "metadata": {
    "id": "mVmNASbEPw27",
    "nbgrader": {
     "grade": false,
     "locked": true,
     "solution": false
    }
   },
   "source": [
    "<div class=\"alert alert-block alert-warning\"><div style=\"text-align: justify\"><center>It is best practice to use mainly <i><b>strings</b></i> as keys — the other options are weird and are almost never used.</center></div></div><br><div style=\"text-align: justify\">What's next? Dictionaries are mutable, so let's go ahead and add some additional data and delete old ones."
   ]
  },
  {
   "cell_type": "code",
   "execution_count": null,
   "metadata": {
    "colab": {
     "base_uri": "https://localhost:8080/"
    },
    "collapsed": true,
    "id": "C2Tm8iaXQ4ej",
    "nbgrader": {
     "grade": false,
     "locked": true,
     "solution": false
    },
    "outputId": "62ea0bcc-a09b-474e-dd7b-e2688746ff31"
   },
   "outputs": [],
   "source": [
    "print('my_dict right now', my_dict)\n",
    "\n",
    "my_dict['new_element'] = 'magenta'\n",
    "my_dict['weight'] = 27.8\n",
    "del my_dict['year']\n",
    "\n",
    "print('my_dict after some operations', my_dict)"
   ]
  },
  {
   "cell_type": "markdown",
   "metadata": {
    "id": "J80LstNFSFeN",
    "nbgrader": {
     "grade": false,
     "locked": true,
     "solution": false
    }
   },
   "source": [
    "<div style=\"text-align: justify\">\n",
    "    You can also print all keys present in the dictionary using the <b><code>.keys()</code></b> method, or check whether a certain key exists in a dictionary, as shown below. More operations can be found <a href=\"https://docs.python.org/3/tutorial/datastructures.html\">here</a>."
   ]
  },
  {
   "cell_type": "code",
   "execution_count": null,
   "metadata": {
    "colab": {
     "base_uri": "https://localhost:8080/"
    },
    "collapsed": true,
    "id": "pEYa3nKRUZD1",
    "nbgrader": {
     "grade": false,
     "locked": true,
     "solution": false
    },
    "outputId": "2b850789-9071-414f-ce44-bb23203243a6"
   },
   "outputs": [],
   "source": [
    "print(my_dict.keys())\n",
    "\n",
    "# check if my_dict has a name key\n",
    "print(\"\\nmy_dict has a ['name'] key:\", 'name' in my_dict)"
   ]
  },
  {
   "cell_type": "markdown",
   "metadata": {
    "nbgrader": {
     "grade": false,
     "locked": true,
     "solution": false
    }
   },
   "source": [
    "<div class=\"alert alert-block alert-success\"><center><b>Real life example: Analyzing satellite metadata<br><br></b>Metadata is a set of data that describes and gives information about other data. For Sentinel-1, the metadata of the satellite is acquired as an <i>.xml</i> file. It is common for Dictionaries to play an important role in classifying this metadata. One could write a function to read and obtain important information from this metadata and store them in a Dictionary. Some examples of keys for the metadata of Sentinel-1 are:</center><br>\n",
    "    \n",
    "<i><center>dict_keys(['azimuthSteeringRate', 'dataDcPolynomial', 'dcAzimuthtime', 'dcT0', 'rangePixelSpacing', 'azimuthPixelSpacing', 'azimuthFmRatePolynomial', 'azimuthFmRateTime', 'azimuthFmRateT0', 'radarFrequency', 'velocity', 'velocityTime', 'linesPerBurst', 'azimuthTimeInterval', 'rangeSamplingRate', 'slantRangeTime', 'samplesPerBurst', 'no_burst'])</i>\n"
   ]
  },
  {
   "cell_type": "markdown",
   "metadata": {
    "id": "XvpRgp7eUsLP",
    "nbgrader": {
     "grade": false,
     "locked": true,
     "solution": false
    }
   },
   "source": [
    "<h3>Slices</h3><br><div style=\"text-align: justify\">The last important thing for this Notebook are slices. Similar to how you can slice a <b>string</b> (shown in Section 1.4, in Notebook 1). This technique allows you to select a subset of data from an iterable (like a list or a tuple)."
   ]
  },
  {
   "cell_type": "code",
   "execution_count": null,
   "metadata": {
    "colab": {
     "base_uri": "https://localhost:8080/"
    },
    "collapsed": true,
    "id": "S96Y3-HcXN3P",
    "nbgrader": {
     "grade": false,
     "locked": true,
     "solution": false
    },
    "outputId": "b0d9151f-f476-4ffa-de00-74f85a4b962c"
   },
   "outputs": [],
   "source": [
    "# let's make a simple list\n",
    "\n",
    "x = [1, 2, 3, 4, 5, 6, 7]\n",
    "n = len(x) # len(x) gives the length of x\n",
    "\n",
    "# in order to select a slice of it, you have to use a : symbol,\n",
    "# like this => my_list[start:end], \n",
    "# it will select all elements with indices [start, end), \n",
    "# starting from start and ending at end-1 (excluding the end).\n",
    "print('The first three elements of x:', x[0:3])\n",
    "\n",
    "# getting the same subset but using a different slice \"equation\"\n",
    "\n",
    "# if we start from the beginning (at index 0) - we can omit the 0\n",
    "print(x[:3])\n",
    "\n",
    "# instead of counting elements from the beginning, we can count from end\n",
    "print('The last element is', x[6], 'or', x[n - 1], 'or', x[-1])\n",
    "\n",
    "# thus, we can apply it in slicing our list\n",
    "print(x[0:-4])\n",
    "\n",
    "# we can also specify a third argument: the step size of our selection\n",
    "print(x[0:3:1])"
   ]
  },
  {
   "cell_type": "markdown",
   "metadata": {
    "id": "d4v9TBKyZJEh",
    "nbgrader": {
     "grade": false,
     "locked": true,
     "solution": false
    }
   },
   "source": [
    "<div style=\"text-align: justify\">\n",
    "Thus, the general slicing call is given by <b><code>iterable[start:end:step]</code></b>. <br><br>Here's another example:"
   ]
  },
  {
   "cell_type": "code",
   "execution_count": null,
   "metadata": {
    "colab": {
     "base_uri": "https://localhost:8080/"
    },
    "collapsed": true,
    "id": "GO8qP2d1ZXkq",
    "nbgrader": {
     "grade": false,
     "locked": true,
     "solution": false
    },
    "outputId": "832458e8-6202-4fa8-8898-6d2a2a1ad423"
   },
   "outputs": [],
   "source": [
    "numbers = [0, 1, 2, 3, 4, 5, 6, 7, 8, 9, 10]\n",
    "\n",
    "# similar to omiting the 0 if you start at the beginning of the list\n",
    "# you can omit the last value if you want all values until the end\n",
    "print('Selecting all even numbers', numbers[::2])\n",
    "# in the above case you start at 0 (omited), end at 10 (omited)\n",
    "# with a step of 2 (not omited)\n",
    "\n",
    "print('All odd numbers', numbers[1::2])\n",
    "\n",
    "# Reversing the list\n",
    "print('Normal order', numbers)\n",
    "print('Reversed order', numbers[::-1])\n",
    "\n",
    "# Selecting middle subset\n",
    "print('Numbers from 5 to 8:', numbers[5:9])"
   ]
  },
  {
   "cell_type": "markdown",
   "metadata": {
    "id": "z801Dffr5B-r",
    "nbgrader": {
     "grade": false,
     "locked": true,
     "solution": false
    }
   },
   "source": [
    "<div class=\"alert alert-block alert-info\"><b>Exercise 2.3.1</b><br><br><div style=\"text-align: justify\">Now, let's get down to practice.<br><br>Your first task is to finish the <code>pack_variables()</code> function — a function which will combine all inputs in one list and return it.<br><br>More precisely, this function will receive $5$ arguments as input and you have to return a list with these $5$ elements inside."
   ]
  },
  {
   "cell_type": "code",
   "execution_count": null,
   "metadata": {
    "collapsed": true,
    "id": "ILKR0y115Eiz"
   },
   "outputs": [],
   "source": [
    "def pack_variables(arg1, arg2, arg3, arg4, arg5):\n",
    "    ...\n",
    "\n",
    "###BEGIN SOLUTION TEMPLATE=\n",
    "def pack_variables(arg1, arg2, arg3, arg4, arg5):\n",
    "    pack = [arg1, arg2, arg3, arg4, arg5]\n",
    "    return pack\n",
    "###END SOLUTION\n",
    "\n",
    "print(pack_variables(1, 2, 4, 22, 7))\n"
   ]
  },
  {
   "cell_type": "code",
   "execution_count": null,
   "metadata": {
    "collapsed": true,
    "nbgrader": {
     "grade": true,
     "grade_id": "Q2.3.1",
     "locked": true,
     "points": "1",
     "solution": false
    }
   },
   "outputs": [],
   "source": [
    "###BEGIN HIDDEN TESTS\n",
    "assert len(pack_variables(221, 22, \"2\", 22, 7)) == 5 and type(pack_variables(221, 22, \"2\", 22, 7)) == str, '2.3.1 - Incorrect answer'\n",
    "###END HIDDEN TESTS"
   ]
  },
  {
   "cell_type": "markdown",
   "metadata": {
    "id": "UzRn8czA6oIg",
    "nbgrader": {
     "grade": false,
     "locked": true,
     "solution": false
    }
   },
   "source": [
    "<div class=\"alert alert-block alert-info\"><b>Exercise 2.3.2</b><br><br><div style=\"text-align: justify\">Here, you will have to perform a quality assessment on a received list of GNSS measurements. But a simple one.<br><br>You have to check whether the received data has more than $1000$ measurements, in that case we know the receiver was running for a long time without being interrupted.\n",
    "If it is shorter than $1000$, we assume there were some interruptions. Hence, your function should return a message whether the data is fine or not."
   ]
  },
  {
   "cell_type": "code",
   "execution_count": null,
   "metadata": {
    "collapsed": true,
    "id": "bZPVKfEG6oYP"
   },
   "outputs": [],
   "source": [
    "def check_data(measurements):\n",
    "    ...\n",
    "\n",
    "###BEGIN SOLUTION TEMPLATE=\n",
    "def check_data(measurements):\n",
    "    if len(measurements) < 1000:\n",
    "        return \"Something wrong\"\n",
    "    else:\n",
    "        return \"All fine\"\n",
    "###END SOLUTION\n",
    "\n",
    "#You can check your code below, where we simulate 1250 measurements\n",
    "import random \n",
    "\n",
    "gnss_data = [random.random() * 2.2e8 for i in range(1250)]\n",
    "print(check_data(gnss_data))"
   ]
  },
  {
   "cell_type": "code",
   "execution_count": null,
   "metadata": {
    "collapsed": true,
    "nbgrader": {
     "grade": true,
     "grade_id": "Q2.3.2",
     "locked": true,
     "points": "1",
     "solution": false
    }
   },
   "outputs": [],
   "source": [
    "###BEGIN HIDDEN TESTS\n",
    "assert check_data([1,2,3]) == \"Something wrong\" and check_data([0 for i in range(1001)]), '2.1.2 - Incorrect answer'\n",
    "###END HIDDEN TESTS"
   ]
  },
  {
   "cell_type": "markdown",
   "metadata": {
    "id": "oh_3_lSu8csf",
    "nbgrader": {
     "grade": false,
     "locked": true,
     "solution": false
    }
   },
   "source": [
    "<div class=\"alert alert-block alert-info\"><b>Exercise 2.3.3</b><br><br><div style=\"text-align: justify\">In this exercises you need to write something opposite to a packager... an unpacker! Sometimes it is easier to work with the most convenient data type, that is best suited for a specific task. In this example, you have to write a function which accepts data stored in a dictionary and saves some data from it. More precisely, you have to select $x$ and $y$ coordinates saved in the <code>input_dict</code> dictionary, and return them as a tuple, with $x$ being the first entry."
   ]
  },
  {
   "cell_type": "code",
   "execution_count": null,
   "metadata": {
    "collapsed": true,
    "nbgrader": {
     "grade": false,
     "locked": true,
     "solution": false
    }
   },
   "outputs": [],
   "source": [
    "# you do not have to change anything in this cell\n",
    "\n",
    "input_dict = {\n",
    "    'ID': '334856',\n",
    "    'operator_name': 'Jarno',\n",
    "    'observation_amount': '2485',\n",
    "    'loc_x': [2, 5, 10, 12, -5, 8, 27, 1],\n",
    "    'loc_y': [6, 1, -5, 15, 4, 8, 0, 10]\n",
    "}\n"
   ]
  },
  {
   "cell_type": "code",
   "execution_count": null,
   "metadata": {
    "collapsed": true,
    "id": "iQIBjGJF8dKX"
   },
   "outputs": [],
   "source": [
    "def unpack_dictionary(input_dict):\n",
    "    ...\n",
    "\n",
    "###BEGIN SOLUTION TEMPLATE=\n",
    "def unpack_dictionary(input_dict):\n",
    "    return (input_dict['loc_x'], input_dict['loc_y'])\n",
    "###END SOLUTION    \n",
    "\n",
    "print(unpack_dictionary(input_dict))"
   ]
  },
  {
   "cell_type": "code",
   "execution_count": null,
   "metadata": {
    "collapsed": true,
    "nbgrader": {
     "grade": true,
     "grade_id": "Q2.3.3",
     "locked": true,
     "points": "1",
     "solution": false
    }
   },
   "outputs": [],
   "source": [
    "###BEGIN HIDDEN TESTS\n",
    "assert type(unpack_dictionary(input_dict)) == tuple, '2.3.3 - Incorrect answer'\n",
    "###END HIDDEN TESTS"
   ]
  },
  {
   "cell_type": "markdown",
   "metadata": {
    "id": "lALpyUu88dkE",
    "nbgrader": {
     "grade": false,
     "locked": true,
     "solution": false
    }
   },
   "source": [
    "<div class=\"alert alert-block alert-info\"><b>(Searching) Exercise 2.3.4 — List comprehension</b><br><br><div style=\"text-align: justify\">Sometimes you have to create a list of predefined size and fill it with data. This can be done easily using list comprehension.\n",
    "Write a function using list comprehension, in order to create a list of a predefined size and fill them with zeros."
   ]
  },
  {
   "cell_type": "code",
   "execution_count": null,
   "metadata": {
    "collapsed": true,
    "id": "-GmLXLy58d31"
   },
   "outputs": [],
   "source": [
    "def create_list(size):\n",
    "    ...\n",
    "\n",
    "###BEGIN SOLUTION TEMPLATE=\n",
    "def create_list(size):\n",
    "    new_list = [0 for i in range(size)]\n",
    "    return new_list\n",
    "###END SOLUTION\n",
    "\n",
    "print(create_list(5))"
   ]
  },
  {
   "cell_type": "code",
   "execution_count": null,
   "metadata": {
    "collapsed": true,
    "nbgrader": {
     "grade": true,
     "grade_id": "Q2.3.4",
     "locked": true,
     "points": "1",
     "solution": false
    }
   },
   "outputs": [],
   "source": [
    "###BEGIN HIDDEN TESTS\n",
    "assert len(create_list(5)) == 5 and type(create_list(5)) == list, '2.3.4 - Incorrect answer'\n",
    "###END HIDDEN TESTS"
   ]
  },
  {
   "cell_type": "markdown",
   "metadata": {
    "id": "lDKimbtECAAz",
    "nbgrader": {
     "grade": false,
     "locked": true,
     "solution": false
    }
   },
   "source": [
    "<div class=\"alert alert-block alert-danger\"><b>Additional study material:</b>\n",
    "    \n",
    "* Official Python Documentation - https://docs.python.org/3/tutorial/datastructures.html\n",
    "* https://realpython.com/python-data-structures/\n",
    "* Think Python (2nd ed.) - Sections 8, 10, 11, 12"
   ]
  },
  {
   "cell_type": "markdown",
   "metadata": {
    "id": "fHmKWsUSKuj4",
    "nbgrader": {
     "grade": false,
     "locked": true,
     "solution": false
    }
   },
   "source": [
    "<div id='loops'></div><br><h2>2.4 Loops</h2><br><div style=\"text-align: justify\">Let's do another step to automatize things even more! Previous Sections introduced a lot of fundamental concepts, but they still don't unveil the true power of any programming language — loops!<br><br>If we want to perform the same procedure multiple times, then we would have to take the same code and copy-paste it. This approach would work, however it would require a lot of manual work and it does not look cool.<br><br>This problem is resolved with a <i>loop</i> construction. As the name suggest, this construction allows you to loop (or run) certain piece of code several times at one execution."
   ]
  },
  {
   "cell_type": "markdown",
   "metadata": {
    "id": "BcEOnv2kTT9A",
    "nbgrader": {
     "grade": false,
     "locked": true,
     "solution": false
    }
   },
   "source": [
    "<h3><code>for</code> loop</h3><br><div style=\"text-align: justify\">The first and the most popular looping technique is a <b><code>for</code></b> loop. Let's see some examples:"
   ]
  },
  {
   "cell_type": "code",
   "execution_count": null,
   "metadata": {
    "colab": {
     "base_uri": "https://localhost:8080/"
    },
    "collapsed": true,
    "id": "fNaiOimubLMF",
    "nbgrader": {
     "grade": false,
     "locked": true,
     "solution": false
    },
    "outputId": "77085dd8-83cc-41d8-b7c1-17fc55dc38eb"
   },
   "outputs": [],
   "source": [
    "# let's create a list with some stuff in it\n",
    "\n",
    "my_list = [100, 'marble', False, 2, 2, [7, 7, 7], 'end']\n",
    "\n",
    "# in order to iterate (or go through each element of a list)\n",
    "# we use a for loop\n",
    "\n",
    "print('Start of the loop')\n",
    "for list_item in my_list:\n",
    "    print('In my list I can find:', list_item)\n",
    "print('End of the loop')"
   ]
  },
  {
   "cell_type": "markdown",
   "metadata": {
    "id": "NkKA4qLDb9IM",
    "nbgrader": {
     "grade": false,
     "locked": true,
     "solution": false
    }
   },
   "source": [
    "<div style=\"text-align: justify\">\n",
    "General <code>for</code> loop construction looks like this:<br><br>\n",
    "<code>for iterator_variable in iterable:\n",
    "       do something with iterator_variable</code><br><br>\n",
    "During each iteration the following steps are happening under the hood (or above it):<br><br>1.   <b><code>iterator_variable = iterable[0]</code></b> iterator_variable is assigned the first value from the iterable.<br>2.   Then, you use iterator_variable as you wish<br>3.   By the end of the 'cycle', the next element from the iterable is selected <b>(<code>iterable[1]</code>)</b>, i.e., we return to step 1, but now assigning the second element... and so on.<br>4. When there is not a next element (in other words, we have reached the end of the iterable) — it exits and the code under the loop is now executed.<br><br>Looks cool, but what if we want to alter the original iterable (not the <b><code>iterator_variable</code>)</b> within the loop?\n",
    "\n",
    "\n"
   ]
  },
  {
   "cell_type": "code",
   "execution_count": null,
   "metadata": {
    "colab": {
     "base_uri": "https://localhost:8080/"
    },
    "collapsed": true,
    "id": "1hZm9bOuhOiE",
    "nbgrader": {
     "grade": false,
     "locked": true,
     "solution": false
    },
    "outputId": "0b50490d-1d74-41cb-ba84-d4a595a7eede"
   },
   "outputs": [],
   "source": [
    "# let's see whether we can change the original list within a list \n",
    "# with a for loop\n",
    "\n",
    "x = my_list\n",
    "print('Try #1, before:', x)\n",
    "\n",
    "for item in x:\n",
    "    item = [5,6,7]\n",
    "\n",
    "print('Try #1, after', x)\n"
   ]
  },
  {
   "cell_type": "markdown",
   "metadata": {
    "nbgrader": {
     "grade": false,
     "locked": true,
     "solution": false
    }
   },
   "source": [
    "Nothing has changed.... let's try another method."
   ]
  },
  {
   "cell_type": "code",
   "execution_count": null,
   "metadata": {
    "collapsed": true,
    "nbgrader": {
     "grade": false,
     "locked": true,
     "solution": false
    }
   },
   "outputs": [],
   "source": [
    "length_of_x = len(x)\n",
    "\n",
    "# range() is used to generate a sequence of numbers\n",
    "# more info at https://www.w3schools.com/python/ref_func_range.asp\n",
    "\n",
    "indices = range(length_of_x) # this will generate numbers from 0 till length_of_x, excluding the last one\n",
    "\n",
    "print(indices)\n",
    "print('Try #2, before', my_list)\n",
    "\n",
    "for id in indices:\n",
    "    my_list[id] = -1\n",
    "\n",
    "print('Try #2, after', my_list)\n",
    " \n"
   ]
  },
  {
   "cell_type": "markdown",
   "metadata": {
    "nbgrader": {
     "grade": false,
     "locked": true,
     "solution": false
    }
   },
   "source": [
    "<div style=\"text-align: justify\">Now we have a method in our arsenal which can not only loop through a list but also access and alter its contents. Also, you can generate new data by using a <b><code>for</code></b> loop and by applying some processing to it. Here's an example on how you can automatize your greetings routine!"
   ]
  },
  {
   "cell_type": "code",
   "execution_count": null,
   "metadata": {
    "collapsed": true,
    "nbgrader": {
     "grade": false,
     "locked": true,
     "solution": false
    }
   },
   "outputs": [],
   "source": [
    "# General greeting\n",
    "msg = \"Ohayo\"\n",
    "\n",
    "# the list with your friends names\n",
    "names = [\"Jarno\", \"Alex\", \"John\", \"Maria\", \"Xenia\", \"Janis\", \"Vasya\"]\n",
    "\n",
    "# An empty list, where all greetings will be stored (otherwise you cannot use the .append in the for loop below!)\n",
    "greetings = []\n",
    "\n",
    "for name in names:\n",
    "    personalized_greeting = f'{msg}, {name}-kun!' # create the personalize greeting\n",
    "    greetings.append(personalized_greeting) # append the personalized meeting tot the list of greetings\n",
    "\n",
    "# Printing our newly created greetings\n",
    "print(greetings)"
   ]
  },
  {
   "cell_type": "markdown",
   "metadata": {
    "nbgrader": {
     "grade": false,
     "locked": true,
     "solution": false
    }
   },
   "source": [
    "And you can also have loops inside loops!"
   ]
  },
  {
   "cell_type": "code",
   "execution_count": null,
   "metadata": {
    "collapsed": true,
    "nbgrader": {
     "grade": false,
     "locked": true,
     "solution": false
    }
   },
   "outputs": [],
   "source": [
    "# Let's say that you put down all your expenses per day separately, \n",
    "# in euros\n",
    "day1_expenses = [15, 100, 9]\n",
    "day2_expenses = [200]\n",
    "day3_expenses = [10, 12, 15, 5, 1]\n",
    "\n",
    "# you can also keep them within one list together\n",
    "expenses = [day1_expenses, day2_expenses, day3_expenses]\n",
    "print('All my expenses', expenses)\n",
    "\n",
    "# you can access also each expense separately!\n",
    "# day3 is third array and 2nd expense is second element \n",
    "# within that array\n",
    "print(f'My second expense on day 3 is {expenses[2][1]}')# recall 0th based indexing!"
   ]
  },
  {
   "cell_type": "code",
   "execution_count": null,
   "metadata": {
    "collapsed": true,
    "nbgrader": {
     "grade": false,
     "locked": true,
     "solution": false
    }
   },
   "outputs": [],
   "source": [
    "# Now let's use it in some calculations \n",
    "\n",
    "# Option #1\n",
    "total_expenses = 0\n",
    "\n",
    "for i in range(len(expenses)): # loop over all days\n",
    "    # Accessing expenses made at day i + 1\n",
    "    daily_expenses_list = expenses[i]\n",
    "    # Creating temporary storage for current day expenses\n",
    "    daily_expenses = 0\n",
    "    \n",
    "    for j in range(len(daily_expenses_list)): # loop over expenses for day i + 1\n",
    "        daily_expenses += daily_expenses_list[j]\n",
    "    \n",
    "    # Adding daily expenses to the total expenses\n",
    "    total_expenses += daily_expenses\n",
    "    \n",
    "print(f'Option #1: In total I have spent {total_expenses} euro!')"
   ]
  },
  {
   "cell_type": "code",
   "execution_count": null,
   "metadata": {
    "collapsed": true,
    "nbgrader": {
     "grade": false,
     "locked": true,
     "solution": false
    }
   },
   "outputs": [],
   "source": [
    "# Option #2\n",
    "total_expenses = 0\n",
    "\n",
    "for i in range(len(expenses)):\n",
    "    for j in range(len(expenses[i])):\n",
    "        total_expenses += expenses[i][j]\n",
    "    \n",
    "print(f'Option #2: In total I have spent {total_expenses} euro!')"
   ]
  },
  {
   "cell_type": "code",
   "execution_count": null,
   "metadata": {
    "collapsed": true,
    "nbgrader": {
     "grade": false,
     "locked": true,
     "solution": false
    }
   },
   "outputs": [],
   "source": [
    "# Option #3 - advanced techniques gathered after eternal suffering\n",
    "total_expenses = 0\n",
    "total_expenses = sum(map(sum, expenses))\n",
    "print(f'Option #3: In total I have spent {total_expenses} euro!')"
   ]
  },
  {
   "cell_type": "markdown",
   "metadata": {
    "id": "TNGZ78d8LOYC",
    "nbgrader": {
     "grade": false,
     "locked": true,
     "solution": false
    }
   },
   "source": [
    "<h3><code>while</code> loop</h3><br><div style=\"text-align: justify\">The second popular loop construction is a <b><code>while</code></b> loop. The main difference is that it is suited for code structures that must repeat unless a certain logical condition is satisfied. It looks like this:<br><br><center><code>while logical_condition == True:<br>do something</code></center><br>And here is a working code example:\n"
   ]
  },
  {
   "cell_type": "code",
   "execution_count": null,
   "metadata": {
    "colab": {
     "base_uri": "https://localhost:8080/"
    },
    "collapsed": true,
    "id": "rqsX011pL6p6",
    "nbgrader": {
     "grade": false,
     "locked": true,
     "solution": false
    },
    "outputId": "39bce5bb-bf01-469c-8758-6127efc4e943"
   },
   "outputs": [],
   "source": [
    "sum = 0\n",
    "\n",
    "while sum < 5:\n",
    "    print('sum in the beginning of the cycle:', sum)\n",
    "    sum += 1\n",
    "    print('sum in the end of the cycle:', sum)"
   ]
  },
  {
   "cell_type": "markdown",
   "metadata": {
    "id": "mW02NDD4MJWn",
    "nbgrader": {
     "grade": false,
     "locked": true,
     "solution": false
    }
   },
   "source": [
    "<div style=\"text-align: justify\">As you can see, this loop was used to increase the value of the sum variable until it reached $5$. The moment it reached $5$ and the loop condition was checked — it returned <b><code>False</code></b> and, therefore, the loop stopped.<br><br>Additionally, it is worth to mention that the code inside the loop was altering the variable used in the loop condition statement, which allowed it to first run, and then stop. In the case where the code doesn't alter the loop condition, it won't stop (infinite loop), unless another special word is used.<br><br>Here's a simple example of an infinite loop, which you may run (by removing the #'s) but in order to stop it — you have to interrupt the Notebook's kernel or restart it."
   ]
  },
  {
   "cell_type": "code",
   "execution_count": null,
   "metadata": {
    "colab": {
     "base_uri": "https://localhost:8080/",
     "height": 1000
    },
    "collapsed": true,
    "id": "AmIcH59oNaxU",
    "outputId": "e944bfe2-f906-45c9-ef2a-03280956679a"
   },
   "outputs": [],
   "source": [
    "# a, b = 0, 7\n",
    "\n",
    "# while a + b < 10:\n",
    "#     a += 1\n",
    "#     b -= 1\n",
    "#     print(f'a:{a};b:{b}')"
   ]
  },
  {
   "cell_type": "markdown",
   "metadata": {
    "nbgrader": {
     "grade": false,
     "locked": true,
     "solution": false
    }
   },
   "source": [
    "<div class=\"alert alert-block alert-warning\"><div style=\"text-align: justify\"><center>Before submitting your notebook in Vocareum, make sure to comment out the above code (or any other code with infinite loops) with <b>#</b>'s again. You can select the entire code block and press <code>Ctrl+/</code> to comment out everything."
   ]
  },
  {
   "cell_type": "markdown",
   "metadata": {
    "id": "ryvB-qKfNxPh",
    "nbgrader": {
     "grade": false,
     "locked": true,
     "solution": false
    }
   },
   "source": [
    "<h3><code>break</code> keyword</h3><br><div style=\"text-align: justify\">After meeting and understanding the loop constructions, we can add a bit more control to it. For example, it would be nice to exit a loop earlier than it ends — in order to avoid infinite loops or just in case there is no need to run the loop further. This can be achieved by using the <b><code>break</code></b> keyword. The moment this keyword is executed, the code exits from the current loop."
   ]
  },
  {
   "cell_type": "code",
   "execution_count": null,
   "metadata": {
    "colab": {
     "base_uri": "https://localhost:8080/"
    },
    "collapsed": true,
    "id": "hvib4ruNTN6_",
    "nbgrader": {
     "grade": false,
     "locked": true,
     "solution": false
    },
    "outputId": "b0f08946-864e-430a-a8cc-765303a9ac6e"
   },
   "outputs": [],
   "source": [
    "stop_iteration = 4\n",
    "\n",
    "print('Before normal loop')\n",
    "for i in range(7):\n",
    "    print(f'{i} iteration and still running...')\n",
    "print('After normal loop')\n",
    "\n",
    "print('Before interrupted loop')\n",
    "for i in range(7):\n",
    "    print(f'{i} iteration and still running...')\n",
    "\n",
    "    if i == stop_iteration:\n",
    "        print('Leaving the loop')\n",
    "        break\n",
    "print('After interupted loop')"
   ]
  },
  {
   "cell_type": "markdown",
   "metadata": {
    "id": "guxGK4uGUXBA",
    "nbgrader": {
     "grade": false,
     "locked": true,
     "solution": false
    }
   },
   "source": [
    "<div style=\"text-align: justify\">\n",
    "    The second loop shows how a small intrusion of an <b><code>if</code></b> statement and the <b><code>break</code></b> keyword can help us with stopping the loop earlier. The same word can be also used in a <b><code>while</code></b> loop:"
   ]
  },
  {
   "cell_type": "code",
   "execution_count": null,
   "metadata": {
    "colab": {
     "base_uri": "https://localhost:8080/"
    },
    "collapsed": true,
    "id": "tVkdaOP8Ul-W",
    "nbgrader": {
     "grade": false,
     "locked": true,
     "solution": false
    },
    "outputId": "5f391d65-82a2-4408-d74d-af89b84a040b"
   },
   "outputs": [],
   "source": [
    "iteration_number = 0\n",
    "\n",
    "print('Before the loop')\n",
    "while True:\n",
    "    iteration_number += 1\n",
    "\n",
    "    print(f'Inside the loop #{iteration_number}')\n",
    "    if iteration_number > 5:\n",
    "        print('Too many iterations is bad for your health')\n",
    "        break\n",
    "print('After the loop')"
   ]
  },
  {
   "cell_type": "markdown",
   "metadata": {
    "id": "AtRCfdMlWzhn",
    "nbgrader": {
     "grade": false,
     "locked": true,
     "solution": false
    }
   },
   "source": [
    "<h3><code>continue</code> keyword</h3><br><div style=\"text-align: justify\">Another possibility to be more flexible when using loops is to use the <b><code>continue</code></b> keyword.<br><br>This will allow you to skip some iterations (more precisely — the moment the keyword is used it will skip the code underneath it and will start the next iteration from the beginning)."
   ]
  },
  {
   "cell_type": "code",
   "execution_count": null,
   "metadata": {
    "colab": {
     "base_uri": "https://localhost:8080/"
    },
    "collapsed": true,
    "id": "_1q4EB0bXMyk",
    "nbgrader": {
     "grade": false,
     "locked": true,
     "solution": false
    },
    "outputId": "57b11d07-251a-4319-d0ba-1d3ee1685b61"
   },
   "outputs": [],
   "source": [
    "def calculate_cool_function(arg):\n",
    "    res = 7 * arg ** 2 + 5 * arg + 3\n",
    "    print(f'Calculating cool function for {arg} ->  f({arg}) = {res}')\n",
    "\n",
    "print('Begin normal loop\\n')\n",
    "for i in range(7):\n",
    "    print(f'{i} iteration and still running...')\n",
    "    calculate_cool_function(i)\n",
    "print('\\nEnd normal loop\\n')\n",
    "\n",
    "print('-------------------')\n",
    "\n",
    "print('Begin altered loop\\n')\n",
    "for i in range(7):\n",
    "    print(f'{i} iteration and still running...')\n",
    "\n",
    "    # skipping every even iteration\n",
    "    if i % 2 == 0:\n",
    "        continue\n",
    "        \n",
    "    calculate_cool_function(i)\n",
    "    \n",
    "print('\\nEnd altered loop')"
   ]
  },
  {
   "cell_type": "markdown",
   "metadata": {
    "id": "_30hKsC4a1vy",
    "nbgrader": {
     "grade": false,
     "locked": true,
     "solution": false
    }
   },
   "source": [
    "<div style=\"text-align: justify\">As you can see, with the help of the <b><code>continue</code></b> keyword we managed to skip some of the iterations. Also worth noting that $0$ is divisible by any number, for that reason the <b><code>calculate_cool_function(i)</code></b> at <b><code>i = 0</code></b> didn't run."
   ]
  },
  {
   "cell_type": "markdown",
   "metadata": {
    "id": "su7ODKnqB7tv",
    "nbgrader": {
     "grade": false,
     "locked": true,
     "solution": false
    }
   },
   "source": [
    "<div class=\"alert alert-block alert-info\"><b>Exercise 2.4.1</b><br><br><div style=\"text-align: justify\">In this exercise you will write your own Celsius to Fahrenheit converter! Your task is to write a function, which will accept the list of temperatures <code>temp_c</code>, in Celsius, and will output a list with the same temperatures, but in Fahrenheit."
   ]
  },
  {
   "cell_type": "code",
   "execution_count": null,
   "metadata": {
    "collapsed": true,
    "id": "ldeM_71XgK--",
    "nbgrader": {
     "grade": false,
     "locked": true,
     "solution": false
    }
   },
   "outputs": [],
   "source": [
    "# you do not need to change anything in this cell\n",
    "\n",
    "temp_c = [-1, -1.2, 1.3, 6.4, 11.2, 14.8, 17.8, 17.7, 13.7, 8.5, 4.1, 0.9]"
   ]
  },
  {
   "cell_type": "code",
   "execution_count": null,
   "metadata": {
    "collapsed": true,
    "id": "WYqtQ21Kgqzs"
   },
   "outputs": [],
   "source": [
    "def celsius_to_fahrenheit(temp_c):\n",
    "    ...\n",
    "\n",
    "###BEGIN SOLUTION TEMPLATE=\n",
    "def celsius_to_fahrenheit(temp_c):\n",
    "    temp_f = []\n",
    "\n",
    "    for i in range(len(temp_c)):\n",
    "        temp_f.append(temp_c[i] * 9 / 5 + 32) \n",
    "    return temp_f\n",
    "###END SOLUTION\n",
    "\n",
    "print(celsius_to_fahrenheit(temp_c))"
   ]
  },
  {
   "cell_type": "code",
   "execution_count": null,
   "metadata": {
    "collapsed": true,
    "nbgrader": {
     "grade": true,
     "grade_id": "Q2.4.1",
     "locked": true,
     "points": "1",
     "solution": false
    }
   },
   "outputs": [],
   "source": [
    "###BEGIN HIDDEN TESTS\n",
    "assert type(celsius_to_fahrenheit([-1])) == list and abs(celsius_to_fahrenheit([-1])[0] - 30.2) <= 1e-6, '2.4.1 - Incorrect answer'\n",
    "###END HIDDEN TESTS"
   ]
  },
  {
   "cell_type": "markdown",
   "metadata": {
    "id": "2iKtqd2XhAcU",
    "nbgrader": {
     "grade": false,
     "locked": true,
     "solution": false
    }
   },
   "source": [
    "<div class=\"alert alert-block alert-info\"><b>Exercise 2.4.2</b><br><br><div style=\"text-align: justify\">Your task here is to write a function which will analyze a broadcasting message of the following format: <b>\"satellite_ids;date\"</b>, where the first part of the message contains unique lowercase letters, each corresponding to a different satellite ID, and the last part contains the date of the message.<br><br>\n",
    "Here are some examples:\n",
    "    <b>\"agf;06062022\"</b>,<b> \"abcdefgops;03121999\" </b>or<b> \"xyz;11112011\".</b>\n",
    "<br><br>Your task is to write a function, which for a provided broadcast message, will count the number of satellites mentioned in the message.\n"
   ]
  },
  {
   "cell_type": "code",
   "execution_count": null,
   "metadata": {
    "collapsed": true,
    "id": "niMqThVgiVeG"
   },
   "outputs": [],
   "source": [
    "def count_satellites(message):\n",
    "    ...\n",
    "\n",
    "###BEGIN SOLUTION TEMPLATE=\n",
    "def count_satellites(message):\n",
    "    for i in range(len(message)):\n",
    "        if message[i] == ';':\n",
    "            break\n",
    "\n",
    "    return i\n",
    "###END SOLUTION\n",
    "\n",
    "# Check that with the example below you count 5 satellites\n",
    "print(count_satellites(\"hallo;12122007\"))\n"
   ]
  },
  {
   "cell_type": "code",
   "execution_count": null,
   "metadata": {
    "collapsed": true,
    "nbgrader": {
     "grade": true,
     "grade_id": "Q2.4.2",
     "locked": true,
     "points": "1",
     "solution": false
    }
   },
   "outputs": [],
   "source": [
    "###BEGIN HIDDEN TESTS\n",
    "assert count_satellites(\"qute;12122007\") == 4, '2.4.2 - Incorrect answer'\n",
    "###END HIDDEN TESTS"
   ]
  },
  {
   "cell_type": "markdown",
   "metadata": {
    "id": "GFziFh2Misx_",
    "nbgrader": {
     "grade": false,
     "locked": true,
     "solution": false
    }
   },
   "source": [
    "<div class=\"alert alert-block alert-info\"><b>Exercise 2.4.3</b><br><br><div style=\"text-align: justify\">Here you need to write a function that is able to sort any list consisting only of real numbers, in the descending order. For example, the list $[19, 5, 144, 6]$ becomes $[144, 19, 6, 5]$. Hint: use a built-in function or write your own bubble-sort algorithm to sort the list in ascending order, and then think of a clever way to change the order this list to descending order."
   ]
  },
  {
   "cell_type": "code",
   "execution_count": null,
   "metadata": {
    "colab": {
     "base_uri": "https://localhost:8080/"
    },
    "collapsed": true,
    "id": "2DB2jWVpi9Lr",
    "outputId": "c6af4f43-7138-4d09-b1ae-a913154dd107"
   },
   "outputs": [],
   "source": [
    "def sort_list(unsorted_list):\n",
    "    ...\n",
    "\n",
    "###BEGIN SOLUTION TEMPLATE=\n",
    "def sort_list(unsorted_list):\n",
    "    return sorted(unsorted_list)[::-1]\n",
    "###END SOLUTION\n",
    "\n",
    "\n",
    "print(sort_list([9, -1, 5, 1, -9, -9]))"
   ]
  },
  {
   "cell_type": "code",
   "execution_count": null,
   "metadata": {
    "collapsed": true,
    "nbgrader": {
     "grade": true,
     "grade_id": "Q2.4.3",
     "locked": true,
     "points": "1",
     "solution": false
    }
   },
   "outputs": [],
   "source": [
    "###BEGIN HIDDEN TESTS\n",
    "assert sort_list([3, 1, 2]) == [3, 2, 1], '2.4.3 - Incorrect answer'\n",
    "###END HIDDEN TESTS"
   ]
  },
  {
   "cell_type": "markdown",
   "metadata": {
    "nbgrader": {
     "grade": false,
     "locked": true,
     "solution": false
    }
   },
   "source": [
    "<div style=\"text-align: justify\">Before you continue with exercises 2.4.4 and 2.4.5 we would like to try and facilitate your visualization of how to 'navigate' a 2D object such as a Matrix or a 2D list. All comes down to understanding indexing."
   ]
  },
  {
   "cell_type": "code",
   "execution_count": 8,
   "metadata": {
    "nbgrader": {
     "grade": false,
     "locked": true,
     "solution": false
    }
   },
   "outputs": [
    {
     "name": "stdout",
     "output_type": "stream",
     "text": [
      "[['[0][0]' '[0][1]' '[0][2]' '[0][3]']\n",
      " ['[1][0]' '[1][1]' '[1][2]' '[1][3]']\n",
      " ['[2][0]' '[2][1]' '[2][2]' '[2][3]']]\n"
     ]
    }
   ],
   "source": [
    "import numpy as np # ignore the use of np.array at this point, it just facilitates the printed\n",
    "# 'matrix view' below\n",
    "\n",
    "mat = np.array([['[0][0]','[0][1]','[0][2]','[0][3]'],['[1][0]','[1][1]','[1][2]','[1][3]'],['[2][0]','[2][1]','[2][2]','[2][3]']])\n",
    "print(mat)"
   ]
  },
  {
   "cell_type": "markdown",
   "metadata": {
    "nbgrader": {
     "grade": false,
     "locked": true,
     "solution": false
    }
   },
   "source": [
    "<div style=\"text-align: justify\">To facilitate this illustration, the above Matrix has its own index as elements. In a 2D object, the first <b>indexing</b> is the number of the <b>row</b>, the second is the number of the <b>column</b>. Let's break it down."
   ]
  },
  {
   "cell_type": "code",
   "execution_count": 11,
   "metadata": {
    "nbgrader": {
     "grade": false,
     "locked": true,
     "solution": false
    }
   },
   "outputs": [
    {
     "name": "stdout",
     "output_type": "stream",
     "text": [
      "['[0][0]' '[0][1]' '[0][2]' '[0][3]']\n"
     ]
    }
   ],
   "source": [
    "print(mat[0]) # the 0-th row of the variable 'mat'"
   ]
  },
  {
   "cell_type": "code",
   "execution_count": 12,
   "metadata": {},
   "outputs": [
    {
     "name": "stdout",
     "output_type": "stream",
     "text": [
      "['[1][0]' '[1][1]' '[1][2]' '[1][3]']\n"
     ]
    }
   ],
   "source": [
    "print(mat[1]) # the 1-st row of the variable 'mat'; etc.."
   ]
  },
  {
   "cell_type": "code",
   "execution_count": 25,
   "metadata": {},
   "outputs": [
    {
     "name": "stdout",
     "output_type": "stream",
     "text": [
      "[2][3]\n"
     ]
    }
   ],
   "source": [
    "print(mat[2,3]) # the 2-nd row and 3-th column"
   ]
  },
  {
   "cell_type": "code",
   "execution_count": 26,
   "metadata": {},
   "outputs": [
    {
     "name": "stdout",
     "output_type": "stream",
     "text": [
      "['[0][2]' '[1][2]' '[2][2]']\n"
     ]
    }
   ],
   "source": [
    "print(mat[:,2]) # all rows and 2-nd column (in other words, only the 2-nd column)"
   ]
  },
  {
   "cell_type": "code",
   "execution_count": 27,
   "metadata": {},
   "outputs": [
    {
     "name": "stdout",
     "output_type": "stream",
     "text": [
      "['[2][0]' '[2][1]' '[2][2]' '[2][3]']\n"
     ]
    }
   ],
   "source": [
    "print(mat[-1,:]) # last row, all columns (therefore, last row)"
   ]
  },
  {
   "cell_type": "code",
   "execution_count": 29,
   "metadata": {},
   "outputs": [
    {
     "name": "stdout",
     "output_type": "stream",
     "text": [
      "['[2][0]' '[2][1]' '[2][2]' '[2][3]']\n"
     ]
    }
   ],
   "source": [
    "# could have also been achieved only by writing mat[-1]\n",
    "print(mat[-1])"
   ]
  },
  {
   "cell_type": "code",
   "execution_count": 30,
   "metadata": {},
   "outputs": [
    {
     "name": "stdout",
     "output_type": "stream",
     "text": [
      "3\n"
     ]
    }
   ],
   "source": [
    "# check the number of rows of the var 'mat'\n",
    "print(len(mat))"
   ]
  },
  {
   "cell_type": "code",
   "execution_count": 32,
   "metadata": {},
   "outputs": [
    {
     "name": "stdout",
     "output_type": "stream",
     "text": [
      "4\n"
     ]
    }
   ],
   "source": [
    "# check the number of columns of the var 'mat'\n",
    "print(len(mat[0])) # number of elements in row [0]"
   ]
  },
  {
   "cell_type": "markdown",
   "metadata": {
    "nbgrader": {
     "grade": false,
     "locked": true,
     "solution": false
    }
   },
   "source": [
    "Note that here we only check the number of elements in the 0-th row, since all rows have same number of elements. However, you may also work with irregular lists, where each 'row' or 'sublist' will have a different number of 'columns'.\n",
    "\n",
    "Now that you are a bit more familiarized with indexing, let's hop into the last two exercises of this Notebook."
   ]
  },
  {
   "cell_type": "markdown",
   "metadata": {
    "nbgrader": {
     "grade": false,
     "locked": true,
     "solution": false
    }
   },
   "source": [
    "<div class=\"alert alert-block alert-info\"><b>Exercise 2.4.4</b><br><br><div style=\"text-align: justify\">Quite frequently you will have to work with 2D data, which (in Python) is stored, sometimes, in 2 dimensional lists. Your task is to complete a function, which will count elements in an irregular 2D list (irregular means that the amount of elements within each sub-list is different). For that you will have to write a loop inside a loop (or, in other words, a double loop). The code below is almost complete, you just need finish typing the second <code>for</code> loop."
   ]
  },
  {
   "cell_type": "code",
   "execution_count": 8,
   "metadata": {},
   "outputs": [
    {
     "name": "stdout",
     "output_type": "stream",
     "text": [
      "Total amount of elements inside a test list: 10\n"
     ]
    }
   ],
   "source": [
    "def count_elements(data):\n",
    "    #initializing counter\n",
    "    cnt = 0    \n",
    "    for i in range(len(data)) # looping through the number of rows\n",
    "        for ... # looping to count elements in each row (or sub-list, in this case)\n",
    "            cnt += 1\n",
    "            \n",
    "    return cnt\n",
    "\n",
    "###BEGIN SOLUTION TEMPLATE=\n",
    "def count_elements(data):\n",
    "    #initializing counter\n",
    "    cnt = 0    \n",
    "    for i in range(len(data)):\n",
    "        for j in range(len(data[i])):\n",
    "            cnt += 1\n",
    "            \n",
    "    return cnt\n",
    "\n",
    "###END SOLUTION\n",
    "\n",
    "test = [[1, 2, 3], [\"list\", 4.5], [9, -1, \"another list\", 6, 101]]\n",
    "print(f'Total number of elements inside a test list: {count_elements(test)}')"
   ]
  },
  {
   "cell_type": "code",
   "execution_count": 9,
   "metadata": {
    "collapsed": true,
    "nbgrader": {
     "grade": true,
     "grade_id": "Q2.4.4",
     "locked": true,
     "points": "1",
     "solution": false
    }
   },
   "outputs": [],
   "source": [
    "###BEGIN HIDDEN TESTS\n",
    "test_data = [[1], [2, 3], [4, 5, 6], [7, 8, \"9\", 10]]\n",
    "assert count_elements(test_data) == 10, '2.4.4 - Incorrect answer'\n",
    "###END HIDDEN TESTS"
   ]
  },
  {
   "cell_type": "markdown",
   "metadata": {
    "id": "hp6H5nvkjZLg",
    "nbgrader": {
     "grade": false,
     "locked": true,
     "solution": false
    }
   },
   "source": [
    "<div class=\"alert alert-block alert-info\"><b>Exercise 2.4.5</b><br><br><div style=\"text-align: justify\">In this exercise you will perform <a href=\"https://en.wikipedia.org/wiki/Downsampling_(signal_processing)\">downsampling</a> of a provided 'regular' 2D list. Downsampling is a procedure where only a subset of the data is sampled (to reduce its size, for example). Below a visual aid of what downsampling of a 2D list is. Instead of using all the data available, your task is to downsample the 2D list to keep only the data of every $a$-th row and every $b$-th column, including the first element $(a_{0,0})$.<br><br>$$A = \\left[\\begin{array}{ccccc}\n",
    "a_{0,0} & \\dots & a_{0,b} & \\dots & a_{0,2b} & \\dots & \\dots & a_{0,nb}\t& \\dots\\\\\n",
    "\\vdots & \\vdots & \\vdots & \\vdots & \\vdots & \\vdots & \\vdots & \\vdots & \\vdots\\\\\n",
    "a_{a,0} & \\dots & a_{a,b} & \\dots & a_{a,2b} & \\dots & \\dots & a_{a,nb}\t& \\dots\\\\\n",
    "\\vdots & \\vdots & \\vdots & \\vdots & \\vdots & \\vdots & \\vdots & \\vdots & \\vdots\\\\\n",
    "a_{2a,0} & \\dots & a_{2a,b} & \\dots & a_{2a,2b} & \\dots & \\dots & a_{2a,nb}\t& \\dots\\\\\n",
    "\\vdots & \\vdots & \\vdots & \\vdots & \\vdots & \\vdots & \\vdots & \\vdots & \\vdots\\\\\n",
    "\\vdots & \\vdots & \\vdots & \\vdots & \\vdots & \\vdots & \\vdots & \\vdots & \\vdots\\\\\n",
    "a_{ma,0} & \\dots & a_{ma,b} & \\dots & a_{ma,2b} & \\dots & \\dots & a_{ma,nb} & \\dots \\\\\n",
    "\\vdots & \\vdots & \\vdots & \\vdots & \\vdots & \\vdots & \\vdots & \\vdots & \\vdots\n",
    "\\end{array}\\right]$$\n",
    "<br><i>Hint: Use the index value of each element to realize if they should be included or not in the downsample_data list.<br>Hint2: Remember that $0$ % $X = 0$, for any $X$. (Modulus operator, discussed in Notebook 1)."
   ]
  },
  {
   "cell_type": "code",
   "execution_count": null,
   "metadata": {
    "collapsed": true,
    "id": "EM2H7o8kjZe_"
   },
   "outputs": [],
   "source": [
    "def downsample(data, a, b):\n",
    "    downsample_data = []\n",
    "\n",
    "    # create a for loop over len(data), which is the number of rows\n",
    "    for ...\n",
    "        row = []\n",
    "\n",
    "        # create a for loop over len(data[i]), which is the number of columns\n",
    "        for ...\n",
    "            # if an element is to be stored, append row variable (created above)\n",
    "            ... \n",
    "            ...\n",
    "\n",
    "        # finally append downsample_data      \n",
    "        if len(row) > 0:\n",
    "            ...\n",
    "         \n",
    "    return ...\n",
    "\n",
    "print(downsample(insar_data, 3, 4))\n",
    "###BEGIN SOLUTION TEMPLATE=\n",
    "def downsample(data, a, b):\n",
    "    downsample_data = []\n",
    "    \n",
    "    for i in range(len(data)):\n",
    "        row = []\n",
    "        for j in range(len(data[i])):\n",
    "            if i % a == 0 and j % b == 0:\n",
    "                row.append(data[i][j])\n",
    "        if len(row) > 0:\n",
    "            downsample_data.append(row)\n",
    "            \n",
    "    return downsample_data\n",
    "###END SOLUTION\n",
    "\n",
    "import numpy as np\n",
    "\n",
    "insar_data = [[np.random.rand() for i in range(12)] for i in range(9)]\n",
    "\n",
    "print(downsample(insar_data, 3, 4))"
   ]
  },
  {
   "cell_type": "code",
   "execution_count": null,
   "metadata": {
    "collapsed": true,
    "nbgrader": {
     "grade": true,
     "grade_id": "Q2.4.5",
     "locked": true,
     "points": "1",
     "solution": false
    }
   },
   "outputs": [],
   "source": [
    "###BEGIN HIDDEN TESTS\n",
    "insar_data = [[np.random.rand() for i in range(16)] for i in range(12)]\n",
    "downsampled = downsample(insar_data, 3, 4)\n",
    "dim1 = len(downsampled)\n",
    "dim2 = len(downsampled[0])\n",
    "assert dim1 == 4 and dim2 == 4, '2.4.5 - Incorrect answer'\n",
    "###END HIDDEN TESTS"
   ]
  },
  {
   "cell_type": "markdown",
   "metadata": {
    "id": "lDKimbtECAAz",
    "nbgrader": {
     "grade": false,
     "locked": true,
     "solution": false
    }
   },
   "source": [
    "<div class=\"alert alert-block alert-danger\"><b>Additional study material:</b>\n",
    "\n",
    "* Official Python Documentation - https://docs.python.org/3/tutorial/controlflow.html\n",
    "* https://realpython.com/python-for-loop/\n",
    "* Think Python (2nd ed.) - Section 7"
   ]
  },
  {
   "cell_type": "markdown",
   "metadata": {
    "nbgrader": {
     "grade": false,
     "locked": true,
     "solution": false
    }
   },
   "source": [
    "<h4>After this Notebook you should be able to:</h4>\n",
    "\n",
    "- understand the difference between built-in and third-party modules\n",
    "- use functions from the **`math`** module\n",
    "- find available functions from any module\n",
    "- generate an array for the x-axis\n",
    "- calculate the **`cos`** or **`sin`** of the x-axis\n",
    "- plot such functions\n",
    "- understand how to load Python files as modules\n",
    "- understand conditions with **`if`**, **`elif`** and, **`else`**\n",
    "- understand the differences between **`list`**, **`tuple`**, and **`dict`**\n",
    "- slice lists and tuples\n",
    "- use **`for`** and **`while`** loops\n",
    "- use the **`break`** and **`continue`** keywords inside of loops\n"
   ]
  }
 ],
 "metadata": {
  "colab": {
   "collapsed_sections": [],
   "name": "Python_2_1.ipynb",
   "provenance": []
  },
  "kernelspec": {
   "display_name": "Python 3.7",
   "language": "python",
   "name": "python37"
  },
  "language_info": {
   "codemirror_mode": {
    "name": "ipython",
    "version": 3
   },
   "file_extension": ".py",
   "mimetype": "text/x-python",
   "name": "python",
   "nbconvert_exporter": "python",
   "pygments_lexer": "ipython3",
   "version": "3.7.5"
  },
  "vscode": {
   "interpreter": {
    "hash": "978ede36192cb259dee8e5bd565c04d84487df4425914b0b004da2b901af68ae"
   }
  }
 },
 "nbformat": 4,
 "nbformat_minor": 1
}
