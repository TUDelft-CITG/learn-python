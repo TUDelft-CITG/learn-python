{
 "cells": [
  {
   "cell_type": "markdown",
   "metadata": {
    "nbgrader": {
     "grade": false,
     "locked": true,
     "solution": false
    }
   },
   "source": [
    "<figure>\n",
    "  <IMG SRC=\"https://raw.githubusercontent.com/mbakker7/exploratory_computing_with_python/master/tudelft_logo.png\" WIDTH=250 ALIGN=\"right\">\n",
    "</figure>\n",
    "\n",
    "# Python Notebook #5\n",
    "\n",
    "\n",
    "## Table of Contents\n",
    "<ul>\n",
    "    <li> <a href=\"#5.1\">5.1 NumPy</a>\n",
    "    <li> <a href=\"#5.2\">5.2 Matplotlib</a>\n",
    "</ul>"
   ]
  },
  {
   "cell_type": "markdown",
   "metadata": {
    "nbgrader": {
     "grade": false,
     "locked": true,
     "solution": false
    }
   },
   "source": [
    "<div id=\"5.1\"><br><h2>5.1 <code>numpy</code> (in-depth)</h2><br><div style=\"text-align: justify\">The <b><code>numpy</code></b> package is one of the main packages when it comes to working with arrays and matrices in Python, making it indispensable to process and visualize scientific data. Its assortment of routines facilitates operations such as mathematical, logical, linear algebra, Fourier transforms, and much more. In this section, you will learn some of the most used <b><code>numpy</code></b> functions to work with multidimensional array objects."
   ]
  },
  {
   "cell_type": "code",
   "execution_count": 2,
   "metadata": {
    "collapsed": true,
    "nbgrader": {
     "grade": false,
     "locked": true,
     "solution": false
    }
   },
   "outputs": [],
   "source": [
    "# as always, let's import the package we will use\n",
    "import numpy as np"
   ]
  },
  {
   "cell_type": "code",
   "execution_count": null,
   "metadata": {
    "collapsed": true
   },
   "outputs": [],
   "source": [
    "# Use this cell to find all contents of the numpy package \n",
    "# recall the code used in section 2.1 (in Notebook 2)\n",
    "...\n",
    "\n"
   ]
  },
  {
   "cell_type": "markdown",
   "metadata": {
    "nbgrader": {
     "grade": false,
     "locked": true,
     "solution": false
    }
   },
   "source": [
    "***\n",
    "The following functions will be discussed in this Notebook:\n",
    "- <b><code>np.array()</code></b> \n",
    "- <b><code>np.zeros()</code></b> \n",
    "- <b><code>np.asarray()</code></b> \n",
    "- <b><code>np.shape()</code></b>\n",
    "- <b><code>np.min()</code></b>\n",
    "- <b><code>np.max()</code></b>\n",
    "- <b><code>np.mean()</code></b>\n",
    "- <b><code>np.sort()</code></b>\n",
    "- <b><code>np.linspace()</code></b>\n",
    "- <b><code>np.arange()</code></b>\n",
    "- <b><code>np.argmax()</code></b>\n",
    "- <b><code>np.argmin()</code></b>\n",
    "- <b><code>np.where()</code></b>\n",
    "- <b><code>np.astype()</code></b>\n",
    "- <b><code>np.transpose()</code></b>\n",
    "- <b><code>np.loadtxt()</code></b>\n",
    "- <b><code>np.sum()</code></b>\n",
    "- <b><code>np.cos()</code></b>\n",
    "- <b><code>np.sin()</code></b>\n",
    "- <b><code>np.sqrt()</code></b>\n"
   ]
  },
  {
   "cell_type": "markdown",
   "metadata": {
    "nbgrader": {
     "grade": false,
     "locked": true,
     "solution": false
    }
   },
   "source": [
    "<h3>creating a 1-dimensional array</h3><br><div style=\"text-align: justify\">In Section 2.3, of Notebook 2, you have already encountered lists, which are created with square brackets <b><code>[]</code></b>. Arrays are the <b><code>numpy</code></b> equivalent of lists, with a few characteristic traits:<br><br>- <b><code>numpy</code></b> arrays can only store one type of element,<br>- <b><code>numpy</code></b> arrays take up much less memory than lists,<br>- <b><code>numpy</code></b> arrays have a much better runtime behavior,<br>- it is easier to work with multi-dimensional <b><code>numpy</code></b> arrays than with multi-dimensional lists<br><br>So, how do you create a <b><code>numpy</code></b> array? There are a few ways to do it..."
   ]
  },
  {
   "cell_type": "code",
   "execution_count": null,
   "metadata": {
    "collapsed": true,
    "nbgrader": {
     "grade": false,
     "locked": true,
     "solution": false
    }
   },
   "outputs": [],
   "source": [
    "# Option 1 - from scratch with np.array()\n",
    "# similar to a list\n",
    "arr1 = np.array([1,2,3])\n",
    "\n",
    "# Let's check its contents and type\n",
    "print('arr1 = {}, its type is {}'.format(arr1,type(arr1)))"
   ]
  },
  {
   "cell_type": "code",
   "execution_count": null,
   "metadata": {
    "collapsed": true,
    "nbgrader": {
     "grade": false,
     "locked": true,
     "solution": false
    }
   },
   "outputs": [],
   "source": [
    "# Option 2 - from an existing list with np.array()\n",
    "# create the list first and check its type\n",
    "L_1 = [1,2,3,5,7,11,13]\n",
    "print('L_1 = {} and its type is {}\\n'.format(L_1,type(L_1)))\n",
    "\n",
    "# create the array A_1 from the list L_1\n",
    "# and check its type\n",
    "A_1 = np.array(L_1)\n",
    "print('A_1 = {} and its type is {}'.format(A_1, type(A_1)))"
   ]
  },
  {
   "cell_type": "code",
   "execution_count": null,
   "metadata": {
    "collapsed": true,
    "nbgrader": {
     "grade": false,
     "locked": true,
     "solution": false
    }
   },
   "outputs": [],
   "source": [
    "# Option 3 - from an existing list with np.asarray()\n",
    "# create the list first and check its type\n",
    "L_1 = [1,2,3,5,7,11,13]\n",
    "print('L_1 = {} and its type is {}\\n'.format(L_1,type(L_1)))\n",
    "\n",
    "# create the array A_1 from the list L_1\n",
    "# and check its type\n",
    "A_1 = np.asarray(L_1)\n",
    "print('A_1 = {} and its type is {}'.format(A_1, type(A_1)))"
   ]
  },
  {
   "cell_type": "markdown",
   "metadata": {
    "nbgrader": {
     "grade": false,
     "locked": true,
     "solution": false
    }
   },
   "source": [
    "<div style=\"text-align: justify\">From the above examples, you can't really determine the difference between using <b><code>np.array()</code></b> or <b><code>np.asarray()</code></b>. Nonetheless, there is a very important one, similar to the <b><code>=</code></b> and <b><code>copy</code></b> conundrum discussed in Notebook 4. When generating an array from a list, both functions do pretty much the same. However, when generating an array from another array, their differences stand out."
   ]
  },
  {
   "cell_type": "code",
   "execution_count": null,
   "metadata": {
    "collapsed": true,
    "nbgrader": {
     "grade": false,
     "locked": true,
     "solution": false
    }
   },
   "outputs": [],
   "source": [
    "# First, let's check the ID of arr1\n",
    "print('arr1 ID is {}'.format(id(arr1)))"
   ]
  },
  {
   "cell_type": "code",
   "execution_count": null,
   "metadata": {
    "collapsed": true,
    "nbgrader": {
     "grade": false,
     "locked": true,
     "solution": false
    }
   },
   "outputs": [],
   "source": [
    "# Now, let's make two new arrays from arr1, using both functions\n",
    "arr_array = np.array(arr1)\n",
    "arr_asarray = np.asarray(arr1)\n",
    "\n",
    "print('arr_array = {} and its ID is {}\\n'.format(arr_array,id(arr_array)))\n",
    "print('arr_asarray = {} and its ID is {}'.format(arr_asarray, id(arr_asarray)))"
   ]
  },
  {
   "cell_type": "markdown",
   "metadata": {
    "nbgrader": {
     "grade": false,
     "locked": true,
     "solution": false
    }
   },
   "source": [
    "<div style=\"text-align: justify\">Hmm... it seems that the ID of <b><code>arr_asarray</code></b> is the same as the original <b><code>arr1</code></b>. Which means they are the same variable! Altering one will alter the other one as well. Let's try it out."
   ]
  },
  {
   "cell_type": "code",
   "execution_count": null,
   "metadata": {
    "collapsed": true,
    "nbgrader": {
     "grade": false,
     "locked": true,
     "solution": false
    }
   },
   "outputs": [],
   "source": [
    "arr1[0] = 'hello'\n",
    "print(arr_asarray)"
   ]
  },
  {
   "cell_type": "markdown",
   "metadata": {
    "nbgrader": {
     "grade": false,
     "locked": true,
     "solution": false
    }
   },
   "source": [
    "<div style=\"text-align: justify\">Oops... it didn't work. Why do you think it didn't work?"
   ]
  },
  {
   "cell_type": "markdown",
   "metadata": {},
   "source": [
    "<b>Answer</b>: . . ."
   ]
  },
  {
   "cell_type": "code",
   "execution_count": null,
   "metadata": {
    "collapsed": true,
    "nbgrader": {
     "grade": false,
     "locked": true,
     "solution": false
    }
   },
   "outputs": [],
   "source": [
    "# Change the first element of arr1\n",
    "arr1[0] = 100\n",
    "# Print arr_array and arr_asarray to see if the first element changed\n",
    "print('arr1 = {}\\n'.format(arr1))\n",
    "print('arr_array = {}\\n'.format(arr_array))\n",
    "print('arr_asarray = {}'.format(arr_asarray))"
   ]
  },
  {
   "cell_type": "markdown",
   "metadata": {
    "nbgrader": {
     "grade": false,
     "locked": true,
     "solution": false
    }
   },
   "source": [
    "<div style=\"text-align: justify\">Yep, our theory was right: <b><code>arr1</code></b> and <b><code>arr_asarray</code></b> are indeed the same (but <b><code>arr_array</code></b> is not!). Therefore, altering <b><code>arr1[0]</code></b> will alter <b><code>arr_asarray[0]</code></b> in the same way."
   ]
  },
  {
   "cell_type": "code",
   "execution_count": null,
   "metadata": {
    "collapsed": true,
    "nbgrader": {
     "grade": false,
     "locked": true,
     "solution": false
    }
   },
   "outputs": [],
   "source": [
    "# final check that they are indeed the same\n",
    "print(arr1 is arr_asarray)"
   ]
  },
  {
   "cell_type": "markdown",
   "metadata": {
    "nbgrader": {
     "grade": false,
     "locked": true,
     "solution": false
    }
   },
   "source": [
    "<div class=\"alert alert-block alert-warning\"><center>In case you already know the size of the array you will need, it is common to initialize it with zeros first using the <code>np.zeros()</code> function, as shown below."
   ]
  },
  {
   "cell_type": "code",
   "execution_count": null,
   "metadata": {
    "collapsed": true,
    "nbgrader": {
     "grade": false,
     "locked": true,
     "solution": false
    }
   },
   "outputs": [],
   "source": [
    "np.set_printoptions(threshold=1) # ignore this line\n",
    "# its purpose is to set a limit when printing the huge arrays we will generate\n",
    "\n",
    "# eg: I know I will need an array with 100000 elements\n",
    "# so I create it full of zeros first\n",
    "my_arr = np.zeros(100000)\n",
    "print('my_arr with a bunch of zeros \\n{}\\n'.format(my_arr))\n",
    "print('#######################')\n",
    "\n",
    "# then, I assign the values I need to each element..\n",
    "# here, in this example, I only wrote a for loop to assign random\n",
    "# integer numbers between 0 and 9 to it\n",
    "\n",
    "import random\n",
    "\n",
    "for i in range(len(my_arr)): # note the use of range(len(my_arr)), we use this often to specify the range\n",
    "                             # of the for loop to be of the same size as some array\n",
    "    my_arr[i] = random.randint(0,9)\n",
    "    \n",
    "print('\\nmy_arr with random numbers \\n{}'.format(my_arr))\n"
   ]
  },
  {
   "cell_type": "markdown",
   "metadata": {
    "nbgrader": {
     "grade": false,
     "locked": true,
     "solution": false
    }
   },
   "source": [
    "<div style=\"text-align: justify\">Note that these arrays still have $100000$ elements, but due to our first line of code we truncated the print function to not print it completely — otherwise you would have to scroll a lot. :P "
   ]
  },
  {
   "cell_type": "markdown",
   "metadata": {
    "nbgrader": {
     "grade": false,
     "locked": true,
     "solution": false
    }
   },
   "source": [
    "<div class=\"alert alert-block alert-info\"><b>(Searching) Exercise 5.1.1</b><br><br><div style=\"text-align: justify\">Numpy also provides various packages to help you process your data. You can, for instance, find out what is the minimum value of an array, or its mean. Your task is to find the minimum, maximum, and mean values of the <code>A_1</code> array."
   ]
  },
  {
   "cell_type": "code",
   "execution_count": null,
   "metadata": {
    "collapsed": true
   },
   "outputs": [],
   "source": [
    "'''write your code on the dots, DO NOT CHANGE THE NAME OF THE VARIABLES!'''\n",
    "\n",
    "A_1_min = ...\n",
    "A_1_max = ...\n",
    "A_1_mean = ...\n",
    "\n",
    "###BEGIN SOLUTION TEMPLATE=\n",
    "A_1_min = np.min(A_1)\n",
    "A_1_max = np.max(A_1)\n",
    "A_1_mean = np.mean(A_1)\n",
    "###END SOLUTION\n",
    "\n",
    "# Print your results...\n",
    "print(...)\n"
   ]
  },
  {
   "cell_type": "code",
   "execution_count": null,
   "metadata": {
    "collapsed": true,
    "nbgrader": {
     "grade": true,
     "grade_id": "Q5.1.1",
     "locked": true,
     "points": "1",
     "solution": false
    }
   },
   "outputs": [],
   "source": [
    "###BEGIN HIDDEN TESTS\n",
    "assert A_1_min == np.min(A_1) and A_1_max == np.max(A_1) and\\\n",
    "    A_1_mean == np.mean(A_1), '5.1.1 - Incorrect answer'\n",
    "###END HIDDEN TESTS"
   ]
  },
  {
   "cell_type": "markdown",
   "metadata": {
    "nbgrader": {
     "grade": false,
     "locked": true,
     "solution": false
    }
   },
   "source": [
    "<h3>creating a matrix and a 2D array</h3><br><div style=\"text-align: justify\">As mentioned earlier, <code><b>numpy</b></code> is not solely built for 1D arrays $-$ it's built to work with multidimensional arrays! So, let's hop into 2D arrays and matrices, which you have already encountered in Linear Algebra. You can construct your own matrix using the <b><code>np.array()</code></b> function, as shown below."
   ]
  },
  {
   "cell_type": "markdown",
   "metadata": {
    "nbgrader": {
     "grade": false,
     "locked": true,
     "solution": false
    }
   },
   "source": [
    "<div class=\"alert alert-block alert-warning\"><center>A matrix is strictly 2D. Furthermore, a 2D array is not the same as a 2D matrix. While a matrix is a 2D array, a 2D array is <b>not</b> a matrix, per se. "
   ]
  },
  {
   "cell_type": "code",
   "execution_count": null,
   "metadata": {
    "collapsed": true,
    "nbgrader": {
     "grade": false,
     "locked": true,
     "solution": false
    }
   },
   "outputs": [],
   "source": [
    "my_mat1 = np.array([[2,2],[2,2]])\n",
    "print('my_mat1 is \\n{}\\n and its type is {}'.format(my_mat,type(my_mat)))"
   ]
  },
  {
   "cell_type": "code",
   "execution_count": null,
   "metadata": {
    "collapsed": true,
    "nbgrader": {
     "grade": false,
     "locked": true,
     "solution": false
    }
   },
   "outputs": [],
   "source": [
    "# let's create a second matrix so we can \n",
    "# do some operations with my_mat1\n",
    "\n",
    "my_mat2 = np.array([[1,0],[2,1]])"
   ]
  },
  {
   "cell_type": "code",
   "execution_count": null,
   "metadata": {
    "collapsed": true,
    "nbgrader": {
     "grade": false,
     "locked": true,
     "solution": false
    }
   },
   "outputs": [],
   "source": [
    "# now let's multiply my_mat2 x my_mat1\n",
    "print('my_mat2 * my_mat1 is: \\n{}'.format(my_mat2 * my_mat1))\n",
    "print('\\n###########\\n')\n",
    "\n",
    "# let's also multiply my_mat x my_mat2 (changed order)\n",
    "print('my_mat1 * my_mat2 is: \\n{}'.format(my_mat1 * my_mat2))"
   ]
  },
  {
   "cell_type": "markdown",
   "metadata": {
    "nbgrader": {
     "grade": false,
     "locked": true,
     "solution": false
    }
   },
   "source": [
    "<div style=\"text-align: justify\">Ok, this is not as expected. As you have seen in Linear Algebra, changing the order of the products <b>affects</b> the final result, when multiplying matrices. You may also check the result by calculating the matrix products by hand. What actually happened, is that Python performed an <b>element-wise</b> multiplication... But, what if you would like to apply matrix multiplication? We will show three options for that."
   ]
  },
  {
   "cell_type": "code",
   "execution_count": null,
   "metadata": {
    "collapsed": true,
    "nbgrader": {
     "grade": false,
     "locked": true,
     "solution": false
    }
   },
   "outputs": [],
   "source": [
    "# Option 1 - np.dot(arr1 ,  arr2)\n",
    "\n",
    "# np.dot(my_mat2 , my_mat1)\n",
    "print('np.dot(my_mat2 , my_mat1) is: \\n{}'.format(np.dot(my_mat2 , my_mat1)))\n",
    "\n",
    "print('\\n###########\\n')\n",
    "\n",
    "# np.dot(my_arr1 , my_mat2)\n",
    "print('np.dot(my_mat1 , my_mat2) is:\\n{}'.format(np.dot(my_mat1 , my_mat2)))\n"
   ]
  },
  {
   "cell_type": "markdown",
   "metadata": {
    "nbgrader": {
     "grade": false,
     "locked": true,
     "solution": false
    }
   },
   "source": [
    "Check the answers with the results you got when calculating by hand! This is better, isn't it?"
   ]
  },
  {
   "cell_type": "code",
   "execution_count": null,
   "metadata": {
    "collapsed": true,
    "nbgrader": {
     "grade": false,
     "locked": true,
     "solution": false
    }
   },
   "outputs": [],
   "source": [
    "# Option 2 - arr1.dot(arr2)\n",
    "\n",
    "# my_mat2.dot(my_mat1)\n",
    "print('my_mat2.dot(my_mat1) is:\\n{}'.format(my_mat2.dot(my_mat1)))\n",
    "\n",
    "print('\\n###########\\n')\n",
    "\n",
    "# my_mat1.dot(my_mat2)\n",
    "print('my_mat1.dot(my_mat2) is: \\n{}'.format(my_mat1.dot(my_mat2)))\n"
   ]
  },
  {
   "cell_type": "code",
   "execution_count": null,
   "metadata": {
    "collapsed": true,
    "nbgrader": {
     "grade": false,
     "locked": true,
     "solution": false
    }
   },
   "outputs": [],
   "source": [
    "# Option 3 - arr1 @ arr2\n",
    "\n",
    "# my_mat2 @ my_mat1\n",
    "print('my_mat2 @ my_mat1 is:\\n{}'.format(my_mat2 @ my_mat1))\n",
    "\n",
    "print('\\n###########\\n')\n",
    "\n",
    "# my_mat1 @ my_mat2\n",
    "print('my_mat1 @ my_mat2 is: \\n{}'.format(my_mat1 @ my_mat2))"
   ]
  },
  {
   "cell_type": "markdown",
   "metadata": {
    "nbgrader": {
     "grade": false,
     "locked": true,
     "solution": false
    }
   },
   "source": [
    "<div style=\"text-align: justify\">As you see from the previous examples, there are at least three different ways to multiply 2D arrays in the same way that you would multiply matrices."
   ]
  },
  {
   "cell_type": "markdown",
   "metadata": {
    "nbgrader": {
     "grade": false,
     "locked": true,
     "solution": false
    }
   },
   "source": [
    "<div class=\"alert alert-block alert-info\"><b>(Searching) Exercise 5.1.2</b><br><br><div style=\"text-align: justify\">Given the matrices $A$, $B$, and $C$ below, calculate $D = AB\\ C^{-1}$<br></div>\n",
    "\n",
    "$$A = \\begin{bmatrix}2 & 3 \\\\ 4 & 5 \\end{bmatrix}$$\n",
    "$$B = \\begin{bmatrix}2 & 1 \\\\ 1 & 2\\end{bmatrix}$$\n",
    "$$C = \\begin{bmatrix}6 & 1 \\\\ 1 & 1\\end{bmatrix}$$\n",
    "\n",
    "<div style=\"text-align: justify\"><br><i>Hint: Find out how to invert matrix $C$ and perform $A\\times B\\times C_{inverse}$."
   ]
  },
  {
   "cell_type": "code",
   "execution_count": null,
   "metadata": {
    "collapsed": true
   },
   "outputs": [],
   "source": [
    "'write your code on the dots, DO NOT CHANGE THE NAME OF THE VARIABLES!'\n",
    "import numpy as np\n",
    "Mat_A = ...\n",
    "Mat_B = ...\n",
    "Mat_C = ...\n",
    "Mat_C_inv = ...\n",
    "\n",
    "Mat_D = ...\n",
    "\n",
    "###BEGIN SOLUTION TEMPLATE=\n",
    "Mat_A = np.array([[2,3],[4,5]])\n",
    "Mat_B = np.array([[2,1],[1,2]])\n",
    "Mat_C = np.array([[6,1],[1,1]])\n",
    "Mat_C_inv = np.linalg.inv(Mat_C)\n",
    "\n",
    "Mat_D = (Mat_A*Mat_B)*Mat_C_inv\n",
    "###END SOLUTION\n",
    "print(Mat_D)"
   ]
  },
  {
   "cell_type": "code",
   "execution_count": null,
   "metadata": {
    "collapsed": true,
    "nbgrader": {
     "grade": true,
     "grade_id": "Q5.1.2",
     "locked": true,
     "points": "1",
     "solution": false
    }
   },
   "outputs": [],
   "source": [
    "###BEGIN HIDDEN TESTS\n",
    "assert np.sum(np.abs(Mat_D - np.array([[0.8, -0.6],[-0.8, 12.0]]))) <= 1e-6, '5.1.2 - Incorrect answer'\n",
    "###END HIDDEN TESTS"
   ]
  },
  {
   "cell_type": "markdown",
   "metadata": {
    "nbgrader": {
     "grade": false,
     "locked": true,
     "solution": false
    }
   },
   "source": [
    "<div class=\"alert alert-block alert-info\"><b>(Searching) Exercise 5.1.3</b><br><br><div style=\"text-align: justify\">A very useful tool of the <code>numpy</code> package is the <code>np.shape()</code> function. When dealing with very large arrays, you often need to find out how many elements are in there, or how many rows and columns there are. Your task for this exercise is to find out how many elements there are in <code>random_array</code> and how many rows and columns <code>random_matrix</code> has."
   ]
  },
  {
   "cell_type": "code",
   "execution_count": null,
   "metadata": {
    "collapsed": true,
    "nbgrader": {
     "grade": false,
     "locked": true,
     "solution": false
    }
   },
   "outputs": [],
   "source": [
    "'In this code block, random parameters for random_array and'\n",
    "'random_matrix are created every time that you run it'\n",
    "'do not change anything!'\n",
    "import random as ran\n",
    "\n",
    "def get_random_stuff():\n",
    "    nz1 = ran.randint(0,10000)\n",
    "    nz2 = ran.randint(0,500)\n",
    "    nz3 = ran.randint(0,1500)\n",
    "\n",
    "    random_array = np.random.randint(-100000,10000,nz1)\n",
    "    random_matrix = np.random.randint(1000,size=(nz2,nz3))\n",
    "    \n",
    "    return random_array, random_matrix"
   ]
  },
  {
   "cell_type": "code",
   "execution_count": null,
   "metadata": {
    "collapsed": true
   },
   "outputs": [],
   "source": [
    "'write your code on the dots, DO NOT CHANGE THE NAME OF THE VARIABLES!'\n",
    "random_array, random_matrix = get_random_stuff()\n",
    "\n",
    "el_in_arr = ...\n",
    "rows_mat, col_mat = ...\n",
    "\n",
    "###BEGIN SOLUTION TEMPLATE=\n",
    "el_in_arr = len(random_array)\n",
    "rows_mat, col_mat = np.shape(random_matrix)\n",
    "###END SOLUTION\n",
    "\n",
    "print(el_in_arr)\n",
    "print(rows_mat,col_mat)"
   ]
  },
  {
   "cell_type": "code",
   "execution_count": null,
   "metadata": {
    "collapsed": true,
    "nbgrader": {
     "grade": true,
     "grade_id": "Q5.1.3",
     "locked": true,
     "points": "1",
     "solution": false
    }
   },
   "outputs": [],
   "source": [
    "###BEGIN HIDDEN TESTS\n",
    "assert el_in_arr == len(random_array) and (rows_mat, col_mat) == np.shape(random_matrix), '5.1.3 - Incorrect answer'\n",
    "###END HIDDEN TESTS"
   ]
  },
  {
   "cell_type": "markdown",
   "metadata": {
    "nbgrader": {
     "grade": false,
     "locked": true,
     "solution": false
    }
   },
   "source": [
    "<h3><code>np.arange()</code></h3><br><div style=\"text-align: justify\">Another useful function of the <b><code>numpy</code></b> module is <b><code>np.arange()</code></b>. First, let's see in the documentation what it does."
   ]
  },
  {
   "cell_type": "code",
   "execution_count": null,
   "metadata": {
    "collapsed": true,
    "nbgrader": {
     "grade": false,
     "locked": true,
     "solution": false
    }
   },
   "outputs": [],
   "source": [
    "np.arange?"
   ]
  },
  {
   "cell_type": "markdown",
   "metadata": {
    "nbgrader": {
     "grade": false,
     "locked": true,
     "solution": false
    }
   },
   "source": [
    "<div style=\"text-align: justify\">It reads:<br><br><i><code>arange([start,] stop[, step,], dtype=None, *, like=None)<br><br>Return evenly spaced values within a given interval.</code></i><br><br>To make a number range you need to choose: <br>1) the starting point,<br>2) the endpoint,<br>3) the interval between each point<br><br>The reason why it reads <b><code>[start,] stop[, step,]</code></b> with square brackets, is that the <b><code>start</code></b> and the <b><code>step</code></b> can be omitted. If not specified, <b><code>start = 0</code></b> and <b><code>step = 1</code></b>, by default.<br><br><b>Important:</b> Your endpoint is <b>not</b> included in the array. If you want to include the endpoint in the array, you have to specify the stop to be <b>endpoint + step</b>. This will be clearer in the following examples."
   ]
  },
  {
   "cell_type": "code",
   "execution_count": null,
   "metadata": {
    "collapsed": true,
    "nbgrader": {
     "grade": false,
     "locked": true,
     "solution": false
    }
   },
   "outputs": [],
   "source": [
    "arr = np.arange(5) #omitted start and step\n",
    "print('arr =', arr)"
   ]
  },
  {
   "cell_type": "markdown",
   "metadata": {
    "nbgrader": {
     "grade": false,
     "locked": true,
     "solution": false
    }
   },
   "source": [
    "As mentioned, the endpoint (5) is omitted. If you would like to include it:"
   ]
  },
  {
   "cell_type": "code",
   "execution_count": null,
   "metadata": {
    "collapsed": true,
    "nbgrader": {
     "grade": false,
     "locked": true,
     "solution": false
    }
   },
   "outputs": [],
   "source": [
    "arr = np.arange(5 + 1)\n",
    "print('arr =', arr)"
   ]
  },
  {
   "cell_type": "markdown",
   "metadata": {
    "nbgrader": {
     "grade": false,
     "locked": true,
     "solution": false
    }
   },
   "source": [
    "Now, without omiting `start` nor `step`."
   ]
  },
  {
   "cell_type": "code",
   "execution_count": null,
   "metadata": {
    "collapsed": true,
    "nbgrader": {
     "grade": false,
     "locked": true,
     "solution": false
    }
   },
   "outputs": [],
   "source": [
    "arr = np.arange(1, 2, 0.01) # without endpoint\n",
    "print('arr =', arr)"
   ]
  },
  {
   "cell_type": "code",
   "execution_count": null,
   "metadata": {
    "collapsed": true,
    "nbgrader": {
     "grade": false,
     "locked": true,
     "solution": false
    }
   },
   "outputs": [],
   "source": [
    "arr = np.arange(1, 2 + 0.01, 0.01) # including endpoint\n",
    "print('arr =', arr)"
   ]
  },
  {
   "cell_type": "markdown",
   "metadata": {
    "nbgrader": {
     "grade": false,
     "locked": true,
     "solution": false
    }
   },
   "source": [
    "You can also generate a descending array, by using negative steps"
   ]
  },
  {
   "cell_type": "code",
   "execution_count": null,
   "metadata": {
    "collapsed": true,
    "nbgrader": {
     "grade": false,
     "locked": true,
     "solution": false
    }
   },
   "outputs": [],
   "source": [
    "arr = np.arange(10,0,-1)\n",
    "print('arr =', arr)"
   ]
  },
  {
   "cell_type": "markdown",
   "metadata": {
    "nbgrader": {
     "grade": false,
     "locked": true,
     "solution": false
    }
   },
   "source": [
    "You can also sort an array in the crescent order using <b><code>np.sort()</code></b>"
   ]
  },
  {
   "cell_type": "code",
   "execution_count": null,
   "metadata": {
    "collapsed": true,
    "nbgrader": {
     "grade": false,
     "locked": true,
     "solution": false
    }
   },
   "outputs": [],
   "source": [
    "sorted_arr = np.sort(arr)\n",
    "print('sorted_arr =', sorted_arr)"
   ]
  },
  {
   "cell_type": "markdown",
   "metadata": {
    "nbgrader": {
     "grade": false,
     "locked": true,
     "solution": false
    }
   },
   "source": [
    "<div class=\"alert alert-block alert-info\"><b>Exercise 5.1.4</b><br><br><div style=\"text-align: justify\">Using the <code>np.arange()</code> function, create an array that starts in $0$, ends in $15$, and has a step of $0.5$."
   ]
  },
  {
   "cell_type": "code",
   "execution_count": null,
   "metadata": {
    "collapsed": true
   },
   "outputs": [],
   "source": [
    "'''write your code on the dots, DO NOT CHANGE THE NAME OF THE VARIABLES!'''\n",
    "\n",
    "arange_range = ...\n",
    "\n",
    "###BEGIN SOLUTION TEMPLATE=\n",
    "arange_range = np.arange(0, 15 + 0.5, 0.5)\n",
    "###END SOLUTION"
   ]
  },
  {
   "cell_type": "code",
   "execution_count": null,
   "metadata": {
    "collapsed": true,
    "nbgrader": {
     "grade": true,
     "grade_id": "Q5.1.4",
     "locked": true,
     "points": "1",
     "solution": false
    }
   },
   "outputs": [],
   "source": [
    "###BEGIN HIDDEN TESTS\n",
    "assert np.sum(np.abs(arange_range - np.arange(0, 15 + 0.5, 0.5))) <= 1e-6, '5.1.4 - Incorrect answer'\n",
    "###END HIDDEN TESTS"
   ]
  },
  {
   "cell_type": "markdown",
   "metadata": {
    "nbgrader": {
     "grade": false,
     "locked": true,
     "solution": false
    }
   },
   "source": [
    "<div class=\"alert alert-block alert-info\"><b>(Searching) Exercise 5.1.5</b><br><br><div style=\"text-align: justify\">Search the functionalities of the <code>np.linspace()</code> function, and generate an array that starts in $-6$, ends in $18$, and has a step of $0.2$."
   ]
  },
  {
   "cell_type": "code",
   "execution_count": null,
   "metadata": {
    "collapsed": true
   },
   "outputs": [],
   "source": [
    "'''write your code on the dots, DO NOT CHANGE THE NAME OF THE VARIABLES!'''\n",
    "\n",
    "linspace_range = ...\n",
    "\n",
    "###BEGIN SOLUTION TEMPLATE=\n",
    "linspace_range = np.linspace(-6,18,121)\n",
    "###END SOLUTION\n"
   ]
  },
  {
   "cell_type": "code",
   "execution_count": null,
   "metadata": {
    "collapsed": true,
    "nbgrader": {
     "grade": true,
     "grade_id": "Q5.1.5",
     "locked": true,
     "points": "1",
     "solution": false
    }
   },
   "outputs": [],
   "source": [
    "###BEGIN HIDDEN TESTS\n",
    "assert np.sum(np.abs(linspace_range - np.linspace(-6,18,121))) <= 1e-6, '5.1.5 - Incorrect answer'\n",
    "###END HIDDEN TESTS"
   ]
  },
  {
   "cell_type": "markdown",
   "metadata": {
    "nbgrader": {
     "grade": false,
     "locked": true,
     "solution": false
    }
   },
   "source": [
    "Ok, now let's create a 2D array and play with it a bit, to show some functionalities of the <b><code>numpy</code></b> module..."
   ]
  },
  {
   "cell_type": "code",
   "execution_count": null,
   "metadata": {
    "collapsed": true,
    "nbgrader": {
     "grade": false,
     "locked": true,
     "solution": false
    }
   },
   "outputs": [],
   "source": [
    "# generating a 10x11 array (10 rows, 11 columns)\n",
    "arr = np.zeros([10,11])\n",
    "np.set_printoptions(threshold=1000) # ignore, just making sure we see the entire array this time\n",
    "print(arr)"
   ]
  },
  {
   "cell_type": "code",
   "execution_count": null,
   "metadata": {
    "collapsed": true,
    "nbgrader": {
     "grade": false,
     "locked": true,
     "solution": false
    }
   },
   "outputs": [],
   "source": [
    "# now let's give it the vaules 0,1,2,3,...,109:\n",
    "cnt = 0\n",
    "for i in range(len(arr)):\n",
    "    for j in range (len(arr[0])): # since a 2D numpy array is ALWAYS regular, all rows have the\n",
    "        arr[i,j] = cnt            # same number of elements, which, in turn, is the number of columns\n",
    "        cnt+=1\n",
    "        \n",
    "print(arr)"
   ]
  },
  {
   "cell_type": "markdown",
   "metadata": {
    "nbgrader": {
     "grade": false,
     "locked": true,
     "solution": false
    }
   },
   "source": [
    "<h3>Conditions within arrays</h3><br><div style=\"text-align: justify\">Similar to what you've seen in Notebook 2, you can also use conditions to check for values within an array. Let's say you want to select the elements within <b><code>arr</code></b> that are bigger than $100$:"
   ]
  },
  {
   "cell_type": "code",
   "execution_count": null,
   "metadata": {
    "collapsed": true,
    "nbgrader": {
     "grade": false,
     "locked": true,
     "solution": false
    }
   },
   "outputs": [],
   "source": [
    "arr[arr>100]"
   ]
  },
  {
   "cell_type": "markdown",
   "metadata": {
    "nbgrader": {
     "grade": false,
     "locked": true,
     "solution": false
    }
   },
   "source": [
    "If you want to know how many elements those are, you can simply check the length:"
   ]
  },
  {
   "cell_type": "code",
   "execution_count": null,
   "metadata": {
    "collapsed": true,
    "nbgrader": {
     "grade": false,
     "locked": true,
     "solution": false
    }
   },
   "outputs": [],
   "source": [
    "len(arr[arr>100])"
   ]
  },
  {
   "cell_type": "markdown",
   "metadata": {
    "nbgrader": {
     "grade": false,
     "locked": true,
     "solution": false
    }
   },
   "source": [
    "<div style=\"text-align: justify\">Now, instead of counting how many elements are bigger than $100$, let's say you want to set all values bigger than $100$ to be $0$. You could do the following:"
   ]
  },
  {
   "cell_type": "code",
   "execution_count": null,
   "metadata": {
    "collapsed": true,
    "nbgrader": {
     "grade": false,
     "locked": true,
     "solution": false
    }
   },
   "outputs": [],
   "source": [
    "arr[arr>100] = 0\n",
    "print(arr)"
   ]
  },
  {
   "cell_type": "markdown",
   "metadata": {
    "nbgrader": {
     "grade": false,
     "locked": true,
     "solution": false
    }
   },
   "source": [
    "You can also include multiple conditions... say you want to change all values between $(50,80)$ to be $-1$, then:"
   ]
  },
  {
   "cell_type": "code",
   "execution_count": null,
   "metadata": {
    "collapsed": true,
    "nbgrader": {
     "grade": false,
     "locked": true,
     "solution": false
    }
   },
   "outputs": [],
   "source": [
    "arr[(arr>50) & (arr<80)] = -1 # note that the & means AND, so both conditions must apply\n",
    "print(arr)"
   ]
  },
  {
   "cell_type": "markdown",
   "metadata": {
    "nbgrader": {
     "grade": false,
     "locked": true,
     "solution": false
    }
   },
   "source": [
    "Say you want to change all values between $[0,10]$ or values between $[40,50)$, to $1$. Then:"
   ]
  },
  {
   "cell_type": "code",
   "execution_count": null,
   "metadata": {
    "collapsed": true,
    "nbgrader": {
     "grade": false,
     "locked": true,
     "solution": false
    }
   },
   "outputs": [],
   "source": [
    "arr[((arr>=0) & (arr<=10)) | (arr>=40) & (arr<50)] = 1 \n",
    "print(arr)"
   ]
  },
  {
   "cell_type": "markdown",
   "metadata": {
    "nbgrader": {
     "grade": false,
     "locked": true,
     "solution": false
    }
   },
   "source": [
    "<div style=\"text-align: justify\">Note: The notation $[40,50)$ means every value between $40$ and $50$, including $40$ but excluding $50$; similar to $(40 \\leq value < 50)$.<br><br>Note 2: The notation <b><code>&</code></b> means <i>'and'</i>, the notation <b><code>|</code></b> means <i>'or'</i>."
   ]
  },
  {
   "cell_type": "markdown",
   "metadata": {
    "nbgrader": {
     "grade": false,
     "locked": true,
     "solution": false
    }
   },
   "source": [
    "<h4><code>np.where()</code> and <code>np.astype()</code></h4><br><div style=\"text-align: justify\">Another useful way to modify values within your array is using the <b><code>np.where()</code></b> function. Let's see how it works."
   ]
  },
  {
   "cell_type": "code",
   "execution_count": null,
   "metadata": {
    "collapsed": true,
    "nbgrader": {
     "grade": false,
     "locked": true,
     "solution": false
    }
   },
   "outputs": [],
   "source": [
    "# resetting `arr` to be the same as before we altered it\n",
    "arr = np.zeros([10,11])\n",
    "\n",
    "cnt = 0\n",
    "for i in range(len(arr)):\n",
    "    for j in range (len(arr[0])): \n",
    "        arr[i,j] = cnt            \n",
    "        cnt+=1\n",
    "        \n",
    "# testing np.where\n",
    "\n",
    "arr2 = np.where(arr>50)\n",
    "print(type(arr2))"
   ]
  },
  {
   "cell_type": "markdown",
   "metadata": {
    "nbgrader": {
     "grade": false,
     "locked": true,
     "solution": false
    }
   },
   "source": [
    "<div style=\"text-align: justify\">Ok, so using <b><code>np.where()</code></b> returns a tuple. Let's transform it into an array, check its shape, and its elements."
   ]
  },
  {
   "cell_type": "code",
   "execution_count": null,
   "metadata": {
    "collapsed": true,
    "nbgrader": {
     "grade": false,
     "locked": true,
     "solution": false
    }
   },
   "outputs": [],
   "source": [
    "arr2 = np.array(arr2)\n",
    "print(arr2.shape)\n",
    "print('\\n\\n------------')\n",
    "print(arr2)"
   ]
  },
  {
   "cell_type": "markdown",
   "metadata": {
    "nbgrader": {
     "grade": false,
     "locked": true,
     "solution": false
    }
   },
   "source": [
    "<div style=\"text-align: justify\">Ok.. so it looks like <b><code>np.where()</code></b> returned a tuple with the index values where <b><code>arr > 50</code></b>. For instance, the first element of each row of <b><code>arr2</code></b> is the first position where <b><code>arr > 50</code></b>, so <b><code>arr[4][7]</code></b> should return $51$. Let's try it out."
   ]
  },
  {
   "cell_type": "code",
   "execution_count": null,
   "metadata": {
    "collapsed": true,
    "nbgrader": {
     "grade": false,
     "locked": true,
     "solution": false
    }
   },
   "outputs": [],
   "source": [
    "arr[4][7]"
   ]
  },
  {
   "cell_type": "markdown",
   "metadata": {
    "nbgrader": {
     "grade": false,
     "locked": true,
     "solution": false
    }
   },
   "source": [
    "<div style=\"text-align: justify\">Indeed that's how <b><code>np.where()</code></b> works. It also has similar functionality to the one we described above with <b><code>arr[arr>100] = 0</code></b>. Like this:"
   ]
  },
  {
   "cell_type": "code",
   "execution_count": null,
   "metadata": {
    "collapsed": true,
    "nbgrader": {
     "grade": false,
     "locked": true,
     "solution": false
    }
   },
   "outputs": [],
   "source": [
    "new_arr = np.where(arr>100,0,arr)\n",
    "print(new_arr)"
   ]
  },
  {
   "cell_type": "markdown",
   "metadata": {
    "nbgrader": {
     "grade": false,
     "locked": true,
     "solution": false
    }
   },
   "source": [
    "<div style=\"text-align: justify\">So, <b><code>np.where()</code></b> can be used in two ways. Either to return a tuple with the index of values that fall under the specified condition; or, to return a modified array following the specified condition.<br><Br> In the above case, <b><code>new_arr = np.where(arr>100,0,arr)</code></b> reads: <b>where</b> arr>100, <b>return</b> 0, <b>otherwise</b> return arr"
   ]
  },
  {
   "cell_type": "markdown",
   "metadata": {
    "nbgrader": {
     "grade": false,
     "locked": true,
     "solution": false
    }
   },
   "source": [
    "Lastly, we can change the type of variables within an array with the <b><code>np.astype()</code></b> function. Below a quick example:"
   ]
  },
  {
   "cell_type": "code",
   "execution_count": null,
   "metadata": {
    "collapsed": true,
    "nbgrader": {
     "grade": false,
     "locked": true,
     "solution": false
    }
   },
   "outputs": [],
   "source": [
    "arr_float = np.array([1.12,2.5,3.8], dtype='float') # creating an array of floats\n",
    "print(arr_float)"
   ]
  },
  {
   "cell_type": "code",
   "execution_count": null,
   "metadata": {
    "collapsed": true,
    "nbgrader": {
     "grade": false,
     "locked": true,
     "solution": false
    }
   },
   "outputs": [],
   "source": [
    "arr_int = arr_float.astype(int)\n",
    "print(arr_int)"
   ]
  },
  {
   "cell_type": "markdown",
   "metadata": {
    "nbgrader": {
     "grade": false,
     "locked": true,
     "solution": false
    }
   },
   "source": [
    "Well.. apparently it worked, all numbers have been rounded down to their closer integer."
   ]
  },
  {
   "cell_type": "markdown",
   "metadata": {
    "nbgrader": {
     "grade": false,
     "locked": true,
     "solution": false
    }
   },
   "source": [
    "<h3><code>np.argmax()</code> and <code>np.argmin()</code></h3><br><div style=\"text-align: justify\">Other functions that assist you in localizing some values within an array are the <b><code>np.argmax()</code></b> and <b><code>np.argmin()</code></b> functions. As the name states, they return the first index with the max (or min) value. Let's check some quick examples:"
   ]
  },
  {
   "cell_type": "code",
   "execution_count": null,
   "metadata": {
    "collapsed": true,
    "nbgrader": {
     "grade": false,
     "locked": true,
     "solution": false
    }
   },
   "outputs": [],
   "source": [
    "print(np.argmin(arr),np.argmax(arr))"
   ]
  },
  {
   "cell_type": "markdown",
   "metadata": {
    "nbgrader": {
     "grade": false,
     "locked": true,
     "solution": false
    }
   },
   "source": [
    "<div style=\"text-align: justify\">No surprises there.. the index where <code>arr</code> has its minimum value is $0$, and it has its maximum at $109$. Below an example of how these functions might be useful:"
   ]
  },
  {
   "cell_type": "markdown",
   "metadata": {
    "nbgrader": {
     "grade": false,
     "locked": true,
     "solution": false
    }
   },
   "source": [
    "<div style=\"text-align: justify\">Say you have an array with the maximum temperature of each month in the NL, and you would like to know which month had the temperature closest to $15$ degrees."
   ]
  },
  {
   "cell_type": "code",
   "execution_count": null,
   "metadata": {
    "collapsed": true,
    "nbgrader": {
     "grade": false,
     "locked": true,
     "solution": false
    }
   },
   "outputs": [],
   "source": [
    "temp_NL = np.array([3.1,3.3,6.2,9.2,13.1,15.6,17.9,17.5,14.5,10.7,6.7,3.7]) # list of temp, per month"
   ]
  },
  {
   "cell_type": "markdown",
   "metadata": {
    "nbgrader": {
     "grade": false,
     "locked": true,
     "solution": false
    }
   },
   "source": [
    "You can use the `abs()` and `np.argmin()` functions to find out which month had the temperature closest to $15$ degrees."
   ]
  },
  {
   "cell_type": "code",
   "execution_count": null,
   "metadata": {
    "collapsed": true,
    "nbgrader": {
     "grade": false,
     "locked": true,
     "solution": false
    }
   },
   "outputs": [],
   "source": [
    "dif_arr = abs(temp_NL - 15) # array with the monthly (absolute) deviations from 15 degrees, \n",
    "                            # now you only need to find where this\n",
    "                            # deviation was the smallest using np.argmin()\n",
    "    \n",
    "min_temp_indx = np.argmin(dif_arr)\n",
    "print(min_temp_indx)"
   ]
  },
  {
   "cell_type": "markdown",
   "metadata": {
    "nbgrader": {
     "grade": false,
     "locked": true,
     "solution": false
    }
   },
   "source": [
    "<div style=\"text-align: justify\">The month with the temperature closest to $15$ was the month with index $8$, which is September. (Recall 0-th based index, therefore index 8 corresponds to the $9^{th}$ month = September)."
   ]
  },
  {
   "cell_type": "markdown",
   "metadata": {
    "nbgrader": {
     "grade": false,
     "locked": true,
     "solution": false
    }
   },
   "source": [
    "<h3><code>np.transpose()</code></h3><br><div style=\"text-align: justify\">The function <code>np.transpose()</code> is another helpful function. It returns the transpose of an array (or matrix). Below some examples."
   ]
  },
  {
   "cell_type": "code",
   "execution_count": null,
   "metadata": {
    "collapsed": true,
    "nbgrader": {
     "grade": false,
     "locked": true,
     "solution": false
    }
   },
   "outputs": [],
   "source": [
    "# let's generate a (1,10) array with random int numbers between 0 and 100.\n",
    "x = np.random.randint(100,size = (1,10))\n",
    "print(x)"
   ]
  },
  {
   "cell_type": "code",
   "execution_count": null,
   "metadata": {
    "collapsed": true,
    "nbgrader": {
     "grade": false,
     "locked": true,
     "solution": false
    }
   },
   "outputs": [],
   "source": [
    "# now, if we transpose the array:\n",
    "x_transpose = np.transpose(x)\n",
    "print(x_transpose)"
   ]
  },
  {
   "cell_type": "code",
   "execution_count": null,
   "metadata": {
    "collapsed": true,
    "nbgrader": {
     "grade": false,
     "locked": true,
     "solution": false
    }
   },
   "outputs": [],
   "source": [
    "# we can also see that the new shape is (10,1)\n",
    "print(x_transpose.shape)"
   ]
  },
  {
   "cell_type": "markdown",
   "metadata": {
    "nbgrader": {
     "grade": false,
     "locked": true,
     "solution": false
    }
   },
   "source": [
    "<div style=\"text-align: justify\">Recall the equation <b>$A x = b$</b> from Linear Algebra, with $A$ being an $m$ x $n$ Matrix. Here, $A x$ only exists if  $x$ has an $n$ x $1$ shape. In this scenario, the <b><code>np.transpose()</code></b> could come in handy. Let's look at the below example."
   ]
  },
  {
   "cell_type": "code",
   "execution_count": null,
   "metadata": {
    "collapsed": true,
    "nbgrader": {
     "grade": false,
     "locked": true,
     "solution": false
    }
   },
   "outputs": [],
   "source": [
    "# generating a 10 x 10 matrix\n",
    "A = np.random.randint(10, size=(10,10))\n",
    "\n",
    "print(A)"
   ]
  },
  {
   "cell_type": "code",
   "execution_count": null,
   "metadata": {
    "collapsed": true,
    "nbgrader": {
     "grade": false,
     "locked": true,
     "solution": false
    }
   },
   "outputs": [],
   "source": [
    "# now if we try to perform Ax\n",
    "b = A@x"
   ]
  },
  {
   "cell_type": "markdown",
   "metadata": {
    "nbgrader": {
     "grade": false,
     "locked": true,
     "solution": false
    }
   },
   "source": [
    "It gives an error since <b><code>x.shape</code></b> is $1$x$10$. Now if we try with <b><code>x_tranpose</code></b>..."
   ]
  },
  {
   "cell_type": "code",
   "execution_count": null,
   "metadata": {
    "collapsed": true,
    "nbgrader": {
     "grade": false,
     "locked": true,
     "solution": false
    }
   },
   "outputs": [],
   "source": [
    "b = A@x_transpose\n",
    "print(b)"
   ]
  },
  {
   "cell_type": "markdown",
   "metadata": {
    "nbgrader": {
     "grade": false,
     "locked": true,
     "solution": false
    }
   },
   "source": [
    "It works! Finally, a quicker way to transpose an array is to use <b><code>.T</code></b>, as shown below"
   ]
  },
  {
   "cell_type": "code",
   "execution_count": null,
   "metadata": {
    "collapsed": true,
    "nbgrader": {
     "grade": false,
     "locked": true,
     "solution": false
    }
   },
   "outputs": [],
   "source": [
    "x_tranpose2 = x.T\n",
    "print(x_tranpose2)"
   ]
  },
  {
   "cell_type": "markdown",
   "metadata": {
    "nbgrader": {
     "grade": false,
     "locked": true,
     "solution": false
    }
   },
   "source": [
    "<div class=\"alert alert-block alert-info\"><b>Exercise 5.1.6</b><br><br><div style=\"text-align: justify\">In Notebook 2, you were already introduced to <code>for</code> loops. In this exercise, your task is to create a <code>for</code> loop to append integer numbers between $[0,10]$ to the list $A$."
   ]
  },
  {
   "cell_type": "code",
   "execution_count": 17,
   "metadata": {},
   "outputs": [
    {
     "name": "stdout",
     "output_type": "stream",
     "text": [
      "[0, 1, 2, 3, 4, 5, 6, 7, 8, 9, 10]\n"
     ]
    }
   ],
   "source": [
    "'''Do not change this varible!'''\n",
    "A = []\n",
    "\n",
    "# your code here\n",
    "...\n",
    "\n",
    "###BEGIN SOLUTION TEMPLATE=\n",
    "A = []\n",
    "\n",
    "for i in range(0, 10 + 1):\n",
    "    A.append(i)\n",
    "###END SOLUTION\n",
    "\n",
    "   \n",
    "print(A)"
   ]
  },
  {
   "cell_type": "code",
   "execution_count": 18,
   "metadata": {
    "nbgrader": {
     "grade": true,
     "grade_id": "Q5.1.6",
     "locked": true,
     "points": "1",
     "solution": false
    }
   },
   "outputs": [],
   "source": [
    "###BEGIN HIDDEN TESTS\n",
    "assert (A == list(range(11))), '5.1.6 - Incorrect answer'\n",
    "###END HIDDEN TESTS"
   ]
  },
  {
   "cell_type": "markdown",
   "metadata": {
    "nbgrader": {
     "grade": false,
     "locked": true,
     "solution": false
    }
   },
   "source": [
    "<div class=\"alert alert-block alert-info\"><b>Exercise 5.1.7</b><br><br><div style=\"text-align: justify\">An aeroplane is initially flying at a speed of $v_0 = 85 \\ m/s$, when it starts accelerating horizontally by exerting a force of $3000 \\ N$. An aerospace engineer wants to know its instantaneous speed, every second, for $1$ minute. The equation of air resistance is $F_{\\text{air}} = kv^2$ with $k = 0.24  \\ \\frac{kg}{m}$. The mass of the airplane is $2000 \\ kg$.<br><br>From physics we know that,<br><ol><li>$v_i = v_{i-1} + a_{i-1}(t_i-t_{i-1}) =v_{i-1} + a_{i-1}$</li><li>$F_{\\text{air},i} = k\\cdot v_i^2$</li><li>$F - F_{\\text{air},i} = m\\cdot a_i$</li></ol><br>where $t_i$ refers to the $i$-th time instant and in our case $t_i-t_{i-1}=1$ s. Your task is to return <code>v</code>, a list containing the speed of the plane at $t = 0 \\ s$, $t = 1 \\ s$, ..., $t = 60 \\ s$. (Therefore, <code>v</code> should have $61$ elements). "
   ]
  },
  {
   "cell_type": "code",
   "execution_count": 5,
   "metadata": {},
   "outputs": [
    {
     "ename": "TypeError",
     "evalue": "float() argument must be a string or a number, not 'ellipsis'",
     "output_type": "error",
     "traceback": [
      "\u001b[0;31m---------------------------------------------------------------------------\u001b[0m",
      "\u001b[0;31mTypeError\u001b[0m                                 Traceback (most recent call last)",
      "\u001b[0;32m<ipython-input-5-e30615c2c677>\u001b[0m in \u001b[0;36m<module>\u001b[0;34m\u001b[0m\n\u001b[1;32m     11\u001b[0m \u001b[0;31m# # Start your code here\u001b[0m\u001b[0;34m\u001b[0m\u001b[0;34m\u001b[0m\u001b[0m\n\u001b[1;32m     12\u001b[0m \u001b[0;32mfor\u001b[0m \u001b[0mi\u001b[0m \u001b[0;32min\u001b[0m \u001b[0mrange\u001b[0m\u001b[0;34m(\u001b[0m\u001b[0;36m1\u001b[0m\u001b[0;34m,\u001b[0m\u001b[0mlen\u001b[0m\u001b[0;34m(\u001b[0m\u001b[0mt\u001b[0m\u001b[0;34m)\u001b[0m\u001b[0;34m)\u001b[0m\u001b[0;34m:\u001b[0m\u001b[0;34m\u001b[0m\u001b[0m\n\u001b[0;32m---> 13\u001b[0;31m     \u001b[0mv\u001b[0m\u001b[0;34m[\u001b[0m\u001b[0mi\u001b[0m\u001b[0;34m]\u001b[0m \u001b[0;34m=\u001b[0m \u001b[0;34m...\u001b[0m\u001b[0;34m\u001b[0m\u001b[0m\n\u001b[0m\u001b[1;32m     14\u001b[0m     \u001b[0mF_air\u001b[0m \u001b[0;34m=\u001b[0m \u001b[0;34m...\u001b[0m\u001b[0;34m\u001b[0m\u001b[0m\n\u001b[1;32m     15\u001b[0m     \u001b[0mF_R\u001b[0m \u001b[0;34m=\u001b[0m \u001b[0;34m...\u001b[0m\u001b[0;34m\u001b[0m\u001b[0m\n",
      "\u001b[0;31mTypeError\u001b[0m: float() argument must be a string or a number, not 'ellipsis'"
     ]
    }
   ],
   "source": [
    "'''Do not change these variables!'''\n",
    "t = np.arange(0,61,1) # seconds\n",
    "v = np.zeros(len(t))\n",
    "v[0] = 85 # m/s\n",
    "a = 0\n",
    "m = 2000 # kg\n",
    "c = 0.24 # kg/m\n",
    "F = 3000 # N\n",
    "\n",
    "\n",
    "# # Start your code here\n",
    "for i in range(1,len(t)):\n",
    "    v[i] = ...\n",
    "    F_air = ...\n",
    "    F_R = ...\n",
    "    a = ...\n",
    "    \n",
    "###BEGIN SOLUTION TEMPLATE=\n",
    "for i in range(1,len(t)):\n",
    "    v[i] = v[i-1] + a\n",
    "    F_air = c * v[i]**2\n",
    "    F_R = F - F_air\n",
    "    a = F_R / m\n",
    "###END SOLUTION\n",
    "\n",
    "'''Here we will generate a plot to show the results, do not change anything below'''\n",
    "import matplotlib.pyplot as plt   \n",
    "\n",
    "fig, ax = plt.subplots()\n",
    "ax.plot(t,v)\n",
    "ax.set(ylim = (80,120), xlim = (0,60),\n",
    "title='Aeroplane speed through 1 min of constant acceleration',\n",
    "xlabel='time [s]', ylabel = 'speed [m/s]')\n",
    "plt.show()"
   ]
  },
  {
   "cell_type": "code",
   "execution_count": null,
   "metadata": {
    "collapsed": true,
    "nbgrader": {
     "grade": true,
     "grade_id": "Q5.1.7",
     "locked": true,
     "points": "1",
     "solution": false
    }
   },
   "outputs": [],
   "source": [
    "###BEGIN HIDDEN TESTS\n",
    "v_list_check = []\n",
    "a = 0\n",
    "m = 2000 # kg\n",
    "c = 0.24 # kg/m\n",
    "F = 3000 # N\n",
    "\n",
    "for i in range(len(t)):\n",
    "    if i == 0:\n",
    "        v_list_check.append(85)\n",
    "    else:\n",
    "        v_cur = v_list_check[i-1] + a\n",
    "        v_list_check.append(v_cur)\n",
    "        F_air = c*v_list_check[i]**2\n",
    "        F_R = F-F_air\n",
    "        a = F_R/m \n",
    "        \n",
    "assert np.sum(np.abs(np.array(v_list_check) - np.array(v))) <= 1e-6, '5.1.7 - Incorrect answer'\n",
    "###END HIDDEN TESTS"
   ]
  },
  {
   "cell_type": "markdown",
   "metadata": {
    "nbgrader": {
     "grade": false,
     "locked": true,
     "solution": false
    }
   },
   "source": [
    "<div style=\"text-align: justify\">If you have done the exercise correctly, the graph produced should have shown a decrease in the slope of the curve as the airplane keeps accelerating. This is due to the fact that the force produced by the plane is constant while the air resistance is quadratically related to the velocity. Therefore, a higher velocity yields a quadratic increase in air resistance; and, therefore, a smaller acceleration."
   ]
  },
  {
   "cell_type": "markdown",
   "metadata": {
    "nbgrader": {
     "grade": false,
     "locked": true,
     "solution": false
    }
   },
   "source": [
    "<h3><code>np.sum()</code></h3><br><div style=\"text-align: justify\">As the name clearly states, <b><code>np.sum()</code></b> returns the sum of an array. Let's try it out:"
   ]
  },
  {
   "cell_type": "code",
   "execution_count": null,
   "metadata": {
    "collapsed": true,
    "nbgrader": {
     "grade": false,
     "locked": true,
     "solution": false
    }
   },
   "outputs": [],
   "source": [
    "arr = ([1,2,3])\n",
    "my_sum = np.sum(arr)\n",
    "print(my_sum)"
   ]
  },
  {
   "cell_type": "markdown",
   "metadata": {
    "nbgrader": {
     "grade": false,
     "locked": true,
     "solution": false
    }
   },
   "source": [
    "Lastly, similar to <b><code>math.cos()</code></b> and <b><code>math.sin()</code></b>, <b><code>numpy</code></b> also has its mathematical functions, such as <b><code>np.cos()</code></b>, <b><code>np.sin()</code></b>, etc."
   ]
  },
  {
   "cell_type": "markdown",
   "metadata": {
    "nbgrader": {
     "grade": false,
     "locked": true,
     "solution": false
    }
   },
   "source": [
    "<div class=\"alert alert-block alert-info\"><b>Exercise 5.1.8</b><br><br><div style=\"text-align: justify\">Euler proposed that $\\pi$ can be approximated by: \n",
    "\n",
    "\\begin{equation}\n",
    "\\pi \\approx \\sqrt{6 \\sum_{k=1}^\\infty \\frac{1}{k^2}}\n",
    "\\end{equation}\n",
    "\n",
    "Since we do not have $\\infty$ in Python, let's assume the upper limit of the summation to be $1000$, instead of $\\infty$ Your task is to write a program that computes $\\pi$, using the above-proposed method, and prints the results with 5 decimal places. "
   ]
  },
  {
   "cell_type": "code",
   "execution_count": null,
   "metadata": {
    "collapsed": true
   },
   "outputs": [],
   "source": [
    "# write your code here\n",
    "k = ... # create an array with values in the interval [1,1000]\n",
    "fac = 1 / k**2\n",
    "sum_fac = ...\n",
    "pi_app = ...\n",
    "\n",
    "###BEGIN SOLUTION TEMPLATE=\n",
    "k = np.arange(1, 1001, 1) # create an array with values in the interval [1,1000]\n",
    "fac = 1 / k**2\n",
    "sum_fac = np.sum(fac)\n",
    "pi_app = np.sqrt(6 * sum_fac)\n",
    "\n",
    "###END SOLUTION\n",
    "\n",
    "print(pi_app)"
   ]
  },
  {
   "cell_type": "code",
   "execution_count": null,
   "metadata": {
    "collapsed": true,
    "nbgrader": {
     "grade": true,
     "grade_id": "Q5.1.8",
     "locked": true,
     "points": "1",
     "solution": false
    }
   },
   "outputs": [],
   "source": [
    "###BEGIN HIDDEN TESTS\n",
    "assert abs(pi_app - 3.14063805) <= 1e-6, '5.1.8 - Incorrect answer'\n",
    "###END HIDDEN TESTS"
   ]
  },
  {
   "cell_type": "markdown",
   "metadata": {
    "nbgrader": {
     "grade": false,
     "locked": true,
     "solution": false
    }
   },
   "source": [
    "<div id=\"5.2\"><br><h2>5.2 <code>Matplotlib</code> (in-depth)</h2><br><div style=\"text-align: justify\">Matplotlib is a Python module that allows you to create visualizations. Until now, you have probably used Excel to make graphs, but Python offers much more versatility. In this section, you will learn how to use <b><code>matplotlib</code></b> to make good-looking graphs.\n",
    "</div>"
   ]
  },
  {
   "cell_type": "code",
   "execution_count": 6,
   "metadata": {
    "collapsed": true,
    "nbgrader": {
     "grade": false,
     "locked": true,
     "solution": false
    }
   },
   "outputs": [],
   "source": [
    "# as always, let's import the module\n",
    "import matplotlib.pyplot as plt\n",
    "\n",
    "# another way to import pyplot is\n",
    "from matplotlib import pyplot as plt"
   ]
  },
  {
   "cell_type": "markdown",
   "metadata": {
    "nbgrader": {
     "grade": false,
     "locked": true,
     "solution": false
    }
   },
   "source": [
    "From the <b><code>matplotlib</code></b> library we will discuss the following functions:\n",
    "- <b><code>plt.subplot()</code></b>\n",
    "- <b><code>plt.plot()</code></b>\n",
    "- <b><code>plt.title()</code></b>\n",
    "- <b><code>plt.suptitle()</code></b>\n",
    "- <b><code>plt.xlabel()</code></b> and <b><code>plt.ylabel()</code></b>\n",
    "- <b><code>plt.xlim()</code></b> and <b><code>plt.ylim()</code></b>\n",
    "- <b><code>plt.legend()</code></b>\n",
    "- <b><code>plt.grid()</code></b>\n",
    "- <b><code>plt.show()</code></b>\n",
    "- <b><code>plt.close()</code></b>"
   ]
  },
  {
   "cell_type": "markdown",
   "metadata": {
    "nbgrader": {
     "grade": false,
     "locked": true,
     "solution": false
    }
   },
   "source": [
    "<h3>Examples</h3><br>\n",
    "Below are some examples to show what <code>matplotlib</code> can do."
   ]
  },
  {
   "cell_type": "code",
   "execution_count": null,
   "metadata": {
    "collapsed": true,
    "nbgrader": {
     "grade": false,
     "locked": true,
     "solution": false
    }
   },
   "outputs": [],
   "source": [
    "# Example 1 - fill_between\n",
    "\n",
    "x = np.linspace(0, 8, 16) # generating x-values\n",
    "\n",
    "y1 = 3 + 0.5*x + np.random.uniform(0.0, 0.5, len(x)) # random function F(x)\n",
    "y2 = 1 + 0.25*x + np.random.uniform(0.0, 0.5, len(x)) # another random function F(x)\n",
    "\n",
    "fig, ax = plt.subplots(figsize=(10,10)) # initialize how many plots you need; in this case: 1.\n",
    "                                        # figsize sets the figure size as you want, default is (8,6)\n",
    "\n",
    "ax.fill_between(x, y1, y2, alpha=0.1, linewidth=2,color=\"red\") # plots y1 and y2 (top and bottom of the shaded area)\n",
    "                                                               # in light red, and fills in between\n",
    "    \n",
    "ax.plot(x, (y1 + y2)/2, linewidth=2,color=\"red\") # plots the half-way between y1 and y2: the red line in the middle\n",
    "\n",
    "ax.set(xlim=(0, 8), xticks=np.arange(0, 8,.5), # xlim and ylim sets the limit of the plot (from 0 to 8)\n",
    "       ylim=(0, 8), yticks=np.arange(0, 8)) # xticks and yticks sets how many ticks you want on x- and y- axis\n",
    "\n",
    "ax.grid() # include the grid that you see below\n",
    "plt.show() # display the figure"
   ]
  },
  {
   "cell_type": "code",
   "execution_count": null,
   "metadata": {
    "collapsed": true,
    "nbgrader": {
     "grade": false,
     "locked": true,
     "solution": false
    }
   },
   "outputs": [],
   "source": [
    "# Example 2 - scatter plot (showcase - no explanations)\n",
    "\n",
    "x = 4 + np.random.normal(0, 2, 24)\n",
    "y = 4 + np.random.normal(0, 2, len(x))\n",
    "\n",
    "# size and color:\n",
    "sizes = np.random.uniform(15, 80, len(x))\n",
    "colors = np.random.uniform(15, 80, len(x))\n",
    "\n",
    "# plot\n",
    "fig, ax = plt.subplots(figsize = (8,6))\n",
    "\n",
    "ax.scatter(x, y, s=sizes, c=colors, vmin=0, vmax=100)\n",
    "\n",
    "ax.set(xlim=(0, 8), xticks=np.arange(1, 8),\n",
    "       ylim=(0, 8), yticks=np.arange(1, 8))\n",
    "\n",
    "plt.show()"
   ]
  },
  {
   "cell_type": "markdown",
   "metadata": {
    "nbgrader": {
     "grade": false,
     "locked": true,
     "solution": false
    }
   },
   "source": [
    "<h3>Your first graph</h3><br><div style=\"text-align: justify\">Let's create your first graph using <b><code>matplotlib</code></b>. Most of the functions in <b><code>matplotlib</code></b> are located under <b><code>pyplot</code></b>, which we imported as <b><code>plt</code></b> in the first code block of this Section."
   ]
  },
  {
   "cell_type": "code",
   "execution_count": null,
   "metadata": {
    "collapsed": true,
    "nbgrader": {
     "grade": false,
     "locked": true,
     "solution": false
    }
   },
   "outputs": [],
   "source": [
    "# Use numpy to create an array which acts as our x-axis\n",
    "x = np.linspace(0,10)\n",
    "\n",
    "# Make a simple line equation\n",
    "y = 3*x + 5\n",
    "\n",
    "# Initialize the plot\n",
    "fig, ax = plt.subplots()\n",
    "\n",
    "# Plot x and y together\n",
    "ax.plot(x, y)\n",
    "\n",
    "plt.show()"
   ]
  },
  {
   "cell_type": "markdown",
   "metadata": {
    "nbgrader": {
     "grade": false,
     "locked": true,
     "solution": false
    }
   },
   "source": [
    "As you can see there are a few things wrong with this plot: <br>\n",
    "- The axes do not start at (0,0)\n",
    "- There are no axes labels\n",
    "- There is no title\n",
    "\n",
    "Let's address them one by one:"
   ]
  },
  {
   "cell_type": "code",
   "execution_count": null,
   "metadata": {
    "collapsed": true,
    "nbgrader": {
     "grade": false,
     "locked": true,
     "solution": false
    }
   },
   "outputs": [],
   "source": [
    "# Use numpy to create an array which acts as our x-axis\n",
    "x = np.linspace(0,10)\n",
    "\n",
    "# Make a simple line plot\n",
    "y = 3*x + 5\n",
    "\n",
    "# Initialize plot\n",
    "fig, ax = plt.subplots()\n",
    "\n",
    "# SET LIMIT OF X- AND Y- AXIS, TO START AT 0,0\n",
    "ax.set_xlim(0,10)\n",
    "ax.set_ylim(0,40)\n",
    "\n",
    "# SET AXES LABELS\n",
    "ax.set_xlabel('time [s]', fontsize=12)\n",
    "ax.set_ylabel('distance [m]', fontsize=12)\n",
    "\n",
    "\n",
    "# SET TITLE OF PLOT\n",
    "ax.set_title('Linear velocity [m/s]', fontsize=18)\n",
    "\n",
    "# Plot x and y together\n",
    "plt.plot(x, y) \n",
    "plt.show()"
   ]
  },
  {
   "cell_type": "markdown",
   "metadata": {
    "nbgrader": {
     "grade": false,
     "locked": true,
     "solution": false
    }
   },
   "source": [
    "<div style=\"text-align: justify\">This graph already looks much better! Before we start with the exercises, let's break down some functions of <b><code>matplotlib</code></b> and their capabilities."
   ]
  },
  {
   "cell_type": "code",
   "execution_count": null,
   "metadata": {
    "collapsed": true,
    "nbgrader": {
     "grade": false,
     "locked": true,
     "solution": false
    }
   },
   "outputs": [],
   "source": [
    "# below is a quick way to change parameters of ALL plots you do in your Notebook after running this code\n",
    "# you can change the title size, label size, tick sizes, and much more.\n",
    "\n",
    "parameters = {'axes.labelsize':25, 'axes.titlesize':35} # these two lines change the fontsize of ALL labels\n",
    "plt.rcParams.update(parameters)                         # and ALL titles, \n",
    "\n",
    "\n",
    "plt.rcParams.update(plt.rcParamsDefault)   # this line returns ALL parameters back to default"
   ]
  },
  {
   "cell_type": "code",
   "execution_count": null,
   "metadata": {
    "collapsed": true,
    "nbgrader": {
     "grade": false,
     "locked": false,
     "solution": false
    }
   },
   "outputs": [],
   "source": [
    "#################### fig, ax = plt.subplots() ####################\n",
    "\n",
    "# is the easiest way to initialize your plot, it is useful as you can already include parameters \n",
    "# for the figure (eg: size) and parameters for the different axes (eg: shared x or shared y values)\n",
    "\n",
    "# for example, let's say we want to show 6 plots simultaneously, \n",
    "# and they should share the same x-ticks if in the same column, and \n",
    "# the same y-ticks if in the same row, then we can do the following:\n",
    "fig, ((ax1,ax2),(ax3,ax4),(ax5,ax6)) = plt.subplots(3,2, figsize=(15,10), sharex='col',sharey='row') \n",
    "\n",
    "# above we specified plt.subplots(3,2,...), this means 3 rows and 2 columns of plots\n",
    "# that is why we specified the axis as we did (ax1,ax2) => first row, (ax3,ax4) => second row,\n",
    "# (ax5,a6) => third row, etc...\n",
    "\n",
    "#################### ax.plot() ####################\n",
    "\n",
    "# allows you to plot your functions, and also set parameters to the plot\n",
    "x = np.arange(0,20,0.1) # setting x-values: from 0 to 20 with small steps \n",
    "\n",
    "# below, plot of 6 different functions, each with some examples of different parameters\n",
    "ax1.plot(x, np.sin(x), 'r--', linewidth = 1) # r-- : red dashed lines, linewidth = 1: thin lines\n",
    "ax2.plot(x, np.cos(x)) # use defaults\n",
    "ax3.plot(x, np.sin(x)**2,'r+') # 'r+'' -> r+ : red +-signs\n",
    "ax4.plot(x, np.cos(x)**2,'b', linewidth = 12) # b : blue, linewidth = 12: very thick lines\n",
    "ax5.plot(x, np.sin(x)**3, 'go') # go : green circles\n",
    "ax6.plot(x, np.cos(x)**3) # use defaults\n",
    "\n",
    "#################### ax.set() ####################\n",
    "# allows you to set the parameters for each plot\n",
    "ax1.set(title='ax1', xlabel='x-label', ylabel='y-label', # having all parameters in one\n",
    "        xlim=(0,6), ylim=(-1.5,1.5),                     # this way doesn't allow you to change the fontsize\n",
    "        )                                                # of each parameter\n",
    "\n",
    "\n",
    "\n",
    "# ax2.set(ylabel='a', ylim=(-2,2)) # note that if you uncomment this line you will\n",
    "                                   # see that it overwrites the ylim=(-1.5,1.5) \n",
    "                                   # from ax1.set(); since ax1 and ax2 are sharing the same y-axis \n",
    "\n",
    "        \n",
    "ax3.set_title('ax3', fontsize=16) # another way of setting your title, this way allows you to change fontsize\n",
    "ax3.set_xlim(0,8) # another way of setting your xlim, or xlabel, ylabel, ylim also works..\n",
    "\n",
    "\n",
    "fig.suptitle('ALL MY 6 PLOTS', fontsize=24) # title of the whole thang, different font size\n",
    "\n",
    "\n",
    "ax1.grid() # if you want grid on your plots, you chose the axes you want it\n",
    "\n",
    "\n",
    "plt.show() # display the figure\n",
    "\n",
    "\n",
    "\n",
    "#################### FEEL FREE TO EDIT THIS CELL AND PLAY AROUND WITH THE FEATURES ####################"
   ]
  },
  {
   "cell_type": "markdown",
   "metadata": {
    "nbgrader": {
     "grade": false,
     "locked": true,
     "solution": false
    }
   },
   "source": [
    "<div class=\"alert alert-block alert-info\"><b>Exercise 5.2.1</b><br><br><div style=\"text-align: justify\">Plot the function $y = x^2$ from $-10 \\leq x \\leq 10$. Use proper axes labels, axes limits, and grid.\n",
    "</div>"
   ]
  },
  {
   "cell_type": "code",
   "execution_count": 11,
   "metadata": {},
   "outputs": [
    {
     "data": {
      "text/plain": [
       "(-10.0, 10.0)"
      ]
     },
     "execution_count": 11,
     "metadata": {},
     "output_type": "execute_result"
    },
    {
     "data": {
      "image/png": "[encoded data removed]",
      "text/plain": [
       "<Figure size 432x288 with 1 Axes>"
      ]
     },
     "metadata": {
      "needs_background": "light"
     },
     "output_type": "display_data"
    }
   ],
   "source": [
    "# your code here\n",
    "#...\n",
    "\n",
    "###BEGIN SOLUTION TEMPLATE=\n",
    "x = np.linspace(-10, 10, 201)\n",
    "y = x ** 2\n",
    "\n",
    "plt.plot(x, y)\n",
    "plt.grid()\n",
    "plt.xlabel('x')\n",
    "plt.ylabel('y')\n",
    "plt.ylim(0, 100)\n",
    "plt.xlim(-10, 10)\n",
    "###END SOLUTION"
   ]
  },
  {
   "cell_type": "markdown",
   "metadata": {
    "nbgrader": {
     "grade": false,
     "locked": true,
     "solution": false
    }
   },
   "source": [
    "<div class=\"alert alert-block alert-info\"><b>Exercise 5.2.2</b><br><br><div style=\"text-align: justify\">We will now read in a dataset with eruption data of the Old Faithful geyser in Yellowstone, in which $T$ is the duration of an eruption, and $W$ the time until the next eruption. Make a scatterplot of the two data arrays <code>T</code> and <code>W</code>, that are loaded below. \n",
    "</div>"
   ]
  },
  {
   "cell_type": "code",
   "execution_count": 4,
   "metadata": {},
   "outputs": [
    {
     "ename": "NameError",
     "evalue": "name 'plt' is not defined",
     "output_type": "error",
     "traceback": [
      "\u001b[0;31m---------------------------------------------------------------------------\u001b[0m",
      "\u001b[0;31mNameError\u001b[0m                                 Traceback (most recent call last)",
      "\u001b[0;32m<ipython-input-4-687749cebfd4>\u001b[0m in \u001b[0;36m<module>\u001b[0;34m\u001b[0m\n\u001b[1;32m     13\u001b[0m \u001b[0;34m\u001b[0m\u001b[0m\n\u001b[1;32m     14\u001b[0m \u001b[0;31m###BEGIN SOLUTION TEMPLATE=\u001b[0m\u001b[0;34m\u001b[0m\u001b[0;34m\u001b[0m\u001b[0m\n\u001b[0;32m---> 15\u001b[0;31m \u001b[0mplt\u001b[0m\u001b[0;34m.\u001b[0m\u001b[0mscatter\u001b[0m\u001b[0;34m(\u001b[0m\u001b[0mT\u001b[0m\u001b[0;34m,\u001b[0m \u001b[0mW\u001b[0m\u001b[0;34m)\u001b[0m\u001b[0;34m\u001b[0m\u001b[0m\n\u001b[0m\u001b[1;32m     16\u001b[0m \u001b[0mplt\u001b[0m\u001b[0;34m.\u001b[0m\u001b[0mgrid\u001b[0m\u001b[0;34m(\u001b[0m\u001b[0;34m)\u001b[0m\u001b[0;34m\u001b[0m\u001b[0m\n\u001b[1;32m     17\u001b[0m \u001b[0mplt\u001b[0m\u001b[0;34m.\u001b[0m\u001b[0mxlabel\u001b[0m\u001b[0;34m(\u001b[0m\u001b[0;34m'Waiting Time [s]'\u001b[0m\u001b[0;34m)\u001b[0m\u001b[0;34m\u001b[0m\u001b[0m\n",
      "\u001b[0;31mNameError\u001b[0m: name 'plt' is not defined"
     ]
    }
   ],
   "source": [
    "'DO NOT CHANGE THESE VARIABLES'\n",
    "\n",
    "import pandas as pd # You will learn about pandas in Notebook 6\n",
    "\n",
    "path = '../resource/lib/publicdata/'\n",
    "\n",
    "DATA = pd.read_excel(path + 'OldFaithful.xlsx')  \n",
    "T = np.array(DATA['eruption'])\n",
    "W = np.array(DATA['waiting'])\n",
    "\n",
    "#Start your code here\n",
    "...\n",
    "\n",
    "###BEGIN SOLUTION TEMPLATE=\n",
    "plt.scatter(T, W)\n",
    "plt.grid()\n",
    "plt.xlabel('Waiting Time [s]')\n",
    "plt.ylabel('Eruption Magnitude [-]')\n",
    "###END SOLUTION"
   ]
  },
  {
   "cell_type": "markdown",
   "metadata": {
    "nbgrader": {
     "grade": false,
     "locked": true,
     "solution": false
    }
   },
   "source": [
    "<div class=\"alert alert-block alert-warning\"><center>A scatterplot is a useful type of plot to gauge the correlation between two quantitative data. You will learn more about this in the course AESB1213 Probability and Statistics, in Q3.\n"
   ]
  },
  {
   "cell_type": "markdown",
   "metadata": {
    "nbgrader": {
     "grade": false,
     "locked": true,
     "solution": false
    }
   },
   "source": [
    "<h4>Common errors</h4><br><div style=\"text-align: justify\">A common error when plotting arrays is the <i>dimension mismatch</i>. This happens when the two arrays that you are trying to plot do not have the same size, see the example below."
   ]
  },
  {
   "cell_type": "code",
   "execution_count": null,
   "metadata": {
    "collapsed": true,
    "nbgrader": {
     "grade": false,
     "locked": true,
     "solution": false
    }
   },
   "outputs": [],
   "source": [
    "x = [1,2,3,4,5,6,7,8,9,10]\n",
    "y = [2,4,6,8,10]\n",
    "\n",
    "plt.plot(x,y)\n",
    "plt.show()"
   ]
  },
  {
   "cell_type": "markdown",
   "metadata": {
    "nbgrader": {
     "grade": false,
     "locked": true,
     "solution": false
    }
   },
   "source": [
    "<div style=\"text-align: justify\">Below, a last advanced example of the usage of <b><code>matplotlib</code></b> to plot, showing some customization options you could use. You can study it, or save the code so you can use it later."
   ]
  },
  {
   "cell_type": "code",
   "execution_count": null,
   "metadata": {
    "collapsed": true,
    "nbgrader": {
     "grade": false,
     "locked": true,
     "solution": false
    }
   },
   "outputs": [],
   "source": [
    "# set the x axis range\n",
    "x = np.linspace(0,2*np.pi)\n",
    " \n",
    "# calculate sin(x) and cos(x) \n",
    "y = np.sin(x)\n",
    "z = np.cos(x)\n",
    "\n",
    "# initialize the plot and set the size\n",
    "fig, ax = plt.subplots(figsize=(8,4))\n",
    "\n",
    "# specify where the y ticks are, and what they are called\n",
    "ytick_values = np.array([-1,-np.sqrt(3)/2,-np.sqrt(2)/2,-0.5,0,0.5,np.sqrt(2)/2,np.sqrt(3)/2,1])\n",
    "ytick_labels = np.array([\"-1\",\"$-\\dfrac{\\sqrt{3}}{2}$\",\"$-\\dfrac{\\sqrt{2}}{2}$\",\"$-\\dfrac{1}{2}$\",\"0\",\n",
    "                         \"$\\dfrac{1}{2}$\",\"$\\dfrac{\\sqrt{2}}{2}$\",\"$\\dfrac{\\sqrt{3}}{2}$\",\"1\"])\n",
    "\n",
    "# specify where the x labels are, and what they are called.\n",
    "xtick_values = np.array([0, np.pi/6, np.pi/4, np.pi/3, np.pi/2, (2*np.pi)/3, 0.75*np.pi, \n",
    "                         (5/6)*np.pi, np.pi, (7/6)*np.pi, (5/4)*np.pi, (4/3)*np.pi, np.pi*(3/2), \n",
    "                         (5/3)*np.pi, (7/4)*np.pi, (11/6)*np.pi, np.pi*2])\n",
    "xtick_labels = np.array([\"0\",\"$\\dfrac{\\pi}{6}$\",\"$\\dfrac{\\pi}{4}$\",\"$\\dfrac{\\pi}{3}$\",\n",
    "                         \"$\\dfrac{\\pi}{2}$\",\"$\\dfrac{2\\pi}{3}$\",\"$\\dfrac{3\\pi}{4}$\",\"$\\dfrac{5\\pi}{6}$\",\n",
    "                         \"$\\pi$\",\"$\\dfrac{7\\pi}{6}$\",\"$\\dfrac{5\\pi}{4}$\",\"$\\dfrac{4\\pi}{3}$\",\"$\\dfrac{3\\pi}{2}$\",\n",
    "                         \"$\\dfrac{5\\pi}{3}$,\",\"$\\dfrac{7\\pi}{4}$\",\"$\\dfrac{11\\pi}{6}$\",\"$2\\pi$\"])\n",
    "\n",
    "\n",
    "# plot the two functions\n",
    "ax.plot(x,y, label=\"$sin(x)$\")\n",
    "ax.plot(x,z, color=\"lightblue\", label=\"$cos(x)$\")\n",
    "\n",
    "\n",
    "# add the title\n",
    "ax.set_title(\"Trigonometric Functions\",fontsize=16)\n",
    "\n",
    "# add a legend\n",
    "ax.legend(fontsize=14)\n",
    "\n",
    "\n",
    "# add a grid\n",
    "ax.grid()\n",
    "\n",
    "# add the y labels and x labels\n",
    "ax.set_xticks(xtick_values,xtick_labels);\n",
    "ax.set_yticks(ytick_values,ytick_labels);\n",
    "\n",
    "\n",
    "plt.show() #display the plots"
   ]
  },
  {
   "cell_type": "markdown",
   "metadata": {
    "nbgrader": {
     "grade": false,
     "locked": true,
     "solution": false
    }
   },
   "source": [
    "<div style=\"text-align: justify\">Lastly, <b><code>matplotlib</code></b> can also create 3D plots. Below is a simple example. Play around with it! You can try to plot different functions, larger ranges, or anything you want. "
   ]
  },
  {
   "cell_type": "code",
   "execution_count": null,
   "metadata": {
    "collapsed": true,
    "nbgrader": {
     "grade": false,
     "locked": true,
     "solution": false
    }
   },
   "outputs": [],
   "source": [
    "# This keyword allows you to manipulate the figure (see the buttons below the figure that will appear)\n",
    "%matplotlib notebook\n",
    "\n",
    "# specify the coordinate range\n",
    "x = np.linspace(-10,10)\n",
    "y = np.linspace(-10,10)\n",
    "\n",
    "# create a 2d grid out of each 1d coordinate array\n",
    "X, Y = np.meshgrid(x,y)\n",
    "\n",
    "# function to be plotted\n",
    "Z = X**2 + Y**2\n",
    "\n",
    "ax = plt.axes(projection =\"3d\")\n",
    "ax.plot_wireframe(X,Y,Z)\n",
    "\n",
    "plt.show()"
   ]
  },
  {
   "cell_type": "markdown",
   "metadata": {
    "nbgrader": {
     "grade": false,
     "locked": true,
     "solution": false
    }
   },
   "source": [
    "<div class=\"alert alert-block alert-info\"><b>(Searching) Exercise 5.2.3</b><br><br><div style=\"text-align: justify\"> Create an array <code>x</code> consisting of $100$ elements within the $[0,20]$ range. Compute $y = sin(x)$ and plot $y$ vs. $x$ with a black line. Next, create a copy of $y$ called $y_{copy}$ and replace all values of $y_{copy}$ that are larger than $0.5$ to be $0.5$, and all values that are smaller than $-0.5$ to be $-0.5$. Then, plot the modified $y_{copy}$ in the same plot, using a red dotted line."
   ]
  },
  {
   "cell_type": "code",
   "execution_count": 10,
   "metadata": {},
   "outputs": [
    {
     "data": {
      "text/plain": [
       "[<matplotlib.lines.Line2D at 0x7f509dff1250>]"
      ]
     },
     "execution_count": 10,
     "metadata": {},
     "output_type": "execute_result"
    },
    {
     "data": {
      "image/png": "[encoded data removed]",
      "text/plain": [
       "<Figure size 432x288 with 1 Axes>"
      ]
     },
     "metadata": {
      "needs_background": "light"
     },
     "output_type": "display_data"
    }
   ],
   "source": [
    "# your code here\n",
    "...\n",
    "\n",
    "###BEGIN SOLUTION TEMPLATE=\n",
    "x = np.linspace(0, 20, 100)\n",
    "y = np.sin(x)\n",
    "\n",
    "plt.plot(x, y, 'k')\n",
    "\n",
    "y_copy = y.copy()\n",
    "y_copy[y_copy > 0.5] = 0.5\n",
    "y_copy[y_copy < -0.5] = -0.5\n",
    "\n",
    "plt.plot(x, y_copy, 'r.')\n",
    "###END SOLUTION"
   ]
  },
  {
   "cell_type": "markdown",
   "metadata": {
    "nbgrader": {
     "grade": false,
     "locked": true,
     "solution": false
    }
   },
   "source": [
    "<div class=\"alert alert-block alert-info\"><b>(Searching) Exercise 5.2.4</b><br><br><div style=\"text-align: justify\">The file <b>arr.txt</b> contains $1000$ randomly chosen $x,y$ locations of points; both $x$ and $y$ vary between $-10$ and $10$. Load the data using <code>np.loadtxt()</code>, and store the first row of the array in an array called <code>x</code> and the second row in an array called <code>y</code>. First, plot a red dot for all points. Then, on the same graph, plot a blue dot for all $x,y$ points where $x<-2$ and $-5\\le y \\le 0$. Finally, plot a green dot for any point that lies in the circle with center $(x_c,y_c)=(2.5,0)$ and with radius $R=5.0$.<br><br><i>Hint: it may be useful to compute a new array for the radial distance $r$ between any point and the center of the circle using the formula $r=\\sqrt{(x-x_c)^2+(y-y_c)^2}$. Lastly, use the <code>plt.axis('equal')</code> command to make sure the scales along the two axes are equal and the circular green area looks like a circle."
   ]
  },
  {
   "cell_type": "code",
   "execution_count": 10,
   "metadata": {},
   "outputs": [
    {
     "data": {
      "text/plain": [
       "(-10.97765827521957,\n",
       " 10.99069498806333,\n",
       " -10.984650819946767,\n",
       " 10.988163203275704)"
      ]
     },
     "execution_count": 10,
     "metadata": {},
     "output_type": "execute_result"
    },
    {
     "data": {
      "image/png": "[encoded data removed]",
      "text/plain": [
       "<Figure size 432x288 with 1 Axes>"
      ]
     },
     "metadata": {
      "needs_background": "light"
     },
     "output_type": "display_data"
    }
   ],
   "source": [
    "# your code here\n",
    "...\n",
    "\n",
    "###BEGIN SOLUTION TEMPLATE=\n",
    "file = np.loadtxt(path + 'arr.txt')\n",
    "x = file[0]\n",
    "y = file[1]\n",
    "\n",
    "plt.plot(x, y, 'r.')\n",
    "\n",
    "mask_blue = (x < -2) & (y >= -5) & (y <= 0)\n",
    "plt.plot(x[mask_blue], y[mask_blue], 'b.')\n",
    "\n",
    "x_c, y_c = 2.5, 0\n",
    "r = np.sqrt((x - x_c)**2 + (y - y_c)**2)\n",
    "mask_green = r <= 5\n",
    "\n",
    "plt.plot(x[mask_green], y[mask_green], 'g.')\n",
    "plt.axis('equal')\n",
    "###END SOLUTION"
   ]
  },
  {
   "cell_type": "markdown",
   "metadata": {
    "nbgrader": {
     "grade": false,
     "locked": true,
     "solution": false
    }
   },
   "source": [
    "<h3>After this Notebook you should be able to:</h3>\n",
    "\n",
    "- Construct N-dimensional arrays and matrices using `numpy`.\n",
    "- understand some of the important functions from `numpy`.\n",
    "- Construct various types of plots using `matplotlib`\n",
    "- Set and edit different parameters of `matplotlib` plots\n",
    "- Combine `numpy` and `matplotlib` libraries to plot functions and datasets"
   ]
  },
  {
   "cell_type": "code",
   "execution_count": null,
   "metadata": {
    "collapsed": true
   },
   "outputs": [],
   "source": []
  }
 ],
 "metadata": {
  "kernelspec": {
   "display_name": "Python 3 [3.7]",
   "language": "python",
   "name": "python3"
  },
  "language_info": {
   "codemirror_mode": {
    "name": "ipython",
    "version": 3
   },
   "file_extension": ".py",
   "mimetype": "text/x-python",
   "name": "python",
   "nbconvert_exporter": "python",
   "pygments_lexer": "ipython3",
   "version": "3.7.5"
  },
  "latex_envs": {
   "LaTeX_envs_menu_present": true,
   "autoclose": false,
   "autocomplete": true,
   "bibliofile": "biblio.bib",
   "cite_by": "apalike",
   "current_citInitial": 1,
   "eqLabelWithNumbers": true,
   "eqNumInitial": 1,
   "hotkeys": {
    "equation": "Ctrl-E",
    "itemize": "Ctrl-I"
   },
   "labels_anchors": false,
   "latex_user_defs": false,
   "report_style_numbering": false,
   "user_envs_cfg": false
  }
 },
 "nbformat": 4,
 "nbformat_minor": 2
}
