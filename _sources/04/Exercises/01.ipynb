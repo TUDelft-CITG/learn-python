{
 "cells": [
  {
   "attachments": {},
   "cell_type": "markdown",
   "metadata": {
    "nbgrader": {
     "grade": false,
     "locked": true,
     "solution": false
    }
   },
   "source": [
    "<figure>\n",
    "  <IMG SRC=\"https://raw.githubusercontent.com/mbakker7/exploratory_computing_with_python/master/tudelft_logo.png\" WIDTH=250 ALIGN=\"right\">\n",
    "</figure>\n",
    "\n",
    "# Exercises\n"
   ]
  },
  {
   "attachments": {},
   "cell_type": "markdown",
   "metadata": {},
   "source": [
    "You can easily start a live Jupyter session in the cloud directly from this book. To do this, just click on the Launch Button ({fa}`rocket`) located above on this page.\n",
    "\n",
    "You have a few options to choose from:\n",
    "\n",
    "1. Launch on Binder: By selecting this option, you can instantly launch a live Jupyter session using Binder.\n",
    "2. Launch on Google Colab: This option allows you to launch a live Jupyter session using Google Colab.\n",
    "\n",
    "Alternatively, you can also click on the *Jupyter Lite session* link, which will open a new tab where you can freely write and run your code."
   ]
  },
  {
   "cell_type": "code",
   "execution_count": 1,
   "metadata": {
    "tags": [
     "remove-input"
    ]
   },
   "outputs": [],
   "source": [
    "# ##-On Google colab uncomment and run the following code\n",
    "# ## to install and import the function that will be used to check your answers.\n",
    "# !pip install learn-python-check\n",
    "\n",
    "# ##-On Binder just uncomment and run the following line\n",
    "# import learn_python_check.check_answers as check"
   ]
  },
  {
   "attachments": {},
   "cell_type": "markdown",
   "metadata": {},
   "source": [
    "`````{admonition} Jupyter Lite session\n",
    ":class: tip\n",
    "You can start a Jupiter lite session <a href=\"https://tudelft-citg.github.io/learn-python-calculator/repl/index.html?toolbar=1&kernel=python&code=import pandas as pd; import data.check_answers as check; print('You may begin!')\" target=\"_blank\">here</a>\n",
    "\n",
    "Wait until the message \"<tt>You may begin!</tt>\" is printed. \n",
    "`````"
   ]
  },
  {
   "attachments": {},
   "cell_type": "markdown",
   "metadata": {
    "nbgrader": {
     "grade": false,
     "locked": true,
     "solution": false
    }
   },
   "source": [
    "## (Fixing) Exercise 4.1.1\n",
    "\n",
    "Let's assume that you develop a login interface for an international oil company; which, as the title international suggests, works internationally. Thus, a lot of clients worldwide expect to see data in their favorite units. The company has hired an intern to output temperatures in Celsius and Fahrenheit, from the provided temperature in Kelvin. But something went wrong, the code doesn't work and now the intern is gone. So, the burden of fixing the code is, yet again, put on your shoulders."
   ]
  },
  {
   "cell_type": "code",
   "execution_count": 2,
   "metadata": {
    "collapsed": true
   },
   "outputs": [
    {
     "name": "stdout",
     "output_type": "stream",
     "text": [
      "-771.340  °C | -771.340  °F (ID=4)\r"
     ]
    }
   ],
   "source": [
    "import time\n",
    "\n",
    "def get_display_temperature(temperature_kelvin):\n",
    "    # copying temporarily temperature_kelvin to temperature_celsius\n",
    "    temperature_celsius = temperature_kelvin\n",
    "    \n",
    "    # converting kelvin to celsius\n",
    "    for i in range(len(temperature_celsius)):\n",
    "        temperature_celsius[i] = temperature_celsius[i] - 273.15\n",
    "        \n",
    "    # copying temporarily temperature_kelvin to temperature_fahrenheit\n",
    "    temperature_fahrenheit = temperature_kelvin\n",
    "    \n",
    "    # converting kelvin to fahrenheit\n",
    "    for i in range(len(temperature_fahrenheit)):\n",
    "        temperature_fahrenheit[i] = (temperature_fahrenheit[i] - 273.15) * (9 / 5) + 32\n",
    "    \n",
    "    # now, creating display messages from the converted temperatures\n",
    "    display_messages = []\n",
    "    for i in range(len(temperature_kelvin)):\n",
    "        msg = (\n",
    "            f\"{temperature_celsius[i]:<10.3f}°C | {temperature_fahrenheit[i]:<10.3f}\"\n",
    "            f\"°F (ID={i})\"\n",
    "        )\n",
    "        display_messages.append(msg)\n",
    "        \n",
    "    return display_messages\n",
    "\n",
    "def update_screen_text(messages):\n",
    "    for msg in messages:\n",
    "        print(msg, end='\\r')\n",
    "        time.sleep(1)\n",
    "        \n",
    "\n",
    "temperature_kelvin = [300.67, 277.56, 315.88, 307.87, 100]\n",
    "messages = get_display_temperature(temperature_kelvin)\n",
    "update_screen_text(messages)"
   ]
  },
  {
   "attachments": {},
   "cell_type": "markdown",
   "metadata": {},
   "source": [
    "````{admonition} check your answer!\n",
    "To check your answer in a _Jupyter Lite session_, simply run the following line of code immediately after your code implementation. \n",
    "\n",
    "If your are in _Google Colab_ just run the cell bellow.\n",
    "````"
   ]
  },
  {
   "cell_type": "code",
   "execution_count": null,
   "metadata": {},
   "outputs": [],
   "source": [
    "check.notebook_4(question_number=0, arguments[get_display_temperature])"
   ]
  },
  {
   "attachments": {},
   "cell_type": "markdown",
   "metadata": {
    "nbgrader": {
     "grade": false,
     "locked": true,
     "solution": false
    }
   },
   "source": [
    "## (Fixing) Exercise 4.1.2\n",
    "\n",
    "The main philosophy of programming is avoiding redundancy — you shouldn't write the same batch code two or more times if you can just create a function out of it. The same can be applied to many other things — don't start a new assignment from scratch, if you can re-use a formatting template from your previous assignments. In the cell with code below, you see an example of preparing a template for observation of some satellite, which can work in 2 different modes, and thus will have a slightly different template for each of the modes. The code below is supposed to do that and it was even tested!"
   ]
  },
  {
   "cell_type": "code",
   "execution_count": 12,
   "metadata": {},
   "outputs": [],
   "source": [
    "import time\n",
    "\n",
    "def prepare_template(default_bands, observation_mode):  \n",
    "    #creating metadata for the upcoming observations\n",
    "    template = {'time': time.ctime(time.time()),\n",
    "               'observation_mode': observation_mode,\n",
    "               'bands': default_bands}\n",
    "    \n",
    "    #adding additional bands for the extended mode\n",
    "    if observation_mode == 'normal':\n",
    "        #no need to add bands\n",
    "        pass\n",
    "    elif observation_mode == 'extended':\n",
    "        template['bands'] += ['B8', 'B8A']\n",
    "    else:\n",
    "        #if the mode is unknonw - raise a RuntimeError\n",
    "        raise RuntimeError(\n",
    "            f'Failed to identify observation mode: {observation_mode}'\n",
    "            )\n",
    "        \n",
    "    return template\n",
    "\n",
    "def print_dict(my_dict):\n",
    "    for key, value in my_dict.items():\n",
    "        print(f'{key} -> {value}')  \n",
    "\n",
    "\n",
    "\"set of default bands, don't change!!\"\n",
    "default_bands = ['B1', 'B2', 'B3', 'B4', 'B5', 'B6', 'B7']\n"
   ]
  },
  {
   "attachments": {},
   "cell_type": "markdown",
   "metadata": {},
   "source": [
    "Lets test the the function\n",
    "\n",
    "* Test 1. - normal mode. \n",
    "\n",
    "    Expected behavior: a dictionary with 3 items and only default bands are inside"
   ]
  },
  {
   "cell_type": "code",
   "execution_count": 16,
   "metadata": {},
   "outputs": [
    {
     "name": "stdout",
     "output_type": "stream",
     "text": [
      "Test 1\n",
      "time -> Thu Jun  8 10:45:40 2023\n",
      "observation_mode -> normal\n",
      "bands -> ['B1', 'B2', 'B3', 'B4', 'B5', 'B6', 'B7', 'B8', 'B8A']\n"
     ]
    }
   ],
   "source": [
    "print('Test 1')\n",
    "template_normal = prepare_template(default_bands, 'normal')\n",
    "print_dict(template_normal)"
   ]
  },
  {
   "attachments": {},
   "cell_type": "markdown",
   "metadata": {},
   "source": [
    "* Test 2. - extended mode. \n",
    "\n",
    "    Expected behavior: a dictionary with 3 items and extended list of bands."
   ]
  },
  {
   "cell_type": "code",
   "execution_count": 17,
   "metadata": {},
   "outputs": [
    {
     "name": "stdout",
     "output_type": "stream",
     "text": [
      "Test 2\n",
      "time -> Thu Jun  8 10:46:18 2023\n",
      "observation_mode -> extended\n",
      "bands -> ['B1', 'B2', 'B3', 'B4', 'B5', 'B6', 'B7', 'B8', 'B8A', 'B8', 'B8A']\n"
     ]
    }
   ],
   "source": [
    "print('Test 2')\n",
    "template_extended = prepare_template(default_bands, 'extended')\n",
    "print_dict(template_extended)"
   ]
  },
  {
   "attachments": {},
   "cell_type": "markdown",
   "metadata": {},
   "source": [
    "* Test 3. - any other observation mode.\n",
    "\n",
    "    Expected behavior: Runtime error"
   ]
  },
  {
   "cell_type": "code",
   "execution_count": 18,
   "metadata": {},
   "outputs": [
    {
     "name": "stdout",
     "output_type": "stream",
     "text": [
      "test 3\n"
     ]
    },
    {
     "ename": "RuntimeError",
     "evalue": "Failed to identify observation mode: should raise an error, right?",
     "output_type": "error",
     "traceback": [
      "\u001b[1;31m---------------------------------------------------------------------------\u001b[0m",
      "\u001b[1;31mRuntimeError\u001b[0m                              Traceback (most recent call last)",
      "Cell \u001b[1;32mIn[18], line 2\u001b[0m\n\u001b[0;32m      1\u001b[0m \u001b[39mprint\u001b[39m(\u001b[39m'\u001b[39m\u001b[39mtest 3\u001b[39m\u001b[39m'\u001b[39m)\n\u001b[1;32m----> 2\u001b[0m template_error \u001b[39m=\u001b[39m prepare_template(default_bands, \u001b[39m'\u001b[39;49m\u001b[39mshould raise an error, right?\u001b[39;49m\u001b[39m'\u001b[39;49m)\n",
      "Cell \u001b[1;32mIn[12], line 17\u001b[0m, in \u001b[0;36mprepare_template\u001b[1;34m(default_bands, observation_mode)\u001b[0m\n\u001b[0;32m     14\u001b[0m     template[\u001b[39m'\u001b[39m\u001b[39mbands\u001b[39m\u001b[39m'\u001b[39m] \u001b[39m+\u001b[39m\u001b[39m=\u001b[39m [\u001b[39m'\u001b[39m\u001b[39mB8\u001b[39m\u001b[39m'\u001b[39m, \u001b[39m'\u001b[39m\u001b[39mB8A\u001b[39m\u001b[39m'\u001b[39m]\n\u001b[0;32m     15\u001b[0m \u001b[39melse\u001b[39;00m:\n\u001b[0;32m     16\u001b[0m     \u001b[39m#if the mode is unknonw - raise a RuntimeError\u001b[39;00m\n\u001b[1;32m---> 17\u001b[0m     \u001b[39mraise\u001b[39;00m \u001b[39mRuntimeError\u001b[39;00m(\u001b[39mf\u001b[39m\u001b[39m'\u001b[39m\u001b[39mFailed to identify observation mode: \u001b[39m\u001b[39m{\u001b[39;00mobservation_mode\u001b[39m}\u001b[39;00m\u001b[39m'\u001b[39m)\n\u001b[0;32m     19\u001b[0m \u001b[39mreturn\u001b[39;00m template\n",
      "\u001b[1;31mRuntimeError\u001b[0m: Failed to identify observation mode: should raise an error, right?"
     ]
    }
   ],
   "source": [
    "print('test 3')\n",
    "template_error = prepare_template(default_bands, 'should raise an error, right?')"
   ]
  },
  {
   "attachments": {},
   "cell_type": "markdown",
   "metadata": {},
   "source": [
    "Looks good, however, if you rearrange the extended and normal tests, it won't work anymore, look at the output below to see this."
   ]
  },
  {
   "cell_type": "code",
   "execution_count": 23,
   "metadata": {
    "nbgrader": {
     "grade": false,
     "locked": true,
     "solution": false
    }
   },
   "outputs": [
    {
     "name": "stdout",
     "output_type": "stream",
     "text": [
      "Test 1\n",
      "time -> Thu Jun  8 10:50:12 2023\n",
      "observation_mode -> extended\n",
      "bands -> ['B1', 'B2', 'B3', 'B4', 'B5', 'B6', 'B7', 'B8', 'B8A']\n",
      "-------------------\n",
      "Test 2\n",
      "time -> Thu Jun  8 10:50:12 2023\n",
      "observation_mode -> normal\n",
      "bands -> ['B1', 'B2', 'B3', 'B4', 'B5', 'B6', 'B7', 'B8', 'B8A']\n"
     ]
    }
   ],
   "source": [
    "#set of default bands, don't change!!!\n",
    "default_bands = ['B1', 'B2', 'B3', 'B4', 'B5', 'B6', 'B7']\n",
    "\n",
    "template_extended = prepare_template(default_bands, 'extended')\n",
    "template_normal = prepare_template(default_bands, 'normal')\n",
    "\n",
    "print('Test 1')\n",
    "print_dict(template_extended)\n",
    "print('-------------------')\n",
    "print('Test 2')\n",
    "print_dict(template_normal)\n"
   ]
  },
  {
   "attachments": {},
   "cell_type": "markdown",
   "metadata": {
    "nbgrader": {
     "grade": false,
     "locked": true,
     "solution": false
    }
   },
   "source": [
    "Obviously, the order of tests shouldn't matter, so, most likely, the problem is with the function itself. Please fix the function, in the cell above, so that the second set of tests also works (you can comment out the first set of tests if you want)."
   ]
  },
  {
   "attachments": {},
   "cell_type": "markdown",
   "metadata": {},
   "source": [
    "````{admonition} check your answer!\n",
    "To check your answer in a _Jupyter Lite session_, simply run the following line of code immediately after your code implementation. \n",
    "\n",
    "If your are in _Google Colab_ just run the cell bellow.\n",
    "````"
   ]
  },
  {
   "cell_type": "code",
   "execution_count": null,
   "metadata": {},
   "outputs": [],
   "source": [
    "check.notebook_4(question_number=1,arguments=[prepare_template])"
   ]
  }
 ],
 "metadata": {
  "kernelspec": {
   "display_name": "Python 3 [3.7]",
   "language": "python",
   "name": "python3"
  },
  "language_info": {
   "codemirror_mode": {
    "name": "ipython",
    "version": 3
   },
   "file_extension": ".py",
   "mimetype": "text/x-python",
   "name": "python",
   "nbconvert_exporter": "python",
   "pygments_lexer": "ipython3",
   "version": "3.11.3"
  },
  "latex_envs": {
   "LaTeX_envs_menu_present": true,
   "autoclose": false,
   "autocomplete": true,
   "bibliofile": "biblio.bib",
   "cite_by": "apalike",
   "current_citInitial": 1,
   "eqLabelWithNumbers": true,
   "eqNumInitial": 1,
   "hotkeys": {
    "equation": "Ctrl-E",
    "itemize": "Ctrl-I"
   },
   "labels_anchors": false,
   "latex_user_defs": false,
   "report_style_numbering": false,
   "user_envs_cfg": false
  },
  "vscode": {
   "interpreter": {
    "hash": "1fe2f2b718b1108b9c4176932db8a0ead471245140baaa21ea96a4066683e6b2"
   }
  }
 },
 "nbformat": 4,
 "nbformat_minor": 2
}
