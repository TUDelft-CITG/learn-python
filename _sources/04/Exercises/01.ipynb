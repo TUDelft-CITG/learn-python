{
 "cells": [
  {
   "attachments": {},
   "cell_type": "markdown",
   "metadata": {
    "nbgrader": {
     "grade": false,
     "locked": true,
     "solution": false
    }
   },
   "source": [
    "<figure>\n",
    "  <IMG SRC=\"https://raw.githubusercontent.com/mbakker7/exploratory_computing_with_python/master/tudelft_logo.png\" WIDTH=250 ALIGN=\"right\">\n",
    "</figure>\n",
    "\n",
    "# Objects and References Exercises"
   ]
  },
  {
   "attachments": {},
   "cell_type": "markdown",
   "metadata": {
    "nbgrader": {
     "grade": false,
     "locked": true,
     "solution": false
    }
   },
   "source": [
    "## (Fixing) Exercise 4.1.1\n",
    "\n",
    "Let's assume that you develop a login interface for an international oil company; which, as the title international suggests, works internationally. Thus, a lot of clients worldwide expect to see data in their favorite units. The company has hired an intern to output temperatures in Celsius and Fahrenheit, from the provided temperature in Kelvin. But something went wrong, the code doesn't work and now the intern is gone. So, the burden of fixing the code is, yet again, put on your shoulders."
   ]
  },
  {
   "cell_type": "code",
   "execution_count": null,
   "metadata": {
    "collapsed": true
   },
   "outputs": [],
   "source": [
    "import time\n",
    "\n",
    "def get_display_temperature(temp_k):\n",
    "    # copying temporarily temp_k to temp_c\n",
    "    temp_c = temp_k\n",
    "    \n",
    "    # converting kelvin to celsius\n",
    "    for i in range(len(temp_c)):\n",
    "        temp_c[i] = temp_c[i] - 273.15\n",
    "        \n",
    "    # copying temporarily temp_k to temp_f\n",
    "    temp_f = temp_k\n",
    "    \n",
    "    # converting kelvin to fahrenheit\n",
    "    for i in range(len(temp_f)):\n",
    "        temp_f[i] = (temp_f[i] - 273.15) * (9 / 5) + 32\n",
    "    \n",
    "    # now, creating display messages from the converted temperatures\n",
    "    display_messages = []\n",
    "    for i in range(len(temp_k)):\n",
    "        msg = f\"{temp_c[i]:<10.3f}°C | {temp_f[i]:<10.3f}°F (ID={i})\"\n",
    "        display_messages.append(msg)\n",
    "        \n",
    "    return display_messages\n",
    "\n",
    "###BEGIN SOLUTION TEMPLATE=\n",
    "def get_display_temperature(temp_k):\n",
    "    #copying temporarily temp_k to temp_c\n",
    "    temp_c = temp_k.copy()\n",
    "    \n",
    "    #converting kelvins to celsius\n",
    "    for i in range(len(temp_c)):\n",
    "        temp_c[i] = temp_c[i] - 273.15\n",
    "        \n",
    "    #copying temporarily temp_k to temp_f\n",
    "    temp_f = temp_k.copy()\n",
    "    \n",
    "    #converting kelvins to farenheits\n",
    "    for i in range(len(temp_f)):\n",
    "        temp_f[i] = (temp_f[i] - 273.15) * (9 / 5) + 32\n",
    "    \n",
    "    #now, creating display messages from the converted temperatures\n",
    "    display_messages = []\n",
    "    for i in range(len(temp_k)):\n",
    "        msg = f\"{temp_c[i]:<10.3f}°C | {temp_f[i]:<10.3f}°F (ID={i})\"\n",
    "        display_messages.append(msg)\n",
    "        \n",
    "    return display_messages\n",
    "###END SOLUTION\n",
    "\n",
    "def update_screen_text(messages):\n",
    "    for msg in messages:\n",
    "        print(msg, end='\\r')\n",
    "        time.sleep(1)\n",
    "        \n",
    "\n",
    "temp_k = [300.67, 277.56, 315.88, 307.87, 100]\n",
    "messages = get_display_temperature(temp_k)\n",
    "update_screen_text(messages)"
   ]
  },
  {
   "cell_type": "code",
   "execution_count": null,
   "metadata": {
    "collapsed": true,
    "nbgrader": {
     "grade": true,
     "grade_id": "Q4.1.1",
     "locked": true,
     "points": "1",
     "solution": false
    }
   },
   "outputs": [],
   "source": [
    "###BEGIN HIDDEN TESTS\n",
    "assert get_display_temperature([100]) == [\"-173.150  °C | -279.670  °F (ID=0)\"], '4.1.1 - Incorrect answer'\n",
    "###END HIDDEN TESTS"
   ]
  },
  {
   "attachments": {},
   "cell_type": "markdown",
   "metadata": {
    "nbgrader": {
     "grade": false,
     "locked": true,
     "solution": false
    }
   },
   "source": [
    "## (Fixing) Exercise 4.1.2\n",
    "\n",
    "The main philosophy of programming is avoiding redundancy — you shouldn't write the same batch code two or more times if you can just create a function out of it. The same can be applied to many other things — don't start a new assignment from scratch, if you can re-use a formatting template from your previous assignments. In the cell with code below, you see an example of preparing a template for observation of some satellite, which can work in 2 different modes, and thus will have a slightly different template for each of the modes. The code below is supposed to do that and it was even tested!"
   ]
  },
  {
   "cell_type": "code",
   "execution_count": 6,
   "metadata": {},
   "outputs": [
    {
     "name": "stdout",
     "output_type": "stream",
     "text": [
      "-------------------\n",
      "test 1\n",
      "time -> Tue Jul 12 07:48:28 2022\n",
      "observation_mode -> normal\n",
      "bands -> ['B1', 'B2', 'B3', 'B4', 'B5', 'B6', 'B7']\n",
      "-------------------\n",
      "test 2\n",
      "time -> Tue Jul 12 07:48:28 2022\n",
      "observation_mode -> extended\n",
      "bands -> ['B1', 'B2', 'B3', 'B4', 'B5', 'B6', 'B7', 'B8', 'B8A']\n",
      "-------------------\n",
      "test 3\n"
     ]
    },
    {
     "ename": "RuntimeError",
     "evalue": "Failed to identify observation mode: should raise an error, right?",
     "output_type": "error",
     "traceback": [
      "\u001b[0;31m---------------------------------------------------------------------------\u001b[0m",
      "\u001b[0;31mRuntimeError\u001b[0m                              Traceback (most recent call last)",
      "\u001b[0;32m<ipython-input-6-84a3fb455652>\u001b[0m in \u001b[0;36m<module>\u001b[0;34m\u001b[0m\n\u001b[1;32m     66\u001b[0m \u001b[0;31m#test 3. - any other observation mode\u001b[0m\u001b[0;34m\u001b[0m\u001b[0;34m\u001b[0m\u001b[0m\n\u001b[1;32m     67\u001b[0m \u001b[0;31m#Expected behaviour - Runtime error\u001b[0m\u001b[0;34m\u001b[0m\u001b[0;34m\u001b[0m\u001b[0m\n\u001b[0;32m---> 68\u001b[0;31m \u001b[0mtemp_error\u001b[0m \u001b[0;34m=\u001b[0m \u001b[0mprepare_template\u001b[0m\u001b[0;34m(\u001b[0m\u001b[0mdefault_bands\u001b[0m\u001b[0;34m,\u001b[0m \u001b[0;34m'should raise an error, right?'\u001b[0m\u001b[0;34m)\u001b[0m\u001b[0;34m\u001b[0m\u001b[0m\n\u001b[0m",
      "\u001b[0;32m<ipython-input-6-84a3fb455652>\u001b[0m in \u001b[0;36mprepare_template\u001b[0;34m(default_bands, observation_mode)\u001b[0m\n\u001b[1;32m     35\u001b[0m     \u001b[0;32melse\u001b[0m\u001b[0;34m:\u001b[0m\u001b[0;34m\u001b[0m\u001b[0m\n\u001b[1;32m     36\u001b[0m         \u001b[0;31m#if the mode is unknonw - raise a RuntimeError\u001b[0m\u001b[0;34m\u001b[0m\u001b[0;34m\u001b[0m\u001b[0m\n\u001b[0;32m---> 37\u001b[0;31m         \u001b[0;32mraise\u001b[0m \u001b[0mRuntimeError\u001b[0m\u001b[0;34m(\u001b[0m\u001b[0;34mf'Failed to identify observation mode: {observation_mode}'\u001b[0m\u001b[0;34m)\u001b[0m\u001b[0;34m\u001b[0m\u001b[0m\n\u001b[0m\u001b[1;32m     38\u001b[0m \u001b[0;34m\u001b[0m\u001b[0m\n\u001b[1;32m     39\u001b[0m     \u001b[0;32mreturn\u001b[0m \u001b[0mtemplate\u001b[0m\u001b[0;34m\u001b[0m\u001b[0m\n",
      "\u001b[0;31mRuntimeError\u001b[0m: Failed to identify observation mode: should raise an error, right?"
     ]
    }
   ],
   "source": [
    "import time\n",
    "\n",
    "def prepare_template(default_bands, observation_mode):  \n",
    "    #creating metadata for the upcoming observations\n",
    "    template = {'time': time.ctime(time.time()),\n",
    "               'observation_mode': observation_mode,\n",
    "               'bands': default_bands}\n",
    "    \n",
    "    #adding additional bands for the extended mode\n",
    "    if observation_mode == 'normal':\n",
    "        #no need to add bands\n",
    "        pass\n",
    "    elif observation_mode == 'extended':\n",
    "        template['bands'] += ['B8', 'B8A']\n",
    "    else:\n",
    "        #if the mode is unknonw - raise a RuntimeError\n",
    "        raise RuntimeError(f'Failed to identify observation mode: {observation_mode}')\n",
    "        \n",
    "    return template\n",
    "\n",
    "###BEGIN SOLUTION TEMPLATE=\n",
    "def prepare_template(default_bands, observation_mode):  \n",
    "    #creating metadata for the upcoming observations\n",
    "    template = {'time': time.ctime(time.time()),\n",
    "               'observation_mode': observation_mode,\n",
    "               'bands': default_bands.copy()}\n",
    "    \n",
    "    #adding additional bands for the extended mode\n",
    "    if observation_mode == 'normal':\n",
    "        #no need to add bands\n",
    "        pass\n",
    "    elif observation_mode == 'extended':\n",
    "        template['bands'] += ['B8', 'B8A']\n",
    "    else:\n",
    "        #if the mode is unknonw - raise a RuntimeError\n",
    "        raise RuntimeError(f'Failed to identify observation mode: {observation_mode}')\n",
    "        \n",
    "    return template\n",
    "###END SOLUTION\n",
    "\n",
    "def print_dict(my_dict):\n",
    "    \n",
    "    for key, value in my_dict.items():\n",
    "        print(f'{key} -> {value}')  \n",
    "    #print('-'*10)\n",
    "\n",
    "\"set of default bands, don't change!!\"\n",
    "default_bands = ['B1', 'B2', 'B3', 'B4', 'B5', 'B6', 'B7']\n",
    "\n",
    "#testing the function\n",
    "#test 1. - normal mode\n",
    "#Expected behaviour: a dictionary with 3 items and only default bands are inside\n",
    "print('-------------------')\n",
    "print('test 1')\n",
    "temp_norm = prepare_template(default_bands, 'normal')\n",
    "print_dict(temp_norm)\n",
    "print('-------------------')\n",
    "print('test 2')\n",
    "#test 2. - extended mode\n",
    "#Expected behaviour: a dictionary with 3 items and extended list of bands\n",
    "temp_ext = prepare_template(default_bands, 'extended')\n",
    "print_dict(temp_ext)\n",
    "print('-------------------')\n",
    "print('test 3')\n",
    "#test 3. - any other observation mode\n",
    "#Expected behaviour - Runtime error\n",
    "temp_error = prepare_template(default_bands, 'should raise an error, right?')"
   ]
  },
  {
   "attachments": {},
   "cell_type": "markdown",
   "metadata": {
    "nbgrader": {
     "grade": false,
     "locked": true,
     "solution": false
    }
   },
   "source": [
    "Looks good, however, if you rearrange the extended and normal tests, it won't work anymore, look at the output below to see this."
   ]
  },
  {
   "cell_type": "code",
   "execution_count": 8,
   "metadata": {
    "nbgrader": {
     "grade": false,
     "locked": true,
     "solution": false
    }
   },
   "outputs": [
    {
     "name": "stdout",
     "output_type": "stream",
     "text": [
      "-------------------\n",
      "test 1\n",
      "time -> Tue Jul 12 07:49:01 2022\n",
      "observation_mode -> extended\n",
      "bands -> ['B1', 'B2', 'B3', 'B4', 'B5', 'B6', 'B7', 'B8', 'B8A']\n",
      "-------------------\n",
      "test 2\n",
      "time -> Tue Jul 12 07:49:01 2022\n",
      "observation_mode -> normal\n",
      "bands -> ['B1', 'B2', 'B3', 'B4', 'B5', 'B6', 'B7']\n",
      "-------------------\n"
     ]
    }
   ],
   "source": [
    "#set of default bands, don't change!!!\n",
    "default_bands = ['B1', 'B2', 'B3', 'B4', 'B5', 'B6', 'B7']\n",
    "\n",
    "#testing the function\n",
    "#test 1. - extended mode\n",
    "#Expected behaviour: a dictionary with 3 items and extended list of bands\n",
    "temp_ext = prepare_template(default_bands, 'extended')\n",
    "print('-------------------')\n",
    "print('test 1')\n",
    "print_dict(temp_ext)\n",
    "print('-------------------')\n",
    "print('test 2')\n",
    "#test 2. - normal mode\n",
    "#Expected behaviour: a dictionary with 3 items and only default bands are inside\n",
    "temp_norm = prepare_template(default_bands, 'normal')\n",
    "print_dict(temp_norm)\n",
    "print('-------------------')"
   ]
  },
  {
   "attachments": {},
   "cell_type": "markdown",
   "metadata": {
    "nbgrader": {
     "grade": false,
     "locked": true,
     "solution": false
    }
   },
   "source": [
    "Obviously, the order of tests shouldn't matter, so, most likely, the problem is with the function itself. Please fix the function, in the cell above, so that the second set of tests also works (you can comment out the first set of tests if you want)."
   ]
  },
  {
   "cell_type": "code",
   "execution_count": null,
   "metadata": {
    "collapsed": true,
    "nbgrader": {
     "grade": true,
     "grade_id": "Q4.1.2",
     "locked": true,
     "points": "1",
     "solution": false
    }
   },
   "outputs": [],
   "source": [
    "###BEGIN HIDDEN TESTS\n",
    "default_bands = ['B1', 'B2', 'B3', 'B4', 'B5', 'B6', 'B7']\n",
    "d1 = prepare_template(default_bands, 'normal')\n",
    "d2 = prepare_template(default_bands, 'extended')\n",
    "d3 = prepare_template(default_bands, 'normal')\n",
    "\n",
    "assert d2['bands'] == ['B1', 'B2', 'B3', 'B4', 'B5', 'B6', 'B7', 'B8', 'B8A'] and \\\n",
    "        d3['bands'] == ['B1', 'B2', 'B3', 'B4', 'B5', 'B6', 'B7'], '4.1.2 - Incorrect answer'\n",
    "###END HIDDEN TESTS"
   ]
  }
 ],
 "metadata": {
  "kernelspec": {
   "display_name": "Python 3 [3.7]",
   "language": "python",
   "name": "python3"
  },
  "language_info": {
   "codemirror_mode": {
    "name": "ipython",
    "version": 3
   },
   "file_extension": ".py",
   "mimetype": "text/x-python",
   "name": "python",
   "nbconvert_exporter": "python",
   "pygments_lexer": "ipython3",
   "version": "3.7.5"
  },
  "latex_envs": {
   "LaTeX_envs_menu_present": true,
   "autoclose": false,
   "autocomplete": true,
   "bibliofile": "biblio.bib",
   "cite_by": "apalike",
   "current_citInitial": 1,
   "eqLabelWithNumbers": true,
   "eqNumInitial": 1,
   "hotkeys": {
    "equation": "Ctrl-E",
    "itemize": "Ctrl-I"
   },
   "labels_anchors": false,
   "latex_user_defs": false,
   "report_style_numbering": false,
   "user_envs_cfg": false
  },
  "vscode": {
   "interpreter": {
    "hash": "1fe2f2b718b1108b9c4176932db8a0ead471245140baaa21ea96a4066683e6b2"
   }
  }
 },
 "nbformat": 4,
 "nbformat_minor": 2
}
