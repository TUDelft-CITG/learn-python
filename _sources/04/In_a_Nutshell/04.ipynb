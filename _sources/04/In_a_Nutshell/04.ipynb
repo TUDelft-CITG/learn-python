{
 "cells": [
  {
   "attachments": {},
   "cell_type": "markdown",
   "metadata": {},
   "source": [
    "# 4. Objects and References"
   ]
  },
  {
   "attachments": {},
   "cell_type": "markdown",
   "metadata": {},
   "source": [
    "In Python, <code>objects</code> and <code>References</code> play different roles, and there are various ways to work with them.\n",
    "\n",
    "1. <code>objects</code>: They are the actual entities that store and manipulate data. They have attributes (data) and methods (functions) associated with them. <code>Objects</code> are created from classes and exist in memory.\n",
    "   \n",
    "2. <code>References</code>: also known as variables, are identifiers that point to <code>objects</code> in memory. They act as labels or names that refer to <code>objects</code>. Multiple <code>references</code> can point to the same <code>object</code>, allowing multiple variables to access and manipulate the same data.\n",
    "\n",
    "The data types that can be used in defining an <code>object</code> in python are shown below."
   ]
  },
  {
   "attachments": {},
   "cell_type": "markdown",
   "metadata": {},
   "source": [
    "```{note} \n",
    ":class: collapsed \n",
    "Most frequently used data types (attributes) in python:\n",
    "\n",
    "\n",
    "| Data Type     | Description                                  | Example                   |\n",
    "|---------------|----------------------------------------------|---------------------------|\n",
    "| Integer       | Used to represent whole numbers               | `x = 5`                   |\n",
    "| Floating-point| Used to represent decimal numbers             | `y = 3.14`                |\n",
    "| String        | Used to represent textual data                | `name = \\\"John\\\"`           |\n",
    "| Boolean       | Used to represent logical values              | `is_true = True`          |\n",
    "| List          | Used to store an ordered collection of elements | `numbers = [1, 2, 3]`     |\n",
    "```"
   ]
  },
  {
   "attachments": {},
   "cell_type": "markdown",
   "metadata": {},
   "source": []
  },
  {
   "attachments": {},
   "cell_type": "markdown",
   "metadata": {},
   "source": [
    "The following example illustrates the concept of <code>object referencing</code> in Python. By assigning one <code>object</code> to another, changes made to one <code>object</code> affect the other since they both point to the same <code>object</code> in memory. This highlights the behavior of <code>objects</code> as mutable entities that can be shared and modified through different variables."
   ]
  },
  {
   "cell_type": "code",
   "execution_count": 5,
   "metadata": {},
   "outputs": [
    {
     "name": "stdout",
     "output_type": "stream",
     "text": [
      "Michael\n",
      "Michael\n"
     ]
    }
   ],
   "source": [
    "person1 = {\"name\": \"John\"}\n",
    "person2 = {\"name\": \"Jane\"}\n",
    "\n",
    "# Assigning person1 to person2\n",
    "person2 = person1\n",
    "\n",
    "person1[\"name\"] = \"Michael\"  # Modifying person1's \"name\" attribute\n",
    "\n",
    "print(person1[\"name\"])  # Output: Michael\n",
    "print(person2[\"name\"])  # Output: Michael (person2 reflects the change)\n"
   ]
  },
  {
   "attachments": {},
   "cell_type": "markdown",
   "metadata": {},
   "source": [
    "In this example, two dictionaries person1 and person2 are created, representing people with a <b>name</b> attribute. Assigning person1 to person2 makes both variables refer to the same dictionary object. \n",
    "\n",
    "Consequently, modifications made to the dictionary through either variable will affect the other, as they both reference the same object. For instance, changing the value of the \"name\" key in person1 to \"Michael\" updates person2[\"name\"] to \"Michael\" as well."
   ]
  },
  {
   "attachments": {},
   "cell_type": "markdown",
   "metadata": {},
   "source": [
    "## Copying Objects\n",
    "\n",
    " When working with objects, it is important to understand the concepts of <code>copying</code>. <code>Copying objects</code> can be achieved using the <code>copy</code> module, which provides functions for both <code>shallow</code> and <code>deep</code> copying. This is done by typing <b>import copy</b> at the begining of your python project. \n",
    " \n",
    " Understanding these techniques is important to create independent duplicates or references to the original object. The table below will highlight each copying method that can be used, notice that 'copy' and 'shallow copy' do the same thing:\n",
    "\n",
    "| Function      | Description                                      |How to use|\n",
    "|---------------|--------------------------------------------------|-------------|\n",
    "| `copy`        | Creates a shallow copy of an object   | `copied_object = copy.copy(original_object)` or `copy()`|\n",
    "| `shallow Copy`   | Creates a new object with shared data references  | `copied_object = original_object[:]`|\n",
    "| `deepcopy`  |Creates a new object with independent data copies   | `copied_object = copy.deepcopy(original_object)`|\n",
    "\n"
   ]
  },
  {
   "attachments": {},
   "cell_type": "markdown",
   "metadata": {},
   "source": [
    "Here is an example to illustrate how we can use the 3 differenct copy functions: "
   ]
  },
  {
   "cell_type": "code",
   "execution_count": 6,
   "metadata": {},
   "outputs": [
    {
     "name": "stdout",
     "output_type": "stream",
     "text": [
      "Copy Example: [1, 2, [3, 4, 5]]\n",
      "Deepcopy Example: [100, 2, [3, 4, 5]]\n",
      "Shallow Copy Example: [100, 2, [3, 4, 5, 6, 7]]\n"
     ]
    }
   ],
   "source": [
    "import copy\n",
    "\n",
    "original_list = [1, 2, [3, 4]]\n",
    "\n",
    "# Example of copy\n",
    "copied_list = copy.copy(original_list)\n",
    "original_list[0] = 100\n",
    "original_list[2].append(5)\n",
    "print(\"Copy Example:\", copied_list)  # Output: [1, 2, [3, 4, 5]]\n",
    "\n",
    "# Example of deepcopy\n",
    "deep_copied_list = copy.deepcopy(original_list)\n",
    "original_list[2].append(6)\n",
    "print(\"Deepcopy Example:\", deep_copied_list)  # Output: [1, 2, [3, 4, 5]]\n",
    "\n",
    "# Example of shallow copy\n",
    "shallow_copied_list = original_list[:]\n",
    "original_list[2].append(7)\n",
    "print(\"Shallow Copy Example:\", shallow_copied_list)  # Output: [1, 2, [3, 4, 5, 7]]\n"
   ]
  },
  {
   "attachments": {},
   "cell_type": "markdown",
   "metadata": {},
   "source": [
    "In the provided example, we start with an original list and create copies using <code>copy</code>, `deepcopy`, and `shallow` copy techniques. We then modify the original list and observe how these modifications impact the copied `objects`. This allows us to understand how each copying method handles data references and changes made to the original `object`."
   ]
  },
  {
   "attachments": {},
   "cell_type": "markdown",
   "metadata": {},
   "source": []
  }
 ],
 "metadata": {
  "kernelspec": {
   "display_name": "Python 3",
   "language": "python",
   "name": "python3"
  },
  "language_info": {
   "codemirror_mode": {
    "name": "ipython",
    "version": 3
   },
   "file_extension": ".py",
   "mimetype": "text/x-python",
   "name": "python",
   "nbconvert_exporter": "python",
   "pygments_lexer": "ipython3",
   "version": "3.11.2"
  },
  "orig_nbformat": 4
 },
 "nbformat": 4,
 "nbformat_minor": 2
}
