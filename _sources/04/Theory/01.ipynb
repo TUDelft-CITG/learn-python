{
 "cells": [
  {
   "attachments": {},
   "cell_type": "markdown",
   "metadata": {
    "nbgrader": {
     "grade": false,
     "locked": true,
     "solution": false
    }
   },
   "source": [
    "<figure>\n",
    "  <IMG SRC=\"https://raw.githubusercontent.com/mbakker7/exploratory_computing_with_python/master/tudelft_logo.png\" WIDTH=250 ALIGN=\"right\">\n",
    "</figure>\n",
    "\n",
    "\n",
    "# 4. Objects and References"
   ]
  },
  {
   "attachments": {},
   "cell_type": "markdown",
   "metadata": {
    "collapsed": true,
    "nbgrader": {
     "grade": false,
     "locked": true,
     "solution": false
    }
   },
   "source": [
    "One of the important topics is understanding how Python works with storing data, and how one can have a lot of headaches if you blindly trust this old and familiar operator $=$. Let's look at some examples:\n",
    "\n",
    "First, let's create 2 variables `var1` and `var2` of some simple data type, like an integer, then let's make them equal and finally  let's change `var2`.\n"
   ]
  },
  {
   "cell_type": "code",
   "execution_count": 1,
   "metadata": {
    "collapsed": true,
    "nbgrader": {
     "grade": false,
     "locked": true,
     "solution": false
    }
   },
   "outputs": [
    {
     "name": "stdout",
     "output_type": "stream",
     "text": [
      "var1 = 5 and var2 = 7 (initially)\n",
      "var1 = 7 and var2 = 7 (after \"=\" accident)\n",
      "var1 = 7 and var2 = -770 (after altering var2)\n"
     ]
    }
   ],
   "source": [
    "var1 = 5\n",
    "var2 = 7\n",
    "print(f'var1 = {var1} and var2 = {var2} (initially)')\n",
    "\n",
    "var1 = var2\n",
    "print(f'var1 = {var1} and var2 = {var2} (after \"=\" accident)')\n",
    "\n",
    "var2 -= 777\n",
    "print(f'var1 = {var1} and var2 = {var2} (after altering var2)')"
   ]
  },
  {
   "attachments": {},
   "cell_type": "markdown",
   "metadata": {
    "nbgrader": {
     "grade": false,
     "locked": true,
     "solution": false
    }
   },
   "source": [
    "As you can see, nothing extraordinary happened here. Let's repeat this but now with a more complex data type — lists."
   ]
  },
  {
   "cell_type": "code",
   "execution_count": 2,
   "metadata": {
    "nbgrader": {
     "grade": false,
     "locked": true,
     "solution": false
    }
   },
   "outputs": [
    {
     "name": "stdout",
     "output_type": "stream",
     "text": [
      "var1 = [1, 2, 3] and var2 = [555, 777, 888] (initially)\n",
      "var1 = [555, 777, 888] and var2 = [555, 777, 888] (after \"=\" accident)\n",
      "var1 = [555, 777, 111] and var2 = [555, 777, 111] (after altering var2)\n"
     ]
    }
   ],
   "source": [
    "var1 = [1, 2, 3]\n",
    "var2 = [555, 777, 888]\n",
    "print(f'var1 = {var1} and var2 = {var2} (initially)')\n",
    "\n",
    "var1 = var2\n",
    "print(f'var1 = {var1} and var2 = {var2} (after \"=\" accident)')\n",
    "\n",
    "var2[2] -= 777\n",
    "print(f'var1 = {var1} and var2 = {var2} (after altering var2)')"
   ]
  },
  {
   "attachments": {},
   "cell_type": "markdown",
   "metadata": {
    "nbgrader": {
     "grade": false,
     "locked": true,
     "solution": false
    }
   },
   "source": [
    "Hmmmm, that's strange... we altered only one list but both were changed in the end! Why would that happen? Welp, the two reasons behind that are $1)$ what a variable actually <b>is</b>; and, $2)$ what the $=$ operator actually does. In short, variables are just links to the spatial location where objects are stored. By reassigning the value of a variable, you're just changing this link.<br><br>So, first, when you create 2 lists, <b><code>var1 = [1, 2, 3]</code></b> and <b><code>var2 = [555, 777, 888]</code></b>, you create two different objects: <b><code>var1</code></b>, a variable referring to the list <b><code>[1, 2, 3]</code></b>; and <b><code>var2</code></b>, a variable referring to the list <b><code>[555, 777, 888]</code></b>. Then, with the line <b><code>var1 = var2</code></b> you don't actually change the content of <b><code>var1</code></b> — you just make it refer to the list <b><code>[555, 777, 888]</code></b>! Thus, by changing one element of <b><code>var2</code></b> you will be able to see changes in <b><code>var1</code></b> as well since they both refer to the same object in memory! Here's a sketch of the described situation:\n",
    "\n",
    "![image.png](https://raw.githubusercontent.com/mike-mendoza/Bivariate_NPBN_workshop_files/main/files_pyhton_book_test/01.png) \n",
    "\n",
    "You can also see this by using the <b><code>id()</code></b> function. It returns the unique id assigned to the object, thus one object will return the same id every time. However, a copy of that object with the same value but stored in a different place will return a different id. In addition, the <b><code>is</code></b> operator compares the identity of two variables and returns <b><code>True</code></b> if they reference the same object!\n"
   ]
  },
  {
   "cell_type": "code",
   "execution_count": 3,
   "metadata": {
    "nbgrader": {
     "grade": false,
     "locked": true,
     "solution": false
    }
   },
   "outputs": [
    {
     "name": "stdout",
     "output_type": "stream",
     "text": [
      "var1 = [1, 2, 3] and var2 = [555, 777, 888] (initially)\n",
      "var1 id = 1871667411520 and var2 id = 1871667411328\n",
      "var1 is var2 -> False\n",
      "\n",
      "var1 = [555, 777, 888] and var2 = [555, 777, 888] (after \"=\" accident)\n",
      "var1 id = 1871667411328 and var2 id = 1871667411328\n",
      "var1 is var2 -> True\n",
      "\n",
      "var1 = [555, 777, 111] and var2 = [555, 777, 111] (after altering var2)\n",
      "var1 id = 1871667411328 and var2 id = 1871667411328\n",
      "var1 is var2 -> True\n",
      "\n"
     ]
    }
   ],
   "source": [
    "var1 = [1, 2, 3]\n",
    "var2 = [555, 777, 888]\n",
    "\n",
    "print(f'var1 = {var1} and var2 = {var2} (initially)')\n",
    "print(f'var1 id = {id(var1)} and var2 id = {id(var2)}')\n",
    "print(f'var1 is var2 -> {var1 is var2}\\n')\n",
    "\n",
    "\n",
    "var1 = var2\n",
    "\n",
    "print(f'var1 = {var1} and var2 = {var2} (after \"=\" accident)')\n",
    "print(f'var1 id = {id(var1)} and var2 id = {id(var2)}')\n",
    "print(f'var1 is var2 -> {var1 is var2}\\n')\n",
    "\n",
    "\n",
    "var2[2] -= 777\n",
    "print(f'var1 = {var1} and var2 = {var2} (after altering var2)')\n",
    "print(f'var1 id = {id(var1)} and var2 id = {id(var2)}')\n",
    "print(f'var1 is var2 -> {var1 is var2}\\n')"
   ]
  },
  {
   "attachments": {},
   "cell_type": "markdown",
   "metadata": {
    "nbgrader": {
     "grade": false,
     "locked": true,
     "solution": false
    }
   },
   "source": [
    "You can see that initially <b><code>var1</code></b> and <b><code>var2</code></b> were two completely different objects; however, after using the <b><code>=</code></b> operator, they started to refer to the same object. Okay, now you understand how it works... but then — why doesn't it happen with integer numbers but with lists? Well... numbers are actually immutable and this aliasing problem is not really a problem here, since any change creates a new number (instead of modifying the old one)."
   ]
  },
  {
   "cell_type": "code",
   "execution_count": 4,
   "metadata": {
    "collapsed": true,
    "nbgrader": {
     "grade": false,
     "locked": true,
     "solution": false
    }
   },
   "outputs": [
    {
     "name": "stdout",
     "output_type": "stream",
     "text": [
      "var1 = 5 and var2 = 7 (initially)\n",
      "var1 id = 140713374457728 and var2 id = 140713374457792\n",
      "var1 is var2 -> False\n",
      "\n",
      "var1 = 7 and var2 = 7 (after \"=\" accident)\n",
      "var1 id = 140713374457792 and var2 id = 140713374457792\n",
      "var1 is var2 -> True\n",
      "\n",
      "var1 = 7 and var2 = -770 (after altering var2)\n",
      "var1 id = 140713374457792 and var2 id = 1871667384656\n",
      "var1 is var2 -> False\n",
      "\n"
     ]
    }
   ],
   "source": [
    "var1 = 5\n",
    "var2 = 7\n",
    "\n",
    "print(f'var1 = {var1} and var2 = {var2} (initially)')\n",
    "print(f'var1 id = {id(var1)} and var2 id = {id(var2)}')\n",
    "print(f'var1 is var2 -> {var1 is var2}\\n')\n",
    "\n",
    "var1 = var2\n",
    "\n",
    "print(f'var1 = {var1} and var2 = {var2} (after \"=\" accident)')\n",
    "print(f'var1 id = {id(var1)} and var2 id = {id(var2)}')\n",
    "print(f'var1 is var2 -> {var1 is var2}\\n')\n",
    "\n",
    "var2 -= 777\n",
    "print(f'var1 = {var1} and var2 = {var2} (after altering var2)')\n",
    "print(f'var1 id = {id(var1)} and var2 id = {id(var2)}')\n",
    "print(f'var1 is var2 -> {var1 is var2}\\n')"
   ]
  },
  {
   "attachments": {},
   "cell_type": "markdown",
   "metadata": {
    "nbgrader": {
     "grade": false,
     "locked": true,
     "solution": false
    }
   },
   "source": [
    "The same will happen with any immutable object type: strings, tuples, etc"
   ]
  },
  {
   "cell_type": "code",
   "execution_count": 5,
   "metadata": {
    "collapsed": true,
    "nbgrader": {
     "grade": false,
     "locked": true,
     "solution": false
    }
   },
   "outputs": [
    {
     "name": "stdout",
     "output_type": "stream",
     "text": [
      "var1 = ananas and var2 = pineapple (initially)\n",
      "var1 id = 1871666228400 and var2 id = 1871666490992\n",
      "var1 is var2 -> False\n",
      "\n",
      "var1 = pineapple and var2 = pineapple (after \"=\" accident)\n",
      "var1 id = 1871666490992 and var2 id = 1871666490992\n",
      "var1 is var2 -> True\n",
      "\n",
      "var1 = pineapple and var2 = pineapple is tasty (after altering var2)\n",
      "var1 id = 1871666490992 and var2 id = 1871667510128\n",
      "var1 is var2 -> False\n",
      "\n"
     ]
    }
   ],
   "source": [
    "var1 = \"ananas\"\n",
    "var2 = \"pineapple\"\n",
    "\n",
    "print(f'var1 = {var1} and var2 = {var2} (initially)')\n",
    "print(f'var1 id = {id(var1)} and var2 id = {id(var2)}')\n",
    "print(f'var1 is var2 -> {var1 is var2}\\n')\n",
    "\n",
    "var1 = var2\n",
    "\n",
    "print(f'var1 = {var1} and var2 = {var2} (after \"=\" accident)')\n",
    "print(f'var1 id = {id(var1)} and var2 id = {id(var2)}')\n",
    "print(f'var1 is var2 -> {var1 is var2}\\n')\n",
    "\n",
    "var2 += \" is tasty\"\n",
    "print(f'var1 = {var1} and var2 = {var2} (after altering var2)')\n",
    "print(f'var1 id = {id(var1)} and var2 id = {id(var2)}')\n",
    "print(f'var1 is var2 -> {var1 is var2}\\n')"
   ]
  },
  {
   "attachments": {},
   "cell_type": "markdown",
   "metadata": {
    "nbgrader": {
     "grade": false,
     "locked": true,
     "solution": false
    }
   },
   "source": [
    "And here's a small illustration of what happened:\n",
    "\n",
    "![image.png](https://raw.githubusercontent.com/mike-mendoza/Bivariate_NPBN_workshop_files/main/files_pyhton_book_test/02.png)\n",
    "\n",
    "So, as you can see — this confusion is not a big deal for immutable objects. However, it should still be explained what you should do in this situation with the mutable objects. How could you assign values of one list to another list? First, you can just write a for loop and copy the lower level data, which is immutable, with the <b><code>=</code></b> operator.\n",
    "\n",
    "* Option 1 - a simple, yet reliable, for loop."
   ]
  },
  {
   "cell_type": "code",
   "execution_count": 6,
   "metadata": {
    "collapsed": true,
    "nbgrader": {
     "grade": false,
     "locked": true,
     "solution": false
    }
   },
   "outputs": [
    {
     "name": "stdout",
     "output_type": "stream",
     "text": [
      "var1 = [1, 2, 3] and var2 = [555, 777, 888] (initially)\n",
      "var1 id = 1871667412288 and var2 id = 1871667429760\n",
      "var1 is var2 -> False\n",
      "\n",
      "var1 = [555, 777, 888] and var2 = [555, 777, 888] (after making them equal)\n",
      "var1 id = 1871667412288 and var2 id = 1871667429760\n",
      "var1 is var2 -> False\n",
      "\n",
      "var1 = [555, 777, 888] and var2 = [555, 777, 111] (after altering var2)\n",
      "var1 id = 1871667412288 and var2 id = 1871667429760\n",
      "var1 is var2 -> False\n",
      "\n"
     ]
    }
   ],
   "source": [
    "var1 = [1, 2, 3]\n",
    "var2 = [555, 777, 888]\n",
    "\n",
    "print(f'var1 = {var1} and var2 = {var2} (initially)')\n",
    "print(f'var1 id = {id(var1)} and var2 id = {id(var2)}')\n",
    "print(f'var1 is var2 -> {var1 is var2}\\n')\n",
    "\n",
    "for i in range(len(var1)):\n",
    "    var1[i] = var2[i] \n",
    "\n",
    "print(f'var1 = {var1} and var2 = {var2} (after making them equal)')\n",
    "print(f'var1 id = {id(var1)} and var2 id = {id(var2)}')\n",
    "print(f'var1 is var2 -> {var1 is var2}\\n')\n",
    "\n",
    "var2[2] -= 777\n",
    "print(f'var1 = {var1} and var2 = {var2} (after altering var2)')\n",
    "print(f'var1 id = {id(var1)} and var2 id = {id(var2)}')\n",
    "print(f'var1 is var2 -> {var1 is var2}\\n')"
   ]
  },
  {
   "attachments": {},
   "cell_type": "markdown",
   "metadata": {
    "nbgrader": {
     "grade": false,
     "locked": true,
     "solution": false
    }
   },
   "source": [
    "The second option is to use the implemented <b><code>copy()</code></b> method for the mutable objects you use. Such a method will return a shallow copy of the variable you copy.\n",
    "\n",
    "* Option 2 - implemented methods, like copy()"
   ]
  },
  {
   "cell_type": "code",
   "execution_count": 7,
   "metadata": {
    "collapsed": true,
    "nbgrader": {
     "grade": false,
     "locked": true,
     "solution": false
    }
   },
   "outputs": [
    {
     "name": "stdout",
     "output_type": "stream",
     "text": [
      "var1 = [1, 2, 3] and var2 = [555, 777, 888] (initially)\n",
      "var1 id = 1871666246080 and var2 id = 1871667432064\n",
      "var1 is var2 -> False\n",
      "\n",
      "var1 = [555, 777, 888] and var2 = [555, 777, 888] (after making them equal)\n",
      "var1 id = 1871667429760 and var2 id = 1871667432064\n",
      "var1 is var2 -> False\n",
      "\n",
      "var1 = [555, 777, 888] and var2 = [555, 777, 111] (after altering var2)\n",
      "var1 id = 1871667429760 and var2 id = 1871667432064\n",
      "var1 is var2 -> False\n",
      "\n"
     ]
    }
   ],
   "source": [
    "var1 = [1, 2, 3]\n",
    "var2 = [555, 777, 888]\n",
    "\n",
    "print(f'var1 = {var1} and var2 = {var2} (initially)')\n",
    "print(f'var1 id = {id(var1)} and var2 id = {id(var2)}')\n",
    "print(f'var1 is var2 -> {var1 is var2}\\n')\n",
    "\n",
    "var1 = var2.copy()\n",
    "\n",
    "print(f'var1 = {var1} and var2 = {var2} (after making them equal)')\n",
    "print(f'var1 id = {id(var1)} and var2 id = {id(var2)}')\n",
    "print(f'var1 is var2 -> {var1 is var2}\\n')\n",
    "\n",
    "var2[2] -= 777\n",
    "print(f'var1 = {var1} and var2 = {var2} (after altering var2)')\n",
    "print(f'var1 id = {id(var1)} and var2 id = {id(var2)}')\n",
    "print(f'var1 is var2 -> {var1 is var2}\\n')"
   ]
  },
  {
   "attachments": {},
   "cell_type": "markdown",
   "metadata": {
    "nbgrader": {
     "grade": false,
     "locked": true,
     "solution": false
    }
   },
   "source": [
    "The third option is to use the <b><code>copy()</code></b> function within the <b><code>copy</code></b> module. This function also performs a shallow level copying procedure. For your reference, the <b><code>deepcopy()</code></b> function recursively copies everything from its argument. More information on how to use the <b><code>copy</code></b> module can be found <a href=\"https://docs.python.org/3/library/copy.html\">here</a>.\n",
    "\n",
    "* Option 3 - module copy"
   ]
  },
  {
   "cell_type": "code",
   "execution_count": 8,
   "metadata": {
    "collapsed": true,
    "nbgrader": {
     "grade": false,
     "locked": true,
     "solution": false
    }
   },
   "outputs": [
    {
     "name": "stdout",
     "output_type": "stream",
     "text": [
      "var1 = [1, 2, 3] and var2 = [555, 777, 888] (initially)\n",
      "var1 id = 1871667432256 and var2 id = 1871666251328\n",
      "var1 is var2 -> False\n",
      "\n",
      "var1 = [555, 777, 888] and var2 = [555, 777, 888] (after making them equal)\n",
      "var1 id = 1871667432064 and var2 id = 1871666251328\n",
      "var1 is var2 -> False\n",
      "\n",
      "var1 = [555, 777, 888] and var2 = [555, 777, 111] (after altering var2)\n",
      "var1 id = 1871667432064 and var2 id = 1871666251328\n",
      "var1 is var2 -> False\n",
      "\n"
     ]
    }
   ],
   "source": [
    "import copy\n",
    "\n",
    "var1 = [1, 2, 3]\n",
    "var2 = [555, 777, 888]\n",
    "\n",
    "print(f'var1 = {var1} and var2 = {var2} (initially)')\n",
    "print(f'var1 id = {id(var1)} and var2 id = {id(var2)}')\n",
    "print(f'var1 is var2 -> {var1 is var2}\\n')\n",
    "\n",
    "var1 = copy.copy(var2)\n",
    "\n",
    "print(f'var1 = {var1} and var2 = {var2} (after making them equal)')\n",
    "print(f'var1 id = {id(var1)} and var2 id = {id(var2)}')\n",
    "print(f'var1 is var2 -> {var1 is var2}\\n')\n",
    "\n",
    "var2[2] -= 777\n",
    "print(f'var1 = {var1} and var2 = {var2} (after altering var2)')\n",
    "print(f'var1 id = {id(var1)} and var2 id = {id(var2)}')\n",
    "print(f'var1 is var2 -> {var1 is var2}\\n')"
   ]
  },
  {
   "attachments": {},
   "cell_type": "markdown",
   "metadata": {
    "nbgrader": {
     "grade": false,
     "locked": true,
     "solution": false
    }
   },
   "source": [
    "You may be wondering the difference between <i>shallow copy</i> and <i> deep copy</i>. Shallow copy just copies the initial/top layer of an iterable, while deep copy makes sure to copy all values by going in all layers of an iterable. Here's a better example to illustrate the difference:"
   ]
  },
  {
   "cell_type": "code",
   "execution_count": 9,
   "metadata": {
    "collapsed": true,
    "nbgrader": {
     "grade": false,
     "locked": true,
     "solution": false
    }
   },
   "outputs": [
    {
     "name": "stdout",
     "output_type": "stream",
     "text": [
      "var1 = [1, ['cool', 232, -876.5], 3] and var2 = [555, 777, ['cool', 232, -876.5]] (initially)\n",
      "var1 id = 1871667410176 and var2 id = 1871667322304\n",
      "var1 is var2 -> False\n",
      "\n",
      "var1 = [555, 777, ['cool', 232, -876.5]] and var2 = [555, 777, ['cool', 232, -876.5]] (after shallow copy)\n",
      "var1 id = 1871666251328 and var2 id = 1871667322304\n",
      "var1 is var2 -> False\n",
      "\n",
      "var1 = [555, 777, ['cool', 232, -876.5]] and var2 = [555, 0, ['cool', 232, -876.5]] (after altering var2)\n",
      "var1 id = 1871666251328 and var2 id = 1871667322304\n",
      "var1 is var2 -> False\n",
      "\n"
     ]
    }
   ],
   "source": [
    "import copy\n",
    "\n",
    "lst = [\"cool\", 232, -876.5]\n",
    "var1 = [1, lst, 3]\n",
    "var2 = [555, 777, lst]\n",
    "\n",
    "print(f'var1 = {var1} and var2 = {var2} (initially)')\n",
    "print(f'var1 id = {id(var1)} and var2 id = {id(var2)}')\n",
    "print(f'var1 is var2 -> {var1 is var2}\\n')\n",
    "\n",
    "var1 = copy.copy(var2)\n",
    "print(f'var1 = {var1} and var2 = {var2} (after shallow copy)')\n",
    "print(f'var1 id = {id(var1)} and var2 id = {id(var2)}')\n",
    "print(f'var1 is var2 -> {var1 is var2}\\n')\n",
    "\n",
    "var2[1] -= 777\n",
    "print(f'var1 = {var1} and var2 = {var2} (after altering var2)')\n",
    "print(f'var1 id = {id(var1)} and var2 id = {id(var2)}')\n",
    "print(f'var1 is var2 -> {var1 is var2}\\n')"
   ]
  },
  {
   "attachments": {},
   "cell_type": "markdown",
   "metadata": {},
   "source": [
    "Okay, looks good, but what if we now change the lst list?. \n",
    "\n",
    "The same happens if we change it in one of the var's"
   ]
  },
  {
   "cell_type": "code",
   "execution_count": 10,
   "metadata": {
    "collapsed": true,
    "nbgrader": {
     "grade": false,
     "locked": true,
     "solution": false
    }
   },
   "outputs": [
    {
     "name": "stdout",
     "output_type": "stream",
     "text": [
      "var1 = [555, 777, ['I have changed my lst list, heh', 232, -876.5]] and var2 = [555, 0, ['I have changed my lst list, heh', 232, -876.5]] (after altering lst)\n",
      "var1 id = 1871666251328 and var2 id = 1871667322304\n",
      "var1 is var2 -> False\n",
      "\n",
      "var1 = [555, 777, ['I have changed my lst list, heh', 567898765, -876.5]] and var2 = [555, 0, ['I have changed my lst list, heh', 567898765, -876.5]] (after altering lst inside var1)\n",
      "var1 id = 1871666251328 and var2 id = 1871667322304\n",
      "var1 is var2 -> False\n",
      "\n"
     ]
    }
   ],
   "source": [
    "lst[0] = \"I have changed my lst list, heh\"\n",
    "print(f'var1 = {var1} and var2 = {var2} (after altering lst)')\n",
    "print(f'var1 id = {id(var1)} and var2 id = {id(var2)}')\n",
    "print(f'var1 is var2 -> {var1 is var2}\\n')\n",
    "\n",
    "var1[2][1] = 567898765\n",
    "print(f'var1 = {var1} and var2 = {var2} (after altering lst inside var1)')\n",
    "print(f'var1 id = {id(var1)} and var2 id = {id(var2)}')\n",
    "print(f'var1 is var2 -> {var1 is var2}\\n')"
   ]
  },
  {
   "attachments": {},
   "cell_type": "markdown",
   "metadata": {
    "nbgrader": {
     "grade": false,
     "locked": true,
     "solution": false
    }
   },
   "source": [
    "You can see, that <b><code>copy()</code></b> made a copy of <b><code>var2</code></b>, so now changing immutable elements inside each of them won't affect the other list. However, since both of them contain the variable <b><code>lst</code></b>, altering <b><code>lst</code></b> separately (or inside of <b><code>var1</code></b> or <b><code>var2</code></b>) will alter all objects! This is because <b><code>copy()</code></b> only does a shallow copy, meaning that it copied a reference to <b><code>lst</code></b>, and not its contents (since it didn't go inside, thus the name -> <i>shallow</i>). On the other hand, <b><code>deepcopy()</code></b> will make sure to copy all the values and no references will be shared, as shown below:"
   ]
  },
  {
   "cell_type": "code",
   "execution_count": 11,
   "metadata": {
    "collapsed": true,
    "nbgrader": {
     "grade": false,
     "locked": true,
     "solution": false
    }
   },
   "outputs": [
    {
     "name": "stdout",
     "output_type": "stream",
     "text": [
      "var1 = [1, ['cool', 232, -876.5], 3] and var2 = [555, 777, ['cool', 232, -876.5]] (initially)\n",
      "var1 id = 1871667529856 and var2 id = 1871667529920\n",
      "var1 is var2 -> False\n",
      "\n",
      "var1 = [555, 777, ['cool', 232, -876.5]] and var2 = [555, 777, ['cool', 232, -876.5]] (after deepcopy)\n",
      "var1 id = 1871667322304 and var2 id = 1871667529920\n",
      "var1 is var2 -> False\n",
      "\n",
      "var1 = [555, 777, ['cool', 232, -876.5]] and var2 = [555, 0, ['cool', 232, -876.5]] (after altering var2)\n",
      "var1 id = 1871667322304 and var2 id = 1871667529920\n",
      "var1 is var2 -> False\n",
      "\n",
      "var1 = [555, 777, ['cool', 232, -876.5]] and var2 = [555, 0, ['I have changed my lst list, heh', 232, -876.5]] (after altering lst)\n",
      "var1 id = 1871667322304 and var2 id = 1871667529920\n",
      "var1 is var2 -> False\n",
      "\n",
      "var1 = [555, 777, ['cool', 567898765, -876.5]] and var2 = [555, 0, ['I have changed my lst list, heh', 232, -876.5]] (after altering lst inside var1)\n",
      "var1 id = 1871667322304 and var2 id = 1871667529920\n",
      "var1 is var2 -> False\n",
      "\n"
     ]
    }
   ],
   "source": [
    "import copy\n",
    "\n",
    "lst = [\"cool\", 232, -876.5]\n",
    "var1 = [1, lst, 3]\n",
    "var2 = [555, 777, lst]\n",
    "\n",
    "print(f'var1 = {var1} and var2 = {var2} (initially)')\n",
    "print(f'var1 id = {id(var1)} and var2 id = {id(var2)}')\n",
    "print(f'var1 is var2 -> {var1 is var2}\\n')\n",
    "\n",
    "var1 = copy.deepcopy(var2)\n",
    "\n",
    "print(f'var1 = {var1} and var2 = {var2} (after deepcopy)')\n",
    "print(f'var1 id = {id(var1)} and var2 id = {id(var2)}')\n",
    "print(f'var1 is var2 -> {var1 is var2}\\n')\n",
    "\n",
    "var2[1] -= 777\n",
    "print(f'var1 = {var1} and var2 = {var2} (after altering var2)')\n",
    "print(f'var1 id = {id(var1)} and var2 id = {id(var2)}')\n",
    "print(f'var1 is var2 -> {var1 is var2}\\n')\n",
    "\n",
    "lst[0] = \"I have changed my lst list, heh\"\n",
    "print(f'var1 = {var1} and var2 = {var2} (after altering lst)')\n",
    "print(f'var1 id = {id(var1)} and var2 id = {id(var2)}')\n",
    "print(f'var1 is var2 -> {var1 is var2}\\n')\n",
    "\n",
    "var1[2][1] = 567898765\n",
    "print(f'var1 = {var1} and var2 = {var2} (after altering lst inside var1)')\n",
    "print(f'var1 id = {id(var1)} and var2 id = {id(var2)}')\n",
    "print(f'var1 is var2 -> {var1 is var2}\\n')"
   ]
  },
  {
   "attachments": {},
   "cell_type": "markdown",
   "metadata": {
    "nbgrader": {
     "grade": false,
     "locked": true,
     "solution": false
    }
   },
   "source": [
    "Tl;dr</h4><br>Consider you have a <b>mutable</b> variable <b><code>lst</code></b>, inside the variable <b><code>var2</code></b>. Now, you want to make a copy of <b><code>var2</code></b>. The two options are:<br><br>1) Do you want <b><code>var2_copy</code></b> to be altered once you alter <b><code>lst</code></b>? Then perform a <b>shallow copy</b>.<br><i>*keep in mind that altering <b><code>lst</code></b> through <b><code>var2</code></b> will also alter the original <b><code>lst</code></b>.<br></i><br>2) Do you want <b><code>var2_copy</code></b> to <b>NOT</b> be altered once you alter <b><code>lst</code></b>? Then perform a <b>deep copy</b>.<br><br>Below a last example on this. \n",
    "\n",
    "Shallow copy"
   ]
  },
  {
   "cell_type": "code",
   "execution_count": 4,
   "metadata": {
    "collapsed": true,
    "nbgrader": {
     "grade": false,
     "locked": true,
     "solution": false
    }
   },
   "outputs": [
    {
     "name": "stdout",
     "output_type": "stream",
     "text": [
      "------SHALLOW COPY------\n",
      "original lst ['lst0', 'lst1', 'lst2']\n",
      "original var2 [['lst0', 'lst1', 'lst2'], 'var[1]']\n",
      "original var2_copy [['lst0', 'lst1', 'lst2'], 'var[1]']\n"
     ]
    }
   ],
   "source": [
    "print('------SHALLOW COPY------')\n",
    "lst = ['lst0','lst1','lst2'] \n",
    "print('original lst', lst)\n",
    "var2 = [lst,'var[1]'] \n",
    "print('original var2', var2)\n",
    "var2_copy = copy.copy(var2) \n",
    "print('original var2_copy', var2_copy)"
   ]
  },
  {
   "attachments": {},
   "cell_type": "markdown",
   "metadata": {},
   "source": [
    "In the following code we alter the first element inside the first element of var2 `var2[0]` means the first element of var2. Similarly, `var2[0][0]` means the first element of `var2[0]` which happens to be `lst`, i.e., the first element of `lst` is changes and this also affects `var2` and `var2_copy`."
   ]
  },
  {
   "cell_type": "code",
   "execution_count": 5,
   "metadata": {},
   "outputs": [
    {
     "name": "stdout",
     "output_type": "stream",
     "text": [
      "altered lst [['ALTERED'], 'lst1', 'lst2']\n",
      "altered var2 [[['ALTERED'], 'lst1', 'lst2'], 'var[1]']\n",
      "altered var2_copy [[['ALTERED'], 'lst1', 'lst2'], 'var[1]']\n"
     ]
    }
   ],
   "source": [
    "var2[0][0] = [\"ALTERED\"] \n",
    "\n",
    "print('altered lst', lst)\n",
    "print('altered var2', var2)\n",
    "print('altered var2_copy', var2_copy)"
   ]
  },
  {
   "attachments": {},
   "cell_type": "markdown",
   "metadata": {},
   "source": [
    "Deep copy"
   ]
  },
  {
   "cell_type": "code",
   "execution_count": 6,
   "metadata": {
    "collapsed": true,
    "nbgrader": {
     "grade": false,
     "locked": true,
     "solution": false
    }
   },
   "outputs": [
    {
     "name": "stdout",
     "output_type": "stream",
     "text": [
      "------DEEP COPY------\n",
      "original lst ['lst0', 'lst1', 'lst2']\n",
      "original var2 [['lst0', 'lst1', 'lst2'], 'var[1]']\n",
      "original var2_copy [['lst0', 'lst1', 'lst2'], 'var[1]']\n"
     ]
    }
   ],
   "source": [
    "print('------DEEP COPY------')\n",
    "lst = ['lst0','lst1','lst2'] \n",
    "print('original lst', lst) \n",
    "var2 = [lst,'var[1]'] \n",
    "print('original var2', var2)\n",
    "var2_copy = copy.deepcopy(var2) \n",
    "print('original var2_copy', var2_copy)"
   ]
  },
  {
   "attachments": {},
   "cell_type": "markdown",
   "metadata": {},
   "source": [
    "In the following code we alter the first element inside the first element of `var2`, `var2[0]` means the first element of var2 similarly, `var2[0][0]` means the fist element of `var2[0]` which happens to be lst, in this case `var2` is affected but `var2_copy` **is not**."
   ]
  },
  {
   "cell_type": "code",
   "execution_count": 7,
   "metadata": {},
   "outputs": [
    {
     "name": "stdout",
     "output_type": "stream",
     "text": [
      "altered lst [['ALTERED'], 'lst1', 'lst2']\n",
      "altered var2 [[['ALTERED'], 'lst1', 'lst2'], 'var[1]']\n",
      "NOT altered var2_copy [['lst0', 'lst1', 'lst2'], 'var[1]']\n"
     ]
    }
   ],
   "source": [
    "var2[0][0] = ['ALTERED']\n",
    "\n",
    "print('altered lst', lst)\n",
    "print('altered var2', var2)\n",
    "print('NOT altered var2_copy', var2_copy)"
   ]
  },
  {
   "attachments": {},
   "cell_type": "markdown",
   "metadata": {},
   "source": [
    "In case you would like the variable `lst` to not be altered once you alter element `var2[0][0]`, you would have to make `var2` to have a copy of `lst`, and not `lst` itself as shown below:"
   ]
  },
  {
   "cell_type": "code",
   "execution_count": 8,
   "metadata": {
    "collapsed": true,
    "nbgrader": {
     "grade": false,
     "locked": true,
     "solution": false
    }
   },
   "outputs": [
    {
     "name": "stdout",
     "output_type": "stream",
     "text": [
      "------SHALLOW COPY------\n",
      "original lst ['lst[0]', 'lst[1]', 'lst[2]']\n",
      "original var2 [['lst[0]', 'lst[1]', 'lst[2]'], 'var[1]']\n",
      "original var2_copy [['lst[0]', 'lst[1]', 'lst[2]'], 'var[1]']\n",
      "NOT altered lst ['lst[0]', 'lst[1]', 'lst[2]']\n",
      "altered var2 [[['ALTERED'], 'lst[1]', 'lst[2]'], 'var[1]']\n",
      "altered var2_copy [[['ALTERED'], 'lst[1]', 'lst[2]'], 'var[1]']\n",
      "\n",
      "------DEEP COPY------\n",
      "original lst ['lst[0]', 'lst[1]', 'lst[2]']\n",
      "original var2 [['lst[0]', 'lst[1]', 'lst[2]'], 'var[1]']\n",
      "original var2_copy [['lst[0]', 'lst[1]', 'lst[2]'], 'var[1]']\n",
      "NOT altered lst ['lst[0]', 'lst[1]', 'lst[2]']\n",
      "altered var2 [[['ALTERED'], 'lst[1]', 'lst[2]'], 'var[1]']\n",
      "NOT altered var2_copy [['lst[0]', 'lst[1]', 'lst[2]'], 'var[1]']\n"
     ]
    }
   ],
   "source": [
    "print('------SHALLOW COPY------')\n",
    "lst = ['lst[0]','lst[1]','lst[2]'] \n",
    "print('original lst', lst)\n",
    "var2 = [copy.copy(lst),'var[1]'] #\n",
    "print('original var2', var2)\n",
    "var2_copy = copy.copy(var2) \n",
    "print('original var2_copy', var2_copy)\n",
    "\n",
    "var2[0][0] = [\"ALTERED\"] \n",
    "\n",
    "print('NOT altered lst', lst)\n",
    "print('altered var2', var2)\n",
    "print('altered var2_copy', var2_copy)\n",
    "\n",
    "\n",
    "print('\\n------DEEP COPY------')\n",
    "lst = ['lst[0]','lst[1]','lst[2]'] \n",
    "print('original lst', lst) \n",
    "var2 = [copy.copy(lst),'var[1]'] \n",
    "print('original var2', var2)\n",
    "var2_copy = copy.deepcopy(var2) \n",
    "print('original var2_copy', var2_copy)\n",
    "\n",
    "var2[0][0] = ['ALTERED']\n",
    "\n",
    "print('NOT altered lst', lst)\n",
    "print('altered var2', var2)\n",
    "print('NOT altered var2_copy', var2_copy)"
   ]
  },
  {
   "attachments": {},
   "cell_type": "markdown",
   "metadata": {
    "nbgrader": {
     "grade": false,
     "locked": true,
     "solution": false
    }
   },
   "source": [
    "We understand that this topic can be a bit confusing, so don't hesitate to ask questions! Our main goal is to make you familiar with different behaviors of Python, and we hope that it will help you to debug/understand your programs better!"
   ]
  },
  {
   "attachments": {},
   "cell_type": "markdown",
   "metadata": {
    "collapsed": true,
    "nbgrader": {
     "grade": false,
     "locked": true,
     "solution": false
    }
   },
   "source": [
    "## Additional study material:\n",
    "    \n",
    "* [Official Python Documentation](https://docs.python.org/3/reference/datamodel.html)\n",
    "* Think Python (2nd ed.) Section 10\n",
    "* https://freecontent.manning.com/mutable-and-immutable-objects/"
   ]
  },
  {
   "attachments": {},
   "cell_type": "markdown",
   "metadata": {
    "nbgrader": {
     "grade": false,
     "locked": true,
     "solution": false
    }
   },
   "source": [
    "<h4>After this Notebook you should be able to:</h4>\n",
    "\n",
    "\n",
    "- understand the difference between objects and references\n",
    "- understand the difference between copy and deepcopy"
   ]
  }
 ],
 "metadata": {
  "kernelspec": {
   "display_name": "Python 3 [3.7]",
   "language": "python",
   "name": "python3"
  },
  "language_info": {
   "codemirror_mode": {
    "name": "ipython",
    "version": 3
   },
   "file_extension": ".py",
   "mimetype": "text/x-python",
   "name": "python",
   "nbconvert_exporter": "python",
   "pygments_lexer": "ipython3",
   "version": "3.8.13"
  },
  "latex_envs": {
   "LaTeX_envs_menu_present": true,
   "autoclose": false,
   "autocomplete": true,
   "bibliofile": "biblio.bib",
   "cite_by": "apalike",
   "current_citInitial": 1,
   "eqLabelWithNumbers": true,
   "eqNumInitial": 1,
   "hotkeys": {
    "equation": "Ctrl-E",
    "itemize": "Ctrl-I"
   },
   "labels_anchors": false,
   "latex_user_defs": false,
   "report_style_numbering": false,
   "user_envs_cfg": false
  },
  "vscode": {
   "interpreter": {
    "hash": "1fe2f2b718b1108b9c4176932db8a0ead471245140baaa21ea96a4066683e6b2"
   }
  }
 },
 "nbformat": 4,
 "nbformat_minor": 2
}
