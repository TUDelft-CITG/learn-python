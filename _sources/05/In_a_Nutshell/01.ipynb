{
 "cells": [
  {
   "attachments": {},
   "cell_type": "markdown",
   "metadata": {},
   "source": [
    "# 5. Numpy"
   ]
  },
  {
   "attachments": {},
   "cell_type": "markdown",
   "metadata": {},
   "source": [
    "## 5.1. Introduction\n",
    "\n",
    "The `numpy` package is essential for handling arrays and matrices in Python, making it invaluable for processing and visualizing scientific data. It offers a wide range of functions for various operations, including mathematics, logic, linear algebra, Fourier transforms, and more. In this section, you will explore commonly used numpy functions to work with multidimensional arrays.\n",
    "\n",
    "Here is how you can import the `numpy` package in python:"
   ]
  },
  {
   "cell_type": "code",
   "execution_count": 1,
   "metadata": {},
   "outputs": [],
   "source": [
    "import numpy as np"
   ]
  },
  {
   "attachments": {},
   "cell_type": "markdown",
   "metadata": {},
   "source": [
    "Here is a table of what you should know after this topic:\n",
    "\n",
    "| Function          | Definition                                                                                                      | Example                                                                                                                                                             | Array Type               |\n",
    "|-------------------|-----------------------------------------------------------------------------------------------------------------|---------------------------------------------------------------------------------------------------------------------------------------------------------------------|--------------------------|\n",
    "| `np.array()`      | Creates an array from a given sequence or iterable object.                                                       | `arr = np.array([1, 2, 3, 4, 5])`                                                                                                                                   | One-Dimensional          |\n",
    "| `np.zeros()`      | Creates an array filled with zeros.                                                                              | `arr = np.zeros((3, 4))`                                                                                                                                            | Two-Dimensional          |\n",
    "| `np.asarray()`    | Converts a given input to an array.                                                                              | `arr = np.asarray([1, 2, 3, 4, 5])`                                                                                                                                 | One-Dimensional          |\n",
    "| `np.shape()`      | Returns the shape of an array (number of rows and columns).                                                      | `shape = np.shape(arr)`                                                                                                                                             | -                        |\n",
    "| `np.min()`        | Returns the minimum value in an array.                                                                           | `minimum = np.min(arr)`                                                                                                                                              | -                        |\n",
    "| `np.max()`        | Returns the maximum value in an array.                                                                           | `maximum = np.max(arr)`                                                                                                                                              | -                        |\n",
    "| `np.mean()`       | Computes the mean (average) value of an array.                                                                   | `mean = np.mean(arr)`                                                                                                                                                | -                        |\n",
    "| `np.sort()`       | Sorts the elements of an array in ascending order.                                                               | `sorted_arr = np.sort(arr)`                                                                                                                                          | -                        |\n",
    "| `np.linspace()`   | Returns evenly spaced numbers over a specified interval.                                                         | `arr = np.linspace(0, 10, 5)`                                                                                                                                        | One-Dimensional          |\n",
    "| `np.arange()`     | Returns evenly spaced values within a given interval.                                                            | `arr = np.arange(0, 10, 2)`                                                                                                                                          | One-Dimensional          |\n",
    "| `np.argmax()`     | Returns the indices of the maximum values along a specified axis.                                                | `index = np.argmax(arr)`                                                                                                                                             | -                        |\n",
    "| `np.argmin()`     | Returns the indices of the minimum values along a specified axis.                                                | `index = np.argmin(arr)`                                                                                                                                             | -                        |\n",
    "| `np.where()`      | Returns the indices where a given condition is true.                                                             | `indices = np.where(arr > 3)`                                                                                                                                        | -                        |\n",
    "| `np.astype()`     | Changes the data type of an array.                                                                               | `arr = arr.astype(np.float64)`                                                                                                                                       | -                        |\n",
    "| `np.dot()`        | Computes the dot product of two arrays.                                                                          | `result = np.dot(arr1, arr2)`                                                                                                                                        | -                        |\n",
    "| `np.transpose()`  | Transposes the rows and columns of an array.                                                                     | `arr_transposed = np.transpose(arr)`                                                                                                                                 | -                        |\n",
    "| `np.loadtxt()`    | Loads data from a text file into an array.                                                                       | `arr = np.loadtxt('data.txt')`                                                                                                                                       | Two-Dimensional          |\n",
    "| `np.sum()`        | Computes the sum of array elements.                                                                              | `sum = np.sum(arr)`                                                                                                                                                  | -                        |\n",
    "| `np.cos()`        | Computes the cosine of each element in the array.                                                               | `cos_arr = np.cos(arr)`                                                                                                                                              | -                        |\n",
    "| `np.sin()`        | Computes the sine of each element in the array.                                                                 | `sin_arr = np.sin(arr)`                                                                                                                                              | -                        |\n",
    "| `np.sqrt()`       | Computes the square root of each element in the array.                                                          | `sqrt_arr = np.sqrt(arr)` |- | \n"
   ]
  },
  {
   "attachments": {},
   "cell_type": "markdown",
   "metadata": {},
   "source": [
    "### Conditions within arrays\n",
    "\n",
    "You can also use conditions to check for values within an array. For example: "
   ]
  },
  {
   "cell_type": "code",
   "execution_count": 9,
   "metadata": {},
   "outputs": [
    {
     "name": "stdout",
     "output_type": "stream",
     "text": [
      "Original Array: [-1  0  1  2  3]\n",
      "Filtered Array (Positive Elements): [1 2 3]\n"
     ]
    }
   ],
   "source": [
    "arr = np.array([-1, 0, 1, 2, 3])\n",
    "\n",
    "filtered_arr = arr[arr > 0]\n",
    "\n",
    "print(\"Original Array:\", arr)\n",
    "print(\"Filtered Array (Positive Elements):\", filtered_arr)\n"
   ]
  },
  {
   "attachments": {},
   "cell_type": "markdown",
   "metadata": {},
   "source": [
    "`Numpy` provides a variety of functions for linear algebra operations. These functions are used to perform operations on matrices and solve systems of linear equations. Here are a few commonly used functions from `np.linalg`:\n",
    "\n",
    "| Function           | Description                                                  |\n",
    "| ------------------ | ------------------------------------------------------------ |\n",
    "| `np.linalg.inv`    | Computes the inverse of a square matrix.                     |\n",
    "| `np.linalg.det`    | Calculates the determinant of a square matrix.               |\n",
    "| `np.linalg.eig`    | Computes the eigenvalues and eigenvectors of a square matrix.|\n",
    "| `np.linalg.solve`  | Solves a system of linear equations.                         |\n",
    "\n",
    "\n",
    "Let's focus on the `np.linalg.solve` function, which is used to solve a system of linear equations. It takes two arguments: the coefficient matrix A and the dependent variable vector b. The function solves the equation Ax = b and returns the solution vector x. To illustrate this, here is an example: "
   ]
  },
  {
   "cell_type": "code",
   "execution_count": 4,
   "metadata": {},
   "outputs": [
    {
     "name": "stdout",
     "output_type": "stream",
     "text": [
      "[2.2 1.2]\n"
     ]
    }
   ],
   "source": [
    "import numpy as np\n",
    "\n",
    "# Coefficient matrix\n",
    "A = np.array([[2, 3], [4, 1]])\n",
    "\n",
    "# Dependent variable vector\n",
    "b = np.array([8, 10])\n",
    "\n",
    "# Solve the equation Ax = b\n",
    "x = np.linalg.solve(A, b)\n",
    "\n",
    "print(x)\n"
   ]
  },
  {
   "attachments": {},
   "cell_type": "markdown",
   "metadata": {},
   "source": [
    "```{note}\n",
    ":class: Collapsed \n",
    "A: the created coefficient matrix\n",
    "b: the dependent variable vector\n",
    "x: the unknown we try to solve for from matrix equation of Ax = b \n",
    "```"
   ]
  },
  {
   "attachments": {},
   "cell_type": "markdown",
   "metadata": {},
   "source": [
    "The `@` operator in Python is used for matrix multiplication when working with `Numpy arrays`. Here's an example that demonstrates the usage of the `@` operator for matrix multiplication:"
   ]
  },
  {
   "cell_type": "code",
   "execution_count": 5,
   "metadata": {},
   "outputs": [
    {
     "name": "stdout",
     "output_type": "stream",
     "text": [
      "Matrix 1:\n",
      "[[1 2]\n",
      " [3 4]]\n",
      "\n",
      "Matrix 2:\n",
      "[[5 6]\n",
      " [7 8]]\n",
      "\n",
      "Result of Matrix Multiplication:\n",
      "[[19 22]\n",
      " [43 50]]\n"
     ]
    }
   ],
   "source": [
    "import numpy as np\n",
    "\n",
    "matrix1 = np.array([[1, 2],\n",
    "                    [3, 4]])\n",
    "\n",
    "matrix2 = np.array([[5, 6],\n",
    "                    [7, 8]])\n",
    "\n",
    "result = matrix1 @ matrix2\n",
    "\n",
    "print(\"Matrix 1:\")\n",
    "print(matrix1)\n",
    "print(\"\\nMatrix 2:\")\n",
    "print(matrix2)\n",
    "print(\"\\nResult of Matrix Multiplication:\")\n",
    "print(result)\n"
   ]
  },
  {
   "attachments": {},
   "cell_type": "markdown",
   "metadata": {},
   "source": []
  }
 ],
 "metadata": {
  "kernelspec": {
   "display_name": "Python 3",
   "language": "python",
   "name": "python3"
  },
  "language_info": {
   "codemirror_mode": {
    "name": "ipython",
    "version": 3
   },
   "file_extension": ".py",
   "mimetype": "text/x-python",
   "name": "python",
   "nbconvert_exporter": "python",
   "pygments_lexer": "ipython3",
   "version": "3.11.2"
  },
  "orig_nbformat": 4
 },
 "nbformat": 4,
 "nbformat_minor": 2
}
