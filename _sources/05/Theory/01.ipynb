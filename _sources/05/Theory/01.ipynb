{
 "cells": [
  {
   "attachments": {},
   "cell_type": "markdown",
   "metadata": {
    "nbgrader": {
     "grade": false,
     "locked": true,
     "solution": false
    }
   },
   "source": [
    "<figure>\n",
    "  <IMG SRC=\"https://raw.githubusercontent.com/mbakker7/exploratory_computing_with_python/master/tudelft_logo.png\" WIDTH=250 ALIGN=\"right\">\n",
    "</figure>\n",
    "\n",
    "# 5. Numpy"
   ]
  },
  {
   "attachments": {},
   "cell_type": "markdown",
   "metadata": {
    "nbgrader": {
     "grade": false,
     "locked": true,
     "solution": false
    }
   },
   "source": [
    "## 5.1. Introduction\n",
    "\n",
    "The <b><code>numpy</code></b> package is one of the main packages when it comes to working with arrays and matrices in Python, making it indispensable to process and visualize scientific data. Its assortment of routines facilitates operations such as mathematical, logical, linear algebra, Fourier transforms, and much more. In this section, you will learn some of the most used <b><code>numpy</code></b> functions to work with multidimensional array objects.\n",
    "\n",
    "As always, let's import the package we will use"
   ]
  },
  {
   "cell_type": "code",
   "execution_count": 2,
   "metadata": {
    "collapsed": true,
    "nbgrader": {
     "grade": false,
     "locked": true,
     "solution": false
    }
   },
   "outputs": [],
   "source": [
    "import numpy as np"
   ]
  },
  {
   "attachments": {},
   "cell_type": "markdown",
   "metadata": {
    "nbgrader": {
     "grade": false,
     "locked": true,
     "solution": false
    }
   },
   "source": [
    "The following functions will be discussed in this Notebook:\n",
    "- <b><code>np.array()</code></b> \n",
    "- <b><code>np.zeros()</code></b> \n",
    "- <b><code>np.asarray()</code></b> \n",
    "- <b><code>np.shape()</code></b>\n",
    "- <b><code>np.min()</code></b>\n",
    "- <b><code>np.max()</code></b>\n",
    "- <b><code>np.mean()</code></b>\n",
    "- <b><code>np.sort()</code></b>\n",
    "- <b><code>np.linspace()</code></b>\n",
    "- <b><code>np.arange()</code></b>\n",
    "- <b><code>np.argmax()</code></b>\n",
    "- <b><code>np.argmin()</code></b>\n",
    "- <b><code>np.where()</code></b>\n",
    "- <b><code>np.astype()</code></b>\n",
    "- <b><code>np.dot()</code></b>\n",
    "- <b><code>np.transpose()</code></b>\n",
    "- <b><code>np.loadtxt()</code></b>\n",
    "- <b><code>np.sum()</code></b>\n",
    "- <b><code>np.cos()</code></b>\n",
    "- <b><code>np.sin()</code></b>\n",
    "- <b><code>np.sqrt()</code></b>\n"
   ]
  },
  {
   "attachments": {},
   "cell_type": "markdown",
   "metadata": {
    "nbgrader": {
     "grade": false,
     "locked": true,
     "solution": false
    }
   },
   "source": [
    "In Section 2.3, of Notebook 2, you have already encountered lists, which are created with square brackets <b><code>[]</code></b>. Arrays are the <b><code>numpy</code></b> equivalent of lists, with a few characteristic traits:<br><br>- <b><code>numpy</code></b> arrays can only store one type of element,<br>- <b><code>numpy</code></b> arrays take up much less memory than lists,<br>- <b><code>numpy</code></b> arrays have a much better runtime behavior,<br>- it is easier to work with multi-dimensional <b><code>numpy</code></b> arrays than with multi-dimensional lists<br><br>"
   ]
  },
  {
   "attachments": {},
   "cell_type": "markdown",
   "metadata": {},
   "source": [
    "## 5.2 One-Dimensional arrays"
   ]
  },
  {
   "attachments": {},
   "cell_type": "markdown",
   "metadata": {},
   "source": [
    "### ``np.array()``, ``np.asarray()``\n",
    "So, how do you create a <b><code>numpy</code></b> 1-Dimensional (1D) array? There are a few ways to do it..."
   ]
  },
  {
   "attachments": {},
   "cell_type": "markdown",
   "metadata": {},
   "source": [
    "* Option 1 - from scratch with ``np.array()`` similar to a list."
   ]
  },
  {
   "cell_type": "code",
   "execution_count": 3,
   "metadata": {
    "collapsed": true,
    "nbgrader": {
     "grade": false,
     "locked": true,
     "solution": false
    }
   },
   "outputs": [
    {
     "name": "stdout",
     "output_type": "stream",
     "text": [
      "arr1 = [1 2 3], its type is <class 'numpy.ndarray'>\n"
     ]
    }
   ],
   "source": [
    "arr1 = np.array([1,2,3])\n",
    "print('arr1 = {}, its type is {}'.format(arr1,type(arr1)))"
   ]
  },
  {
   "attachments": {},
   "cell_type": "markdown",
   "metadata": {},
   "source": [
    "* Option 2 - from an existing list with ``np.array()``. \n",
    "\n",
    "Create the list first and check its type. Then create the array `A_1` from the list `L_1` and check its type."
   ]
  },
  {
   "cell_type": "code",
   "execution_count": 4,
   "metadata": {
    "collapsed": true,
    "nbgrader": {
     "grade": false,
     "locked": true,
     "solution": false
    }
   },
   "outputs": [
    {
     "name": "stdout",
     "output_type": "stream",
     "text": [
      "L_1 = [1, 2, 3, 5, 7, 11, 13] and its type is <class 'list'>\n",
      "\n",
      "A_1 = [ 1  2  3  5  7 11 13] and its type is <class 'numpy.ndarray'>\n"
     ]
    }
   ],
   "source": [
    "L_1 = [1,2,3,5,7,11,13]\n",
    "print('L_1 = {} and its type is {}\\n'.format(L_1,type(L_1)))\n",
    "\n",
    "A_1 = np.array(L_1)\n",
    "print('A_1 = {} and its type is {}'.format(A_1, type(A_1)))"
   ]
  },
  {
   "attachments": {},
   "cell_type": "markdown",
   "metadata": {},
   "source": [
    "* Option 3 - from an existing list with ``np.asarray()``"
   ]
  },
  {
   "cell_type": "code",
   "execution_count": 4,
   "metadata": {
    "collapsed": true,
    "nbgrader": {
     "grade": false,
     "locked": true,
     "solution": false
    }
   },
   "outputs": [
    {
     "name": "stdout",
     "output_type": "stream",
     "text": [
      "L_1 = [1, 2, 3, 5, 7, 11, 13] and its type is <class 'list'>\n",
      "\n",
      "A_1 = [ 1  2  3  5  7 11 13] and its type is <class 'numpy.ndarray'>\n"
     ]
    }
   ],
   "source": [
    "L_1 = [1,2,3,5,7,11,13]\n",
    "print('L_1 = {} and its type is {}\\n'.format(L_1,type(L_1)))\n",
    "\n",
    "A_1 = np.asarray(L_1)\n",
    "print('A_1 = {} and its type is {}'.format(A_1, type(A_1)))"
   ]
  },
  {
   "attachments": {},
   "cell_type": "markdown",
   "metadata": {
    "nbgrader": {
     "grade": false,
     "locked": true,
     "solution": false
    }
   },
   "source": [
    "From the above examples, you can't really determine the difference between using <b><code>np.array()</code></b> or <b><code>np.asarray()</code></b>. Nonetheless, there is a very important one, similar to the <b><code>=</code></b> and <b><code>copy</code></b> conundrum discussed in Notebook 4. When generating an array from a list, both functions do pretty much the same. However, when generating an array from another array, their differences stand out.\n",
    "\n",
    "First, let's check the ID of arr1"
   ]
  },
  {
   "cell_type": "code",
   "execution_count": 6,
   "metadata": {
    "collapsed": true,
    "nbgrader": {
     "grade": false,
     "locked": true,
     "solution": false
    }
   },
   "outputs": [
    {
     "name": "stdout",
     "output_type": "stream",
     "text": [
      "arr1 ID is 3116429230896\n"
     ]
    }
   ],
   "source": [
    "print('arr1 ID is {}'.format(id(arr1)))"
   ]
  },
  {
   "attachments": {},
   "cell_type": "markdown",
   "metadata": {},
   "source": [
    "Now, let's make two new arrays from arr1, using both functions"
   ]
  },
  {
   "cell_type": "code",
   "execution_count": 7,
   "metadata": {
    "collapsed": true,
    "nbgrader": {
     "grade": false,
     "locked": true,
     "solution": false
    }
   },
   "outputs": [
    {
     "name": "stdout",
     "output_type": "stream",
     "text": [
      "arr_array = [100   2   3] and its ID is 2342009211568\n",
      "\n",
      "arr_asarray = [100   2   3] and its ID is 2342276386128\n"
     ]
    }
   ],
   "source": [
    "arr_array = np.array(arr1)\n",
    "arr_asarray = np.asarray(arr1)\n",
    "\n",
    "print('arr_array = {} and its ID is {}\\n'.format(arr_array,id(arr_array)))\n",
    "print('arr_asarray = {} and its ID is {}'.format(arr_asarray, id(arr_asarray)))"
   ]
  },
  {
   "attachments": {},
   "cell_type": "markdown",
   "metadata": {
    "nbgrader": {
     "grade": false,
     "locked": true,
     "solution": false
    }
   },
   "source": [
    "Hmm... it seems that the ID of <b><code>arr_asarray</code></b> is the same as the original <b><code>arr1</code></b>. Which means they are the same variable! Altering one will alter the other one as well. Let's try it out."
   ]
  },
  {
   "cell_type": "code",
   "execution_count": 8,
   "metadata": {
    "collapsed": true,
    "nbgrader": {
     "grade": false,
     "locked": true,
     "solution": false
    }
   },
   "outputs": [
    {
     "ename": "ValueError",
     "evalue": "invalid literal for int() with base 10: 'hello'",
     "output_type": "error",
     "traceback": [
      "\u001b[1;31m---------------------------------------------------------------------------\u001b[0m",
      "\u001b[1;31mValueError\u001b[0m                                Traceback (most recent call last)",
      "Cell \u001b[1;32mIn[8], line 1\u001b[0m\n\u001b[1;32m----> 1\u001b[0m arr1[\u001b[39m0\u001b[39m] \u001b[39m=\u001b[39m \u001b[39m'\u001b[39m\u001b[39mhello\u001b[39m\u001b[39m'\u001b[39m\n\u001b[0;32m      2\u001b[0m \u001b[39mprint\u001b[39m(arr_asarray)\n",
      "\u001b[1;31mValueError\u001b[0m: invalid literal for int() with base 10: 'hello'"
     ]
    }
   ],
   "source": [
    "arr1[0] = 'hello'\n",
    "print(arr_asarray)"
   ]
  },
  {
   "attachments": {},
   "cell_type": "markdown",
   "metadata": {
    "nbgrader": {
     "grade": false,
     "locked": true,
     "solution": false
    }
   },
   "source": [
    "Oops... it didn't work. Why do you think it didn't work?"
   ]
  },
  {
   "attachments": {},
   "cell_type": "markdown",
   "metadata": {},
   "source": [
    "Answer: . . .\n",
    "\n",
    "Change the first element of `arr1`. Then print `arr_array` and `arr_asarray` to see if the first element changed."
   ]
  },
  {
   "cell_type": "code",
   "execution_count": 9,
   "metadata": {
    "collapsed": true,
    "nbgrader": {
     "grade": false,
     "locked": true,
     "solution": false
    }
   },
   "outputs": [
    {
     "name": "stdout",
     "output_type": "stream",
     "text": [
      "arr1 = [100   2   3]\n",
      "\n",
      "arr_array = [100   2   3]\n",
      "\n",
      "arr_asarray = [100   2   3]\n"
     ]
    }
   ],
   "source": [
    "arr1[0] = 100\n",
    "\n",
    "print('arr1 = {}\\n'.format(arr1))\n",
    "print('arr_array = {}\\n'.format(arr_array))\n",
    "print('arr_asarray = {}'.format(arr_asarray))"
   ]
  },
  {
   "attachments": {},
   "cell_type": "markdown",
   "metadata": {
    "nbgrader": {
     "grade": false,
     "locked": true,
     "solution": false
    }
   },
   "source": [
    "Yep, our theory was right: <b><code>arr1</code></b> and <b><code>arr_asarray</code></b> are indeed the same (but <b><code>arr_array</code></b> is not!). Therefore, altering <b><code>arr1[0]</code></b> will alter <b><code>arr_asarray[0]</code></b> in the same way.\n",
    "\n",
    "Final check that they are indeed the same"
   ]
  },
  {
   "cell_type": "code",
   "execution_count": 10,
   "metadata": {
    "collapsed": true,
    "nbgrader": {
     "grade": false,
     "locked": true,
     "solution": false
    }
   },
   "outputs": [
    {
     "name": "stdout",
     "output_type": "stream",
     "text": [
      "True\n"
     ]
    }
   ],
   "source": [
    "print(arr1 is arr_asarray)"
   ]
  },
  {
   "attachments": {},
   "cell_type": "markdown",
   "metadata": {
    "nbgrader": {
     "grade": false,
     "locked": true,
     "solution": false
    }
   },
   "source": [
    "### ``np.zeros()``\n",
    "In case you already know the size of the array you will need, it is common to initialize it with zeros first using the <code>np.zeros()</code> function, as shown below."
   ]
  },
  {
   "attachments": {},
   "cell_type": "markdown",
   "metadata": {},
   "source": [
    "Set a limit when printing the huge arrays we will generate."
   ]
  },
  {
   "cell_type": "code",
   "execution_count": 11,
   "metadata": {
    "tags": [
     "hide-input"
    ]
   },
   "outputs": [],
   "source": [
    "np.set_printoptions(threshold=1) "
   ]
  },
  {
   "attachments": {},
   "cell_type": "markdown",
   "metadata": {},
   "source": [
    "I know I will need an array with 100000 elements so I create it full of zeros first. Then, I assign the values I need to each element.\n",
    "in this example, I only wrote a `for` loop to assign random integer numbers between 0 and 9 to it. Note the use of `range(len(my_arr))`, we use this often to specify the range of the `for` loop to be of the same size as some array."
   ]
  },
  {
   "cell_type": "code",
   "execution_count": 18,
   "metadata": {
    "collapsed": true,
    "nbgrader": {
     "grade": false,
     "locked": true,
     "solution": false
    }
   },
   "outputs": [
    {
     "name": "stdout",
     "output_type": "stream",
     "text": [
      "my_arr with a bunch of zeros \n",
      "[0. 0. 0. ... 0. 0. 0.]\n",
      "\n",
      "#######################\n",
      "\n",
      "my_arr with random numbers \n",
      "[1. 0. 9. ... 7. 2. 4.]\n"
     ]
    }
   ],
   "source": [
    "\n",
    "my_arr = np.zeros(100000)\n",
    "print('my_arr with a bunch of zeros \\n{}\\n'.format(my_arr))\n",
    "print('#######################')\n",
    "\n",
    "import random\n",
    "\n",
    "for i in range(len(my_arr)): \n",
    "    my_arr[i] = random.randint(0,9)\n",
    "    \n",
    "print('\\nmy_arr with random numbers \\n{}'.format(my_arr))\n"
   ]
  },
  {
   "attachments": {},
   "cell_type": "markdown",
   "metadata": {
    "nbgrader": {
     "grade": false,
     "locked": true,
     "solution": false
    }
   },
   "source": [
    "Note that these arrays still have $100000$ elements, but due to our first line of code we truncated the print function to not print it completely — otherwise you would have to scroll a lot. :P "
   ]
  },
  {
   "attachments": {},
   "cell_type": "markdown",
   "metadata": {
    "nbgrader": {
     "grade": false,
     "locked": true,
     "solution": false
    }
   },
   "source": [
    "### ``np.min()``, ``np.max()`` and ``np.mean()``\n",
    "\n",
    "Numpy also provides various packages to help you process your data. You can, for instance, find out what is the minimum value of an array, or its mean. Your task is to find the minimum, maximum, and mean values of an array.\n",
    "\n",
    "Find the minimum, maximum and mean values of A_1 and print the results."
   ]
  },
  {
   "cell_type": "code",
   "execution_count": 26,
   "metadata": {},
   "outputs": [
    {
     "name": "stdout",
     "output_type": "stream",
     "text": [
      "The minimum value of A_1 is 1 \n",
      "\n",
      "The maximum value of A_1 is 13 \n",
      "\n",
      "The mean value of A_1 is 6.0 \n",
      "\n"
     ]
    }
   ],
   "source": [
    "A_1_min = np.min(A_1)\n",
    "A_1_max = np.max(A_1)\n",
    "A_1_mean = np.mean(A_1)\n",
    "\n",
    "print(f'The minimum value of A_1 is {A_1_min} \\n')\n",
    "print(f'The maximum value of A_1 is {A_1_max} \\n')\n",
    "print(f'The mean value of A_1 is {A_1_mean} \\n')"
   ]
  },
  {
   "attachments": {},
   "cell_type": "markdown",
   "metadata": {},
   "source": [
    "### ``np.arange()``\n",
    "\n",
    "Another useful function of the <b><code>numpy</code></b> module is <b><code>np.arange()</code></b>. First, let's see in the documentation what it does."
   ]
  },
  {
   "attachments": {},
   "cell_type": "markdown",
   "metadata": {},
   "source": [
    "It reads:<br><br><i><code>arange([start,] stop[, step,], dtype=None, *, like=None)<br><br>Return evenly spaced values within a given interval.</code></i><br><br>To make a number range you need to choose: <br>1) the starting point,<br>2) the endpoint,<br>3) the interval between each point<br><br>The reason why it reads <b><code>[start,] stop[, step,]</code></b> with square brackets, is that the <b><code>start</code></b> and the <b><code>step</code></b> can be omitted. If not specified, <b><code>start = 0</code></b> and <b><code>step = 1</code></b>, by default."
   ]
  },
  {
   "attachments": {},
   "cell_type": "markdown",
   "metadata": {},
   "source": [
    "::: {warning}\n",
    "Your endpoint is <b>not</b> included in the array. If you want to include the endpoint in the array, you have to specify the stop to be <b>endpoint + step</b>. This will be clearer in the following examples.\n",
    ":::"
   ]
  },
  {
   "attachments": {},
   "cell_type": "markdown",
   "metadata": {},
   "source": [
    "omitted start and step"
   ]
  },
  {
   "cell_type": "code",
   "execution_count": null,
   "metadata": {},
   "outputs": [
    {
     "name": "stdout",
     "output_type": "stream",
     "text": [
      "arr = [0 1 2 3 4]\n"
     ]
    }
   ],
   "source": [
    "arr = np.arange(5) \n",
    "print('arr =', arr)"
   ]
  },
  {
   "attachments": {},
   "cell_type": "markdown",
   "metadata": {},
   "source": [
    "As mentioned, the endpoint (5) is omitted. If you would like to include it:"
   ]
  },
  {
   "cell_type": "code",
   "execution_count": null,
   "metadata": {},
   "outputs": [
    {
     "name": "stdout",
     "output_type": "stream",
     "text": [
      "arr = [0 1 2 3 4 5]\n"
     ]
    }
   ],
   "source": [
    "arr = np.arange(5 + 1)\n",
    "print('arr =', arr)"
   ]
  },
  {
   "attachments": {},
   "cell_type": "markdown",
   "metadata": {},
   "source": [
    "Now, without omiting `start` nor `step`.  Without endpoint."
   ]
  },
  {
   "cell_type": "code",
   "execution_count": null,
   "metadata": {},
   "outputs": [
    {
     "name": "stdout",
     "output_type": "stream",
     "text": [
      "arr = [1.   1.01 1.02 ... 1.97 1.98 1.99]\n"
     ]
    }
   ],
   "source": [
    "arr = np.arange(1, 2, 0.01)\n",
    "print('arr =', arr)"
   ]
  },
  {
   "attachments": {},
   "cell_type": "markdown",
   "metadata": {},
   "source": [
    "Including endpoint"
   ]
  },
  {
   "cell_type": "code",
   "execution_count": null,
   "metadata": {},
   "outputs": [
    {
     "name": "stdout",
     "output_type": "stream",
     "text": [
      "arr = [1.   1.01 1.02 ... 1.98 1.99 2.  ]\n"
     ]
    }
   ],
   "source": [
    "arr = np.arange(1, 2 + 0.01, 0.01) \n",
    "print('arr =', arr)"
   ]
  },
  {
   "attachments": {},
   "cell_type": "markdown",
   "metadata": {},
   "source": [
    "You can also generate a descending array, by using negative steps"
   ]
  },
  {
   "cell_type": "code",
   "execution_count": null,
   "metadata": {},
   "outputs": [
    {
     "name": "stdout",
     "output_type": "stream",
     "text": [
      "arr = [10  9  8 ...  3  2  1]\n"
     ]
    }
   ],
   "source": [
    "arr = np.arange(10,0,-1)\n",
    "print('arr =', arr)"
   ]
  },
  {
   "attachments": {},
   "cell_type": "markdown",
   "metadata": {},
   "source": [
    "### ``np.sort()``\n",
    "\n",
    "You can also sort an array in the crescent order using <b><code>np.sort()</code></b>"
   ]
  },
  {
   "cell_type": "code",
   "execution_count": null,
   "metadata": {},
   "outputs": [
    {
     "name": "stdout",
     "output_type": "stream",
     "text": [
      "sorted_arr = [ 1  2  3 ...  8  9 10]\n"
     ]
    }
   ],
   "source": [
    "sorted_arr = np.sort(arr)\n",
    "print('sorted_arr =', sorted_arr)"
   ]
  },
  {
   "attachments": {},
   "cell_type": "markdown",
   "metadata": {},
   "source": [
    "### ``np.sum()``\n",
    "\n",
    "As the name clearly states, <b><code>np.sum()</code></b> returns the sum of an array. Let's try it out:"
   ]
  },
  {
   "cell_type": "code",
   "execution_count": 54,
   "metadata": {},
   "outputs": [
    {
     "name": "stdout",
     "output_type": "stream",
     "text": [
      "The sum of the array is 6\n"
     ]
    }
   ],
   "source": [
    "arr = ([1,2,3])\n",
    "my_sum = np.sum(arr)\n",
    "print(f'The sum of the array is {my_sum}')"
   ]
  },
  {
   "attachments": {},
   "cell_type": "markdown",
   "metadata": {
    "nbgrader": {
     "grade": false,
     "locked": true,
     "solution": false
    }
   },
   "source": [
    "## 5.3 Two-Dimensional arrays and matrices\n",
    "\n",
    "As mentioned earlier, <code><b>numpy</b></code> is not solely built for 1D arrays $-$ it's built to work with multidimensional arrays! So, let's hop into 2D arrays and matrices, which you have already encountered in Linear Algebra. You can construct your own matrix using the <b><code>np.array()</code></b> function, as shown below."
   ]
  },
  {
   "attachments": {},
   "cell_type": "markdown",
   "metadata": {
    "nbgrader": {
     "grade": false,
     "locked": true,
     "solution": false
    }
   },
   "source": [
    ":::{note}\n",
    "A matrix is strictly 2D. Furthermore, a 2D array is not the same as a 2D matrix. While a matrix is a 2D array, a 2D array is **not** a matrix, per se. \n",
    ":::\n"
   ]
  },
  {
   "attachments": {},
   "cell_type": "markdown",
   "metadata": {},
   "source": [
    "Let's create a matrix"
   ]
  },
  {
   "cell_type": "code",
   "execution_count": 30,
   "metadata": {
    "collapsed": true,
    "nbgrader": {
     "grade": false,
     "locked": true,
     "solution": false
    }
   },
   "outputs": [
    {
     "name": "stdout",
     "output_type": "stream",
     "text": [
      "my_mat1 is \n",
      "[[2 2]\n",
      " [2 2]]\n",
      "and its type is <class 'numpy.ndarray'>\n"
     ]
    }
   ],
   "source": [
    "my_mat1 = np.array([[2,2],[2,2]])\n",
    "print('my_mat1 is \\n{}\\nand its type is {}'.format(my_mat1,type(my_mat1)))"
   ]
  },
  {
   "attachments": {},
   "cell_type": "markdown",
   "metadata": {},
   "source": [
    "Let's create a second matrix so we can do some operations with `my_mat1`"
   ]
  },
  {
   "cell_type": "code",
   "execution_count": 31,
   "metadata": {
    "collapsed": true,
    "nbgrader": {
     "grade": false,
     "locked": true,
     "solution": false
    }
   },
   "outputs": [],
   "source": [
    "my_mat2 = np.array([[1,0],[2,1]])"
   ]
  },
  {
   "attachments": {},
   "cell_type": "markdown",
   "metadata": {},
   "source": [
    "Now let's multiply `my_mat2` x `my_mat1`.\n",
    "\n",
    "Let's also multiply `my_mat` x `my_mat2` (changed order)"
   ]
  },
  {
   "cell_type": "code",
   "execution_count": 32,
   "metadata": {
    "collapsed": true,
    "nbgrader": {
     "grade": false,
     "locked": true,
     "solution": false
    }
   },
   "outputs": [
    {
     "name": "stdout",
     "output_type": "stream",
     "text": [
      "my_mat2 * my_mat1 is: \n",
      "[[2 0]\n",
      " [4 2]]\n",
      "\n",
      "###########\n",
      "\n",
      "my_mat1 * my_mat2 is: \n",
      "[[2 0]\n",
      " [4 2]]\n"
     ]
    }
   ],
   "source": [
    "\n",
    "print('my_mat2 * my_mat1 is: \\n{}'.format(my_mat2 * my_mat1))\n",
    "print('\\n###########\\n')\n",
    "\n",
    "print('my_mat1 * my_mat2 is: \\n{}'.format(my_mat1 * my_mat2))"
   ]
  },
  {
   "attachments": {},
   "cell_type": "markdown",
   "metadata": {
    "nbgrader": {
     "grade": false,
     "locked": true,
     "solution": false
    }
   },
   "source": [
    "### ``np.dot()``\n",
    "\n",
    "Ok, this is not as expected. As you have seen in Linear Algebra, changing the order of the products <b>affects</b> the final result, when multiplying matrices. You may also check the result by calculating the matrix products by hand. What actually happened, is that Python performed an <b>element-wise</b> multiplication... But, what if you would like to apply matrix multiplication? We will show three options for that."
   ]
  },
  {
   "attachments": {},
   "cell_type": "markdown",
   "metadata": {},
   "source": [
    "* Option 1 - ``np.dot(arr1 ,  arr2)``"
   ]
  },
  {
   "cell_type": "code",
   "execution_count": 33,
   "metadata": {
    "collapsed": true,
    "nbgrader": {
     "grade": false,
     "locked": true,
     "solution": false
    }
   },
   "outputs": [
    {
     "name": "stdout",
     "output_type": "stream",
     "text": [
      "np.dot(my_mat2 , my_mat1) is: \n",
      "[[2 2]\n",
      " [6 6]]\n",
      "\n",
      "###########\n",
      "\n",
      "np.dot(my_mat1 , my_mat2) is:\n",
      "[[6 2]\n",
      " [6 2]]\n"
     ]
    }
   ],
   "source": [
    "print('np.dot(my_mat2 , my_mat1) is: \\n{}'.format(np.dot(my_mat2 , my_mat1)))\n",
    "\n",
    "print('\\n###########\\n')\n",
    "\n",
    "print('np.dot(my_mat1 , my_mat2) is:\\n{}'.format(np.dot(my_mat1 , my_mat2)))\n"
   ]
  },
  {
   "attachments": {},
   "cell_type": "markdown",
   "metadata": {
    "nbgrader": {
     "grade": false,
     "locked": true,
     "solution": false
    }
   },
   "source": [
    "Check the answers with the results you got when calculating by hand! This is better, isn't it?"
   ]
  },
  {
   "attachments": {},
   "cell_type": "markdown",
   "metadata": {},
   "source": [
    "* Option 2 - ``arr1.dot(arr2)``"
   ]
  },
  {
   "cell_type": "code",
   "execution_count": 34,
   "metadata": {
    "collapsed": true,
    "nbgrader": {
     "grade": false,
     "locked": true,
     "solution": false
    }
   },
   "outputs": [
    {
     "name": "stdout",
     "output_type": "stream",
     "text": [
      "my_mat2.dot(my_mat1) is:\n",
      "[[2 2]\n",
      " [6 6]]\n",
      "\n",
      "###########\n",
      "\n",
      "my_mat1.dot(my_mat2) is: \n",
      "[[6 2]\n",
      " [6 2]]\n"
     ]
    }
   ],
   "source": [
    "print('my_mat2.dot(my_mat1) is:\\n{}'.format(my_mat2.dot(my_mat1)))\n",
    "\n",
    "print('\\n###########\\n')\n",
    "\n",
    "print('my_mat1.dot(my_mat2) is: \\n{}'.format(my_mat1.dot(my_mat2)))\n"
   ]
  },
  {
   "attachments": {},
   "cell_type": "markdown",
   "metadata": {},
   "source": [
    "* Option 3 - ``arr1 @ arr2``"
   ]
  },
  {
   "cell_type": "code",
   "execution_count": 35,
   "metadata": {
    "collapsed": true,
    "nbgrader": {
     "grade": false,
     "locked": true,
     "solution": false
    }
   },
   "outputs": [
    {
     "name": "stdout",
     "output_type": "stream",
     "text": [
      "my_mat2 @ my_mat1 is:\n",
      "[[2 2]\n",
      " [6 6]]\n",
      "\n",
      "###########\n",
      "\n",
      "my_mat1 @ my_mat2 is: \n",
      "[[6 2]\n",
      " [6 2]]\n"
     ]
    }
   ],
   "source": [
    "print('my_mat2 @ my_mat1 is:\\n{}'.format(my_mat2 @ my_mat1))\n",
    "\n",
    "print('\\n###########\\n')\n",
    "\n",
    "print('my_mat1 @ my_mat2 is: \\n{}'.format(my_mat1 @ my_mat2))"
   ]
  },
  {
   "attachments": {},
   "cell_type": "markdown",
   "metadata": {
    "nbgrader": {
     "grade": false,
     "locked": true,
     "solution": false
    }
   },
   "source": [
    "As you see from the previous examples, there are at least three different ways to multiply 2D arrays in the same way that you would multiply matrices."
   ]
  },
  {
   "attachments": {},
   "cell_type": "markdown",
   "metadata": {
    "nbgrader": {
     "grade": false,
     "locked": true,
     "solution": false
    }
   },
   "source": [
    "\n",
    "Given the matrices $A$, $B$, and $C$ below, calculate $D = AB\\ C^{-1}$\n",
    "\n",
    "$$A = \\begin{bmatrix}2 & 3 \\\\ 4 & 5 \\end{bmatrix}$$\n",
    "$$B = \\begin{bmatrix}2 & 1 \\\\ 1 & 2\\end{bmatrix}$$\n",
    "$$C = \\begin{bmatrix}6 & 1 \\\\ 1 & 1\\end{bmatrix}$$\n"
   ]
  },
  {
   "attachments": {},
   "cell_type": "markdown",
   "metadata": {},
   "source": [
    "Let's create the matrices A,B, and C"
   ]
  },
  {
   "cell_type": "code",
   "execution_count": 37,
   "metadata": {
    "collapsed": true
   },
   "outputs": [],
   "source": [
    "Mat_A = np.array([[2,3],[4,5]])\n",
    "Mat_B = np.array([[2,1],[1,2]])\n",
    "Mat_C = np.array([[6,1],[1,1]])\n"
   ]
  },
  {
   "attachments": {},
   "cell_type": "markdown",
   "metadata": {},
   "source": [
    "Invert matrix $C$ using ``np.linalg.inv(Mat_C)`` and perform $A\\times B\\times C_{inverse}$."
   ]
  },
  {
   "cell_type": "code",
   "execution_count": 38,
   "metadata": {},
   "outputs": [
    {
     "name": "stdout",
     "output_type": "stream",
     "text": [
      "[[ 0.8 -0.6]\n",
      " [-0.8 12. ]]\n"
     ]
    }
   ],
   "source": [
    "Mat_C_inv = np.linalg.inv(Mat_C)\n",
    "Mat_D = (Mat_A*Mat_B)*Mat_C_inv\n",
    "print(Mat_D)"
   ]
  },
  {
   "attachments": {},
   "cell_type": "markdown",
   "metadata": {},
   "source": [
    "### ``np.shape()``"
   ]
  },
  {
   "attachments": {},
   "cell_type": "markdown",
   "metadata": {},
   "source": [
    "A very useful tool of the <code>numpy</code> package is the <code>np.shape()</code> function. When dealing with very large arrays, you often need to find out how many elements are in there, or how many rows and columns there are. Your task for this exercise is to find out how many elements there are in <code>random_array</code> and how many rows and columns <code>random_matrix</code> has."
   ]
  },
  {
   "attachments": {},
   "cell_type": "markdown",
   "metadata": {},
   "source": [
    "how many elements are in `Mat_D`? \n",
    "\n",
    "how many rows and columns there are `Mat_D`?"
   ]
  },
  {
   "cell_type": "code",
   "execution_count": null,
   "metadata": {},
   "outputs": [
    {
     "name": "stdout",
     "output_type": "stream",
     "text": [
      "There are 2 elements in Mat_D\n",
      "\n",
      "The shape of Mat_D is (2, 2). Hence, there are 2 rows and 2 columns in Mat_D.\n",
      "\n"
     ]
    }
   ],
   "source": [
    "print(f'There are {len(Mat_D)} elements in Mat_D\\n')\n",
    "\n",
    "print(f'The shape of Mat_D is {np.shape(Mat_D)}. Hence, there are {np.shape(Mat_D)[0]} rows and {np.shape(Mat_D)[1]} columns in Mat_D.\\n')"
   ]
  },
  {
   "attachments": {},
   "cell_type": "markdown",
   "metadata": {
    "nbgrader": {
     "grade": false,
     "locked": true,
     "solution": false
    }
   },
   "source": [
    "Ok, now let's create a 2D array and play with it a bit, to show more functionalities of the <b><code>numpy</code></b> module...\n",
    "\n",
    "Let's generate a 10x11 array (10 rows, 11 columns)."
   ]
  },
  {
   "cell_type": "code",
   "execution_count": null,
   "metadata": {
    "collapsed": true,
    "nbgrader": {
     "grade": false,
     "locked": true,
     "solution": false
    }
   },
   "outputs": [],
   "source": [
    "\n",
    "arr = np.zeros([10,11])\n",
    "np.set_printoptions(threshold=1000)\n",
    "print(arr)"
   ]
  },
  {
   "attachments": {},
   "cell_type": "markdown",
   "metadata": {},
   "source": [
    "Now let's give it the values 0,1,2,3,...,109. Since a 2D numpy array is ALWAYS regular, all rows have the same number of elements, which, in turn, is the number of columns."
   ]
  },
  {
   "cell_type": "code",
   "execution_count": null,
   "metadata": {
    "collapsed": true,
    "nbgrader": {
     "grade": false,
     "locked": true,
     "solution": false
    }
   },
   "outputs": [],
   "source": [
    "cnt = 0\n",
    "for i in range(len(arr)):\n",
    "    for j in range (len(arr[0])): \n",
    "        arr[i,j] = cnt            \n",
    "        cnt+=1\n",
    "        \n",
    "print(arr)"
   ]
  },
  {
   "attachments": {},
   "cell_type": "markdown",
   "metadata": {
    "nbgrader": {
     "grade": false,
     "locked": true,
     "solution": false
    }
   },
   "source": [
    "\n",
    "### Conditions within arrays\n",
    "\n",
    "Similar to what you've seen in Notebook 2, you can also use conditions to check for values within an array. Let's say you want to select the elements within <b><code>arr</code></b> that are bigger than $100$:"
   ]
  },
  {
   "cell_type": "code",
   "execution_count": 74,
   "metadata": {
    "collapsed": true,
    "nbgrader": {
     "grade": false,
     "locked": true,
     "solution": false
    }
   },
   "outputs": [
    {
     "data": {
      "text/plain": [
       "array([200, 300])"
      ]
     },
     "execution_count": 74,
     "metadata": {},
     "output_type": "execute_result"
    }
   ],
   "source": [
    "arr = np.array([[60,70],[200,300],[1,2],[40,45]])\n",
    "arr[arr>100]"
   ]
  },
  {
   "attachments": {},
   "cell_type": "markdown",
   "metadata": {
    "nbgrader": {
     "grade": false,
     "locked": true,
     "solution": false
    }
   },
   "source": [
    "If you want to know how many elements those are, you can simply check the length:"
   ]
  },
  {
   "cell_type": "code",
   "execution_count": 75,
   "metadata": {
    "collapsed": true,
    "nbgrader": {
     "grade": false,
     "locked": true,
     "solution": false
    }
   },
   "outputs": [
    {
     "data": {
      "text/plain": [
       "2"
      ]
     },
     "execution_count": 75,
     "metadata": {},
     "output_type": "execute_result"
    }
   ],
   "source": [
    "len(arr[arr>100])"
   ]
  },
  {
   "attachments": {},
   "cell_type": "markdown",
   "metadata": {
    "nbgrader": {
     "grade": false,
     "locked": true,
     "solution": false
    }
   },
   "source": [
    "Now, instead of counting how many elements are bigger than $100$, let's say you want to set all values bigger than $100$ to be $0$. You could do the following:"
   ]
  },
  {
   "cell_type": "code",
   "execution_count": 76,
   "metadata": {
    "collapsed": true,
    "nbgrader": {
     "grade": false,
     "locked": true,
     "solution": false
    }
   },
   "outputs": [
    {
     "name": "stdout",
     "output_type": "stream",
     "text": [
      "[[60 70]\n",
      " [ 0  0]\n",
      " [ 1  2]\n",
      " [40 45]]\n"
     ]
    }
   ],
   "source": [
    "arr[arr>100] = 0\n",
    "print(arr)"
   ]
  },
  {
   "attachments": {},
   "cell_type": "markdown",
   "metadata": {
    "nbgrader": {
     "grade": false,
     "locked": true,
     "solution": false
    }
   },
   "source": [
    "You can also include multiple conditions... say you want to change all values between $(50,80)$ to be $-1$, then:"
   ]
  },
  {
   "attachments": {},
   "cell_type": "markdown",
   "metadata": {},
   "source": [
    "Note that the & means AND, so both conditions must apply."
   ]
  },
  {
   "cell_type": "code",
   "execution_count": 77,
   "metadata": {
    "collapsed": true,
    "nbgrader": {
     "grade": false,
     "locked": true,
     "solution": false
    }
   },
   "outputs": [
    {
     "name": "stdout",
     "output_type": "stream",
     "text": [
      "[[-1 -1]\n",
      " [ 0  0]\n",
      " [ 1  2]\n",
      " [40 45]]\n"
     ]
    }
   ],
   "source": [
    "arr[(arr>50) & (arr<80)] = -1 \n",
    "print(arr)"
   ]
  },
  {
   "attachments": {},
   "cell_type": "markdown",
   "metadata": {
    "nbgrader": {
     "grade": false,
     "locked": true,
     "solution": false
    }
   },
   "source": [
    "Say you want to change all values between $[0,10]$ or values between $[40,50)$, to $1$. Then:"
   ]
  },
  {
   "cell_type": "code",
   "execution_count": 78,
   "metadata": {
    "collapsed": true,
    "nbgrader": {
     "grade": false,
     "locked": true,
     "solution": false
    }
   },
   "outputs": [
    {
     "name": "stdout",
     "output_type": "stream",
     "text": [
      "[[-1 -1]\n",
      " [ 1  1]\n",
      " [ 1  1]\n",
      " [ 1  1]]\n"
     ]
    }
   ],
   "source": [
    "arr[((arr>=0) & (arr<=10)) | (arr>=40) & (arr<50)] = 1 \n",
    "print(arr)"
   ]
  },
  {
   "attachments": {},
   "cell_type": "markdown",
   "metadata": {
    "nbgrader": {
     "grade": false,
     "locked": true,
     "solution": false
    }
   },
   "source": [
    "::: {note}\n",
    "* The notation $[40,50)$ means every value between $40$ and $50$, including $40$ but excluding $50$; similar to $(40 \\leq value < 50)$.\n",
    "* The notation <b><code>&</code></b> means <i>'and'</i>, the notation <b><code>|</code></b> means <i>'or'</i>.\n",
    ":::"
   ]
  },
  {
   "attachments": {},
   "cell_type": "markdown",
   "metadata": {
    "nbgrader": {
     "grade": false,
     "locked": true,
     "solution": false
    }
   },
   "source": [
    "### ``np.where()`` and ``np.astype()``\n",
    "\n",
    "Another useful way to modify values within your array is using the <b><code>np.where()</code></b> function. Let's see how it works.\n",
    "\n",
    "Let's reset `arr` and test `np.where`."
   ]
  },
  {
   "cell_type": "code",
   "execution_count": 81,
   "metadata": {
    "collapsed": true,
    "nbgrader": {
     "grade": false,
     "locked": true,
     "solution": false
    }
   },
   "outputs": [
    {
     "name": "stdout",
     "output_type": "stream",
     "text": [
      "<class 'tuple'>\n"
     ]
    }
   ],
   "source": [
    "arr = np.zeros([10,11])\n",
    "\n",
    "cnt = 0\n",
    "for i in range(len(arr)):\n",
    "    for j in range (len(arr[0])): \n",
    "        arr[i,j] = cnt            \n",
    "        cnt+=1\n",
    "        \n",
    "arr2 = np.where(arr>50)\n",
    "print(type(arr2))"
   ]
  },
  {
   "attachments": {},
   "cell_type": "markdown",
   "metadata": {
    "nbgrader": {
     "grade": false,
     "locked": true,
     "solution": false
    }
   },
   "source": [
    "\n",
    "Ok, so using <b><code>np.where()</code></b> returns a tuple. Let's transform it into an array, check its shape, and its elements."
   ]
  },
  {
   "cell_type": "code",
   "execution_count": 80,
   "metadata": {
    "collapsed": true,
    "nbgrader": {
     "grade": false,
     "locked": true,
     "solution": false
    }
   },
   "outputs": [
    {
     "name": "stdout",
     "output_type": "stream",
     "text": [
      "(2, 59)\n",
      "\n",
      "\n",
      "------------\n",
      "[[ 4  4  4 ...  9  9  9]\n",
      " [ 7  8  9 ...  8  9 10]]\n"
     ]
    }
   ],
   "source": [
    "arr2 = np.array(arr2)\n",
    "print(arr2.shape)\n",
    "print('\\n\\n------------')\n",
    "print(arr2)"
   ]
  },
  {
   "attachments": {},
   "cell_type": "markdown",
   "metadata": {
    "nbgrader": {
     "grade": false,
     "locked": true,
     "solution": false
    }
   },
   "source": [
    "Ok.. so it looks like <b><code>np.where()</code></b> returned a tuple with the index values where <b><code>arr > 50</code></b>. For instance, the first element of each row of <b><code>arr2</code></b> is the first position where <b><code>arr > 50</code></b>, so <b><code>arr[4][7]</code></b> should return $51$. Let's try it out."
   ]
  },
  {
   "cell_type": "code",
   "execution_count": 82,
   "metadata": {
    "collapsed": true,
    "nbgrader": {
     "grade": false,
     "locked": true,
     "solution": false
    }
   },
   "outputs": [
    {
     "data": {
      "text/plain": [
       "51.0"
      ]
     },
     "execution_count": 82,
     "metadata": {},
     "output_type": "execute_result"
    }
   ],
   "source": [
    "arr[4][7]"
   ]
  },
  {
   "attachments": {},
   "cell_type": "markdown",
   "metadata": {
    "nbgrader": {
     "grade": false,
     "locked": true,
     "solution": false
    }
   },
   "source": [
    "Indeed that's how <b><code>np.where()</code></b> works. It also has similar functionality to the one we described above with <b><code>arr[arr>100] = 0</code></b>. Like this:"
   ]
  },
  {
   "cell_type": "code",
   "execution_count": 83,
   "metadata": {
    "collapsed": true,
    "nbgrader": {
     "grade": false,
     "locked": true,
     "solution": false
    }
   },
   "outputs": [
    {
     "name": "stdout",
     "output_type": "stream",
     "text": [
      "[[  0.   1.   2. ...   8.   9.  10.]\n",
      " [ 11.  12.  13. ...  19.  20.  21.]\n",
      " [ 22.  23.  24. ...  30.  31.  32.]\n",
      " ...\n",
      " [ 77.  78.  79. ...  85.  86.  87.]\n",
      " [ 88.  89.  90. ...  96.  97.  98.]\n",
      " [ 99. 100.   0. ...   0.   0.   0.]]\n"
     ]
    }
   ],
   "source": [
    "new_arr = np.where(arr>100,0,arr)\n",
    "print(new_arr)"
   ]
  },
  {
   "attachments": {},
   "cell_type": "markdown",
   "metadata": {
    "nbgrader": {
     "grade": false,
     "locked": true,
     "solution": false
    }
   },
   "source": [
    "So, <b><code>np.where()</code></b> can be used in two ways. Either to return a tuple with the index of values that fall under the specified condition; or, to return a modified array following the specified condition.<br><Br> In the above case, <b><code>new_arr = np.where(arr>100,0,arr)</code></b> reads: <b>where</b> arr>100, <b>return</b> 0, <b>otherwise</b> return arr"
   ]
  },
  {
   "attachments": {},
   "cell_type": "markdown",
   "metadata": {
    "nbgrader": {
     "grade": false,
     "locked": true,
     "solution": false
    }
   },
   "source": [
    "Lastly, we can change the type of variables within an array with the <b><code>np.astype()</code></b> function. Below a quick example:"
   ]
  },
  {
   "cell_type": "code",
   "execution_count": 84,
   "metadata": {
    "collapsed": true,
    "nbgrader": {
     "grade": false,
     "locked": true,
     "solution": false
    }
   },
   "outputs": [
    {
     "name": "stdout",
     "output_type": "stream",
     "text": [
      "[1.12 2.5  3.8 ]\n"
     ]
    }
   ],
   "source": [
    "arr_float = np.array([1.12,2.5,3.8], dtype='float')\n",
    "print(arr_float)"
   ]
  },
  {
   "cell_type": "code",
   "execution_count": 85,
   "metadata": {
    "collapsed": true,
    "nbgrader": {
     "grade": false,
     "locked": true,
     "solution": false
    }
   },
   "outputs": [
    {
     "name": "stdout",
     "output_type": "stream",
     "text": [
      "[1 2 3]\n"
     ]
    }
   ],
   "source": [
    "arr_int = arr_float.astype(int)\n",
    "print(arr_int)"
   ]
  },
  {
   "attachments": {},
   "cell_type": "markdown",
   "metadata": {
    "nbgrader": {
     "grade": false,
     "locked": true,
     "solution": false
    }
   },
   "source": [
    "Well.. apparently it worked, all numbers have been rounded down to their closer integer."
   ]
  },
  {
   "attachments": {},
   "cell_type": "markdown",
   "metadata": {
    "nbgrader": {
     "grade": false,
     "locked": true,
     "solution": false
    }
   },
   "source": [
    "### ``np.argmax()`` and ``np.argmin()``\n",
    "\n",
    "Other functions that assist you in localizing some values within an array are the <b><code>np.argmax()</code></b> and <b><code>np.argmin()</code></b> functions. As the name states, they return the first index with the max (or min) value. Let's check some quick examples:"
   ]
  },
  {
   "cell_type": "code",
   "execution_count": 86,
   "metadata": {
    "collapsed": true,
    "nbgrader": {
     "grade": false,
     "locked": true,
     "solution": false
    }
   },
   "outputs": [
    {
     "name": "stdout",
     "output_type": "stream",
     "text": [
      "0 109\n"
     ]
    }
   ],
   "source": [
    "print(np.argmin(arr),np.argmax(arr))"
   ]
  },
  {
   "attachments": {},
   "cell_type": "markdown",
   "metadata": {
    "nbgrader": {
     "grade": false,
     "locked": true,
     "solution": false
    }
   },
   "source": [
    "No surprises there.. the index where <code>arr</code> has its minimum value is $0$, and it has its maximum at $109$. Below an example of how these functions might be useful:"
   ]
  },
  {
   "attachments": {},
   "cell_type": "markdown",
   "metadata": {
    "nbgrader": {
     "grade": false,
     "locked": true,
     "solution": false
    }
   },
   "source": [
    "Say you have an array with the maximum temperature of each month in the NL, and you would like to know which month had the temperature closest to $15$ degrees."
   ]
  },
  {
   "cell_type": "code",
   "execution_count": 87,
   "metadata": {
    "collapsed": true,
    "nbgrader": {
     "grade": false,
     "locked": true,
     "solution": false
    }
   },
   "outputs": [],
   "source": [
    "temp_NL = np.array([3.1,3.3,6.2,9.2,13.1,15.6,17.9,17.5,14.5,10.7,6.7,3.7]) "
   ]
  },
  {
   "attachments": {},
   "cell_type": "markdown",
   "metadata": {
    "nbgrader": {
     "grade": false,
     "locked": true,
     "solution": false
    }
   },
   "source": [
    "You can use the `abs()` and `np.argmin()` functions to find out which month had the temperature closest to $15$ degrees.\n",
    "\n",
    "`dif_arr` is an array with the monthly (absolute) deviations from 15 degrees, now you only need to find where this deviation was the smallest using `np.argmin()`."
   ]
  },
  {
   "cell_type": "code",
   "execution_count": 88,
   "metadata": {
    "collapsed": true,
    "nbgrader": {
     "grade": false,
     "locked": true,
     "solution": false
    }
   },
   "outputs": [
    {
     "name": "stdout",
     "output_type": "stream",
     "text": [
      "8\n"
     ]
    }
   ],
   "source": [
    "dif_arr = abs(temp_NL - 15) \n",
    "    \n",
    "min_temp_indx = np.argmin(dif_arr)\n",
    "print(min_temp_indx)"
   ]
  },
  {
   "attachments": {},
   "cell_type": "markdown",
   "metadata": {
    "nbgrader": {
     "grade": false,
     "locked": true,
     "solution": false
    }
   },
   "source": [
    "The month with the temperature closest to $15$ was the month with index $8$, which is September. (Recall 0-th based index, therefore index 8 corresponds to the $9^{th}$ month = September)."
   ]
  },
  {
   "attachments": {},
   "cell_type": "markdown",
   "metadata": {
    "nbgrader": {
     "grade": false,
     "locked": true,
     "solution": false
    }
   },
   "source": [
    "### ``np.transpose()``\n",
    "\n",
    "The function <code>np.transpose()</code> is another helpful function. It returns the transpose of an array (or matrix). Below some examples.\n",
    "\n",
    "Let's generate a (1,10) array with random int numbers between 0 and 100."
   ]
  },
  {
   "cell_type": "code",
   "execution_count": 89,
   "metadata": {
    "collapsed": true,
    "nbgrader": {
     "grade": false,
     "locked": true,
     "solution": false
    }
   },
   "outputs": [
    {
     "name": "stdout",
     "output_type": "stream",
     "text": [
      "[[24 41 12 ... 17 92 24]]\n"
     ]
    }
   ],
   "source": [
    "x = np.random.randint(100,size = (1,10))\n",
    "print(x)"
   ]
  },
  {
   "attachments": {},
   "cell_type": "markdown",
   "metadata": {},
   "source": [
    "Now, if we transpose the array:"
   ]
  },
  {
   "cell_type": "code",
   "execution_count": 90,
   "metadata": {
    "collapsed": true,
    "nbgrader": {
     "grade": false,
     "locked": true,
     "solution": false
    }
   },
   "outputs": [
    {
     "name": "stdout",
     "output_type": "stream",
     "text": [
      "[[24]\n",
      " [41]\n",
      " [12]\n",
      " ...\n",
      " [17]\n",
      " [92]\n",
      " [24]]\n"
     ]
    }
   ],
   "source": [
    "x_transpose = np.transpose(x)\n",
    "print(x_transpose)"
   ]
  },
  {
   "attachments": {},
   "cell_type": "markdown",
   "metadata": {},
   "source": [
    "we can also see that the new shape is (10,1)"
   ]
  },
  {
   "cell_type": "code",
   "execution_count": 91,
   "metadata": {
    "collapsed": true,
    "nbgrader": {
     "grade": false,
     "locked": true,
     "solution": false
    }
   },
   "outputs": [
    {
     "name": "stdout",
     "output_type": "stream",
     "text": [
      "(10, 1)\n"
     ]
    }
   ],
   "source": [
    "print(x_transpose.shape)"
   ]
  },
  {
   "attachments": {},
   "cell_type": "markdown",
   "metadata": {
    "nbgrader": {
     "grade": false,
     "locked": true,
     "solution": false
    }
   },
   "source": [
    "Recall the equation <b>$A x = b$</b> from Linear Algebra, with $A$ being an $m$ x $n$ Matrix. Here, $A x$ only exists if  $x$ has an $n$ x $1$ shape. In this scenario, the <b><code>np.transpose()</code></b> could come in handy. Let's look at the below example.\n",
    "\n",
    "Let's create a 10 x 10 matrix."
   ]
  },
  {
   "cell_type": "code",
   "execution_count": 92,
   "metadata": {
    "collapsed": true,
    "nbgrader": {
     "grade": false,
     "locked": true,
     "solution": false
    }
   },
   "outputs": [
    {
     "name": "stdout",
     "output_type": "stream",
     "text": [
      "[[0 8 9 ... 0 8 6]\n",
      " [2 5 7 ... 0 6 0]\n",
      " [2 0 7 ... 3 5 9]\n",
      " ...\n",
      " [9 0 5 ... 5 4 3]\n",
      " [0 9 6 ... 3 7 0]\n",
      " [7 1 4 ... 2 1 7]]\n"
     ]
    }
   ],
   "source": [
    "A = np.random.randint(10, size=(10,10))\n",
    "\n",
    "print(A)"
   ]
  },
  {
   "attachments": {},
   "cell_type": "markdown",
   "metadata": {},
   "source": [
    "Now if we try to perform $Ax$"
   ]
  },
  {
   "cell_type": "code",
   "execution_count": 93,
   "metadata": {
    "collapsed": true,
    "nbgrader": {
     "grade": false,
     "locked": true,
     "solution": false
    }
   },
   "outputs": [
    {
     "ename": "ValueError",
     "evalue": "matmul: Input operand 1 has a mismatch in its core dimension 0, with gufunc signature (n?,k),(k,m?)->(n?,m?) (size 1 is different from 10)",
     "output_type": "error",
     "traceback": [
      "\u001b[1;31m---------------------------------------------------------------------------\u001b[0m",
      "\u001b[1;31mValueError\u001b[0m                                Traceback (most recent call last)",
      "Cell \u001b[1;32mIn[93], line 2\u001b[0m\n\u001b[0;32m      1\u001b[0m \u001b[39m# now if we try to perform Ax\u001b[39;00m\n\u001b[1;32m----> 2\u001b[0m b \u001b[39m=\u001b[39m A\u001b[39m@x\u001b[39;49m\n",
      "\u001b[1;31mValueError\u001b[0m: matmul: Input operand 1 has a mismatch in its core dimension 0, with gufunc signature (n?,k),(k,m?)->(n?,m?) (size 1 is different from 10)"
     ]
    }
   ],
   "source": [
    "b = A@x"
   ]
  },
  {
   "attachments": {},
   "cell_type": "markdown",
   "metadata": {
    "nbgrader": {
     "grade": false,
     "locked": true,
     "solution": false
    }
   },
   "source": [
    "It gives an error since <b><code>x.shape</code></b> is $1$ x $10$. Now if we try with <b><code>x_tranpose</code></b>..."
   ]
  },
  {
   "cell_type": "code",
   "execution_count": 94,
   "metadata": {
    "collapsed": true,
    "nbgrader": {
     "grade": false,
     "locked": true,
     "solution": false
    }
   },
   "outputs": [
    {
     "name": "stdout",
     "output_type": "stream",
     "text": [
      "[[3345]\n",
      " [2206]\n",
      " [2454]\n",
      " ...\n",
      " [2848]\n",
      " [2723]\n",
      " [1595]]\n"
     ]
    }
   ],
   "source": [
    "b = A@x_transpose\n",
    "print(b)"
   ]
  },
  {
   "attachments": {},
   "cell_type": "markdown",
   "metadata": {
    "nbgrader": {
     "grade": false,
     "locked": true,
     "solution": false
    }
   },
   "source": [
    "It works! Finally, a quicker way to transpose an array is to use <b><code>.T</code></b>, as shown below"
   ]
  },
  {
   "cell_type": "code",
   "execution_count": 95,
   "metadata": {
    "collapsed": true,
    "nbgrader": {
     "grade": false,
     "locked": true,
     "solution": false
    }
   },
   "outputs": [
    {
     "name": "stdout",
     "output_type": "stream",
     "text": [
      "[[24]\n",
      " [41]\n",
      " [12]\n",
      " ...\n",
      " [17]\n",
      " [92]\n",
      " [24]]\n"
     ]
    }
   ],
   "source": [
    "x_tranpose2 = x.T\n",
    "print(x_tranpose2)"
   ]
  }
 ],
 "metadata": {
  "hide_input": false,
  "kernelspec": {
   "display_name": "base",
   "language": "python",
   "name": "python3"
  },
  "language_info": {
   "codemirror_mode": {
    "name": "ipython",
    "version": 3
   },
   "file_extension": ".py",
   "mimetype": "text/x-python",
   "name": "python",
   "nbconvert_exporter": "python",
   "pygments_lexer": "ipython3",
   "version": "3.8.13"
  },
  "latex_envs": {
   "LaTeX_envs_menu_present": true,
   "autoclose": false,
   "autocomplete": true,
   "bibliofile": "biblio.bib",
   "cite_by": "apalike",
   "current_citInitial": 1,
   "eqLabelWithNumbers": true,
   "eqNumInitial": 1,
   "hotkeys": {
    "equation": "Ctrl-E",
    "itemize": "Ctrl-I"
   },
   "labels_anchors": false,
   "latex_user_defs": false,
   "report_style_numbering": false,
   "user_envs_cfg": false
  },
  "varInspector": {
   "cols": {
    "lenName": 16,
    "lenType": 16,
    "lenVar": 40
   },
   "kernels_config": {
    "python": {
     "delete_cmd_postfix": "",
     "delete_cmd_prefix": "del ",
     "library": "var_list.py",
     "varRefreshCmd": "print(var_dic_list())"
    },
    "r": {
     "delete_cmd_postfix": ") ",
     "delete_cmd_prefix": "rm(",
     "library": "var_list.r",
     "varRefreshCmd": "cat(var_dic_list()) "
    }
   },
   "types_to_exclude": [
    "module",
    "function",
    "builtin_function_or_method",
    "instance",
    "_Feature"
   ],
   "window_display": false
  },
  "vscode": {
   "interpreter": {
    "hash": "ad2bdc8ecc057115af97d19610ffacc2b4e99fae6737bb82f5d7fb13d2f2c186"
   }
  }
 },
 "nbformat": 4,
 "nbformat_minor": 2
}
