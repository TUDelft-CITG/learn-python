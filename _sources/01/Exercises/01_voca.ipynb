{
 "cells": [
  {
   "attachments": {},
   "cell_type": "markdown",
   "metadata": {
    "id": "7vcVhbkFS81g",
    "nbgrader": {
     "grade": false,
     "locked": true,
     "solution": false
    }
   },
   "source": [
    "<figure>\n",
    "  <IMG SRC=\"https://raw.githubusercontent.com/mbakker7/exploratory_computing_with_python/master/tudelft_logo.png\" WIDTH=250 ALIGN=\"right\">\n",
    "</figure>\n",
    "\n",
    "# Variables, operators and functions Exercises."
   ]
  },
  {
   "attachments": {},
   "cell_type": "markdown",
   "metadata": {
    "id": "GultfezaS3VN",
    "nbgrader": {
     "grade": false,
     "locked": true,
     "solution": false
    }
   },
   "source": [
    "## Exercise 1.2.1\n",
    "\n",
    "You know that your taxes is the product of your income and the tax rate. Complete the line below to assign the correct calculation for the <code>my_taxes</code> variable. Use the <code>my_income</code> and <code>tax_rate</code> variables for that.<br> \n"
   ]
  },
  {
   "cell_type": "code",
   "execution_count": null,
   "metadata": {
    "collapsed": true,
    "id": "5LH1-9rqS3VN"
   },
   "outputs": [],
   "source": [
    "my_income = 100\n",
    "tax_rate = 0.1\n",
    "my_taxes = ...\n",
    "\n",
    "###BEGIN SOLUTION TEMPLATE=\n",
    "my_taxes = my_income * tax_rate\n",
    "###END SOLUTION"
   ]
  },
  {
   "cell_type": "code",
   "execution_count": null,
   "metadata": {
    "collapsed": true,
    "nbgrader": {
     "grade": true,
     "grade_id": "Q1.4.1",
     "locked": true,
     "points": "1",
     "solution": false
    }
   },
   "outputs": [],
   "source": [
    "###BEGIN HIDDEN TESTS\n",
    "assert type(my_taxes) == float, '1.4.1 Incorrect variable type'\n",
    "assert abs(my_taxes - 10) <= 1e-6, '1.4.1  Correct variable type but incorrect value'\n",
    "###END HIDDEN TESTS"
   ]
  },
  {
   "attachments": {},
   "cell_type": "markdown",
   "metadata": {
    "id": "YY8Ff2wFS3VO",
    "nbgrader": {
     "grade": false,
     "locked": true,
     "solution": false
    }
   },
   "source": [
    "Use the cell block below to find out what is the **`type`** of the variable **`my_taxes`**"
   ]
  },
  {
   "cell_type": "code",
   "execution_count": null,
   "metadata": {
    "collapsed": true,
    "id": "6qi5Su5fS3VO"
   },
   "outputs": [],
   "source": [
    "# use this line to check the type of the variable my_taxes\n",
    "...\n",
    "\n"
   ]
  },
  {
   "attachments": {},
   "cell_type": "markdown",
   "metadata": {
    "id": "Pq9kETciS3VO",
    "nbgrader": {
     "grade": false,
     "locked": true,
     "solution": false
    }
   },
   "source": [
    "## Exercise 1.2.2\n",
    "\n",
    "What is the type of the result of the expression $3 + 1.5 + 4?$ <br>Assign the type to the variable beneath (e.g. if you think it is an integer then <code>expression_type = int</code>)\n"
   ]
  },
  {
   "cell_type": "code",
   "execution_count": null,
   "metadata": {
    "collapsed": true,
    "id": "fJnI43XxS3VO"
   },
   "outputs": [],
   "source": [
    "expression_type = ...\n",
    "###BEGIN SOLUTION TEMPLATE=\n",
    "expression_type = float\n",
    "###END SOLUTION"
   ]
  },
  {
   "cell_type": "code",
   "execution_count": null,
   "metadata": {
    "collapsed": true,
    "nbgrader": {
     "grade": true,
     "grade_id": "Q1.4.2",
     "locked": true,
     "points": "1",
     "solution": false
    }
   },
   "outputs": [],
   "source": [
    "###BEGIN HIDDEN TESTS\n",
    "assert expression_type == float, '1.4.2 Incorrect answer'\n",
    "###END HIDDEN TESTS"
   ]
  },
  {
   "attachments": {},
   "cell_type": "markdown",
   "metadata": {
    "id": "cc546f8c",
    "nbgrader": {
     "grade": false,
     "locked": true,
     "solution": false
    }
   },
   "source": [
    "## Exercise 1.2.3\n",
    "\n",
    "Print the letter <code>'w'</code> of the sentence <code>'Hello world!'</code> using indexing of the variable <code>sentence</code>. <br>   \n"
   ]
  },
  {
   "cell_type": "code",
   "execution_count": null,
   "metadata": {
    "collapsed": true,
    "id": "93c4ffe3"
   },
   "outputs": [],
   "source": [
    "sentence = 'Hello world!'\n",
    "letter_w = ...\n",
    "\n",
    "###BEGIN SOLUTION TEMPLATE=\n",
    "letter_w = sentence[6]\n",
    "###END SOLUTION\n",
    "print(letter_w)"
   ]
  },
  {
   "cell_type": "code",
   "execution_count": null,
   "metadata": {
    "collapsed": true,
    "nbgrader": {
     "grade": true,
     "grade_id": "Q1.4.3",
     "locked": true,
     "points": "1",
     "solution": false
    }
   },
   "outputs": [],
   "source": [
    "###BEGIN HIDDEN TESTS\n",
    "assert letter_w == 'w', '1.4.3 Incorrect answer'\n",
    "###END HIDDEN TESTS"
   ]
  },
  {
   "attachments": {},
   "cell_type": "markdown",
   "metadata": {
    "nbgrader": {
     "grade": false,
     "locked": true,
     "solution": false
    }
   },
   "source": [
    "\n",
    "In the following exercise you will be using a piece of code, which was written by other people. It can contain concepts you haven't encountered yet but you will have to make it work! You need to practice with using code you don't understand completely, as you want to be able to use programs written by other people. Just like with calculators — if you add two numbers you get the result you expect to get. But you don't know exactly how that piece of plastics with electronic components performs that calculation.\n",
    "\n",
    "\n",
    "In order to approach the problem, start from the point of error. If your error cannot be solved there, work your way backwards through the code. Only try to understand the parts that are necessary to fix your problem, and avoid changing parts you know that work."
   ]
  },
  {
   "attachments": {},
   "cell_type": "markdown",
   "metadata": {
    "nbgrader": {
     "grade": false,
     "locked": true,
     "solution": false
    }
   },
   "source": [
    "## (Fixing) Exercise 1.2.4\n",
    "\n",
    "</b>There are 2 types of numbers in Python: integer numbers and floating point numbers. Both have overlapping and different applications. For example, counting rocks will require only integers (1 rock, 2 rocks, 3 rocks, etc), while their weight can be expressed in both <i>int</i> and <i>float</i> (depending on the required accuracy). <br>  \n",
    "Beneath you can see a small dataset of the measured daily temperatures and a filter function, which is used to remove incorrect measurements. Just run the cell, you don't have to change anything there and it is not important to understand it completely for now.\n"
   ]
  },
  {
   "cell_type": "code",
   "execution_count": null,
   "metadata": {
    "collapsed": true,
    "nbgrader": {
     "grade": false,
     "locked": true,
     "solution": false
    }
   },
   "outputs": [],
   "source": [
    "temp_data = [12.0, 13.5, 11.0, 12.7, 67.5, 11.8] # temperature measurements in Delft, in Celsius\n",
    "\n",
    "# A function to remove erroneous measurements\n",
    "def filter_errors(data, error_id):\n",
    "    print('Data before filtering', data)\n",
    "    \n",
    "    del temp_data[error_id - 1] # deleting the erroneous measurement\n",
    "    \n",
    "    print('Data after filtering', data)"
   ]
  },
  {
   "attachments": {},
   "cell_type": "markdown",
   "metadata": {
    "nbgrader": {
     "grade": false,
     "locked": true,
     "solution": false
    }
   },
   "source": [
    "\n",
    "In the code cell below a student wanted to indicate the position of the erroneous measurement, so it can be later filtered out during data analysis. However, it wasn't removed. The filter is known to work flawlessly (no errors there), meaning that the mistake happened in the indication step. It is known that the corrupted sample is the 5th in the dataset (5th because the first element has index 0! Python has a zero-based indexing).\n",
    "\n",
    "Your task is to fix it and remove the error!"
   ]
  },
  {
   "cell_type": "code",
   "execution_count": null,
   "metadata": {
    "collapsed": true,
    "nbgrader": {
     "grade": false,
     "grade_id": "Q1.4",
     "locked": false,
     "points": "1",
     "solution": false
    }
   },
   "outputs": [],
   "source": [
    "error_id = 5.0 # index of erroneous measurement\n",
    "###BEGIN SOLUTION TEMPLATE=\n",
    "error_id = 5\n",
    "###END SOLUTION\n",
    "filter_errors(temp_data, error_id)"
   ]
  },
  {
   "cell_type": "code",
   "execution_count": null,
   "metadata": {
    "collapsed": true,
    "nbgrader": {
     "grade": true,
     "grade_id": "Q1.4.4",
     "locked": true,
     "points": "1",
     "solution": false
    }
   },
   "outputs": [],
   "source": [
    "###BEGIN HIDDEN TESTS\n",
    "assert type(error_id) == int, '1.4.4 Incorrect variable type'\n",
    "assert error_id == 5, '1.4.4 Correct variable type but incorrect value'\n",
    "\n",
    "\n",
    "###END HIDDEN TESTS"
   ]
  },
  {
   "attachments": {},
   "cell_type": "markdown",
   "metadata": {
    "nbgrader": {
     "grade": false,
     "locked": true,
     "solution": false
    }
   },
   "source": [
    "## (Searching) Exercise 1.2.5\n",
    "There are also other data types in Python, which were not mentioned in this part (in case they are not as useful or will be introduced later). For instance, <b>Complex</b> is one of them. The sad truth is that every software developer Googles a lot. It's not because she/he is lazy or incompetent. It is because programming languages are constantly updated and some tools are limited to a narrow field of applications. It is impractical to learn everything at once, therefore every coder has learned how to look up the functionality their task requires. Therefore, it is crucial for you to learn how to Google as well. Complex type is used in Python to represent complex numbers. If you haven't heard about them — a complex number is a number, which has a real and an imaginary part. For example, $x = 17 + 5i$. Here, $x$ is a complex number with a real part of $17$ and an imaginary part of $5$.<br><br> Your task is to create a variable <code>my_complex_num</code> of Complex type and assign a $3 + 2i$ value to it. For that you will have to Google a bit. Try to look for something like \"Python complex variables\". Python is very popular and you will be able to find everything you need. Make sure to filter the information you need — not everything you will find will be useful for this simple exercise.\n"
   ]
  },
  {
   "cell_type": "code",
   "execution_count": null,
   "metadata": {
    "collapsed": true
   },
   "outputs": [],
   "source": [
    "my_complex_var = ...\n",
    "###BEGIN SOLUTION TEMPLATE=\n",
    "my_complex_var = 3 + 2j\n",
    "###END SOLUTION"
   ]
  },
  {
   "cell_type": "code",
   "execution_count": null,
   "metadata": {
    "collapsed": true,
    "nbgrader": {
     "grade": true,
     "grade_id": "Q1.4.5",
     "locked": true,
     "points": "1",
     "solution": false
    }
   },
   "outputs": [],
   "source": [
    "###BEGIN HIDDEN TESTS\n",
    "assert type(my_complex_var) == complex, '1.4.5 Incorrect variable type'\n",
    "assert my_complex_var == 3+2j, '1.4.5 Correct variable type but incorrect value'\n",
    "###END HIDDEN TESTS"
   ]
  },
  {
   "attachments": {
    "image.png": {
     "image/png": "[encoded data removed]"
    }
   },
   "cell_type": "markdown",
   "metadata": {
    "id": "3BXmdvSbS3WE",
    "nbgrader": {
     "grade": false,
     "locked": true,
     "solution": false
    }
   },
   "source": [
    "### Exercise 1.3.1\n",
    "\n",
    "Given that we have a rectangle with a height of $3$ cm, width of $5$ cm and a cutout circle of radius $0.6$ cm, as shown below. \n",
    "\n",
    "![image.png](attachment:image.png)\n",
    "\n",
    "<br>What will the remainder area of the rectangle be? Hint: $A_{circle} = \\pi r^2$\n",
    "\n",
    "\n",
    "\n"
   ]
  },
  {
   "cell_type": "code",
   "execution_count": null,
   "metadata": {
    "collapsed": true,
    "id": "qJWIoUhmS3WE"
   },
   "outputs": [],
   "source": [
    "# variables for the rectangle\n",
    "rect_h = ...\n",
    "rect_w = ...\n",
    "\n",
    "# variables for the sphere\n",
    "pi = 3.14159265359\n",
    "r = ...\n",
    "\n",
    "# calculating area\n",
    "circle_area = ...\n",
    "rect_area = ... \n",
    "remaining_area = ...\n",
    "\n",
    "###BEGIN SOLUTION TEMPLATE=\n",
    "rect_h = 3\n",
    "rect_w = 5\n",
    "pi = 3.14159265359\n",
    "r = 0.6\n",
    "\n",
    "circle_area = pi * r ** 2\n",
    "rect_area = rect_h * rect_w\n",
    "remaining_area = rect_area - circle_area\n",
    "###END SOLUTION\n",
    "print(f'The remaining area is {remaining_area:.2f} cm^2')"
   ]
  },
  {
   "cell_type": "code",
   "execution_count": null,
   "metadata": {
    "colab": {
     "base_uri": "https://localhost:8080/"
    },
    "collapsed": true,
    "id": "l5dL_rtpS3WE",
    "nbgrader": {
     "grade": true,
     "grade_id": "Q1.5.1",
     "locked": true,
     "points": "1",
     "solution": false
    },
    "outputId": "0f997b0e-ccaa-4d77-f88c-e36a03706e40",
    "tags": [
     "{\"tags\":",
     "[\"hide-input\"",
     "]}"
    ]
   },
   "outputs": [],
   "source": [
    "###BEGIN HIDDEN TESTS\n",
    "assert abs(remaining_area - 13.869026) <= 1e-4,\"1.5.1 Incorrect answer\"\n",
    "###END HIDDEN TESTS"
   ]
  },
  {
   "attachments": {},
   "cell_type": "markdown",
   "metadata": {
    "id": "rax0w6q5S3WF",
    "nbgrader": {
     "grade": false,
     "locked": true,
     "solution": false
    }
   },
   "source": [
    "## Exercise 1.3.2\n",
    "\n",
    "Suppose a group of $5$ engineers ordered $3$ pizzas with $8$ slices each. It is known that miners respect engineers and they want to share their meal equally. Your task is to calculate the amount of pizza slices each engineer will get and the amount of slices which will be left untouched. Use <code>//</code> and <code>%</code> operators."
   ]
  },
  {
   "cell_type": "code",
   "execution_count": null,
   "metadata": {
    "collapsed": true,
    "id": "2Ghh9qasS3WF",
    "outputId": "0355f359-b714-4fd7-b7a8-a557b2d912fe"
   },
   "outputs": [],
   "source": [
    "pizza_slices = ...\n",
    "grp_members = ...\n",
    "\n",
    "slices_per_person = ...\n",
    "left_over_slices = ...\n",
    "\n",
    "###BEGIN SOLUTION TEMPLATE=\n",
    "slices_per_person = pizza_slices // grp_members\n",
    "left_over_slices = pizza_slices % grp_members\n",
    "###END SOLUTION\n",
    "print('Number of slices per person:', slices_per_person)\n",
    "print('Number of slices left over:', left_over_slices)"
   ]
  },
  {
   "cell_type": "code",
   "execution_count": null,
   "metadata": {
    "collapsed": true,
    "nbgrader": {
     "grade": true,
     "grade_id": "Q1.5.2",
     "locked": true,
     "points": "1",
     "solution": false
    }
   },
   "outputs": [],
   "source": [
    "###BEGIN HIDDEN TESTS\n",
    "assert slices_per_person == 4, \"1.5.2 Incorrect answer\"\n",
    "assert left_over_slices == 4, \"1.5.2 Incorrect left over answer\" \n",
    "###END HIDDEN TESTS"
   ]
  },
  {
   "attachments": {},
   "cell_type": "markdown",
   "metadata": {
    "id": "HCWDCyVTS3WG",
    "nbgrader": {
     "grade": false,
     "locked": true,
     "solution": false
    }
   },
   "source": [
    "## Exercise 1.3.3\n",
    "\n",
    "Assign any numbers to <code>num_a</code> and <code>num_b</code> variables in such a way that their comparison returns a <code>True</code> value."
   ]
  },
  {
   "cell_type": "code",
   "execution_count": null,
   "metadata": {
    "collapsed": true,
    "id": "7DyZy1pHS3WG"
   },
   "outputs": [],
   "source": [
    "num_a = ...\n",
    "num_b = ...\n",
    "\n",
    "###BEGIN SOLUTION TEMPLATE=\n",
    "num_a = 2\n",
    "num_b = 3\n",
    "###END SOLUTION\n",
    "\n",
    "comparison_result = num_a != num_b\n",
    "print(comparison_result)"
   ]
  },
  {
   "cell_type": "code",
   "execution_count": null,
   "metadata": {
    "collapsed": true,
    "nbgrader": {
     "grade": true,
     "grade_id": "Q1.5.3",
     "locked": true,
     "points": "1",
     "solution": false
    }
   },
   "outputs": [],
   "source": [
    "###BEGIN HIDDEN TESTS\n",
    "assert num_a != num_b, \"1.5.3 Incorrect comparison outcome\"\n",
    "###END HIDDEN TESTS"
   ]
  },
  {
   "attachments": {},
   "cell_type": "markdown",
   "metadata": {
    "id": "r4G0Ra2iS3WI",
    "nbgrader": {
     "grade": false,
     "locked": true,
     "solution": false
    }
   },
   "source": [
    "## (Fixing) Exercise 1.3.4\n",
    "\n",
    "Recall that Sentinel data titles are formatted as:<br><br> <b>S1A_IW_SLC__1SDV_20181205T015821_20181205T015851_024884_02BD8C_8700</b><br><br>\n",
    "where each part means something, e.g., <b>S1A</b> means <b>Sentinel-1A</b>.<br><br>An ESA engineer wrote a piece of code to figure out if the data she has belongs to the Remote Sensing Satellite Sentinel-1; and, if it does, she would like to know the time of overpass... but for some reason she keeps getting an error. Could you maybe help her out?\n"
   ]
  },
  {
   "cell_type": "code",
   "execution_count": null,
   "metadata": {
    "collapsed": true
   },
   "outputs": [],
   "source": [
    "import datetime\n",
    "data = 'S1A_IW_SLC__1SDV_20220218T231336_20220218T231403_041974_04FFAC_A40F' \n",
    "\n",
    "platform_name = data[0:3]#selecting platform name\n",
    "print('Platform name:', platform_name)\n",
    "\n",
    "is_platform_name_correct = platform_name = 'S1A'#checking platform \n",
    "\n",
    "###BEGIN SOLUTION TEMPLATE=\n",
    "is_platform_name_correct = platform_name == 'S1A'#checking platform \n",
    "###END SOLUTION\n",
    "\n",
    "if is_platform_name_correct == True:\n",
    "    date = data[17:32]\n",
    "    print('Sentinel-1 overpassed at {}'.format(datetime.datetime.strptime(date, \"%Y%m%dT%H%M%S\")))\n",
    "else: \n",
    "    print('Data is not from Sentinel-1 and will not be processed')\n"
   ]
  },
  {
   "cell_type": "code",
   "execution_count": null,
   "metadata": {
    "collapsed": true,
    "nbgrader": {
     "grade": true,
     "grade_id": "Q1.5.4",
     "locked": true,
     "points": "1",
     "solution": false
    }
   },
   "outputs": [],
   "source": [
    "###BEGIN HIDDEN TESTS\n",
    "assert is_platform_name_correct == True, \"1.5.4 Incorrect platform comparison\"\n",
    "###END HIDDEN TESTS"
   ]
  },
  {
   "attachments": {},
   "cell_type": "markdown",
   "metadata": {
    "nbgrader": {
     "grade": false,
     "locked": true,
     "solution": false
    }
   },
   "source": [
    "## (Searching) Exercise 1.3.5\n",
    "\n",
    "In Python, there are a lot of shortcuts! There are multiple ways to solve tasks (e.g. reading data, filtering noise, solving systems of equations, etc) and there is, usually, a way to write a \"one-liner\". A \"one-liner\" is a code, which solves the task in one line. Sometimes \"one-liners\" are not preferred (it usually lowers the readability of your code) but it is still useful to think about them. Think about <i>\"How can I solve this problem differently?\"</i>, or <i>\"How can I use Python most efficiently?\"</i>. \n",
    "\n",
    "For example, in the cell bellow you can see a small combination of comparison operators.\n"
   ]
  },
  {
   "cell_type": "code",
   "execution_count": null,
   "metadata": {
    "collapsed": true,
    "nbgrader": {
     "grade": false,
     "locked": true,
     "solution": false
    }
   },
   "outputs": [],
   "source": [
    "my_number = 5\n",
    "result = 3 < my_number and my_number < 6\n",
    "print(f'My number {my_number} is within (3, 6) range:', result)"
   ]
  },
  {
   "attachments": {},
   "cell_type": "markdown",
   "metadata": {
    "nbgrader": {
     "grade": false,
     "locked": true,
     "solution": false
    }
   },
   "source": [
    "\n",
    "This expression checks whether: first, <code>my_number</code> is bigger than $3$ and then, secondly, whether <code>my_number</code> is smaller than $6$. If the first check resulted in <code>True</code>, the second check starts. If the second check also returns <code>True</code>, then the result is <code>True</code> as well. Mathematically speaking we check whether a number lies in the $(3, 6)$ range. In Python, there is a way to make these expressions shorter. They are called \"chained comparison\". Your task is to rewrite the cell above with that technique."
   ]
  },
  {
   "cell_type": "code",
   "execution_count": null,
   "metadata": {
    "collapsed": true
   },
   "outputs": [],
   "source": [
    "# use this line to create a chained comparison\n",
    "...\n",
    "\n"
   ]
  },
  {
   "attachments": {},
   "cell_type": "markdown",
   "metadata": {
    "nbgrader": {
     "grade": false,
     "locked": true,
     "solution": false
    }
   },
   "source": [
    "## Exercise 1.4.1\n",
    "\n",
    "Calculate the area of a circle with a radius of $4$ cm in the box below using the <code>calculate_circle_area</code> function.<br> \n"
   ]
  },
  {
   "cell_type": "code",
   "execution_count": null,
   "metadata": {
    "collapsed": true,
    "nbgrader": {
     "grade": false,
     "locked": false,
     "solution": false
    }
   },
   "outputs": [],
   "source": [
    "r = ...\n",
    "circle_area = ...\n",
    "\n",
    "###BEGIN SOLUTION TEMPLATE=\n",
    "r = 4\n",
    "circle_area = calculate_circle_area(r)\n",
    "###END SOLUTION\n",
    "\n",
    "print(circle_area)"
   ]
  },
  {
   "cell_type": "code",
   "execution_count": null,
   "metadata": {
    "collapsed": true,
    "nbgrader": {
     "grade": true,
     "grade_id": "Q1.6.1",
     "locked": true,
     "points": "1",
     "solution": false
    }
   },
   "outputs": [],
   "source": [
    "###BEGIN HIDDEN TESTS\n",
    "assert r == 4, \"3.1 Incorrect radius\"\n",
    "assert abs(circle_area - 50.26548245743669) <= 1e-6, \"1.6.1 Incorrect circle area\" \n",
    "###END HIDDEN TESTS"
   ]
  },
  {
   "attachments": {},
   "cell_type": "markdown",
   "metadata": {
    "nbgrader": {
     "grade": false,
     "locked": true,
     "solution": false
    }
   },
   "source": [
    "## (Fixing) Exercise 1.4.2\n",
    "\n",
    "Below is a function that should calculate the water pressure in the sea, as a function of depth. But it isn't working. Can you spot the error and fix it? Do not change any other line except the line with the error.\n"
   ]
  },
  {
   "cell_type": "code",
   "execution_count": null,
   "metadata": {
    "collapsed": true
   },
   "outputs": [],
   "source": [
    "def water_pressure(z):\n",
    "    '''Calculates the water pressure in the sea at a depth of input z (meters). returns a value in Bar.'''\n",
    "    \n",
    "    water_density = 1000         #kg/m^3\n",
    "g = 9.81                     #m/s^2\n",
    "    p_atm = 100000               #Pa\n",
    "    \n",
    "    p_z = (p_atm + (z * water_density) * g) / 100000\n",
    "    \n",
    "    return p_z \n",
    "\n",
    "###BEGIN SOLUTION TEMPLATE=\n",
    "def water_pressure(z):\n",
    "    '''Calculates the water pressure in the sea at a depth of input z (meters). returns a value in Bar.'''\n",
    "    \n",
    "    water_density = 1000         #kg/m^3\n",
    "    g = 9.81                     #m/s^2\n",
    "    p_atm = 100000               #Pa\n",
    "    \n",
    "    p_z = (p_atm + (z * water_density) * g) / 100000\n",
    "    \n",
    "    return p_z \n",
    "\n",
    "###END SOLUTION\n",
    "\n",
    "calculated_pressure = water_pressure(2000)\n",
    "print(calculated_pressure)"
   ]
  },
  {
   "cell_type": "code",
   "execution_count": null,
   "metadata": {
    "collapsed": true,
    "nbgrader": {
     "grade": true,
     "grade_id": "Q1.6.3",
     "locked": true,
     "points": "1",
     "solution": false
    }
   },
   "outputs": [],
   "source": [
    "###BEGIN HIDDEN TESTS\n",
    "assert abs(calculated_pressure - 197.2) <= 1e-6, \"1.6.3 Incorrect answer\" \n",
    "###END HIDDEN TESTS"
   ]
  },
  {
   "attachments": {},
   "cell_type": "markdown",
   "metadata": {
    "nbgrader": {
     "grade": false,
     "locked": true,
     "solution": false
    }
   },
   "source": [
    "## Exercise 1.4.3\n",
    "\n",
    "Write a function called <code>k_e()</code> to calculate the kinetic energy of some object. It should have mass and velocity as its arguments. In case you forgot, the kinetic energy equation is <br><br>$$E_k = \\frac{mv^2}{2}$$<br>"
   ]
  },
  {
   "cell_type": "code",
   "execution_count": null,
   "metadata": {
    "collapsed": true
   },
   "outputs": [],
   "source": [
    "#write your funtion below\n",
    "...\n",
    "...\n",
    "\n",
    "###BEGIN SOLUTION TEMPLATE=\n",
    "def k_e(mass, velocity):\n",
    "    return 0.5 * mass * velocity ** 2 \n",
    "###END SOLUTION\n",
    "print(k_e(10, 5))"
   ]
  },
  {
   "cell_type": "code",
   "execution_count": null,
   "metadata": {
    "collapsed": true,
    "nbgrader": {
     "grade": true,
     "grade_id": "Q1.6.4",
     "locked": true,
     "points": "1",
     "solution": false
    }
   },
   "outputs": [],
   "source": [
    "###BEGIN HIDDEN TESTS\n",
    "assert abs(k_e(10, 5) - 125) <= 1e-6, \"1.6.4 Incorrect energy\" \n",
    "###END HIDDEN TESTS"
   ]
  },
  {
   "attachments": {},
   "cell_type": "markdown",
   "metadata": {
    "nbgrader": {
     "grade": false,
     "locked": true,
     "solution": false
    }
   },
   "source": [
    "## (Searching) Exercise 1.4.4\n",
    "\n",
    "Use the <code>print()</code> and <code>k_e()</code> functions to print a nice formatted output for any arbitrary input. Example of a desired output: <b>The kinetic energy is: 200 J</b>\n"
   ]
  },
  {
   "cell_type": "code",
   "execution_count": null,
   "metadata": {
    "collapsed": true
   },
   "outputs": [],
   "source": [
    "#write your code here\n",
    "...\n",
    "..."
   ]
  },
  {
   "attachments": {},
   "cell_type": "markdown",
   "metadata": {
    "nbgrader": {
     "grade": false,
     "locked": true,
     "solution": false
    }
   },
   "source": [
    "## (Fixing) Exercise 1.4.5\n",
    "\n",
    "The function below does not give the right answer. Could you fix it?<br> \n"
   ]
  },
  {
   "cell_type": "code",
   "execution_count": null,
   "metadata": {
    "collapsed": true
   },
   "outputs": [],
   "source": [
    "def add_two(numb):\n",
    "    \"\"\"\n",
    "    add_two(numb) function -> takes the input numb and adds 2 to it\n",
    "    \n",
    "    Input:\n",
    "        numb -> an integer, to which 2 must be added\n",
    "    \n",
    "    Output:\n",
    "        ret -> a return integer, which is equal to numb + 2\n",
    "    \"\"\"\n",
    "    ret = add_one(add_one(add_one(numb)))\n",
    "    return ret\n",
    "\n",
    "def add_one(number):\n",
    "    \"\"\"\n",
    "    add_one(number) function -> takes the input number and adds 1 to it\n",
    "    \n",
    "    Input:\n",
    "        number -> an integer, to which 1 must be added\n",
    "    \n",
    "    Output:\n",
    "        ret -> a return integer, which is equal to number + 1\n",
    "    \"\"\"\n",
    "    ret = number\n",
    "    return ret\n",
    "\n",
    "\n",
    "###BEGIN SOLUTION TEMPLATE=\n",
    "def add_two(numb):\n",
    "    \"\"\"\n",
    "    add_two(numb) function -> takes the input numb and adds 2 to it\n",
    "    \n",
    "    Input:\n",
    "        numb -> an integer, to which 2 must be added\n",
    "    \n",
    "    Output:\n",
    "        ret -> a return integer, which is equal to numb + 2\n",
    "    \"\"\"\n",
    "    ret = add_one(add_one(numb))\n",
    "    return ret\n",
    "\n",
    "def add_one(number):\n",
    "    \"\"\"\n",
    "    add_one(number) function -> takes the input number and adds 1 to it\n",
    "    \n",
    "    Input:\n",
    "        number -> an integer, to which 1 must be added\n",
    "    \n",
    "    Output:\n",
    "        ret -> a return integer, which is equal to number + 1\n",
    "    \"\"\"\n",
    "    ret = number + 1\n",
    "    return ret\n",
    "###END SOLUTION\n",
    "\n",
    "x = 5\n",
    "y = add_two(x)\n",
    "\n",
    "print(f'{x} + 2 is {y}, which is {y == x + 2}')\n",
    "if y != x + 2:\n",
    "    print('Something is wrong here...')\n",
    "else:\n",
    "    print('Looks gucci')"
   ]
  },
  {
   "cell_type": "code",
   "execution_count": null,
   "metadata": {
    "collapsed": true,
    "nbgrader": {
     "grade": true,
     "grade_id": "Q1.6.6",
     "locked": true,
     "points": "1",
     "solution": false
    }
   },
   "outputs": [],
   "source": [
    "###BEGIN HIDDEN TESTS\n",
    "assert add_two(5) == 7, \"1.6.6 Incorrect answer\" \n",
    "###END HIDDEN TESTS"
   ]
  }
 ],
 "metadata": {
  "colab": {
   "collapsed_sections": [],
   "name": "merged.ipynb",
   "provenance": []
  },
  "kernelspec": {
   "display_name": "Python 3.7",
   "language": "python",
   "name": "python37"
  },
  "language_info": {
   "codemirror_mode": {
    "name": "ipython",
    "version": 3
   },
   "file_extension": ".py",
   "mimetype": "text/x-python",
   "name": "python",
   "nbconvert_exporter": "python",
   "pygments_lexer": "ipython3",
   "version": "3.7.5"
  },
  "latex_envs": {
   "LaTeX_envs_menu_present": true,
   "autoclose": false,
   "autocomplete": true,
   "bibliofile": "biblio.bib",
   "cite_by": "apalike",
   "current_citInitial": 1,
   "eqLabelWithNumbers": true,
   "eqNumInitial": 1,
   "hotkeys": {
    "equation": "Ctrl-E",
    "itemize": "Ctrl-I"
   },
   "labels_anchors": false,
   "latex_user_defs": false,
   "report_style_numbering": false,
   "user_envs_cfg": false
  }
 },
 "nbformat": 4,
 "nbformat_minor": 5
}
