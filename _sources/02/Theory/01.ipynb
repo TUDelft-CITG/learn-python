{
 "cells": [
  {
   "attachments": {},
   "cell_type": "markdown",
   "metadata": {
    "nbgrader": {
     "grade": false,
     "locked": true,
     "solution": false
    }
   },
   "source": [
    "# 2. Modules, conditions, data structures and loops"
   ]
  },
  {
   "attachments": {},
   "cell_type": "markdown",
   "metadata": {
    "id": "fHmKWsUSKuj4",
    "nbgrader": {
     "grade": false,
     "locked": true,
     "solution": false
    }
   },
   "source": [
    "## 2.1 Python Modules\n",
    "\n",
    "Previously, you have learned how to: <br><br>1) initialize variables in Python; <br>2) perform simple actions with them (eg.: adding numbers together, displaying variables content, etc);<br>3) work with functions (have your own code in a function to reuse it many times or use a function, which was written by another person). <br><br>However, the scope of the last Notebook was limited by your Python knowledge and available functions in standard/vanilla Python (so-called <a href=\"https://docs.python.org/3/library/functions.html\">'built-in' Python functions</a>).\n",
    "There are not many Python built-in functions that can be useful for you, such as functions for math, plotting, signal processing, etc. Luckily, there are countless modules/packages written by other people.\n"
   ]
  },
  {
   "attachments": {},
   "cell_type": "markdown",
   "metadata": {
    "id": "oyr90lgAQGtD",
    "nbgrader": {
     "grade": false,
     "locked": true,
     "solution": false
    }
   },
   "source": [
    "### Python built-in modules\n",
    "\n",
    "By installing any version of Python, you also automatically install its built-in modules.<br><br>One may wonder — why do they provide some functions within built-in modules, but not directly as a built-in function, such as the <b><code>abs()</code></b> or <b><code>print()</code></b>?<br><br>The answers may vary, but, generally, it is to keep your code clean; compact; and, working.<br><br>It keeps your code clean and compact as you only load functions that you need. It keeps your code working as it allows you to define your own functions with (almost) any kind of name, and use them easily, without worrying that you might <i>'break'</i> something if there is a function with the same name that does something completely different."
   ]
  },
  {
   "attachments": {},
   "cell_type": "markdown",
   "metadata": {
    "id": "67a2hkUyRh_P",
    "nbgrader": {
     "grade": false,
     "locked": true,
     "solution": false
    }
   },
   "source": [
    "### math\n",
    "\n",
    "The <code>math</code> module is one of the most popular modules since it contains all implementations of basic math functions ($sin$, $cos$, $exp$, rounding, and other functions — the full list can be found <a href=\"https://docs.python.org/3/library/math.html\">here</a>). <br><br>In order to access it, you just have to import it into your code with an <b><code>import</code></b> statement. Then using ``print()`` to show that ``math`` is actually a built-in Python module."
   ]
  },
  {
   "cell_type": "code",
   "execution_count": 1,
   "metadata": {
    "colab": {
     "base_uri": "https://localhost:8080/"
    },
    "collapsed": true,
    "id": "A1WjrfHoHYFV",
    "nbgrader": {
     "grade": false,
     "locked": true,
     "solution": false
    },
    "outputId": "e14b2fc7-6b0b-4f6e-8342-45c3791030b9"
   },
   "outputs": [
    {
     "name": "stdout",
     "output_type": "stream",
     "text": [
      "<module 'math' (built-in)>\n"
     ]
    }
   ],
   "source": [
    "import math\n",
    "print(math) "
   ]
  },
  {
   "attachments": {},
   "cell_type": "markdown",
   "metadata": {
    "id": "0ssGu7FsTEtz",
    "nbgrader": {
     "grade": false,
     "locked": true,
     "solution": false
    }
   },
   "source": [
    "You can now use its functions like this:"
   ]
  },
  {
   "cell_type": "code",
   "execution_count": 2,
   "metadata": {
    "colab": {
     "base_uri": "https://localhost:8080/"
    },
    "collapsed": true,
    "id": "11FBTZH7TATg",
    "nbgrader": {
     "grade": false,
     "locked": true,
     "solution": false
    },
    "outputId": "41f2699c-47a3-4ed2-f7be-b1f2ea059819"
   },
   "outputs": [
    {
     "name": "stdout",
     "output_type": "stream",
     "text": [
      "Square root of 16 is equal to 4\n"
     ]
    }
   ],
   "source": [
    "print(f'Square root of 16 is equal to {int(math.sqrt(16))}')"
   ]
  },
  {
   "attachments": {},
   "cell_type": "markdown",
   "metadata": {
    "id": "0EscmfkpTxXv",
    "nbgrader": {
     "grade": false,
     "locked": true,
     "solution": false
    }
   },
   "source": [
    "You can also use the constants defined within the module, such as **`math.pi`**:"
   ]
  },
  {
   "cell_type": "code",
   "execution_count": 27,
   "metadata": {
    "colab": {
     "base_uri": "https://localhost:8080/"
    },
    "collapsed": true,
    "id": "DtwKkug2TiGT",
    "nbgrader": {
     "grade": false,
     "locked": true,
     "solution": false
    },
    "outputId": "60ffed22-e0e0-459b-e1dc-d35edfb5a3ff"
   },
   "outputs": [
    {
     "name": "stdout",
     "output_type": "stream",
     "text": [
      "π is equal to 3.141592653589793\n",
      "π is equal to 3.14\n",
      "π is equal to 3.1\n",
      "π with two decimals is 3.14,with three decimals is 3.142 and with four decimals is 3.1416\n"
     ]
    }
   ],
   "source": [
    "print(f'π is equal to {math.pi}')\n",
    "print('π is equal to {:.2f}'.format(math.pi)) \n",
    "print('π is equal to {:.1f}'.format(math.pi))\n",
    "print('π with two decimals is {:.2f},'\n",
    "      'with three decimals is {:.3f} and with four decimals is {:.4f}'.\\\n",
    "      format(math.pi, math.pi, math.pi))"
   ]
  },
  {
   "attachments": {},
   "cell_type": "markdown",
   "metadata": {
    "nbgrader": {
     "grade": false,
     "locked": true,
     "solution": false
    }
   },
   "source": [
    "`````{admonition} Let's break it down\n",
    "\n",
    "* ``print('π is equal to {:.2f}'.format(math.pi))`` print the variable up to some decimal, (two for example).\n",
    "\n",
    "* ``print('π is equal to {:.1f}'.format(math.pi))`` change the number 2 on the ':.2f' to print with more (or fewer) decimals.\n",
    "\n",
    "* The last line show how to print is quickly if you have to print a sentence with many variables in it.\n",
    "\n",
    "More information on printing best practices <a href=\"https://realpython.com/python-string-formatting/\">here</a>.\n",
    "\n",
    "`````"
   ]
  },
  {
   "attachments": {},
   "cell_type": "markdown",
   "metadata": {
    "id": "M8OQGFnGf_S9",
    "nbgrader": {
     "grade": false,
     "locked": true,
     "solution": false
    }
   },
   "source": [
    "### ``math.pi``\n",
    "\n",
    "As you can see, both constants and functions of a module are accessed by using: the module's name (in this case <b><code>math</code></b>) and a <b><code>.</code></b> followed by the name of the constant/function (in this case <b><code>pi</code></b>).<br><br>We are able to do this since we have loaded all contents of the module by using the <b><code>import</code></b> keyword. If we try to use these functions somehow differently — we will get an error:"
   ]
  },
  {
   "cell_type": "code",
   "execution_count": 5,
   "metadata": {
    "colab": {
     "base_uri": "https://localhost:8080/",
     "height": 201
    },
    "collapsed": true,
    "id": "98zHvteQUA3S",
    "nbgrader": {
     "grade": false,
     "locked": true,
     "solution": false
    },
    "outputId": "914a0a33-dfc6-45bc-d4c2-941ec4e666a9"
   },
   "outputs": [
    {
     "name": "stdout",
     "output_type": "stream",
     "text": [
      "Square root of 16 is equal to\n",
      "4.0\n"
     ]
    }
   ],
   "source": [
    "print('Square root of 16 is equal to')\n",
    "print(sqrt(16))"
   ]
  },
  {
   "attachments": {},
   "cell_type": "markdown",
   "metadata": {
    "id": "LRTVWDEqhGyk",
    "nbgrader": {
     "grade": false,
     "locked": true,
     "solution": false
    }
   },
   "source": [
    "You could, however, directly specify the functionality of the module you want to access. Then, the above cell would work.<br><br>This is done by typing: <code>from <b>module_name</b> import <b>necessary_functionality</b></code>, as shown below:"
   ]
  },
  {
   "cell_type": "code",
   "execution_count": 4,
   "metadata": {
    "colab": {
     "base_uri": "https://localhost:8080/"
    },
    "collapsed": true,
    "id": "By8SDKMXhBKD",
    "nbgrader": {
     "grade": false,
     "locked": true,
     "solution": false
    },
    "outputId": "b277aeda-58a3-4e6d-de0e-038d843d77fe"
   },
   "outputs": [
    {
     "name": "stdout",
     "output_type": "stream",
     "text": [
      "Square root of 16 is equal to 4.\n"
     ]
    }
   ],
   "source": [
    "from math import sqrt\n",
    "\n",
    "print(f'Square root of 16 is equal to {int(sqrt(16))}.')"
   ]
  },
  {
   "cell_type": "code",
   "execution_count": 6,
   "metadata": {
    "colab": {
     "base_uri": "https://localhost:8080/"
    },
    "collapsed": true,
    "id": "pVo16M0whkK7",
    "nbgrader": {
     "grade": false,
     "locked": true,
     "solution": false
    },
    "outputId": "053cee25-dc6b-4604-d69c-1025bbf60e6c"
   },
   "outputs": [
    {
     "name": "stdout",
     "output_type": "stream",
     "text": [
      "π is equal to 3.141592653589793.\n"
     ]
    }
   ],
   "source": [
    "from math import pi\n",
    "\n",
    "print(f'π is equal to {pi}.')"
   ]
  },
  {
   "attachments": {},
   "cell_type": "markdown",
   "metadata": {
    "nbgrader": {
     "grade": false,
     "locked": true,
     "solution": false
    }
   },
   "source": [
    "### Listing all functions\n",
    "\n",
    "Sometimes, when you use a module for the first time, you may have no clue about the functions inside of it. In order to unveil all the potential a module has to offer, you can either access the documentation on the corresponding web resource or you can use some Python code.\n",
    "\n",
    "\n",
    "You can listing all contents of a module using ``dir()``. To learn something about, let's say, ``hypot`` thingy you can type the module name - dot -function name, for example ``math.hypot``."
   ]
  },
  {
   "cell_type": "code",
   "execution_count": 1,
   "metadata": {
    "collapsed": true,
    "nbgrader": {
     "grade": false,
     "locked": true,
     "solution": false
    }
   },
   "outputs": [
    {
     "name": "stdout",
     "output_type": "stream",
     "text": [
      "contents of math: ['__doc__', '__loader__', '__name__', '__package__', '__spec__', 'acos', 'acosh', 'asin', 'asinh', 'atan', 'atan2', 'atanh', 'ceil', 'comb', 'copysign', 'cos', 'cosh', 'degrees', 'dist', 'e', 'erf', 'erfc', 'exp', 'expm1', 'fabs', 'factorial', 'floor', 'fmod', 'frexp', 'fsum', 'gamma', 'gcd', 'hypot', 'inf', 'isclose', 'isfinite', 'isinf', 'isnan', 'isqrt', 'ldexp', 'lgamma', 'log', 'log10', 'log1p', 'log2', 'modf', 'nan', 'perm', 'pi', 'pow', 'prod', 'radians', 'remainder', 'sin', 'sinh', 'sqrt', 'tan', 'tanh', 'tau', 'trunc']\n",
      "math hypot is a <built-in function hypot>\n"
     ]
    }
   ],
   "source": [
    "import math\n",
    "print('contents of math:', dir(math))\n",
    "print('math hypot is a', math.hypot) "
   ]
  },
  {
   "attachments": {},
   "cell_type": "markdown",
   "metadata": {},
   "source": [
    "You can also use ``?`` or ``??`` to read the documentation about it in Python"
   ]
  },
  {
   "cell_type": "code",
   "execution_count": 8,
   "metadata": {
    "collapsed": true,
    "nbgrader": {
     "grade": false,
     "locked": true,
     "solution": false
    }
   },
   "outputs": [
    {
     "name": "stdout",
     "output_type": "stream",
     "text": [
      "\u001b[1;31mDocstring:\u001b[0m\n",
      "hypot(*coordinates) -> value\n",
      "\n",
      "Multidimensional Euclidean distance from the origin to a point.\n",
      "\n",
      "Roughly equivalent to:\n",
      "    sqrt(sum(x**2 for x in coordinates))\n",
      "\n",
      "For a two dimensional point (x, y), gives the hypotenuse\n",
      "using the Pythagorean theorem:  sqrt(x*x + y*y).\n",
      "\n",
      "For example, the hypotenuse of a 3/4/5 right triangle is:\n",
      "\n",
      "    >>> hypot(3.0, 4.0)\n",
      "    5.0\n",
      "\u001b[1;31mType:\u001b[0m      builtin_function_or_method\n"
     ]
    }
   ],
   "source": [
    "math.hypot?"
   ]
  },
  {
   "attachments": {},
   "cell_type": "markdown",
   "metadata": {
    "id": "2SUM0W23oAdC",
    "nbgrader": {
     "grade": false,
     "locked": true,
     "solution": false
    }
   },
   "source": [
    "### Python third-party modules\n",
    "\n",
    "Besides built-in modules, there are also modules developed by other people and companies, which can be also used in your code.\n",
    "\n",
    "These modules are not installed by default in Python, they are usually installed by using the <i>'pip'</i> or <i>'conda'</i> package managers and accessed like any other Python module.<br><br> <a href=\"https://www.youtube.com/watch?v=Z_Kxg-EYvxM\">This YouTube video</a> explains how to install Python Packages with <i>'pip'</i> and <i>'conda'</i>.\n"
   ]
  },
  {
   "attachments": {},
   "cell_type": "markdown",
   "metadata": {
    "id": "_o1yzxJC0NaZ",
    "nbgrader": {
     "grade": false,
     "locked": true,
     "solution": false
    }
   },
   "source": [
    "### numpy\n",
    "\n",
    "The <b><code>numpy</code></b> module is one of the most popular Python modules for numerical applications. Due to its popularity, developers tend to skip using the whole module name and use a smaller version of it <b>(<code>np</code>)</b>. A different name to access a module can be done by using the <b><code>as</code></b> keyword, as shown below."
   ]
  },
  {
   "cell_type": "code",
   "execution_count": 9,
   "metadata": {
    "colab": {
     "base_uri": "https://localhost:8080/"
    },
    "collapsed": true,
    "id": "qWOdG82IhoiX",
    "nbgrader": {
     "grade": false,
     "locked": true,
     "solution": false
    },
    "outputId": "99446932-b303-4d84-912a-e1d4fb90545d"
   },
   "outputs": [
    {
     "name": "stdout",
     "output_type": "stream",
     "text": [
      "<module 'numpy' from 'c:\\\\ProgramData\\\\Anaconda3\\\\lib\\\\site-packages\\\\numpy\\\\__init__.py'>\n",
      "\n",
      "\n",
      "x = [0.         0.12822827 0.25645654 0.38468481 0.51291309 0.64114136\n",
      " 0.76936963 0.8975979  1.02582617 1.15405444 1.28228272 1.41051099\n",
      " 1.53873926 1.66696753 1.7951958  1.92342407 2.05165235 2.17988062\n",
      " 2.30810889 2.43633716 2.56456543 2.6927937  2.82102197 2.94925025\n",
      " 3.07747852 3.20570679 3.33393506 3.46216333 3.5903916  3.71861988\n",
      " 3.84684815 3.97507642 4.10330469 4.23153296 4.35976123 4.48798951\n",
      " 4.61621778 4.74444605 4.87267432 5.00090259 5.12913086 5.25735913\n",
      " 5.38558741 5.51381568 5.64204395 5.77027222 5.89850049 6.02672876\n",
      " 6.15495704 6.28318531]\n",
      "\n",
      "\n",
      "y = [ 1.          0.99179001  0.96729486  0.92691676  0.8713187   0.80141362\n",
      "  0.71834935  0.6234898   0.51839257  0.40478334  0.28452759  0.1595999\n",
      "  0.03205158 -0.09602303 -0.22252093 -0.34536505 -0.46253829 -0.57211666\n",
      " -0.67230089 -0.76144596 -0.8380881  -0.90096887 -0.94905575 -0.98155916\n",
      " -0.99794539 -0.99794539 -0.98155916 -0.94905575 -0.90096887 -0.8380881\n",
      " -0.76144596 -0.67230089 -0.57211666 -0.46253829 -0.34536505 -0.22252093\n",
      " -0.09602303  0.03205158  0.1595999   0.28452759  0.40478334  0.51839257\n",
      "  0.6234898   0.71834935  0.80141362  0.8713187   0.92691676  0.96729486\n",
      "  0.99179001  1.        ]\n"
     ]
    }
   ],
   "source": [
    "import numpy as np\n",
    "print(np)\n",
    "x = np.linspace(0, 2 * np.pi, 50)\n",
    "y = np.cos(x)\n",
    "print('\\n\\nx =', x)\n",
    "print('\\n\\ny =', y)"
   ]
  },
  {
   "attachments": {},
   "cell_type": "markdown",
   "metadata": {},
   "source": [
    "`````{admonition} Let's break it down\n",
    "The code uses the ``numpy`` library in Python to perform the following tasks:\n",
    "1. It imports the ``numpy`` library.\n",
    "2. It prints information about the ``numpy`` package.\n",
    "3. It creates an array ``x`` with 50 equally spaced values between $0$ and $2\\pi$.\n",
    "4. It calculates the cosine of each element in the array ``x`` and stores the results in the array ``y``.\n",
    "5. It prints the arrays ``x`` and ``y``.\n",
    "\n",
    "In summary, the code imports the ``numpy`` library, creates an array ``x`` with $50$ evenly spaced elements between $0$ and $2\\pi$, calculates the cosine of each element in ``x``, and finally prints the arrays ``x`` and ``y``.\n",
    "`````    "
   ]
  },
  {
   "attachments": {},
   "cell_type": "markdown",
   "metadata": {
    "nbgrader": {
     "grade": false,
     "locked": true,
     "solution": false
    }
   },
   "source": [
    "You will learn more about this and other packages in separate Notebooks since these packages are frequently used by the scientific programming community."
   ]
  },
  {
   "attachments": {},
   "cell_type": "markdown",
   "metadata": {
    "id": "bl_ufrrc2PGB",
    "nbgrader": {
     "grade": false,
     "locked": true,
     "solution": false
    }
   },
   "source": [
    "### ``matplotlib``\n",
    "\n",
    "The <b><code>matplotlib</code></b> module is used to plot data. It contains a lot of visualization techniques and, for simplicity, it has many submodules within the main module. Thus, in order to access functions, you have to specify the whole path that you want to import.<br><br>For example, if the function you need is located within the <b><code>matplotlib</code></b> module and <b><code>pyplot</code></b> submodule, you need to <b><code>import matplotlib.pyplot</code></b>;  then, the access command to that function is simply <b><code>pyplot.<b>your_function</b>()</code></b>.<br><br>Below we use the data generated in the previous cell to create a simple plot using the <b><code>pyplot.plot()</code></b> function:\n",
    "\n",
    "In order to import a submodule the parent module must also be specified. It is common to import ``matplotlib.pyplot`` as ``plt``.\n",
    "\n",
    "The ``plt.plot()`` function takes x-axis values as the first argument and y-axis, or $f(x)$, values as the second argument\n",
    "\n",
    "\n"
   ]
  },
  {
   "cell_type": "code",
   "execution_count": 10,
   "metadata": {
    "colab": {
     "base_uri": "https://localhost:8080/",
     "height": 282
    },
    "collapsed": true,
    "id": "COq85MFE06s1",
    "nbgrader": {
     "grade": false,
     "locked": true,
     "solution": false
    },
    "outputId": "67086bf1-4b12-4929-a420-ae9322bbbcce"
   },
   "outputs": [
    {
     "data": {
      "text/plain": [
       "[<matplotlib.lines.Line2D at 0x17fff89af70>]"
      ]
     },
     "execution_count": 10,
     "metadata": {},
     "output_type": "execute_result"
    },
    {
     "data": {
      "image/png": "[encoded data removed]",
      "text/plain": [
       "<Figure size 640x480 with 1 Axes>"
      ]
     },
     "metadata": {},
     "output_type": "display_data"
    }
   ],
   "source": [
    "import matplotlib.pyplot as plt\n",
    "plt.plot(x, y)"
   ]
  },
  {
   "attachments": {},
   "cell_type": "markdown",
   "metadata": {},
   "source": [
    "``plt.scatter()`` works in a similar way, but it does not connect the dots."
   ]
  },
  {
   "cell_type": "code",
   "execution_count": 11,
   "metadata": {
    "colab": {
     "base_uri": "https://localhost:8080/",
     "height": 282
    },
    "collapsed": true,
    "id": "bd01J-Dc8iDJ",
    "nbgrader": {
     "grade": false,
     "locked": true,
     "solution": false
    },
    "outputId": "792ba793-3ff8-4f5a-bcdd-8271082d6c83"
   },
   "outputs": [
    {
     "data": {
      "text/plain": [
       "<matplotlib.collections.PathCollection at 0x17fff8f4f40>"
      ]
     },
     "execution_count": 11,
     "metadata": {},
     "output_type": "execute_result"
    },
    {
     "data": {
      "image/png": "[encoded data removed]",
      "text/plain": [
       "<Figure size 640x480 with 1 Axes>"
      ]
     },
     "metadata": {},
     "output_type": "display_data"
    }
   ],
   "source": [
    "plt.scatter(x, y)"
   ]
  },
  {
   "attachments": {},
   "cell_type": "markdown",
   "metadata": {
    "id": "qdHLw0oC84pg",
    "nbgrader": {
     "grade": false,
     "locked": true,
     "solution": false
    }
   },
   "source": [
    "### Loading Python files as modules\n",
    "\n",
    "Finally, you can also load your own (or somebody else's) Python files as modules. This is quite helpful, as it allows you to keep your code projects well-structured without the need to copy and paste everything.<br><br>In order to import another <b>*.py</b> file as a module, you only need to have that file and your Notebook file in the same directory and use the <code>import</code> keyword. More info on this <a href='https://csatlas.com/python-import-file-module/'>here</a>."
   ]
  },
  {
   "attachments": {},
   "cell_type": "markdown",
   "metadata": {
    "id": "fHmKWsUSKuj4",
    "nbgrader": {
     "grade": false,
     "locked": true,
     "solution": false
    }
   },
   "source": [
    "## 2.2 Conditions and <code>if</code> statements\n",
    "\n",
    "In previous Sections you have learned how to create variables, alter them with the help of operators and access the code of professional software developers/scientists. With this, you can already do plenty of stuff in Python. However, it still lacks versatility. If you want to apply other processing techniques for other data — you would need to manually rewrite your code and then change it back once the data changes again. Not that handy, right?<br><br>In this Section you will learn how to <i>steer</i> the flow of your code — process data differently based on some conditions. For that you will learn a construction called the <b><code>if</code></b> statement.\n",
    "\n"
   ]
  },
  {
   "attachments": {},
   "cell_type": "markdown",
   "metadata": {
    "id": "oyr90lgAQGtD",
    "nbgrader": {
     "grade": false,
     "locked": true,
     "solution": false
    }
   },
   "source": [
    "### <code>if </code>keyword</h3>\n",
    "\n",
    "The <b><code>if</code></b> statement in Python is similar to how we use it in English. <i>\"If I have apples, I can make an apple pie\"</i> — clearly states that an apple pie will exist under the condition of you having apples. Otherwise, no pie. <br><br>\n",
    "Well, it is the same in Python:"
   ]
  },
  {
   "cell_type": "code",
   "execution_count": 12,
   "metadata": {
    "colab": {
     "base_uri": "https://localhost:8080/"
    },
    "collapsed": true,
    "id": "QGXlz9tvM56U",
    "nbgrader": {
     "grade": false,
     "locked": true,
     "solution": false
    },
    "outputId": "63cc3e01-7c4c-4829-d4b2-9ae08b587791"
   },
   "outputs": [
    {
     "name": "stdout",
     "output_type": "stream",
     "text": [
      "End of the cell block...\n"
     ]
    }
   ],
   "source": [
    "amount_of_apples = 0\n",
    "\n",
    "if amount_of_apples > 0:\n",
    "    print(\"You have apples!\\nLet's make a pie!\")\n",
    "\n",
    "print('End of the cell block...')"
   ]
  },
  {
   "attachments": {},
   "cell_type": "markdown",
   "metadata": {
    "id": "qiElV_BSNYgl",
    "nbgrader": {
     "grade": false,
     "locked": true,
     "solution": false
    }
   },
   "source": [
    "As you can see - nothing is printed besides <i>'End of the cell block...'.<br><br></i>But we can clearly see that there is another print statement! Why it is not printed? Because we have no apples... thus no pie for you.<br><br>Let's acquire some fruit and see whether something will change...\n",
    "\n",
    "Adding 5 apples to our supply:"
   ]
  },
  {
   "cell_type": "code",
   "execution_count": 13,
   "metadata": {
    "colab": {
     "base_uri": "https://localhost:8080/"
    },
    "collapsed": true,
    "id": "ja5Tz_GLNoUH",
    "nbgrader": {
     "grade": false,
     "locked": true,
     "solution": false
    },
    "outputId": "6bd36f78-2958-4bb6-ffcc-420951b3f8ba"
   },
   "outputs": [
    {
     "name": "stdout",
     "output_type": "stream",
     "text": [
      "You have apples!\n",
      "Let's make a pie!\n",
      "End of the cell block...\n"
     ]
    }
   ],
   "source": [
    "amount_of_apples += 5\n",
    "\n",
    "if amount_of_apples > 0:\n",
    "    print(\"You have apples!\\nLet's make a pie!\") \n",
    "\n",
    "print('End of the cell block...')"
   ]
  },
  {
   "attachments": {},
   "cell_type": "markdown",
   "metadata": {
    "id": "UYZHMFlmNyyA",
    "nbgrader": {
     "grade": false,
     "locked": true,
     "solution": false
    }
   },
   "source": [
    "Now you can see that the same <b><code>if</code></b> statement prints text. It happened because our statement <b><code>amount_of_apples > 0</code></b> is now <b><code>True</code></b>.<br><br>That's how an <b><code>if</code></b> statement works — you type the <b><code>if</code></b> keyword, a statement and a colon. Beneath it, with an indentation of 4 spaces (1 tab), you place any code you want to run in case that <b><code>if</code></b> statement is <b><code>True</code></b>. This indentation is the same as described in Notebook 1 when defining a function.<br><br>If the result of the conditional expression is <b><code>False</code></b>, then the code inside of the <b><code>if</code></b> statement block will not run. Here's another example:"
   ]
  },
  {
   "cell_type": "code",
   "execution_count": 14,
   "metadata": {
    "colab": {
     "base_uri": "https://localhost:8080/"
    },
    "collapsed": true,
    "id": "b1eW-x-3QMbZ",
    "nbgrader": {
     "grade": false,
     "locked": true,
     "solution": false
    },
    "outputId": "5d7df045-b19f-432d-e620-30d7cb34f605"
   },
   "outputs": [
    {
     "name": "stdout",
     "output_type": "stream",
     "text": [
      "I'm an adult, I have to work right now :(\n",
      "End of the cell block...\n"
     ]
    }
   ],
   "source": [
    "my_age = 25\n",
    "\n",
    "if my_age >= 18 and my_age <= 65:\n",
    "    print(\"I'm an adult, I have to work right now :(\")\n",
    "\n",
    "print('End of the cell block...')"
   ]
  },
  {
   "attachments": {},
   "cell_type": "markdown",
   "metadata": {
    "id": "7dhdkRKERIz_",
    "nbgrader": {
     "grade": false,
     "locked": true,
     "solution": false
    }
   },
   "source": [
    "Slightly different setting but still the same construction. As you can see in this case, the condition of the <b><code>if</code></b> statement is more complicated than the previous one. It combines two smaller conditions by using the keyword <b><code>and</code></b>. Only if both conditions are <b><code>True</code></b> the final result is <b><code>True</code></b> (otherwise it would be <b><code>False</code></b>).Thus, the condition can be as long and as complicated as you want it to be, just make sure that it is readable."
   ]
  },
  {
   "attachments": {},
   "cell_type": "markdown",
   "metadata": {
    "id": "h3uicp2sTA5x",
    "nbgrader": {
     "grade": false,
     "locked": true,
     "solution": false
    }
   },
   "source": [
    "<h3><code>elif</code> keyword</h3><br>Now, let's add a bit more logic to our last example:"
   ]
  },
  {
   "cell_type": "code",
   "execution_count": 15,
   "metadata": {
    "colab": {
     "base_uri": "https://localhost:8080/"
    },
    "collapsed": true,
    "id": "cZQHBzWcSdn8",
    "nbgrader": {
     "grade": false,
     "locked": true,
     "solution": false
    },
    "outputId": "0fdc9367-527d-4c1c-d4a2-b15d230a0f79"
   },
   "outputs": [
    {
     "name": "stdout",
     "output_type": "stream",
     "text": [
      "I'm an adult, I have to work right now :(\n",
      "End of the cell block...\n"
     ]
    }
   ],
   "source": [
    "my_age = 25\n",
    "\n",
    "if my_age >= 18 and my_age <= 65:\n",
    "    print(\"I'm an adult, I have to work right now :(\")\n",
    "elif my_age > 65:\n",
    "    print(\"I can finally retire!\")\n",
    "\n",
    "print('End of the cell block...')"
   ]
  },
  {
   "attachments": {},
   "cell_type": "markdown",
   "metadata": {
    "id": "_6NOt61ZSufk",
    "nbgrader": {
     "grade": false,
     "locked": true,
     "solution": false
    }
   },
   "source": [
    "Still the same output, but what if we change our age..."
   ]
  },
  {
   "cell_type": "code",
   "execution_count": 16,
   "metadata": {
    "colab": {
     "base_uri": "https://localhost:8080/"
    },
    "collapsed": true,
    "id": "QZ-AGXaJSy7j",
    "nbgrader": {
     "grade": false,
     "locked": true,
     "solution": false
    },
    "outputId": "9208a2bb-328b-4fe0-d1fd-65c443c8902f"
   },
   "outputs": [
    {
     "name": "stdout",
     "output_type": "stream",
     "text": [
      "I can finally retire!\n",
      "End of the cell block...\n"
     ]
    }
   ],
   "source": [
    "my_age = 66\n",
    "\n",
    "if my_age >= 18 and my_age <= 65:\n",
    "    print(\"I'm an adult, I have to work right now :(\") # msg #1\n",
    "elif my_age > 65:\n",
    "    print(\"I can finally retire!\") # msg #2\n",
    "\n",
    "print('End of the cell block...')"
   ]
  },
  {
   "attachments": {},
   "cell_type": "markdown",
   "metadata": {
    "id": "u8RcnX-sTm4G",
    "nbgrader": {
     "grade": false,
     "locked": true,
     "solution": false
    }
   },
   "source": [
    "See.. we have a different output. Changing the value of our variable <b><code>my_age</code></b> changed the output of the <b><code>if</code></b> statement. Furthermore, the <b><code>elif</code></b> keyword helped us to add more logic to our code. Now, we have three different output scenarios:<br>\n",
    "- print message #$1$ if <b><code>my_age</code></b> is within the $[18, 65]$ range;<br>\n",
    "- print message #$2$ if <b><code>my_age</code></b> is bigger than $65$; and, <br>\n",
    "- print none of them if <b><code>my_age</code></b> doesn't comply with none of the conditions (as shown below)."
   ]
  },
  {
   "cell_type": "code",
   "execution_count": 17,
   "metadata": {
    "colab": {
     "base_uri": "https://localhost:8080/"
    },
    "collapsed": true,
    "id": "9r9Mx2gkVyS7",
    "nbgrader": {
     "grade": false,
     "locked": true,
     "solution": false
    },
    "outputId": "4a513321-cca9-4c5e-ee7d-da2157e039d5"
   },
   "outputs": [
    {
     "name": "stdout",
     "output_type": "stream",
     "text": [
      "End of the cell block...\n"
     ]
    }
   ],
   "source": [
    "my_age = 15\n",
    "\n",
    "if my_age >= 18 and my_age <= 65:\n",
    "    print(\"I'm an adult, I have to work right now :(\") # msg #1\n",
    "elif my_age > 65:\n",
    "    print(\"I can finally retire!\") # msg #2\n",
    "\n",
    "print('End of the cell block...')"
   ]
  },
  {
   "attachments": {},
   "cell_type": "markdown",
   "metadata": {
    "id": "1lfzBWNfVwN0",
    "nbgrader": {
     "grade": false,
     "locked": true,
     "solution": false
    }
   },
   "source": [
    "One can also substitute an <code>elif</code> block by a different <code>if</code> block, however it is preferred to use <code>elif</code> instead to <i>\"keep the condition together\"</i> and to reduce code size.<br>\n",
    "\n",
    ":::{warning}\n",
    "It is important to know that there should be only <b>one</b> <code>if</code> block and <b>any number of</b> <code>elif</code> blocks within it.\n",
    ":::\n",
    "\n",
    "A last example below setting ``my_age = 88`` to run the first ``elif`` block and setting ``my_age = 7 `` to run the second ``elif`` block.\n"
   ]
  },
  {
   "cell_type": "code",
   "execution_count": 18,
   "metadata": {
    "colab": {
     "base_uri": "https://localhost:8080/"
    },
    "collapsed": true,
    "id": "0krMMx5DYpeO",
    "nbgrader": {
     "grade": false,
     "locked": true,
     "solution": false
    },
    "outputId": "19ac187f-b814-4aa5-ef91-9db6691ded6c"
   },
   "outputs": [
    {
     "name": "stdout",
     "output_type": "stream",
     "text": [
      "I can finally retire!\n",
      "I'm really really young\n",
      "End of the cell block...\n"
     ]
    }
   ],
   "source": [
    "my_age = 88\n",
    "\n",
    "if my_age >= 18 and my_age <= 65:\n",
    "    print(\"I'm an adult, I have to work right now :(\")\n",
    "elif my_age > 65:\n",
    "    print(\"I can finally retire!\")\n",
    "elif my_age < 10:\n",
    "    print(\"I'm really, really young\")\n",
    "\n",
    "\n",
    "my_age = 7\n",
    "\n",
    "if my_age >= 18 and my_age <= 65:\n",
    "    print(\"I'm an adult, I have to work right now :(\")\n",
    "elif my_age > 65:\n",
    "    print(\"I can finally retire!\")\n",
    "elif my_age < 10:\n",
    "    print(\"I'm really really young\")\n",
    "\n",
    "print('End of the cell block...')"
   ]
  },
  {
   "attachments": {},
   "cell_type": "markdown",
   "metadata": {
    "id": "WGUFngFNV6ys",
    "nbgrader": {
     "grade": false,
     "locked": true,
     "solution": false
    }
   },
   "source": [
    "### <code>else</code> keyword\n",
    "\n",
    "We can go even further and add an additional scenario to our <b><code>if</code></b> statement with the <b><code>else</code></b> keyword. It runs the code inside of it <b>only</b> when none of the <b><code>if</code></b> and <b><code>elif</code></b> conditions are <b><code>True</code></b>:"
   ]
  },
  {
   "cell_type": "code",
   "execution_count": 19,
   "metadata": {
    "colab": {
     "base_uri": "https://localhost:8080/"
    },
    "collapsed": true,
    "id": "ieXD271nW903",
    "nbgrader": {
     "grade": false,
     "locked": true,
     "solution": false
    },
    "outputId": "ff7edbd8-33b5-4b6e-c7e7-657ec1d4e8a0"
   },
   "outputs": [
    {
     "name": "stdout",
     "output_type": "stream",
     "text": [
      "I'm just young\n",
      "End of the cell block...\n"
     ]
    }
   ],
   "source": [
    "my_age = 13\n",
    "\n",
    "if my_age >= 18 and my_age <= 65:\n",
    "    print(\"I'm an adult, I have to work right now :(\")\n",
    "elif my_age > 65:\n",
    "    print(\"I can finally retire!\")\n",
    "elif my_age < 10:\n",
    "    print(\"I'm really really young\")\n",
    "else:\n",
    "    print(\"I'm just young\")\n",
    "\n",
    "print('End of the cell block...')"
   ]
  },
  {
   "attachments": {},
   "cell_type": "markdown",
   "metadata": {
    "id": "5_e10m98XJIn",
    "nbgrader": {
     "grade": false,
     "locked": true,
     "solution": false
    }
   },
   "source": [
    "\n",
    "On the previous example, since <b><code>my_age</code></b> is <b>not</b> between $[18,65]$, <b>nor</b> bigger than $65$, <b>nor</b> smaller than $10$, the <b><code>else</code></b> block is run.\n",
    "\n",
    "Below, a final example setting ``my_age = 27`` to run the ``if`` block, then setting ``my_age = 71 `` to run the first ``elif`` block. To run the second ``elif`` block we set ``my_age = 9 ``. Finally, setting ``my_age = 13 `` to run the ``else`` block."
   ]
  },
  {
   "cell_type": "code",
   "execution_count": 20,
   "metadata": {
    "colab": {
     "base_uri": "https://localhost:8080/"
    },
    "collapsed": true,
    "id": "Qc9WVQTxX76r",
    "nbgrader": {
     "grade": false,
     "locked": true,
     "solution": false
    },
    "outputId": "e4a5e6aa-6ebc-43c0-f7f2-eab350c66a8f"
   },
   "outputs": [
    {
     "name": "stdout",
     "output_type": "stream",
     "text": [
      "I'm an adult, I have to work right now :(\n",
      "End of the cell block...\n",
      "------------------------\n",
      "I can finally retire!\n",
      "End of the cell block...\n",
      "------------------------\n",
      "I'm really really young\n",
      "End of the cell block...\n",
      "------------------------\n",
      "I'm just young\n",
      "End of the cell block...\n",
      "------------------------\n"
     ]
    }
   ],
   "source": [
    "my_age = 27\n",
    "\n",
    "if my_age >= 18 and my_age <= 65:\n",
    "    print(\"I'm an adult, I have to work right now :(\")\n",
    "elif my_age > 65:\n",
    "    print(\"I can finally retire!\")\n",
    "elif my_age < 10:\n",
    "    print(\"I'm really really young\")\n",
    "else:\n",
    "    print(\"I'm just young\")\n",
    "\n",
    "print('End of the cell block...')\n",
    "print('------------------------')\n",
    "\n",
    "my_age = 71\n",
    "\n",
    "if my_age >= 18 and my_age <= 65:\n",
    "    print(\"I'm an adult, I have to work right now :(\")\n",
    "elif my_age > 65: # first elif block\n",
    "    print(\"I can finally retire!\")\n",
    "elif my_age < 10:\n",
    "    print(\"I'm really really young\")\n",
    "else:\n",
    "    print(\"I'm just young\")\n",
    "\n",
    "print('End of the cell block...')\n",
    "print('------------------------')\n",
    "\n",
    "\n",
    "my_age = 9\n",
    "\n",
    "if my_age >= 18 and my_age <= 65:\n",
    "    print(\"I'm an adult, I have to work right now :(\")\n",
    "elif my_age > 65:\n",
    "    print(\"I can finally retire!\")\n",
    "elif my_age < 10: # second elif block\n",
    "    print(\"I'm really really young\")\n",
    "else:\n",
    "    print(\"I'm just young\")\n",
    "\n",
    "print('End of the cell block...')\n",
    "print('------------------------')\n",
    "\n",
    "\n",
    "my_age = 13\n",
    "\n",
    "if my_age >= 18 and my_age <= 65:\n",
    "    print(\"I'm an adult, I have to work right now :(\")\n",
    "elif my_age > 65:\n",
    "    print(\"I can finally retire!\")\n",
    "elif my_age < 10:\n",
    "    print(\"I'm really really young\")\n",
    "else: # else block\n",
    "    print(\"I'm just young\")\n",
    "\n",
    "print('End of the cell block...')\n",
    "print('------------------------')"
   ]
  },
  {
   "attachments": {},
   "cell_type": "markdown",
   "metadata": {
    "id": "xAytN9YkYOtw",
    "nbgrader": {
     "grade": false,
     "locked": true,
     "solution": false
    }
   },
   "source": [
    "That's almost everything you have to know about <b><code>if</code></b> statements! The last two things are:\n",
    "\n",
    "1. It goes from top to bottom. When the first condition to be <b><code>True</code></b> runs, it skips all conditions after it — as shown below:"
   ]
  },
  {
   "cell_type": "code",
   "execution_count": 21,
   "metadata": {
    "colab": {
     "base_uri": "https://localhost:8080/"
    },
    "collapsed": true,
    "id": "clMld7oKa0n7",
    "nbgrader": {
     "grade": false,
     "locked": true,
     "solution": false
    },
    "outputId": "5cfedbfb-f653-4d90-abd0-658353746aea"
   },
   "outputs": [
    {
     "name": "stdout",
     "output_type": "stream",
     "text": [
      "Condition #3\n"
     ]
    }
   ],
   "source": [
    "random_number = 17\n",
    "\n",
    "if random_number > 35:\n",
    "    print('Condition #1')\n",
    "elif random_number > 25:\n",
    "    print('Condition #2')\n",
    "elif random_number > 15:\n",
    "    print('Condition #3')\n",
    "elif random_number > 5:\n",
    "    print('Condition #4')\n",
    "else:\n",
    "    print('Condition #5')"
   ]
  },
  {
   "attachments": {},
   "cell_type": "markdown",
   "metadata": {
    "id": "rfwRtedNbVs8",
    "nbgrader": {
     "grade": false,
     "locked": true,
     "solution": false
    }
   },
   "source": [
    "2. You can put almost everything inside each condition block and you can define variables within each block:"
   ]
  },
  {
   "cell_type": "code",
   "execution_count": 22,
   "metadata": {
    "colab": {
     "base_uri": "https://localhost:8080/",
     "height": 242
    },
    "collapsed": true,
    "id": "5II4-Zcvbf3j",
    "nbgrader": {
     "grade": false,
     "locked": true,
     "solution": false
    },
    "outputId": "cb2f7c29-2970-48a2-eacc-56d6e3f1a829"
   },
   "outputs": [
    {
     "name": "stdout",
     "output_type": "stream",
     "text": [
      "I am a poor BSc student\n",
      "x = 5\n"
     ]
    },
    {
     "ename": "NameError",
     "evalue": "name 'b' is not defined",
     "output_type": "error",
     "traceback": [
      "\u001b[1;31m---------------------------------------------------------------------------\u001b[0m",
      "\u001b[1;31mNameError\u001b[0m                                 Traceback (most recent call last)",
      "Cell \u001b[1;32mIn[22], line 20\u001b[0m\n\u001b[0;32m     17\u001b[0m         \u001b[39mprint\u001b[39m(\u001b[39m'\u001b[39m\u001b[39mI am a poor MSc student\u001b[39m\u001b[39m'\u001b[39m)\n\u001b[0;32m     19\u001b[0m \u001b[39mprint\u001b[39m(\u001b[39m'\u001b[39m\u001b[39mx =\u001b[39m\u001b[39m'\u001b[39m, x)\n\u001b[1;32m---> 20\u001b[0m \u001b[39mprint\u001b[39m(\u001b[39m'\u001b[39m\u001b[39mb =\u001b[39m\u001b[39m'\u001b[39m, b)\n",
      "\u001b[1;31mNameError\u001b[0m: name 'b' is not defined"
     ]
    }
   ],
   "source": [
    "my_income = 150\n",
    "my_degree = 'BSc'\n",
    "\n",
    "if my_degree == 'BSc':\n",
    "    x = 5\n",
    "    if my_income > 300:\n",
    "        b = 2\n",
    "        print('I am a rich BSc student')\n",
    "    else:\n",
    "        print('I am a poor BSc student')\n",
    "\n",
    "elif my_degree == 'MSc':\n",
    "\n",
    "    if my_income > 300:\n",
    "        print('I am a rich MSc student')\n",
    "    else:\n",
    "        print('I am a poor MSc student')\n",
    "\n",
    "print('x =', x)\n",
    "print('b =', b)"
   ]
  },
  {
   "attachments": {},
   "cell_type": "markdown",
   "metadata": {
    "id": "9nDrNWr2cjMd",
    "nbgrader": {
     "grade": false,
     "locked": true,
     "solution": false
    }
   },
   "source": [
    "As you can see, we can make it as complicated as we want in terms of conditional branching.<br><br>Additionally, you can see that only variables within the blocks which run were created, while other variables were not. Thus, we have a <i>NameError</i> that we tried to access a variable <b><code>(b)</code></b> that was not defined."
   ]
  },
  {
   "attachments": {},
   "cell_type": "markdown",
   "metadata": {
    "id": "fHmKWsUSKuj4",
    "nbgrader": {
     "grade": false,
     "locked": true,
     "solution": false
    }
   },
   "source": [
    "## 2.3 Data Structures\n",
    "\n",
    "In this Section you will tackle a data management problem! In the first module you have learned how to create variables, which is cool. But when you populate a lot of variables, or you want to store & access them within one entity, you need to have a data structure.<br><br>There are plenty of them, which differ their use cases and complexity. Today we will tackle some of the standard Python built-in data structures. The most popular of those are: <b><code>list</code></b>, <b><code>dict</code></b> and <b><code>tuple</code></b>."
   ]
  },
  {
   "attachments": {},
   "cell_type": "markdown",
   "metadata": {
    "id": "BcEOnv2kTT9A",
    "nbgrader": {
     "grade": false,
     "locked": true,
     "solution": false
    }
   },
   "source": [
    "### <code>list</code>\n",
    "\n",
    "First, the easiest and the most popular data structure in Python: <b><code>list</code></b> (which is similar to a typical array you could have seen in a different programming language).<br><br>\n",
    "You can create a list in the following ways:\n",
    "\n",
    "1. Creating an empty list, option 1\n",
    "2. Creating an empty list, option 2 - using the class constructor\n",
    "3. Creating a list from existing data - option 1\n",
    "4. Creating a list from existing data - option 2"
   ]
  },
  {
   "cell_type": "code",
   "execution_count": 2,
   "metadata": {
    "colab": {
     "base_uri": "https://localhost:8080/"
    },
    "collapsed": true,
    "id": "U8OUPaXESz44",
    "nbgrader": {
     "grade": false,
     "locked": true,
     "solution": false
    },
    "outputId": "ee38751f-5efe-4a85-a9a9-a34efc3bfb02"
   },
   "outputs": [
    {
     "name": "stdout",
     "output_type": "stream",
     "text": [
      "Type of my_list1 object <class 'list'>\n",
      "Contents of my_list1 []\n",
      "--------------------\n",
      "Type of my_list2 object <class 'list'>\n",
      "Contents of my_list2 []\n",
      "--------------------\n",
      "Type of my_list3 object <class 'list'>\n",
      "Contents of my_list3 [5, 'hello', 37.5]\n",
      "--------------------\n",
      "Type of my_list3 object <class 'list'>\n",
      "Contents of list_with_letters ['s', 'a', 'n', 'd', 's', 't', 'o', 'n', 'e']\n",
      "--------------------\n"
     ]
    }
   ],
   "source": [
    "#1\n",
    "empty_list1 = []\n",
    "print('Type of my_list1 object', type(empty_list1))\n",
    "print('Contents of my_list1', empty_list1)\n",
    "print('--------------------')\n",
    "\n",
    "#2\n",
    "empty_list2 = list()\n",
    "print('Type of my_list2 object', type(empty_list2))\n",
    "print('Contents of my_list2', empty_list2)\n",
    "print('--------------------')\n",
    "\n",
    "#3\n",
    "my_var1 = 5\n",
    "my_var2 = \"hello\"\n",
    "my_var3 = 37.5\n",
    "\n",
    "my_list = [my_var1, my_var2, my_var3]\n",
    "print('Type of my_list3 object', type(my_list))\n",
    "print('Contents of my_list3', my_list)\n",
    "print('--------------------')\n",
    "\n",
    "\n",
    "#4\n",
    "cool_rock = \"sandstone\" # remember that a string is a collection of characters\n",
    "\n",
    "list_with_letters = list(cool_rock)\n",
    "\n",
    "print('Type of my_list3 object', type(list_with_letters))\n",
    "print('Contents of list_with_letters', list_with_letters)\n",
    "print('--------------------')\n"
   ]
  },
  {
   "attachments": {},
   "cell_type": "markdown",
   "metadata": {
    "id": "I-9MNCzBUgH9",
    "nbgrader": {
     "grade": false,
     "locked": true,
     "solution": false
    }
   },
   "source": [
    "As you can see, in all three cases we created a list, only the method how we did it was slightly different:\n",
    "- the first method uses the bracket notation.\n",
    "- the second method uses class constructor approach. \n",
    "\n",
    "Both methods also apply to the other data structures.\n",
    "\n",
    "Now, we have a list — what can we do with it?\n",
    "\n",
    "Well... we can access and modify any element of an existing list. In order to access a list element, square brackets <b><code>[]</code></b> are used with the index of the element we want to access inside. Sounds easy, but keep in mind that Python has a zero-based indexing (as mentioned in Section 1.4 in Notebook 1).\n",
    "\n",
    ":::{note}\n",
    "A zero-based indexing means that the first element has index 0 (not 1), the second element has index 1 (not 2) and the n-th element has index n - 1 (not n)!\n",
    ":::"
   ]
  },
  {
   "attachments": {},
   "cell_type": "markdown",
   "metadata": {},
   "source": [
    "The ``len()` function returns the lengths of an iterable (string, list, array, etc). Since we have 3 elements, thus we can access 0th, 1st, and 2nd elements. \n",
    "\n",
    "After the element is accessed, it can be used as any variable, the list only provides a convenient storage. Since it is a storage - we can easily alter and swap list elements"
   ]
  },
  {
   "cell_type": "code",
   "execution_count": 3,
   "metadata": {
    "colab": {
     "base_uri": "https://localhost:8080/",
     "height": 295
    },
    "collapsed": true,
    "id": "CksNFv0AVmLw",
    "nbgrader": {
     "grade": false,
     "locked": true,
     "solution": false
    },
    "outputId": "bbddff89-959c-4065-89a5-04500ceedf91"
   },
   "outputs": [
    {
     "name": "stdout",
     "output_type": "stream",
     "text": [
      "3\n",
      "First element of my list: 5\n",
      "Last element of my list: 37.5\n",
      "Sum of 5 and 37.5 is 42.5\n",
      "[12, 'My new element', 37.5]\n"
     ]
    }
   ],
   "source": [
    "print(len(my_list))\n",
    "print('First element of my list:', my_list[0])\n",
    "print('Last element of my list:', my_list[2])\n",
    "\n",
    "summation = my_list[0] + my_list[2]\n",
    "print(f'Sum of {my_list[0]} and {my_list[2]} is {summation}')\n",
    "\n",
    "\n",
    "my_list[0] += 7\n",
    "my_list[1] = \"My new element\"\n",
    "\n",
    "print(my_list)\n"
   ]
  },
  {
   "attachments": {},
   "cell_type": "markdown",
   "metadata": {},
   "source": [
    "we can only access data we have - Python will give us an error for the following"
   ]
  },
  {
   "cell_type": "code",
   "execution_count": 4,
   "metadata": {},
   "outputs": [
    {
     "ename": "IndexError",
     "evalue": "list assignment index out of range",
     "output_type": "error",
     "traceback": [
      "\u001b[1;31m---------------------------------------------------------------------------\u001b[0m",
      "\u001b[1;31mIndexError\u001b[0m                                Traceback (most recent call last)",
      "Cell \u001b[1;32mIn[4], line 1\u001b[0m\n\u001b[1;32m----> 1\u001b[0m my_list[\u001b[39m10\u001b[39m] \u001b[39m=\u001b[39m \u001b[39m199\u001b[39m\n",
      "\u001b[1;31mIndexError\u001b[0m: list assignment index out of range"
     ]
    }
   ],
   "source": [
    "my_list[10] = 199"
   ]
  },
  {
   "attachments": {},
   "cell_type": "markdown",
   "metadata": {
    "id": "zxkLDWef7IM-",
    "nbgrader": {
     "grade": false,
     "locked": true,
     "solution": false
    }
   },
   "source": [
    "We can also add new elements to a list, or remove them! Adding is realized with the <b><code>append</code></b> method and removal of an element uses the <b><code>del</code></b> keyword. We can also store a list inside a list - list inception! Useful for matrices, images etc. "
   ]
  },
  {
   "cell_type": "code",
   "execution_count": 5,
   "metadata": {
    "colab": {
     "base_uri": "https://localhost:8080/"
    },
    "collapsed": true,
    "id": "Yos0Cl9C7W1H",
    "nbgrader": {
     "grade": false,
     "locked": true,
     "solution": false
    },
    "outputId": "ba48887c-c2ff-4fc6-a231-68543e8bf97a"
   },
   "outputs": [
    {
     "name": "stdout",
     "output_type": "stream",
     "text": [
      "[12, 'My new element', 37.5, 'new addition to  my variable collection!']\n",
      "[12, 'My new element', 37.5, 'new addition to  my variable collection!', ['another list', False, (1+2j)]]\n",
      "[12, 'My new element', 'new addition to  my variable collection!', ['another list', False, (1+2j)]]\n"
     ]
    }
   ],
   "source": [
    "my_list.append(\"new addition to  my variable collection!\")\n",
    "print(my_list)\n",
    "\n",
    "my_list.append(['another list', False, 1 + 2j])\n",
    "print(my_list)\n",
    "\n",
    "del my_list[2]\n",
    "print(my_list)"
   ]
  },
  {
   "attachments": {},
   "cell_type": "markdown",
   "metadata": {
    "id": "WZgLxAbJ8icK",
    "nbgrader": {
     "grade": false,
     "locked": true,
     "solution": false
    }
   },
   "source": [
    "Lists also have other useful functionalities, as you can see from the <a href=\"https://docs.python.org/3/tutorial/datastructures.html\">official documentation</a>. Since lists are still objects you can try and apply some operations to them as well."
   ]
  },
  {
   "cell_type": "code",
   "execution_count": 6,
   "metadata": {
    "colab": {
     "base_uri": "https://localhost:8080/"
    },
    "collapsed": true,
    "id": "UEBv_4u09K9T",
    "nbgrader": {
     "grade": false,
     "locked": true,
     "solution": false
    },
    "outputId": "96987502-088b-48d8-d114-2b9967f2de78"
   },
   "outputs": [
    {
     "name": "stdout",
     "output_type": "stream",
     "text": [
      "[2, 4, False, 'second list', 0, 222]\n",
      "['second list', 0, 222, 'second list', 0, 222, 'second list', 0, 222, 'second list', 0, 222]\n",
      "['second list', 0, 222, 5050, 0, 222, 'second list', 0, 222, 'second list', 0, 222]\n"
     ]
    }
   ],
   "source": [
    "lst1 = [2, 4, False]\n",
    "lst2 = ['second list', 0, 222]\n",
    "\n",
    "lst1 = lst1 + lst2\n",
    "print(lst1)\n",
    "\n",
    "lst2 = lst2 * 4\n",
    "print(lst2)\n",
    "\n",
    "lst2[3] = 5050\n",
    "print(lst2)"
   ]
  },
  {
   "attachments": {},
   "cell_type": "markdown",
   "metadata": {
    "id": "SVvYBl6H96du",
    "nbgrader": {
     "grade": false,
     "locked": true,
     "solution": false
    }
   },
   "source": [
    "As you can see, adding lists together concatenates them and multiplying them basically does the same thing (it performs addition several times, just like in real math...).<br><br> Additionally, you can also use the <b><code>in</code></b> keyword to check the presence of a value inside a list."
   ]
  },
  {
   "cell_type": "code",
   "execution_count": null,
   "metadata": {
    "colab": {
     "base_uri": "https://localhost:8080/"
    },
    "collapsed": true,
    "id": "15hwh0COFf-p",
    "nbgrader": {
     "grade": false,
     "locked": true,
     "solution": false
    },
    "outputId": "2b3d16c6-9487-49ea-a6f6-8ffb989ac95c"
   },
   "outputs": [],
   "source": [
    "print(lst1)\n",
    "\n",
    "if 222 in lst1:\n",
    "    print('We found 222 inside lst1')\n",
    "else:\n",
    "    print('Nope, nothing there....')"
   ]
  },
  {
   "attachments": {},
   "cell_type": "markdown",
   "metadata": {
    "id": "NAJZYyQd-fG2",
    "nbgrader": {
     "grade": false,
     "locked": true,
     "solution": false
    }
   },
   "source": [
    "### <code>tuple</code>\n",
    "\n",
    "If you understood how <code>list</code> works, then you already understand 95% of <b><code>tuple</code></b>. Tuples are just like lists, with some small differences.<br><br>1.   In order to create a tuple you need to use <b><code>()</code></b> brackets, comma or a <b><code>tuple</code></b> class constructor.<br>2.   You can change the content of your list, however tuples are immutable (just like strings).\n",
    "\n"
   ]
  },
  {
   "cell_type": "code",
   "execution_count": 7,
   "metadata": {
    "colab": {
     "base_uri": "https://localhost:8080/",
     "height": 313
    },
    "collapsed": true,
    "id": "QnEd7YSsE2Ih",
    "nbgrader": {
     "grade": false,
     "locked": true,
     "solution": false
    },
    "outputId": "1a2e1b57-dbff-4c7d-d7c4-8968fecf67a1"
   },
   "outputs": [
    {
     "name": "stdout",
     "output_type": "stream",
     "text": [
      "Type of tupl1 <class 'tuple'>\n",
      "Content of tupl1 ()\n",
      "<class 'tuple'> ()\n"
     ]
    }
   ],
   "source": [
    "#1\n",
    "tupl1 = tuple() \n",
    "print('Type of tupl1', type(tupl1))\n",
    "print('Content of tupl1', tupl1)\n",
    "#2\n",
    "tupl2 = () # option 2 with ()\n",
    "print(type(tupl2), tupl2)"
   ]
  },
  {
   "attachments": {},
   "cell_type": "markdown",
   "metadata": {},
   "source": [
    "Creating a non-empty tuple using brackets or # Creating a non-empty tuple using comma. Can we change an element of a tuple?"
   ]
  },
  {
   "cell_type": "code",
   "execution_count": 8,
   "metadata": {
    "collapsed": true,
    "nbgrader": {
     "grade": false,
     "locked": true,
     "solution": false
    }
   },
   "outputs": [
    {
     "name": "stdout",
     "output_type": "stream",
     "text": [
      "my tuple (26.5, 'Oil', False, 'some additional stuff', 777)\n",
      "A comma made tuple (2, 'hi!', 228)\n",
      "4th element of my_tuple: some additional stuff\n"
     ]
    },
    {
     "ename": "TypeError",
     "evalue": "'tuple' object does not support item assignment",
     "output_type": "error",
     "traceback": [
      "\u001b[1;31m---------------------------------------------------------------------------\u001b[0m",
      "\u001b[1;31mTypeError\u001b[0m                                 Traceback (most recent call last)",
      "Cell \u001b[1;32mIn[8], line 13\u001b[0m\n\u001b[0;32m     10\u001b[0m \u001b[39mprint\u001b[39m(\u001b[39m'\u001b[39m\u001b[39mA comma made tuple\u001b[39m\u001b[39m'\u001b[39m, comma_tuple)\n\u001b[0;32m     12\u001b[0m \u001b[39mprint\u001b[39m(\u001b[39m'\u001b[39m\u001b[39m4th element of my_tuple:\u001b[39m\u001b[39m'\u001b[39m, my_tuple[\u001b[39m3\u001b[39m])\n\u001b[1;32m---> 13\u001b[0m my_tuple[\u001b[39m3\u001b[39m] \u001b[39m=\u001b[39m \u001b[39m'\u001b[39m\u001b[39mwill I change?\u001b[39m\u001b[39m'\u001b[39m\n",
      "\u001b[1;31mTypeError\u001b[0m: 'tuple' object does not support item assignment"
     ]
    }
   ],
   "source": [
    "my_var1 = 26.5\n",
    "my_var2 = 'Oil'\n",
    "my_var3 = False\n",
    "\n",
    "my_tuple = (my_var1, my_var2, my_var3, 'some additional stuff', 777)\n",
    "print('my tuple', my_tuple)\n",
    "\n",
    "\n",
    "comma_tuple = 2, 'hi!', 228\n",
    "print('A comma made tuple', comma_tuple)\n",
    "\n",
    "print('4th element of my_tuple:', my_tuple[3])\n",
    "my_tuple[3] = 'will I change?'"
   ]
  },
  {
   "attachments": {},
   "cell_type": "markdown",
   "metadata": {
    "id": "1RxahCCiHJRl",
    "nbgrader": {
     "grade": false,
     "locked": true,
     "solution": false
    }
   },
   "source": [
    "Since tuples are immutable, it has no <b><code>append()</code></b> method nor any other methods that alter the object they target.\n",
    "\n",
    "You might think that tuple is a useless class. However, there are some reasons for it to exist:\n",
    "\n",
    "1.Storing constants & objects which shouldn't be changed.\n",
    "2.Saving memory (tuple uses less memory to store the same data than a list). ``.__sizeof__()`` determines the size of a variable in bytes.\n",
    "\n"
   ]
  },
  {
   "cell_type": "code",
   "execution_count": 9,
   "metadata": {
    "colab": {
     "base_uri": "https://localhost:8080/"
    },
    "collapsed": true,
    "id": "A9cA-BpNIMzd",
    "nbgrader": {
     "grade": false,
     "locked": true,
     "solution": false
    },
    "outputId": "d7100baa-0a2c-4498-b8c0-01d1733e732f"
   },
   "outputs": [
    {
     "name": "stdout",
     "output_type": "stream",
     "text": [
      "size of a = 48 bytes\n",
      "size of b = 64 bytes\n"
     ]
    }
   ],
   "source": [
    "my_name = 'Vasyan'\n",
    "my_age = 27\n",
    "is_student = True\n",
    "\n",
    "a = (my_name, my_age, is_student)\n",
    "b = [my_name, my_age, is_student]\n",
    "\n",
    "print('size of a =', a.__sizeof__(), 'bytes') \n",
    "print('size of b =', b.__sizeof__(), 'bytes')"
   ]
  },
  {
   "attachments": {},
   "cell_type": "markdown",
   "metadata": {
    "id": "IYyveiZJJOTZ",
    "nbgrader": {
     "grade": false,
     "locked": true,
     "solution": false
    }
   },
   "source": [
    "### <code>dict</code>\n",
    "\n",
    "After seeing lists and tuples, you may think: <br><br>\"Wow, storing all my variables within another variable is cool and gnarly! But... sometimes it's boring & inconvenient to access my data by using it's position within a tuple/list. Is there a way that I can store my object within a data structure but access it via something meaningful, like a keyword...?\"<br><br>Don't worry if you had this exact same thought.. Python had it as well!<br><br>Dictionaries are suited especially for that purpose — to each element you want to store, you give it a nickname (i.e., a key) and use that key to access the value you want.\n",
    "\n",
    "To create an empty dictionary we used ``{}`` or class constructor ``dict()``"
   ]
  },
  {
   "cell_type": "code",
   "execution_count": 10,
   "metadata": {
    "colab": {
     "base_uri": "https://localhost:8080/"
    },
    "collapsed": true,
    "id": "r5vjDJ8CKaT8",
    "nbgrader": {
     "grade": false,
     "locked": true,
     "solution": false
    },
    "outputId": "46ee6315-d5a5-40a5-8db3-175a681dbf0c"
   },
   "outputs": [
    {
     "name": "stdout",
     "output_type": "stream",
     "text": [
      "Type of empty_dict1 <class 'dict'>\n",
      "Content of it -> {}\n",
      "Type of empty_dict2 <class 'dict'>\n",
      "Content of it -> {}\n"
     ]
    }
   ],
   "source": [
    "empty_dict1 = {}\n",
    "print('Type of empty_dict1', type(empty_dict1))\n",
    "print('Content of it ->', empty_dict1)\n",
    "\n",
    "\n",
    "empty_dict2 = dict()\n",
    "print('Type of empty_dict2', type(empty_dict2))\n",
    "print('Content of it ->', empty_dict2)"
   ]
  },
  {
   "attachments": {},
   "cell_type": "markdown",
   "metadata": {},
   "source": [
    "To create a non-empty dictionary we specify pairs of **key:value** pattern"
   ]
  },
  {
   "cell_type": "code",
   "execution_count": 13,
   "metadata": {
    "collapsed": true,
    "nbgrader": {
     "grade": false,
     "locked": true,
     "solution": false
    }
   },
   "outputs": [
    {
     "name": "stdout",
     "output_type": "stream",
     "text": [
      "Content of my_dict>>> {'name': 'Jarno', 'color': 'red', 'year': 2007, 'is cool': True, 6: 'it works', (2, 22): 'that is a strange key'}\n"
     ]
    }
   ],
   "source": [
    "my_dict = {\n",
    "    'name': 'Jarno',\n",
    "    'color': 'red',\n",
    "    'year': 2007,\n",
    "    'is cool': True,\n",
    "    6: 'it works',\n",
    "    (2, 22): 'that is a strange key'\n",
    "}\n",
    "\n",
    "print('Content of my_dict>>>', my_dict)"
   ]
  },
  {
   "attachments": {},
   "cell_type": "markdown",
   "metadata": {
    "id": "2tQEahKqM9p8",
    "nbgrader": {
     "grade": false,
     "locked": true,
     "solution": false
    }
   },
   "source": [
    "In the last example, you can see that only strings, numbers, or tuples were used as keys. Dictionaries can only use immutable data (or numbers) as keys:"
   ]
  },
  {
   "cell_type": "code",
   "execution_count": 14,
   "metadata": {
    "colab": {
     "base_uri": "https://localhost:8080/",
     "height": 242
    },
    "collapsed": true,
    "id": "V38R-AweNbF7",
    "nbgrader": {
     "grade": false,
     "locked": true,
     "solution": false
    },
    "outputId": "6039cc3b-8d72-4f23-986f-e1027265aec5"
   },
   "outputs": [
    {
     "ename": "TypeError",
     "evalue": "unhashable type: 'list'",
     "output_type": "error",
     "traceback": [
      "\u001b[1;31m---------------------------------------------------------------------------\u001b[0m",
      "\u001b[1;31mTypeError\u001b[0m                                 Traceback (most recent call last)",
      "Cell \u001b[1;32mIn[14], line 1\u001b[0m\n\u001b[1;32m----> 1\u001b[0m mutable_key_dict \u001b[39m=\u001b[39m {\n\u001b[0;32m      2\u001b[0m     \u001b[39m5\u001b[39m: \u001b[39m'\u001b[39m\u001b[39mlets try\u001b[39m\u001b[39m'\u001b[39m,\n\u001b[0;32m      3\u001b[0m     \u001b[39mTrue\u001b[39;00m: \u001b[39m'\u001b[39m\u001b[39mI hope it will run perfectly\u001b[39m\u001b[39m'\u001b[39m,\n\u001b[0;32m      4\u001b[0m     \u001b[39m6.78\u001b[39m: \u001b[39m'\u001b[39m\u001b[39mheh\u001b[39m\u001b[39m'\u001b[39m,\n\u001b[0;32m      5\u001b[0m     [\u001b[39m'\u001b[39m\u001b[39mNo problemo\u001b[39m\u001b[39m'\u001b[39m, \u001b[39m'\u001b[39m\u001b[39mright?\u001b[39m\u001b[39m'\u001b[39m]: \u001b[39mFalse\u001b[39;00m  \n\u001b[0;32m      6\u001b[0m }\n\u001b[0;32m      8\u001b[0m \u001b[39mprint\u001b[39m(mutable_key_dict)\n",
      "\u001b[1;31mTypeError\u001b[0m: unhashable type: 'list'"
     ]
    }
   ],
   "source": [
    "mutable_key_dict = {\n",
    "    5: 'lets try',\n",
    "    True: 'I hope it will run perfectly',\n",
    "    6.78: 'heh',\n",
    "    ['No problemo', 'right?']: False  \n",
    "}\n",
    "\n",
    "print(mutable_key_dict)"
   ]
  },
  {
   "attachments": {},
   "cell_type": "markdown",
   "metadata": {
    "id": "erVQ8Yy6OFzW",
    "nbgrader": {
     "grade": false,
     "locked": true,
     "solution": false
    }
   },
   "source": [
    "Alright, now it is time to access the data we have managed to store inside <b><code>my_dict</code></b> using keys!\n"
   ]
  },
  {
   "cell_type": "code",
   "execution_count": 15,
   "metadata": {
    "colab": {
     "base_uri": "https://localhost:8080/",
     "height": 313
    },
    "collapsed": true,
    "id": "4_s_--xzORQx",
    "nbgrader": {
     "grade": false,
     "locked": true,
     "solution": false
    },
    "outputId": "d2dcabbb-057f-41e2-d54c-07d8ca3aa344"
   },
   "outputs": [
    {
     "name": "stdout",
     "output_type": "stream",
     "text": [
      "Some random content of my_dict Jarno that is a strange key\n"
     ]
    }
   ],
   "source": [
    "print('Some random content of my_dict', my_dict['name'], my_dict[(2, 22)])"
   ]
  },
  {
   "attachments": {},
   "cell_type": "markdown",
   "metadata": {},
   "source": [
    "Remember the mutable key dict? Let's make it work by omitting the list item."
   ]
  },
  {
   "cell_type": "code",
   "execution_count": 16,
   "metadata": {
    "collapsed": true,
    "nbgrader": {
     "grade": false,
     "locked": true,
     "solution": false
    }
   },
   "outputs": [
    {
     "name": "stdout",
     "output_type": "stream",
     "text": [
      "Accessing weird dictionary...\n",
      "I hope it will run perfectly\n",
      "lets try\n",
      "heh\n"
     ]
    }
   ],
   "source": [
    "mutable_key_dict = {\n",
    "    5: 'lets try',\n",
    "    True: 'I hope it will run perfectly',\n",
    "    6.78: 'heh'\n",
    "}\n",
    "\n",
    "\n",
    "print('Accessing weird dictionary...')\n",
    "print(mutable_key_dict[True])\n",
    "print(mutable_key_dict[5])\n",
    "print(mutable_key_dict[6.78])"
   ]
  },
  {
   "attachments": {},
   "cell_type": "markdown",
   "metadata": {},
   "source": [
    "Trying to access something we have and something we don't have"
   ]
  },
  {
   "cell_type": "code",
   "execution_count": 17,
   "metadata": {
    "collapsed": true,
    "nbgrader": {
     "grade": false,
     "locked": true,
     "solution": false
    }
   },
   "outputs": [
    {
     "name": "stdout",
     "output_type": "stream",
     "text": [
      "My favorite year is 2007\n"
     ]
    },
    {
     "ename": "KeyError",
     "evalue": "'song'",
     "output_type": "error",
     "traceback": [
      "\u001b[1;31m---------------------------------------------------------------------------\u001b[0m",
      "\u001b[1;31mKeyError\u001b[0m                                  Traceback (most recent call last)",
      "Cell \u001b[1;32mIn[17], line 2\u001b[0m\n\u001b[0;32m      1\u001b[0m \u001b[39mprint\u001b[39m(\u001b[39m'\u001b[39m\u001b[39mMy favorite year is\u001b[39m\u001b[39m'\u001b[39m, my_dict[\u001b[39m'\u001b[39m\u001b[39myear\u001b[39m\u001b[39m'\u001b[39m])\n\u001b[1;32m----> 2\u001b[0m \u001b[39mprint\u001b[39m(\u001b[39m'\u001b[39m\u001b[39mMy favorite song is\u001b[39m\u001b[39m'\u001b[39m, my_dict[\u001b[39m'\u001b[39;49m\u001b[39msong\u001b[39;49m\u001b[39m'\u001b[39;49m])\n",
      "\u001b[1;31mKeyError\u001b[0m: 'song'"
     ]
    }
   ],
   "source": [
    "print('My favorite year is', my_dict['year'])\n",
    "print('My favorite song is', my_dict['song'])"
   ]
  },
  {
   "attachments": {},
   "cell_type": "markdown",
   "metadata": {
    "id": "mVmNASbEPw27",
    "nbgrader": {
     "grade": false,
     "locked": true,
     "solution": false
    }
   },
   "source": [
    ":::{warning} \n",
    "It is best practice to use mainly <i><b>strings</b></i> as keys — the other options are weird and are almost never used.\n",
    ":::\n",
    "\n",
    "What's next? Dictionaries are mutable, so let's go ahead and add some additional data and delete old ones."
   ]
  },
  {
   "cell_type": "code",
   "execution_count": 34,
   "metadata": {
    "colab": {
     "base_uri": "https://localhost:8080/"
    },
    "collapsed": true,
    "id": "C2Tm8iaXQ4ej",
    "nbgrader": {
     "grade": false,
     "locked": true,
     "solution": false
    },
    "outputId": "62ea0bcc-a09b-474e-dd7b-e2688746ff31"
   },
   "outputs": [
    {
     "name": "stdout",
     "output_type": "stream",
     "text": [
      "my_dict right now {'name': 'Jarno', 'color': 'red', 'year': 2007, 'is cool': True, 6: 'it works', (2, 22): 'that is a strange key'}\n",
      "my_dict after some operations {'name': 'Jarno', 'color': 'red', 'is cool': True, 6: 'it works', (2, 22): 'that is a strange key', 'new_element': 'magenta', 'weight': 27.8}\n"
     ]
    }
   ],
   "source": [
    "print('my_dict right now', my_dict)\n",
    "\n",
    "my_dict['new_element'] = 'magenta'\n",
    "my_dict['weight'] = 27.8\n",
    "del my_dict['year']\n",
    "\n",
    "print('my_dict after some operations', my_dict)"
   ]
  },
  {
   "attachments": {},
   "cell_type": "markdown",
   "metadata": {
    "id": "J80LstNFSFeN",
    "nbgrader": {
     "grade": false,
     "locked": true,
     "solution": false
    }
   },
   "source": [
    "You can also print all keys present in the dictionary using the <b><code>.keys()</code></b> method, or check whether a certain key exists in a dictionary, as shown below. More operations can be found <a href=\"https://docs.python.org/3/tutorial/datastructures.html\">here</a>."
   ]
  },
  {
   "cell_type": "code",
   "execution_count": 35,
   "metadata": {
    "colab": {
     "base_uri": "https://localhost:8080/"
    },
    "collapsed": true,
    "id": "pEYa3nKRUZD1",
    "nbgrader": {
     "grade": false,
     "locked": true,
     "solution": false
    },
    "outputId": "2b850789-9071-414f-ce44-bb23203243a6"
   },
   "outputs": [
    {
     "name": "stdout",
     "output_type": "stream",
     "text": [
      "dict_keys(['name', 'color', 'is cool', 6, (2, 22), 'new_element', 'weight'])\n",
      "\n",
      "my_dict has a ['name'] key: True\n"
     ]
    }
   ],
   "source": [
    "print(my_dict.keys())\n",
    "print(\"\\nmy_dict has a ['name'] key:\", 'name' in my_dict)"
   ]
  },
  {
   "attachments": {},
   "cell_type": "markdown",
   "metadata": {
    "nbgrader": {
     "grade": false,
     "locked": true,
     "solution": false
    }
   },
   "source": [
    "### Real life example: \n",
    "\n",
    "Analyzing satellite metadata<br><br></b>Metadata is a set of data that describes and gives information about other data. For Sentinel-1, the metadata of the satellite is acquired as an <i>.xml</i> file. It is common for Dictionaries to play an important role in classifying this metadata. One could write a function to read and obtain important information from this metadata and store them in a Dictionary. Some examples of keys for the metadata of Sentinel-1 are:\n",
    "    \n",
    "_dict_keys(['azimuthSteeringRate', 'dataDcPolynomial', 'dcAzimuthtime', 'dcT0', 'rangePixelSpacing', 'azimuthPixelSpacing', 'azimuthFmRatePolynomial', 'azimuthFmRateTime', 'azimuthFmRateT0', 'radarFrequency', 'velocity', 'velocityTime', 'linesPerBurst', 'azimuthTimeInterval', 'rangeSamplingRate', 'slantRangeTime', 'samplesPerBurst', 'no_burst'])_\n"
   ]
  },
  {
   "attachments": {},
   "cell_type": "markdown",
   "metadata": {
    "id": "XvpRgp7eUsLP",
    "nbgrader": {
     "grade": false,
     "locked": true,
     "solution": false
    }
   },
   "source": [
    "The last important thing for this Notebook are slices. Similar to how you can slice a <b>string</b> (shown in Section 1.4, in Notebook 1). This technique allows you to select a subset of data from an iterable (like a list or a tuple)."
   ]
  },
  {
   "cell_type": "code",
   "execution_count": 18,
   "metadata": {
    "colab": {
     "base_uri": "https://localhost:8080/"
    },
    "collapsed": true,
    "id": "S96Y3-HcXN3P",
    "nbgrader": {
     "grade": false,
     "locked": true,
     "solution": false
    },
    "outputId": "b0d9151f-f476-4ffa-de00-74f85a4b962c"
   },
   "outputs": [
    {
     "name": "stdout",
     "output_type": "stream",
     "text": [
      "The first three elements of x: [1, 2, 3]\n",
      "[1, 2, 3]\n",
      "The last element is 7 or 7 or 7\n",
      "[1, 2, 3]\n",
      "[1, 2, 3]\n"
     ]
    }
   ],
   "source": [
    "x = [1, 2, 3, 4, 5, 6, 7]\n",
    "n = len(x) \n",
    "\n",
    "print('The first three elements of x:', x[0:3])\n",
    "print(x[:3])\n",
    "print('The last element is', x[6], 'or', x[n - 1], 'or', x[-1])\n",
    "print(x[0:-4])\n",
    "print(x[0:3:1])"
   ]
  },
  {
   "attachments": {},
   "cell_type": "markdown",
   "metadata": {},
   "source": [
    "`````{admonition} Let's break it down\n",
    "This code demonstrates how to select specific elements from a list in Python using slicing:\n",
    "\n",
    "1. The list `x` contains numbers from 1 to 7.\n",
    "2. `x[0:3]` selects the first three elements of `x`.\n",
    "3. `x[:3]` achieves the same result by omitting the starting index.\n",
    "4. `x[6]`, `x[n - 1]`, and `x[-1]` all access the last element of `x`.\n",
    "5. `x[0:-4]` selects elements from the beginning to the fourth-to-last element.\n",
    "6. `x[0:3:1]` selects elements with a step size of 1.\n",
    "\n",
    "`````"
   ]
  },
  {
   "attachments": {},
   "cell_type": "markdown",
   "metadata": {
    "id": "d4v9TBKyZJEh",
    "nbgrader": {
     "grade": false,
     "locked": true,
     "solution": false
    }
   },
   "source": [
    "Thus, the general slicing call is given by <b><code>iterable[start:end:step]</code></b>. \n",
    "\n",
    "Here's another example:\n",
    "\n",
    "You can select all even numbers using `[::2]` or reverse the list using `[::-1]` or select a middle subset for example `[5:9]`."
   ]
  },
  {
   "cell_type": "code",
   "execution_count": 19,
   "metadata": {
    "colab": {
     "base_uri": "https://localhost:8080/"
    },
    "collapsed": true,
    "id": "GO8qP2d1ZXkq",
    "nbgrader": {
     "grade": false,
     "locked": true,
     "solution": false
    },
    "outputId": "832458e8-6202-4fa8-8898-6d2a2a1ad423"
   },
   "outputs": [
    {
     "name": "stdout",
     "output_type": "stream",
     "text": [
      "Selecting all even numbers [0, 2, 4, 6, 8, 10]\n",
      "All odd numbers [1, 3, 5, 7, 9]\n",
      "Normal order [0, 1, 2, 3, 4, 5, 6, 7, 8, 9, 10]\n",
      "Reversed order [10, 9, 8, 7, 6, 5, 4, 3, 2, 1, 0]\n",
      "Numbers from 5 to 8: [5, 6, 7, 8]\n"
     ]
    }
   ],
   "source": [
    "numbers = [0, 1, 2, 3, 4, 5, 6, 7, 8, 9, 10]\n",
    "\n",
    "print('Selecting all even numbers', numbers[::2])\n",
    "print('All odd numbers', numbers[1::2])\n",
    "print('Normal order', numbers)\n",
    "print('Reversed order', numbers[::-1])\n",
    "print('Numbers from 5 to 8:', numbers[5:9])"
   ]
  },
  {
   "attachments": {},
   "cell_type": "markdown",
   "metadata": {
    "id": "fHmKWsUSKuj4",
    "nbgrader": {
     "grade": false,
     "locked": true,
     "solution": false
    }
   },
   "source": [
    "## 2.4 Loops\n",
    "\n",
    "Let's do another step to automatize things even more! Previous Sections introduced a lot of fundamental concepts, but they still don't unveil the true power of any programming language — loops!<br><br>If we want to perform the same procedure multiple times, then we would have to take the same code and copy-paste it. This approach would work, however it would require a lot of manual work and it does not look cool.<br><br>This problem is resolved with a <i>loop</i> construction. As the name suggest, this construction allows you to loop (or run) certain piece of code several times at one execution."
   ]
  },
  {
   "attachments": {},
   "cell_type": "markdown",
   "metadata": {
    "id": "BcEOnv2kTT9A",
    "nbgrader": {
     "grade": false,
     "locked": true,
     "solution": false
    }
   },
   "source": [
    "### <code>for</code> loop\n",
    "\n",
    "The first and the most popular looping technique is a <b><code>for</code></b> loop. Let's see some examples:\n",
    "\n",
    "Let's create a list with some stuff in it. In order to iterate (or go through each element of a list) we use a `for` loop.\n"
   ]
  },
  {
   "cell_type": "code",
   "execution_count": 38,
   "metadata": {
    "colab": {
     "base_uri": "https://localhost:8080/"
    },
    "collapsed": true,
    "id": "fNaiOimubLMF",
    "nbgrader": {
     "grade": false,
     "locked": true,
     "solution": false
    },
    "outputId": "77085dd8-83cc-41d8-b7c1-17fc55dc38eb"
   },
   "outputs": [
    {
     "name": "stdout",
     "output_type": "stream",
     "text": [
      "Start of the loop\n",
      "In my list I can find: 100\n",
      "In my list I can find: marble\n",
      "In my list I can find: False\n",
      "In my list I can find: 2\n",
      "In my list I can find: 2\n",
      "In my list I can find: [7, 7, 7]\n",
      "In my list I can find: end\n",
      "End of the loop\n"
     ]
    }
   ],
   "source": [
    "my_list = [100, 'marble', False, 2, 2, [7, 7, 7], 'end']\n",
    "\n",
    "print('Start of the loop')\n",
    "for list_item in my_list:\n",
    "    print('In my list I can find:', list_item)\n",
    "print('End of the loop')"
   ]
  },
  {
   "attachments": {},
   "cell_type": "markdown",
   "metadata": {
    "id": "NkKA4qLDb9IM",
    "nbgrader": {
     "grade": false,
     "locked": true,
     "solution": false
    }
   },
   "source": [
    "General <code>for</code> loop construction looks like this:<br><br>\n",
    "<code>for iterator_variable in iterable:\n",
    "       do something with iterator_variable</code><br><br>\n",
    "\n",
    "During each iteration the following steps are happening under the hood (or above it):\n",
    "1. <code>iterator_variable = iterable[0]</code>iterator_variable is assigned the first value from the iterable.\n",
    "2. Then, you use iterator_variable as you wish.\n",
    "3. By the end of the 'cycle', the next element from the iterable is selected (<code>iterable[1]</code>), i.e., we return to step 1, but now assigning the second element... and so on.\n",
    "4. When there is not a next element (in other words, we have reached the end of the iterable) — it exits and the code under the loop is now executed.\n",
    "\n",
    "Looks cool, but what if we want to alter the original iterable (not the <code>iterator_variable</code>) within the loop?\n",
    "\n",
    "\n"
   ]
  },
  {
   "cell_type": "code",
   "execution_count": 39,
   "metadata": {
    "colab": {
     "base_uri": "https://localhost:8080/"
    },
    "collapsed": true,
    "id": "1hZm9bOuhOiE",
    "nbgrader": {
     "grade": false,
     "locked": true,
     "solution": false
    },
    "outputId": "0b50490d-1d74-41cb-ba84-d4a595a7eede"
   },
   "outputs": [
    {
     "name": "stdout",
     "output_type": "stream",
     "text": [
      "Try #1, before: [100, 'marble', False, 2, 2, [7, 7, 7], 'end']\n",
      "Try #1, after [100, 'marble', False, 2, 2, [7, 7, 7], 'end']\n"
     ]
    }
   ],
   "source": [
    "x = my_list\n",
    "print('Try #1, before:', x)\n",
    "\n",
    "for item in x:\n",
    "    item = [5,6,7]\n",
    "\n",
    "print('Try #1, after', x)\n"
   ]
  },
  {
   "attachments": {},
   "cell_type": "markdown",
   "metadata": {
    "nbgrader": {
     "grade": false,
     "locked": true,
     "solution": false
    }
   },
   "source": [
    "Nothing has changed.... let's try another method. `range()` is used to generate a sequence of numbers more info [here](https://www.w3schools.com/python/ref_func_range.asp).\n",
    "\n",
    "`range(length_of_x)` will generate numbers from 0 till `length_of_x`, excluding the last one.\n"
   ]
  },
  {
   "cell_type": "code",
   "execution_count": 40,
   "metadata": {
    "collapsed": true,
    "nbgrader": {
     "grade": false,
     "locked": true,
     "solution": false
    }
   },
   "outputs": [
    {
     "name": "stdout",
     "output_type": "stream",
     "text": [
      "range(0, 7)\n",
      "Try #2, before [100, 'marble', False, 2, 2, [7, 7, 7], 'end']\n",
      "Try #2, after [-1, -1, -1, -1, -1, -1, -1]\n"
     ]
    }
   ],
   "source": [
    "length_of_x = len(x)\n",
    "\n",
    "indices = range(length_of_x)\n",
    "\n",
    "print(indices)\n",
    "print('Try #2, before', my_list)\n",
    "\n",
    "for id in indices:\n",
    "    my_list[id] = -1\n",
    "\n",
    "print('Try #2, after', my_list)\n",
    " \n"
   ]
  },
  {
   "attachments": {},
   "cell_type": "markdown",
   "metadata": {
    "nbgrader": {
     "grade": false,
     "locked": true,
     "solution": false
    }
   },
   "source": [
    "Now we have a method in our arsenal which can not only loop through a list but also access and alter its contents. Also, you can generate new data by using a <b><code>for</code></b> loop and by applying some processing to it. Here's an example on how you can automatize your greetings routine!\n",
    "\n",
    "We create a variable `message` with a general greeting and a list with your friends names. Then an empty list where all greetings will be stored (otherwise you cannot use the `.append` in the for loop below!). \n"
   ]
  },
  {
   "cell_type": "code",
   "execution_count": 25,
   "metadata": {
    "collapsed": true,
    "nbgrader": {
     "grade": false,
     "locked": true,
     "solution": false
    }
   },
   "outputs": [
    {
     "name": "stdout",
     "output_type": "stream",
     "text": [
      "['Ohayo, Mike-kun!', 'Ohayo, Alex-kun!', 'Ohayo, Maria-kun!']\n"
     ]
    }
   ],
   "source": [
    "\n",
    "message = \"Ohayo\"\n",
    "names = [\"Mike\", \"Alex\", \"Maria\"]\n",
    "greetings = []\n",
    "\n",
    "for name in names:\n",
    "    personalized_greeting = f'{message}, {name}-kun!' \n",
    "    greetings.append(personalized_greeting) \n",
    "\n",
    "print(greetings)"
   ]
  },
  {
   "attachments": {},
   "cell_type": "markdown",
   "metadata": {
    "nbgrader": {
     "grade": false,
     "locked": true,
     "solution": false
    }
   },
   "source": [
    "And you can also have loops inside loops!. Let's say that you put down all your expenses per day separately in euros. You can also keep them within one list together.Additionally, you can access also each expense separately! day3 is third array and 2nd expense is second element within that array."
   ]
  },
  {
   "cell_type": "code",
   "execution_count": 23,
   "metadata": {
    "collapsed": true,
    "nbgrader": {
     "grade": false,
     "locked": true,
     "solution": false
    }
   },
   "outputs": [
    {
     "name": "stdout",
     "output_type": "stream",
     "text": [
      "All my expenses [[15, 100, 9], [200], [10, 12, 15, 5, 1]]\n",
      "My second expense on day 3 is 12\n"
     ]
    }
   ],
   "source": [
    "day1_expenses = [15, 100, 9]\n",
    "day2_expenses = [200]\n",
    "day3_expenses = [10, 12, 15, 5, 1]\n",
    "\n",
    "expenses = [day1_expenses, day2_expenses, day3_expenses]\n",
    "print('All my expenses', expenses)\n",
    "\n",
    "print(f'My second expense on day 3 is {expenses[2][1]}')"
   ]
  },
  {
   "attachments": {},
   "cell_type": "markdown",
   "metadata": {},
   "source": [
    "Now let's use it in some calculations. The code bellow iterates over the expenses for each day, calculates the total expenses for each day, and then adds them together to obtain the overall total expenses. "
   ]
  },
  {
   "cell_type": "code",
   "execution_count": 43,
   "metadata": {
    "collapsed": true,
    "nbgrader": {
     "grade": false,
     "locked": true,
     "solution": false
    }
   },
   "outputs": [
    {
     "name": "stdout",
     "output_type": "stream",
     "text": [
      "Option #1: In total I have spent 367 euro!\n"
     ]
    }
   ],
   "source": [
    "total_expenses = 0\n",
    "\n",
    "for i in range(len(expenses)): \n",
    "    daily_expenses_list = expenses[i]\n",
    "    daily_expenses = 0\n",
    "    for j in range(len(daily_expenses_list)): \n",
    "        daily_expenses += daily_expenses_list[j]\n",
    "    total_expenses += daily_expenses\n",
    "    \n",
    "print(f'Option #1: In total I have spent {total_expenses} euro!')"
   ]
  },
  {
   "attachments": {},
   "cell_type": "markdown",
   "metadata": {},
   "source": [
    "`````{admonition} Let's break it down\n",
    "This code calculates the total expenses over multiple days using nested loops. Here's an explanation in simpler terms:\n",
    "\n",
    "1. We start with the variable `total_expenses` set to 0 to keep track of the total expenses.\n",
    "2. The code loops over each day's expenses using the outer loop, which runs from 0 to the length of the `expenses` list.\n",
    "3. Inside the loop, it accesses the expenses made on the current day by assigning `daily_expenses_list` to the expenses at index `i`.\n",
    "4. It initializes `daily_expenses` as 0 to temporarily store the sum of expenses for the current day.\n",
    "5. The code enters the inner loop, which iterates over the expenses for the current day using the range of the length of `daily_expenses_list`.\n",
    "6. Inside the inner loop, it adds each expense to `daily_expenses` to calculate the total expenses for the current day.\n",
    "7. After the inner loop completes, it adds `daily_expenses` to the `total_expenses` variable to accumulate the expenses across all days.\n",
    "8. Once the outer loop finishes, it prints the total expenses using an f-string format to display the result.\n",
    "`````\n"
   ]
  },
  {
   "attachments": {},
   "cell_type": "markdown",
   "metadata": {},
   "source": [
    "Option #2"
   ]
  },
  {
   "cell_type": "code",
   "execution_count": 44,
   "metadata": {
    "collapsed": true,
    "nbgrader": {
     "grade": false,
     "locked": true,
     "solution": false
    }
   },
   "outputs": [
    {
     "name": "stdout",
     "output_type": "stream",
     "text": [
      "Option #2: In total I have spent 367 euro!\n"
     ]
    }
   ],
   "source": [
    "total_expenses = 0\n",
    "\n",
    "for i in range(len(expenses)):\n",
    "    for j in range(len(expenses[i])):\n",
    "        total_expenses += expenses[i][j]\n",
    "    \n",
    "print(f'Option #2: In total I have spent {total_expenses} euro!')"
   ]
  },
  {
   "attachments": {},
   "cell_type": "markdown",
   "metadata": {},
   "source": [
    "Option #3 - advanced techniques gathered after eternal suffering."
   ]
  },
  {
   "cell_type": "code",
   "execution_count": 45,
   "metadata": {
    "collapsed": true,
    "nbgrader": {
     "grade": false,
     "locked": true,
     "solution": false
    }
   },
   "outputs": [
    {
     "name": "stdout",
     "output_type": "stream",
     "text": [
      "Option #3: In total I have spent 367 euro!\n"
     ]
    }
   ],
   "source": [
    "total_expenses = 0\n",
    "total_expenses = sum(map(sum, expenses))\n",
    "print(f'Option #3: In total I have spent {total_expenses} euro!')"
   ]
  },
  {
   "attachments": {},
   "cell_type": "markdown",
   "metadata": {
    "id": "TNGZ78d8LOYC",
    "nbgrader": {
     "grade": false,
     "locked": true,
     "solution": false
    }
   },
   "source": [
    "### <code>while</code> loop\n",
    "\n",
    "The second popular loop construction is a <b><code>while</code></b> loop. The main difference is that it is suited for code structures that must repeat unless a certain logical condition is satisfied. It looks like this:<br><br><center><code>while logical_condition == True:<br>do something</code></center><br>And here is a working code example:\n"
   ]
  },
  {
   "cell_type": "code",
   "execution_count": 46,
   "metadata": {
    "colab": {
     "base_uri": "https://localhost:8080/"
    },
    "collapsed": true,
    "id": "rqsX011pL6p6",
    "nbgrader": {
     "grade": false,
     "locked": true,
     "solution": false
    },
    "outputId": "39bce5bb-bf01-469c-8758-6127efc4e943"
   },
   "outputs": [
    {
     "name": "stdout",
     "output_type": "stream",
     "text": [
      "sum in the beginning of the cycle: 0\n",
      "sum in the end of the cycle: 1\n",
      "sum in the beginning of the cycle: 1\n",
      "sum in the end of the cycle: 2\n",
      "sum in the beginning of the cycle: 2\n",
      "sum in the end of the cycle: 3\n",
      "sum in the beginning of the cycle: 3\n",
      "sum in the end of the cycle: 4\n",
      "sum in the beginning of the cycle: 4\n",
      "sum in the end of the cycle: 5\n"
     ]
    }
   ],
   "source": [
    "sum = 0\n",
    "\n",
    "while sum < 5:\n",
    "    print('sum in the beginning of the cycle:', sum)\n",
    "    sum += 1\n",
    "    print('sum in the end of the cycle:', sum)"
   ]
  },
  {
   "attachments": {},
   "cell_type": "markdown",
   "metadata": {
    "id": "mW02NDD4MJWn",
    "nbgrader": {
     "grade": false,
     "locked": true,
     "solution": false
    }
   },
   "source": [
    "As you can see, this loop was used to increase the value of the sum variable until it reached $5$. The moment it reached $5$ and the loop condition was checked — it returned <b><code>False</code></b> and, therefore, the loop stopped.<br><br>Additionally, it is worth to mention that the code inside the loop was altering the variable used in the loop condition statement, which allowed it to first run, and then stop. In the case where the code doesn't alter the loop condition, it won't stop (infinite loop), unless another special word is used.<br><br>Here's a simple example of an infinite loop, which you may run (by removing the #'s) but in order to stop it — you have to interrupt the Notebook's kernel or restart it."
   ]
  },
  {
   "cell_type": "code",
   "execution_count": null,
   "metadata": {
    "colab": {
     "base_uri": "https://localhost:8080/",
     "height": 1000
    },
    "collapsed": true,
    "id": "AmIcH59oNaxU",
    "outputId": "e944bfe2-f906-45c9-ef2a-03280956679a"
   },
   "outputs": [],
   "source": [
    "# a, b = 0, 7\n",
    "\n",
    "# while a + b < 10:\n",
    "#     a += 1\n",
    "#     b -= 1\n",
    "#     print(f'a:{a};b:{b}')"
   ]
  },
  {
   "attachments": {},
   "cell_type": "markdown",
   "metadata": {
    "id": "ryvB-qKfNxPh",
    "nbgrader": {
     "grade": false,
     "locked": true,
     "solution": false
    }
   },
   "source": [
    "### <code>break</code> keyword\n",
    "\n",
    "After meeting and understanding the loop constructions, we can add a bit more control to it. For example, it would be nice to exit a loop earlier than it ends — in order to avoid infinite loops or just in case there is no need to run the loop further. This can be achieved by using the <b><code>break</code></b> keyword. The moment this keyword is executed, the code exits from the current loop."
   ]
  },
  {
   "cell_type": "code",
   "execution_count": 47,
   "metadata": {
    "colab": {
     "base_uri": "https://localhost:8080/"
    },
    "collapsed": true,
    "id": "hvib4ruNTN6_",
    "nbgrader": {
     "grade": false,
     "locked": true,
     "solution": false
    },
    "outputId": "b0f08946-864e-430a-a8cc-765303a9ac6e"
   },
   "outputs": [
    {
     "name": "stdout",
     "output_type": "stream",
     "text": [
      "Before normal loop\n",
      "0 iteration and still running...\n",
      "1 iteration and still running...\n",
      "2 iteration and still running...\n",
      "3 iteration and still running...\n",
      "4 iteration and still running...\n",
      "5 iteration and still running...\n",
      "6 iteration and still running...\n",
      "After normal loop\n",
      "Before interrupted loop\n",
      "0 iteration and still running...\n",
      "1 iteration and still running...\n",
      "2 iteration and still running...\n",
      "3 iteration and still running...\n",
      "4 iteration and still running...\n",
      "Leaving the loop\n",
      "After interupted loop\n"
     ]
    }
   ],
   "source": [
    "stop_iteration = 4\n",
    "\n",
    "print('Before normal loop')\n",
    "for i in range(7):\n",
    "    print(f'{i} iteration and still running...')\n",
    "print('After normal loop')\n",
    "\n",
    "print('Before interrupted loop')\n",
    "for i in range(7):\n",
    "    print(f'{i} iteration and still running...')\n",
    "\n",
    "    if i == stop_iteration:\n",
    "        print('Leaving the loop')\n",
    "        break\n",
    "print('After interupted loop')"
   ]
  },
  {
   "attachments": {},
   "cell_type": "markdown",
   "metadata": {
    "id": "guxGK4uGUXBA",
    "nbgrader": {
     "grade": false,
     "locked": true,
     "solution": false
    }
   },
   "source": [
    "The second loop shows how a small intrusion of an <b><code>if</code></b> statement and the <b><code>break</code></b> keyword can help us with stopping the loop earlier. The same word can be also used in a <b><code>while</code></b> loop:"
   ]
  },
  {
   "cell_type": "code",
   "execution_count": 48,
   "metadata": {
    "colab": {
     "base_uri": "https://localhost:8080/"
    },
    "collapsed": true,
    "id": "tVkdaOP8Ul-W",
    "nbgrader": {
     "grade": false,
     "locked": true,
     "solution": false
    },
    "outputId": "5f391d65-82a2-4408-d74d-af89b84a040b"
   },
   "outputs": [
    {
     "name": "stdout",
     "output_type": "stream",
     "text": [
      "Before the loop\n",
      "Inside the loop #1\n",
      "Inside the loop #2\n",
      "Inside the loop #3\n",
      "Inside the loop #4\n",
      "Inside the loop #5\n",
      "Inside the loop #6\n",
      "Too many iterations is bad for your health\n",
      "After the loop\n"
     ]
    }
   ],
   "source": [
    "iteration_number = 0\n",
    "\n",
    "print('Before the loop')\n",
    "while True:\n",
    "    iteration_number += 1\n",
    "\n",
    "    print(f'Inside the loop #{iteration_number}')\n",
    "    if iteration_number > 5:\n",
    "        print('Too many iterations is bad for your health')\n",
    "        break\n",
    "print('After the loop')"
   ]
  },
  {
   "attachments": {},
   "cell_type": "markdown",
   "metadata": {
    "id": "AtRCfdMlWzhn",
    "nbgrader": {
     "grade": false,
     "locked": true,
     "solution": false
    }
   },
   "source": [
    "### <code>continue</code> keyword\n",
    "\n",
    "Another possibility to be more flexible when using loops is to use the <b><code>continue</code></b> keyword.<br><br>This will allow you to skip some iterations (more precisely — the moment the keyword is used it will skip the code underneath it and will start the next iteration from the beginning)."
   ]
  },
  {
   "cell_type": "code",
   "execution_count": 49,
   "metadata": {
    "colab": {
     "base_uri": "https://localhost:8080/"
    },
    "collapsed": true,
    "id": "_1q4EB0bXMyk",
    "nbgrader": {
     "grade": false,
     "locked": true,
     "solution": false
    },
    "outputId": "57b11d07-251a-4319-d0ba-1d3ee1685b61"
   },
   "outputs": [
    {
     "name": "stdout",
     "output_type": "stream",
     "text": [
      "Begin normal loop\n",
      "\n",
      "0 iteration and still running...\n",
      "Calculating cool function for 0 ->  f(0) = 3\n",
      "1 iteration and still running...\n",
      "Calculating cool function for 1 ->  f(1) = 15\n",
      "2 iteration and still running...\n",
      "Calculating cool function for 2 ->  f(2) = 41\n",
      "3 iteration and still running...\n",
      "Calculating cool function for 3 ->  f(3) = 81\n",
      "4 iteration and still running...\n",
      "Calculating cool function for 4 ->  f(4) = 135\n",
      "5 iteration and still running...\n",
      "Calculating cool function for 5 ->  f(5) = 203\n",
      "6 iteration and still running...\n",
      "Calculating cool function for 6 ->  f(6) = 285\n",
      "\n",
      "End normal loop\n",
      "\n",
      "-------------------\n",
      "Begin altered loop\n",
      "\n",
      "0 iteration and still running...\n",
      "1 iteration and still running...\n",
      "Calculating cool function for 1 ->  f(1) = 15\n",
      "2 iteration and still running...\n",
      "3 iteration and still running...\n",
      "Calculating cool function for 3 ->  f(3) = 81\n",
      "4 iteration and still running...\n",
      "5 iteration and still running...\n",
      "Calculating cool function for 5 ->  f(5) = 203\n",
      "6 iteration and still running...\n",
      "\n",
      "End altered loop\n"
     ]
    }
   ],
   "source": [
    "def calculate_cool_function(arg):\n",
    "    res = 7 * arg ** 2 + 5 * arg + 3\n",
    "    print(f'Calculating cool function for {arg} ->  f({arg}) = {res}')\n",
    "\n",
    "print('Begin normal loop\\n')\n",
    "for i in range(7):\n",
    "    print(f'{i} iteration and still running...')\n",
    "    calculate_cool_function(i)\n",
    "print('\\nEnd normal loop\\n')\n",
    "\n",
    "print('-------------------')\n",
    "\n",
    "print('Begin altered loop\\n')\n",
    "for i in range(7):\n",
    "    print(f'{i} iteration and still running...')\n",
    "\n",
    "    # skipping every even iteration\n",
    "    if i % 2 == 0:\n",
    "        continue\n",
    "        \n",
    "    calculate_cool_function(i)\n",
    "    \n",
    "print('\\nEnd altered loop')"
   ]
  },
  {
   "attachments": {},
   "cell_type": "markdown",
   "metadata": {
    "id": "_30hKsC4a1vy",
    "nbgrader": {
     "grade": false,
     "locked": true,
     "solution": false
    }
   },
   "source": [
    "As you can see, with the help of the <b><code>continue</code></b> keyword we managed to skip some of the iterations. Also worth noting that $0$ is divisible by any number, for that reason the <b><code>calculate_cool_function(i)</code></b> at <b><code>i = 0</code></b> didn't run."
   ]
  },
  {
   "attachments": {},
   "cell_type": "markdown",
   "metadata": {
    "id": "lDKimbtECAAz",
    "nbgrader": {
     "grade": false,
     "locked": true,
     "solution": false
    }
   },
   "source": [
    "## Additional study material\n",
    "\n",
    "* Official Python Documentation - https://docs.python.org/3/tutorial/modules.html\n",
    "* https://realpython.com/python-modules-packages/\n",
    "* Think Python (2nd ed.) - Sections 3 and 14 \n",
    "\n",
    "* Official Python Documentation - https://docs.python.org/3/tutorial/controlflow.html\n",
    "* https://realpython.com/python-conditional-statements/\n",
    "* Think Python (2nd ed.) - Section 5\n",
    "\n",
    "* Official Python Documentation - https://docs.python.org/3/tutorial/datastructures.html\n",
    "* https://realpython.com/python-data-structures/\n",
    "* Think Python (2nd ed.) - Sections 8, 10, 11, 12\n",
    "\n",
    "* Official Python Documentation - https://docs.python.org/3/tutorial/controlflow.html\n",
    "* https://realpython.com/python-for-loop/\n",
    "* Think Python (2nd ed.) - Section 7"
   ]
  },
  {
   "attachments": {},
   "cell_type": "markdown",
   "metadata": {
    "nbgrader": {
     "grade": false,
     "locked": true,
     "solution": false
    }
   },
   "source": [
    "### After this Notebook you should be able to:\n",
    "\n",
    "- understand the difference between built-in and third-party modules\n",
    "- use functions from the **`math`** module\n",
    "- find available functions from any module\n",
    "- generate an array for the x-axis\n",
    "- calculate the **`cos`** or **`sin`** of the x-axis\n",
    "- plot such functions\n",
    "- understand how to load Python files as modules\n",
    "- understand conditions with **`if`**, **`elif`** and, **`else`**\n",
    "- understand the differences between **`list`**, **`tuple`**, and **`dict`**\n",
    "- slice lists and tuples\n",
    "- use **`for`** and **`while`** loops\n",
    "- use the **`break`** and **`continue`** keywords inside of loops\n"
   ]
  }
 ],
 "metadata": {
  "colab": {
   "collapsed_sections": [],
   "name": "Python_2_1.ipynb",
   "provenance": []
  },
  "kernelspec": {
   "display_name": "base",
   "language": "python",
   "name": "python3"
  },
  "language_info": {
   "codemirror_mode": {
    "name": "ipython",
    "version": 3
   },
   "file_extension": ".py",
   "mimetype": "text/x-python",
   "name": "python",
   "nbconvert_exporter": "python",
   "pygments_lexer": "ipython3",
   "version": "3.8.13"
  }
 },
 "nbformat": 4,
 "nbformat_minor": 1
}
