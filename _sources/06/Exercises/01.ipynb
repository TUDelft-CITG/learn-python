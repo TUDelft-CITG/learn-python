{
 "cells": [
  {
   "attachments": {},
   "cell_type": "markdown",
   "metadata": {
    "nbgrader": {
     "grade": false,
     "locked": true,
     "solution": false
    }
   },
   "source": [
    "# Exercises\n",
    "\n",
    "You can easily start a live Jupyter session in the cloud directly from this book. To do this, just click on the Launch Button ({fa}`rocket`) located above on this page.\n",
    "\n",
    "You have a few options to choose from:\n",
    "\n",
    "1. Launch on Binder: By selecting this option, you can instantly launch a live Jupyter session using Binder.\n",
    "2. Launch on Google Colab: This option allows you to launch a live Jupyter session using Google Colab.\n",
    "\n",
    "Alternatively, you can also click on the *Jupyter Lite session* link, which will open a new tab where you can freely write and run your code.\n",
    "\n"
   ]
  },
  {
   "cell_type": "code",
   "execution_count": null,
   "metadata": {
    "tags": [
     "remove-input"
    ]
   },
   "outputs": [],
   "source": [
    "# ##-On Google colab uncomment and run the following code\n",
    "# ## to install and import the function that will be used to check your answers.\n",
    "# !pip install learn-python-check\n",
    "\n",
    "# ##-On Binder just uncomment and run the following line\n",
    "# import learn_python_check.check_answers as check"
   ]
  },
  {
   "attachments": {},
   "cell_type": "markdown",
   "metadata": {},
   "source": [
    "`````{admonition} Jupyter Lite session\n",
    ":class: tip\n",
    "You can start a Jupiter lite session <a href=\"https://tudelft-citg.github.io/learn-python-calculator/repl/index.html?toolbar=1&kernel=python&code=import pandas as pd; import data.check_answers as check; print('You may begin!')\" target=\"_blank\">here</a>\n",
    "\n",
    "Wait until the message \"<tt>You may begin!</tt>\" is printed. \n",
    "`````"
   ]
  },
  {
   "attachments": {},
   "cell_type": "markdown",
   "metadata": {},
   "source": [
    "## Exercise 6.2.1\n",
    "\n",
    "Finish a function, which with a <code>for</code> loop will get all types saved in series <code>my_series</code>\n",
    "\n",
    "_Type your code where the three (*`...`*) dots are placed. Do not change the name of the variables._"
   ]
  },
  {
   "cell_type": "code",
   "execution_count": null,
   "metadata": {
    "collapsed": true
   },
   "outputs": [],
   "source": [
    "import pandas as pd\n",
    "\n",
    "my_list = ['begin', 2, 3/4, \"end\"]\n",
    "my_series = pd.Series(data=my_list)\n",
    "\n",
    "def list_types(series):\n",
    "    series_types = \"Types inside series:\\n\"\n",
    "    for ...\n",
    "        item_type = ...\n",
    "        series_types += str(item_type) + '\\n'\n",
    "    \n",
    "    return series_types\n",
    "        \n",
    "print(list_types(my_series))"
   ]
  },
  {
   "attachments": {},
   "cell_type": "markdown",
   "metadata": {},
   "source": [
    "````{admonition} check your answer!\n",
    "To check your answer in a _Jupyter Lite session_, simply run the following line of code immediately after your code implementation. \n",
    "\n",
    "If your are in _Google Colab_ just run the cell bellow.\n",
    "````"
   ]
  },
  {
   "cell_type": "code",
   "execution_count": null,
   "metadata": {},
   "outputs": [],
   "source": [
    "check.notebook_6(question_number=0, arguments=[list_types])"
   ]
  },
  {
   "attachments": {},
   "cell_type": "markdown",
   "metadata": {
    "nbgrader": {
     "grade": false,
     "locked": true,
     "solution": false
    }
   },
   "source": [
    "## (Searching) Exercise 6.3.1\n",
    "\n",
    "Complete the code below to print the total number of <i>'NaN'</i> values in <code>mineral_properties</code>\n",
    "\n",
    "_Change only the (*`...`*) below, do not add any other lines to this cell_\n",
    " "
   ]
  },
  {
   "cell_type": "code",
   "execution_count": null,
   "metadata": {
    "collapsed": true
   },
   "outputs": [],
   "source": [
    "import numpy as np\n",
    "import pandas as pd\n",
    "\n",
    "file_location = (\"https://raw.githubusercontent.com/TUDelft-CITG/\"\n",
    "                \"learn-python/mike/book/06/Theory/\")\n",
    "mineral_properties = pd.read_csv(file_location + 'mineral_properties.txt', \n",
    "                  skiprows=1,skipinitialspace=True)\n",
    "mineral_properties['new_column'] = np.nan\n",
    "\n",
    "def count_nans(df):\n",
    "    nan_total = ...\n",
    "    return nan_total\n",
    "\n",
    "print(mineral_properties.head(3))\n",
    "print(f'\\ntotal amount of nans = {count_nans(mineral_properties)}')"
   ]
  },
  {
   "attachments": {},
   "cell_type": "markdown",
   "metadata": {},
   "source": [
    "````{admonition} check your answer!\n",
    "To check your answer in a _Jupyter Lite session_, simply run the following line of code immediately after your code implementation. \n",
    "\n",
    "If your are in _Google Colab_ just run the cell bellow.\n",
    "````"
   ]
  },
  {
   "cell_type": "code",
   "execution_count": null,
   "metadata": {},
   "outputs": [],
   "source": [
    "check.notebook_6(question_number=1, arguments=[count_nans, mineral_properties])"
   ]
  },
  {
   "attachments": {},
   "cell_type": "markdown",
   "metadata": {
    "nbgrader": {
     "grade": false,
     "locked": true,
     "solution": false
    }
   },
   "source": [
    "## (Searching/Fixing) Exercise 6.3.3\n",
    "\n",
    "A geologist wrote a line of code to know how many of the listed minerals have a hardness greater than or equal to $3$. However, something is not correct in his code... could you maybe fix it? There is a syntax error as well as a semantic error."
   ]
  },
  {
   "cell_type": "code",
   "execution_count": null,
   "metadata": {
    "collapsed": true
   },
   "outputs": [],
   "source": [
    "def count_minerals(df, minimal_hardness):\n",
    "    amount_of_minerals = len(df(df.hardness.gt(minimal_hardness)))\n",
    "    return amount_of_minerals\n",
    "             \n",
    "print(mineral_properties.head(3))\n",
    "print(f'Amount of minerals with hardness >= 3: {count_minerals(mineral_properties, 3)}')"
   ]
  },
  {
   "attachments": {},
   "cell_type": "markdown",
   "metadata": {},
   "source": [
    "````{admonition} check your answer!\n",
    "To check your answer in a _Jupyter Lite session_, simply run the following line of code immediately after your code implementation. \n",
    "\n",
    "If your are in _Google Colab_ just run the cell bellow.\n",
    "````"
   ]
  },
  {
   "cell_type": "code",
   "execution_count": null,
   "metadata": {},
   "outputs": [],
   "source": [
    "check.notebook_6(question_number=2, arguments=[count_minerals, mineral_properties])"
   ]
  },
  {
   "attachments": {},
   "cell_type": "markdown",
   "metadata": {
    "nbgrader": {
     "grade": false,
     "locked": true,
     "solution": false
    }
   },
   "source": [
    "The above exercise might look like a silly one, but take some time to analyze it carefully... what is happening there? Break down each part of that line of code to understand it properly."
   ]
  },
  {
   "attachments": {},
   "cell_type": "markdown",
   "metadata": {
    "nbgrader": {
     "grade": false,
     "locked": true,
     "solution": false
    }
   },
   "source": [
    "## (Searching) Exercise 6.5.1\n",
    "\n",
    "A geologist is interested in the tallest mountain chains around Earth. For that, he created the <code>tallest_mountains.csv</code> table, containing information on all mountains above $8000$ meters. Your task is to do the following $5$ assignments.\n",
    "1. Read the <code>tallest_mountains.csv</code> file.\n",
    "2. What are the names of the columns?\n",
    "3. What is the height of the tallest mountain?\n",
    "4. What is the row number (or index) of this mountain?\n",
    "5. What is the name of the tallest mountain in the dataset?\n",
    "\n",
    "Use <code>pandas</code> functions to answer the questions.\n",
    "\n",
    "Source for this and next exercises: <a href=\"https://en.wikipedia.org/wiki/List_of_mountains_by_elevation\">Wikipedia"
   ]
  },
  {
   "attachments": {},
   "cell_type": "markdown",
   "metadata": {},
   "source": [
    "_Write your code here, do not change any variable name_\n"
   ]
  },
  {
   "cell_type": "code",
   "execution_count": null,
   "metadata": {
    "collapsed": true
   },
   "outputs": [],
   "source": [
    "file_location = (\"https://raw.githubusercontent.com/TUDelft-CITG/\"\n",
    "                \"learn-python/mike/book/06/Exercises/\")\n",
    "\n",
    "mountains_8000 = ... #1 \n",
    "cols = ... #2 \n",
    "max_height = ... #3\n",
    "index_max = ... #4 \n",
    "tallest_mountain = ... #5 \n",
    "\n",
    "print(mountains_8000.head())"
   ]
  },
  {
   "attachments": {},
   "cell_type": "markdown",
   "metadata": {},
   "source": [
    "````{admonition} check your answer!\n",
    "To check your answer in a _Jupyter Lite session_, simply run the following line of code immediately after your code implementation. \n",
    "\n",
    "If your are in _Google Colab_ just run the cell bellow.\n",
    "````"
   ]
  },
  {
   "cell_type": "code",
   "execution_count": null,
   "metadata": {},
   "outputs": [],
   "source": [
    "check.notebook_6(question_number=3, arguments=,[mountains_8000, cols, max_height, index_max, tallest_mountain])"
   ]
  },
  {
   "attachments": {},
   "cell_type": "markdown",
   "metadata": {
    "nbgrader": {
     "grade": false,
     "locked": true,
     "solution": false
    }
   },
   "source": [
    "## (Searching) Exercise 6.5.2\n",
    "\n",
    "Now, our geologist friend got another table with all mountains above $7000$ meters, it's in the <code>mountains_above_7000m.csv</code> file. Your task is to do the following $6$ assignments.\n",
    "1. Read the <code>mountains_above_7000m.csv</code> file.\n",
    "2. Append <code>mountains_8000</code> to this.\n",
    "3. Remove the column describing the mountain range they belong.\n",
    "4. Fix the row-indexing issue.\n",
    "5. Create a <code>Series</code> indicating which entries of 'Feet' are missing.\n",
    "\n",
    "    _Hint: Use the `.isnull()` function._\n",
    "\n",
    "6. Add the values that are missing in the 'Feet' column, use $1$ mtr = $3.28084$ feet.\n",
    "\n",
    "    _Hint2: Use the `.mask()` function, more info <a href=\"https://pandas.pydata.org/docs/reference/api/pandas.DataFrame.mask.html\">here</a>, or the <code>.fillna()</code> function._"
   ]
  },
  {
   "attachments": {},
   "cell_type": "markdown",
   "metadata": {},
   "source": [
    "_Write your code for tasks 1,2 and 3 in teh cell below, do not change any variable name_"
   ]
  },
  {
   "cell_type": "code",
   "execution_count": null,
   "metadata": {
    "collapsed": true
   },
   "outputs": [],
   "source": [
    "file_location = (\"https://raw.githubusercontent.com/TUDelft-CITG/\"\n",
    "                \"learn-python/mike/book/06/Exercises/\")\n",
    "\n",
    "mountains_7000 = ... # 1\n",
    "df_concat = ... # 2\n",
    "df_concat_norange = ... # 3\n",
    "\n",
    "print(df_concat_norange)"
   ]
  },
  {
   "attachments": {},
   "cell_type": "markdown",
   "metadata": {},
   "source": [
    "_Write your code for the remaining tasks in teh cell below, do not change any variable name_"
   ]
  },
  {
   "cell_type": "code",
   "execution_count": 61,
   "metadata": {
    "collapsed": true
   },
   "outputs": [],
   "source": [
    "df_reset = ... # 4\n",
    "missing_feet_series = ... # 5\n",
    "df_reset[\"Feet\"] = ... # 6\n",
    "print(df_reset) "
   ]
  },
  {
   "attachments": {},
   "cell_type": "markdown",
   "metadata": {},
   "source": [
    "````{admonition} check your answer!\n",
    "To check your answer in a _Jupyter Lite session_, simply run the following line of code immediately after your code implementation. \n",
    "\n",
    "If your are in _Google Colab_ just run the cell bellow.\n",
    "````"
   ]
  },
  {
   "cell_type": "code",
   "execution_count": null,
   "metadata": {},
   "outputs": [],
   "source": [
    "check.notebook_6(question_number=4, arguments=,[df_reset])"
   ]
  },
  {
   "attachments": {},
   "cell_type": "markdown",
   "metadata": {
    "nbgrader": {
     "grade": false,
     "locked": true,
     "solution": false
    }
   },
   "source": [
    "## (Searching) Exercise 6.5.3\n",
    "\n",
    "Now that our geologist friend has all this information, he wants to know how many of these mountains are claimed by China. Can you help him out? \n",
    "\n",
    "_Hint: you need to find out which elements in the appropriate column contains the string 'China'._\n",
    "\n",
    "_Type your code where the three (*`...`*) dots are placed. Do not change the name of the variables_."
   ]
  },
  {
   "cell_type": "code",
   "execution_count": null,
   "metadata": {
    "collapsed": true
   },
   "outputs": [],
   "source": [
    "china_mountains = ...\n",
    "\n",
    "print(china_mountains)"
   ]
  },
  {
   "attachments": {},
   "cell_type": "markdown",
   "metadata": {},
   "source": [
    "````{admonition} check your answer!\n",
    "To check your answer in a _Jupyter Lite session_, simply run the following line of code immediately after your code implementation. \n",
    "\n",
    "If your are in _Google Colab_ just run the cell bellow.\n",
    "````"
   ]
  },
  {
   "cell_type": "code",
   "execution_count": null,
   "metadata": {},
   "outputs": [],
   "source": [
    "check.notebook_6(question_number=5, arguments=,[china_mountains])"
   ]
  }
 ],
 "metadata": {
  "colab": {
   "collapsed_sections": [],
   "name": "Copy of Python_2_3.ipynb",
   "provenance": []
  },
  "kernelspec": {
   "display_name": "Python 3 [3.7]",
   "language": "python",
   "name": "python3"
  },
  "language_info": {
   "codemirror_mode": {
    "name": "ipython",
    "version": 3
   },
   "file_extension": ".py",
   "mimetype": "text/x-python",
   "name": "python",
   "nbconvert_exporter": "python",
   "pygments_lexer": "ipython3",
   "version": "3.8.13"
  },
  "vscode": {
   "interpreter": {
    "hash": "1fe2f2b718b1108b9c4176932db8a0ead471245140baaa21ea96a4066683e6b2"
   }
  }
 },
 "nbformat": 4,
 "nbformat_minor": 1
}
