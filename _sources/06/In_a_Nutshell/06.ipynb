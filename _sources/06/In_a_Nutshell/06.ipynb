{
 "cells": [
  {
   "attachments": {},
   "cell_type": "markdown",
   "metadata": {},
   "source": [
    "# 6. Pandas\n",
    "\n",
    "## 6.1 Introduction \n",
    "\n",
    "`Pandas` offers a wide range of functions to read data from various sources, such as CSV files, Excel files, SQL databases, and more. You can perform operations like filtering, sorting, grouping, merging, reshaping, and aggregating data using Pandas. It also integrates well with other popular libraries in the Python ecosystem, such as `numpy` and `matplotlib`.\n",
    "\n",
    "It provides powerful data structures and functions to efficiently work with structured data, such as tabular data, time series, and more. With `pandas`, you can easily load, manipulate, analyze, and visualize data for tasks like data cleaning, exploration, transformation, and modeling.\n",
    "\n",
    "To start using `pandas`, you need to import it into your Python script or Jupyter Notebook. The standard way to import Pandas is as follows:"
   ]
  },
  {
   "cell_type": "code",
   "execution_count": 1,
   "metadata": {},
   "outputs": [],
   "source": [
    "import pandas as pd"
   ]
  },
  {
   "attachments": {},
   "cell_type": "markdown",
   "metadata": {},
   "source": [
    "The two primary data structures provided by Pandas are:\n",
    "\n",
    "1. `Series`: A <code>Series</code> in Pandas is a one-dimensional labeled array that can hold any data type. It is similar to a column in a spreadsheet or a single column of a SQL table. Each element in a Series is associated with a unique label called an `index`.\n",
    "\n",
    "2. `DataFrame`: A two-dimensional labeled data structure with columns of potentially different types. It is similar to a spreadsheet or a SQL table."
   ]
  },
  {
   "attachments": {},
   "cell_type": "markdown",
   "metadata": {},
   "source": [
    "## 6.2 ``Series``\n",
    "\n",
    "Here is an example where we create a list of data containing some numbers and an index list with corresponding labels. We then use these lists to create a Series using pd.Series() function. "
   ]
  },
  {
   "cell_type": "code",
   "execution_count": 2,
   "metadata": {},
   "outputs": [
    {
     "name": "stdout",
     "output_type": "stream",
     "text": [
      "\n",
      "Original series:\n",
      "A    10\n",
      "B    20\n",
      "C    30\n",
      "D    40\n",
      "E    50\n",
      "dtype: int64\n"
     ]
    }
   ],
   "source": [
    "data = [10, 20, 30, 40, 50]\n",
    "index = ['A', 'B', 'C', 'D', 'E']\n",
    "\n",
    "s = pd.Series(data, index=index)\n",
    "print(\"\\nOriginal series:\")\n",
    "print (s)"
   ]
  },
  {
   "attachments": {},
   "cell_type": "markdown",
   "metadata": {},
   "source": [
    "We also change the created labels without having any effect on the data as follows:"
   ]
  },
  {
   "cell_type": "code",
   "execution_count": 3,
   "metadata": {},
   "outputs": [
    {
     "name": "stdout",
     "output_type": "stream",
     "text": [
      "\n",
      "Updated series:\n",
      "X        10\n",
      "Y        20\n",
      "Zebra    30\n",
      "W        40\n",
      "V        50\n",
      "dtype: int64\n"
     ]
    }
   ],
   "source": [
    "s.index = ['X', 'Y', 'Zebra', 'W', 'V']\n",
    "print(\"\\nUpdated series:\")\n",
    "print(s)"
   ]
  },
  {
   "attachments": {},
   "cell_type": "markdown",
   "metadata": {},
   "source": [
    "Two helpful functions when working with pandas are the `iloc[ ]` and `loc[ ]` functions. For more information see the table below:"
   ]
  },
  {
   "attachments": {},
   "cell_type": "markdown",
   "metadata": {},
   "source": [
    "| Function | Description                                 | Example                                            |\n",
    "|----------|---------------------------------------------|----------------------------------------------------|\n",
    "| `iloc[ ]`   | Integer-based indexing and selection        | s.iloc[0] accesses the first row of a DataFrame   |\n",
    "|          |                                             | s.iloc[2:4] accesses a slice of rows in a DataFrame |\n",
    "| `loc[ ]`    | Label-based indexing and selection          | s.loc['X'] accesses a row labeled 'A' in a DataFrame |\n",
    "|          |                                             | s.loc[['X', 'W']] accesses multiple rows in a DataFrame |\n"
   ]
  },
  {
   "cell_type": "code",
   "execution_count": 4,
   "metadata": {},
   "outputs": [
    {
     "data": {
      "text/plain": [
       "Zebra    30\n",
       "W        40\n",
       "dtype: int64"
      ]
     },
     "execution_count": 4,
     "metadata": {},
     "output_type": "execute_result"
    }
   ],
   "source": [
    "s.iloc[2:4] "
   ]
  },
  {
   "attachments": {},
   "cell_type": "markdown",
   "metadata": {},
   "source": [
    "## 6.3 ``DataFrame``\n",
    "In the example below, we start by creating a dictionary data that contains information about names, ages, and cities. We then use this dictionary to create a `dataframe` df using <b>pd.DataFrame( )</b>. "
   ]
  },
  {
   "cell_type": "code",
   "execution_count": 14,
   "metadata": {},
   "outputs": [
    {
     "name": "stdout",
     "output_type": "stream",
     "text": [
      "Original DataFrame:\n"
     ]
    },
    {
     "data": {
      "text/html": [
       "<div>\n",
       "<style scoped>\n",
       "    .dataframe tbody tr th:only-of-type {\n",
       "        vertical-align: middle;\n",
       "    }\n",
       "\n",
       "    .dataframe tbody tr th {\n",
       "        vertical-align: top;\n",
       "    }\n",
       "\n",
       "    .dataframe thead th {\n",
       "        text-align: right;\n",
       "    }\n",
       "</style>\n",
       "<table border=\"1\" class=\"dataframe\">\n",
       "  <thead>\n",
       "    <tr style=\"text-align: right;\">\n",
       "      <th></th>\n",
       "      <th>Name</th>\n",
       "      <th>Age</th>\n",
       "      <th>City</th>\n",
       "    </tr>\n",
       "  </thead>\n",
       "  <tbody>\n",
       "    <tr>\n",
       "      <th>0</th>\n",
       "      <td>John</td>\n",
       "      <td>25</td>\n",
       "      <td>London</td>\n",
       "    </tr>\n",
       "    <tr>\n",
       "      <th>1</th>\n",
       "      <td>Alice</td>\n",
       "      <td>28</td>\n",
       "      <td>Paris</td>\n",
       "    </tr>\n",
       "    <tr>\n",
       "      <th>2</th>\n",
       "      <td>Bob</td>\n",
       "      <td>22</td>\n",
       "      <td>Berlin</td>\n",
       "    </tr>\n",
       "  </tbody>\n",
       "</table>\n",
       "</div>"
      ],
      "text/plain": [
       "    Name  Age    City\n",
       "0   John   25  London\n",
       "1  Alice   28   Paris\n",
       "2    Bob   22  Berlin"
      ]
     },
     "execution_count": 14,
     "metadata": {},
     "output_type": "execute_result"
    }
   ],
   "source": [
    "data2 = {'Name': ['John', 'Alice', 'Bob'],\n",
    "    'Age': [25, 28, 22],\n",
    "    'City': ['London', 'Paris', 'Berlin']}\n",
    "\n",
    "df = pd.DataFrame(data2)\n",
    "\n",
    "print(\"Original DataFrame:\")\n",
    "df      "
   ]
  },
  {
   "attachments": {},
   "cell_type": "markdown",
   "metadata": {},
   "source": [
    "You can then use the `loc[ ]` and `loc[ ]` functions to locate specific data from your `dataframe`. For example:"
   ]
  },
  {
   "cell_type": "code",
   "execution_count": 16,
   "metadata": {},
   "outputs": [
    {
     "name": "stdout",
     "output_type": "stream",
     "text": [
      "\n",
      "Using iloc[]:\n",
      "Name      John\n",
      "Age         25\n",
      "City    London\n",
      "Name: 0, dtype: object\n",
      "    Name  Age    City\n",
      "1  Alice   28   Paris\n",
      "2    Bob   22  Berlin\n",
      "25\n",
      "\n",
      "Using loc[]:\n",
      "Name      John\n",
      "Age         25\n",
      "City    London\n",
      "Name: 0, dtype: object\n",
      "    Name  Age    City\n",
      "1  Alice   28   Paris\n",
      "2    Bob   22  Berlin\n",
      "25\n"
     ]
    }
   ],
   "source": [
    "print(\"\\nUsing iloc[]:\")\n",
    "print(df.iloc[0])                \n",
    "print(df.iloc[1:3])               \n",
    "print(df.iloc[0, 1])             \n",
    "\n",
    "print(\"\\nUsing loc[]:\")\n",
    "print(df.loc[0])                 \n",
    "print(df.loc[1:2])                \n",
    "print(df.loc[0, 'Age'])    "
   ]
  },
  {
   "attachments": {},
   "cell_type": "markdown",
   "metadata": {},
   "source": [
    "We then add and remove some data from the created `dataframe`. You can remove rows and columns from a datafram by using the <b>Yourdataframename.drop()</b> function."
   ]
  },
  {
   "cell_type": "code",
   "execution_count": 6,
   "metadata": {},
   "outputs": [
    {
     "name": "stdout",
     "output_type": "stream",
     "text": [
      "\n",
      "Updated DataFrame:\n"
     ]
    },
    {
     "data": {
      "text/html": [
       "<div>\n",
       "<style scoped>\n",
       "    .dataframe tbody tr th:only-of-type {\n",
       "        vertical-align: middle;\n",
       "    }\n",
       "\n",
       "    .dataframe tbody tr th {\n",
       "        vertical-align: top;\n",
       "    }\n",
       "\n",
       "    .dataframe thead th {\n",
       "        text-align: right;\n",
       "    }\n",
       "</style>\n",
       "<table border=\"1\" class=\"dataframe\">\n",
       "  <thead>\n",
       "    <tr style=\"text-align: right;\">\n",
       "      <th></th>\n",
       "      <th>Name</th>\n",
       "      <th>City</th>\n",
       "      <th>Salary</th>\n",
       "    </tr>\n",
       "  </thead>\n",
       "  <tbody>\n",
       "    <tr>\n",
       "      <th>0</th>\n",
       "      <td>John</td>\n",
       "      <td>New York</td>\n",
       "      <td>5000</td>\n",
       "    </tr>\n",
       "    <tr>\n",
       "      <th>2</th>\n",
       "      <td>Bob</td>\n",
       "      <td>Berlin</td>\n",
       "      <td>4500</td>\n",
       "    </tr>\n",
       "  </tbody>\n",
       "</table>\n",
       "</div>"
      ],
      "text/plain": [
       "   Name      City  Salary\n",
       "0  John  New York    5000\n",
       "2   Bob    Berlin    4500"
      ]
     },
     "execution_count": 6,
     "metadata": {},
     "output_type": "execute_result"
    }
   ],
   "source": [
    "df.loc[0, 'City'] = 'New York'\n",
    "df['Salary'] = [5000, 6000, 4500]\n",
    "\n",
    "df = df.drop(1)                   \n",
    "df = df.drop('Age', axis=1)      \n",
    "\n",
    "print(\"\\nUpdated DataFrame:\")\n",
    "df"
   ]
  },
  {
   "attachments": {},
   "cell_type": "markdown",
   "metadata": {},
   "source": []
  },
  {
   "attachments": {},
   "cell_type": "markdown",
   "metadata": {},
   "source": [
    "## 6.4 Importing data into <code>DataFrames</code> and exploring its attributes\n",
    "\n",
    "You can also make a `dataframes` from any csv file (excel files, delimited text files, etc).  The table below summarizes the important functions you need to remember when applying the `pd.read_csv()` command.\n",
    "\n",
    "| Aspect       | Description                                       | Function                           |\n",
    "|--------------|---------------------------------------------------|------------------------------------|\n",
    "| File Path    | Specify the path or filename of the CSV file       | pd.read_csv('file_path.csv')       |\n",
    "| Delimiter    | Define the delimiter used in the CSV file          | pd.read_csv('file.csv', delimiter=',') |\n",
    "| Header       | Specify whether the CSV file has a header row      | pd.read_csv('file.csv', header=0)  |\n",
    "| Columns      | Select specific columns from the CSV file          | pd.read_csv('file.csv', usecols=['col1', 'col2']) |\n",
    "| Index Column | Set a specific column as the index of the DataFrame | pd.read_csv('file.csv', index_col='column') |\n",
    "| Data Types   | Specify data types for columns in the DataFrame    | pd.read_csv('file.csv', dtype={'col1': int, 'col2': float}) |\n"
   ]
  },
  {
   "attachments": {},
   "cell_type": "markdown",
   "metadata": {},
   "source": [
    "```{note}\n",
    ":class: Collapsed \n",
    "The excel file needs to be in the same place in the folder that the python file is at for this to work!\n",
    "```"
   ]
  },
  {
   "attachments": {},
   "cell_type": "markdown",
   "metadata": {},
   "source": []
  }
 ],
 "metadata": {
  "kernelspec": {
   "display_name": "Python 3",
   "language": "python",
   "name": "python3"
  },
  "language_info": {
   "codemirror_mode": {
    "name": "ipython",
    "version": 3
   },
   "file_extension": ".py",
   "mimetype": "text/x-python",
   "name": "python",
   "nbconvert_exporter": "python",
   "pygments_lexer": "ipython3",
   "version": "3.11.2"
  },
  "orig_nbformat": 4
 },
 "nbformat": 4,
 "nbformat_minor": 2
}
