{
 "cells": [
  {
   "attachments": {},
   "cell_type": "markdown",
   "metadata": {
    "nbgrader": {
     "grade": false,
     "locked": true,
     "solution": false
    }
   },
   "source": [
    "<figure>\n",
    "  <IMG SRC=\"https://raw.githubusercontent.com/mbakker7/exploratory_computing_with_python/master/tudelft_logo.png\" WIDTH=250 ALIGN=\"right\">\n",
    "</figure>\n",
    "\n",
    "# Modules, conditions, data structures and loops Exercises"
   ]
  },
  {
   "attachments": {},
   "cell_type": "markdown",
   "metadata": {
    "id": "su7ODKnqB7tv",
    "nbgrader": {
     "grade": false,
     "locked": true,
     "solution": false
    }
   },
   "source": [
    "## (Searching) Exercise 2.1.1\n",
    "\n",
    "Write a function, using a function from the <code>math</code> module, to find the greatest common divisor of any two numbers. Your function should return one integer number."
   ]
  },
  {
   "cell_type": "code",
   "execution_count": null,
   "metadata": {
    "colab": {
     "base_uri": "https://localhost:8080/"
    },
    "collapsed": true,
    "id": "YjB37kkNGsr9",
    "outputId": "36e77aac-9e26-4c63-fbf5-e030e5539ab1"
   },
   "outputs": [],
   "source": [
    "def find_gcd(a, b):\n",
    "    ...\n",
    "\n",
    "###BEGIN SOLUTION TEMPLATE=\n",
    "\n",
    "import math\n",
    "\n",
    "def find_gcd(a, b):\n",
    "    gcd = math.gcd(a, b)\n",
    "    return gcd\n",
    "\n",
    "###END SOLUTION\n",
    "print('The greatest common divisor of 2 and 4 is:', find_gcd(2, 4))"
   ]
  },
  {
   "cell_type": "code",
   "execution_count": null,
   "metadata": {
    "collapsed": true,
    "nbgrader": {
     "grade": true,
     "grade_id": "Q2.1.1",
     "locked": true,
     "points": "1",
     "solution": false
    }
   },
   "outputs": [],
   "source": [
    "###BEGIN HIDDEN TESTS\n",
    "assert find_gcd(16, 32) == 16, '2.1.1 — Incorrect answer'\n",
    "###END HIDDEN TESTS"
   ]
  },
  {
   "attachments": {},
   "cell_type": "markdown",
   "metadata": {
    "id": "aaxayx2RH9IM",
    "nbgrader": {
     "grade": false,
     "locked": true,
     "solution": false
    }
   },
   "source": [
    "## (Searching) Exercise 2.1.2\n",
    "\n",
    "We can only take and store measurements at a limited number of locations and/or times. But what if we are interested in a value in between, i.e., at a location/time where we do not have a measurement? Then we can use interpolation to estimate that value. A popular, and simple, interpolation technique is <a href=\"https://en.wikipedia.org/wiki/Linear_interpolation\">linear interpolation</a>. \n",
    "Your task is to use the module <code>scipy</code> to perform a 1D linear interpolation between a set of known points, where <code>x_known</code> and <code>y_known</code> are arrays with the measured $x$ and $y$ values. Use Google to look up the 1D interpolation function in <code>scipy</code>.<br><br>In the code below you have to replace the <code>...</code> with the correct code."
   ]
  },
  {
   "cell_type": "code",
   "execution_count": null,
   "metadata": {
    "collapsed": true,
    "id": "ZazhpxxTIzxE"
   },
   "outputs": [],
   "source": [
    "... # import the module/submodule\n",
    "def interpolate_inbetween(x_known, y_known, x_predict):\n",
    "    f = ... # call the 1D interpolation function with proper arguments\n",
    "    return f(x_predict)\n",
    "\n",
    "###BEGIN SOLUTION TEMPLATE=\n",
    "from scipy import interpolate\n",
    "\n",
    "def interpolate_inbetween(x_known, y_known, x_predict):\n",
    "    f = interpolate.interp1d(x_known, y_known)\n",
    "    return f(x_predict)\n",
    "###END SOLUTION\n",
    "\n",
    "# Let's try it...\n",
    "y_predict = interpolate_inbetween([1, 2], [1, 2], 1.5)\n",
    "print(y_predict)"
   ]
  },
  {
   "cell_type": "code",
   "execution_count": null,
   "metadata": {
    "collapsed": true,
    "nbgrader": {
     "grade": true,
     "grade_id": "Q2.1.2",
     "locked": true,
     "points": "1",
     "solution": false
    }
   },
   "outputs": [],
   "source": [
    "###BEGIN HIDDEN TESTS\n",
    "assert abs(interpolate_inbetween([1, 2], [1, 2], 1.5) - 1.5) <= 1e-6, '2.1.2 — Incorrect answer'\n",
    "###END HIDDEN TESTS"
   ]
  },
  {
   "attachments": {},
   "cell_type": "markdown",
   "metadata": {
    "id": "Ue4CKV8PKnBG",
    "nbgrader": {
     "grade": false,
     "locked": true,
     "solution": false
    }
   },
   "source": [
    "## (Searching) Exercise 2.1.3\n",
    "\n",
    "Now, let's try to measure the running time of a function, for that we will need the <code>time</code> module. Use it to measure the working time of the <code>cool_function()</code> below."
   ]
  },
  {
   "cell_type": "code",
   "execution_count": null,
   "metadata": {
    "collapsed": true,
    "id": "C1aOizjOK7sl",
    "nbgrader": {
     "grade": false,
     "locked": true,
     "solution": false
    }
   },
   "outputs": [],
   "source": [
    "# you do not need to change anything in this cell\n",
    "\n",
    "def cool_function():\n",
    "    x = 0\n",
    "    for i in range(100000000):\n",
    "        x += 1\n"
   ]
  },
  {
   "cell_type": "code",
   "execution_count": null,
   "metadata": {
    "collapsed": true,
    "id": "ussCGciULEJa",
    "nbgrader": {
     "grade": false,
     "grade_id": "Q2.1.3",
     "locked": false,
     "points": "1",
     "solution": false
    }
   },
   "outputs": [],
   "source": [
    "# complete the code by replacing only the ... to create a function to calculate the running time of any function\n",
    "\n",
    "... # remember to import the module needed\n",
    "\n",
    "def measure_time(func):\n",
    "    t0 = ... # use a function from the time module to store the current time\n",
    "    func()\n",
    "    t1 = ... # and again\n",
    "    return ... # this should calcate the running time\n",
    "\n",
    "###BEGIN SOLUTION TEMPLATE=\n",
    "import time\n",
    "\n",
    "def measure_time(func):\n",
    "    t0 = time.time()\n",
    "    func()\n",
    "    t1 = time.time()\n",
    "    return t1 - t0\n",
    "###END SOLUTION\n",
    "\n",
    "# Let's try it for our cool_function\n",
    "print('It took {:.2f} seconds for Python to count from 0 to 100000000.'.format(measure_time(cool_function)))"
   ]
  },
  {
   "cell_type": "code",
   "execution_count": null,
   "metadata": {
    "collapsed": true,
    "nbgrader": {
     "grade": true,
     "grade_id": "Q2.1.3",
     "locked": true,
     "points": "1",
     "solution": false
    }
   },
   "outputs": [],
   "source": [
    "###BEGIN HIDDEN TESTS\n",
    "assert type(measure_time(cool_function)) == float, '2.1.3 — Incorrect answer'\n",
    "###END HIDDEN TESTS"
   ]
  },
  {
   "attachments": {},
   "cell_type": "markdown",
   "metadata": {
    "id": "su7ODKnqB7tv",
    "nbgrader": {
     "grade": false,
     "locked": true,
     "solution": false
    }
   },
   "source": [
    "## Exercise 2.2.1\n",
    "\n",
    "One of the most crucial applications of <code>if</code> statements is filtering the data from errors and checking whether an error is within a certain limit.<br><br>For example, checking whether the difference between an estimated value and the actual value are within a certain range.<br><br>\n",
    "Mathematically speaking, this can be expressed as<br><br> $$|\\hat{y} - y| < \\epsilon$$<br>where $\\hat{y}$ is your estimated value, $y$ is the actual value and $\\epsilon$ is a certain error threshold.<br><br><br>The function <code>check_error_size()</code> below must do the same — it should return <code>True</code> if the error is within the acceptable range <code>eps</code> and <code>False</code> if it is not."
   ]
  },
  {
   "cell_type": "code",
   "execution_count": null,
   "metadata": {
    "collapsed": true,
    "id": "y5NHCoFlp0dF"
   },
   "outputs": [],
   "source": [
    "def check_error_size(estimated_value, true_value, eps):\n",
    "    ... # your if statement (error in acceptable range)\n",
    "        return True\n",
    "    ... # statement if not in acceptable range\n",
    "        return False\n",
    "\n",
    "###BEGIN SOLUTION TEMPLATE=\n",
    "def check_error_size(estimated_value, true_value, eps):\n",
    "    if abs(estimated_value - true_value) <= eps:\n",
    "        return True\n",
    "    else:\n",
    "        return False\n",
    "###END SOLUTION\n",
    "\n",
    "#You can try to check it by yourself by running the function with some self-chosen numbers\n",
    "check_error(...)"
   ]
  },
  {
   "cell_type": "code",
   "execution_count": null,
   "metadata": {
    "collapsed": true,
    "nbgrader": {
     "grade": true,
     "grade_id": "Q2.2.1",
     "locked": true,
     "points": "1",
     "solution": false
    }
   },
   "outputs": [],
   "source": [
    "###BEGIN HIDDEN TESTS\n",
    "assert check_error(0.5, 0.4, 0.2), '2.2.1 - Incorrect answer'\n",
    "###END HIDDEN TESTS"
   ]
  },
  {
   "attachments": {},
   "cell_type": "markdown",
   "metadata": {
    "id": "HH2SHjK9rypL",
    "nbgrader": {
     "grade": false,
     "locked": true,
     "solution": false
    }
   },
   "source": [
    "## Exercise 2.2.2\n",
    "\n",
    "Use the knowledge you have obtained in this Notebook and write your very own function to classify soil samples based on the average grain size. The classification you have to implement is the following:<br>\n",
    "\n",
    "1.   Clay: avg grain size $<$ 0.002 mm\n",
    "2.   Silt: 0.002 mm $\\leq$ avg grain size $<$ 0.063 mm\n",
    "3.   Sand: 0.063 mm $\\leq$ avg grain size $<$ 2 mm\n",
    "4.   Gravel: 2 mm $\\leq$ avg grain size $<$ 63 mm\n",
    "\n",
    "Your task is to write the function, which will return the name of the soil type based on the provided average grain size in meters."
   ]
  },
  {
   "cell_type": "code",
   "execution_count": null,
   "metadata": {
    "collapsed": true,
    "id": "zn9ifDM8tJoX"
   },
   "outputs": [],
   "source": [
    "def classify_soil(avg_grain_size):\n",
    "    ...\n",
    "\n",
    "###BEGIN SOLUTION TEMPLATE=\n",
    "def classify_soil(avg_grain_size):\n",
    "    if avg_grain_size < 0.002:\n",
    "        return 'Clay'\n",
    "    elif avg_grain_size >= 0.002 and avg_grain_size < 0.063:\n",
    "        return 'Silt'\n",
    "    elif avg_grain_size >= 0.063 and avg_grain_size < 2:\n",
    "        return 'Sand'\n",
    "    elif avg_grain_size >= 2:\n",
    "        return 'Gravel'\n",
    "###END SOLUTION\n",
    "\n",
    "print(classify_soil(1.5))"
   ]
  },
  {
   "cell_type": "code",
   "execution_count": null,
   "metadata": {
    "collapsed": true,
    "nbgrader": {
     "grade": true,
     "grade_id": "Q2.2.2",
     "locked": true,
     "points": "1",
     "solution": false
    }
   },
   "outputs": [],
   "source": [
    "###BEGIN HIDDEN TESTS\n",
    "assert classify_soil(0.0015) == 'Clay' and \\\n",
    "classify_soil(0.05) == 'Silt' and \\\n",
    "classify_soil(0.1) == 'Sand' and \\\n",
    "classify_soil(2.5) == 'Gravel' , '2.2.2 - Incorrect answer'\n",
    "###END HIDDEN TESTS"
   ]
  },
  {
   "attachments": {},
   "cell_type": "markdown",
   "metadata": {
    "id": "esf3kvxPtKB1",
    "nbgrader": {
     "grade": false,
     "locked": true,
     "solution": false
    }
   },
   "source": [
    "## Exercise 2.2.3 — Triangle Inequality\n",
    "\n",
    "Let's imagine that you received a request to manage a web-application, which provides and visualizes <a href=\"https://en.wikipedia.org/wiki/Interferometric_synthetic-aperture_radar\"><b>InSAR</b></a> data of the estimated displacement in an area.<br><br>The app is already quite cool, however, there is always room for improvement. For example, one might want to look into the statistics over the area of a triangle.<br><br>Your goal is to help implement such functionality by checking whether the user selected a valid triangle. You need to do this by checking that the length of <b>each</b> of the sides is smaller than the sum of the other two."
   ]
  },
  {
   "cell_type": "code",
   "execution_count": null,
   "metadata": {
    "collapsed": true,
    "id": "yWqQpiUHtWxo"
   },
   "outputs": [],
   "source": [
    "def check_triangle(side_a, side_b, side_c):\n",
    "    ...\n",
    "\n",
    "###BEGIN SOLUTION TEMPLATE=\n",
    "def check_triangle(side_a, side_b, side_c):\n",
    "    part1 = side_a < (side_b + side_c)\n",
    "    part2 = side_b < (side_a + side_c)\n",
    "    part3 = side_c < (side_a + side_b)\n",
    "    \n",
    "\n",
    "    if part1 and part2 and part3:\n",
    "        return \"Valid Triangle\"\n",
    "    else:\n",
    "        return \"Invalid Triangle\"\n",
    "###END SOLUTION"
   ]
  },
  {
   "cell_type": "code",
   "execution_count": null,
   "metadata": {
    "collapsed": true,
    "nbgrader": {
     "grade": true,
     "grade_id": "Q2.2.3",
     "locked": true,
     "points": "1",
     "solution": false
    }
   },
   "outputs": [],
   "source": [
    "###BEGIN HIDDEN TESTS\n",
    "assert check_triangle(1, 2, 3) == \"Invalid Triangle\" and check_triangle(3, 4, 5) == \"Valid Triangle\", '2.2.3 - Incorrect answer'\n",
    "###END HIDDEN TESTS"
   ]
  },
  {
   "attachments": {},
   "cell_type": "markdown",
   "metadata": {
    "id": "TcZ--kZgtX4f",
    "nbgrader": {
     "grade": false,
     "locked": true,
     "solution": false
    }
   },
   "source": [
    "## (Searching) Exercise 2.2.4\n",
    "\n",
    "Conditional expression is a way how one can compress an <code>if</code> statement to a more compact (and logical) statement. Your task is to rewrite the below <code>if</code> statement by using the <i>'conditional expression'</i> technique."
   ]
  },
  {
   "cell_type": "code",
   "execution_count": null,
   "metadata": {
    "collapsed": true,
    "id": "l8fBsW3ea-Ko",
    "nbgrader": {
     "grade": false,
     "locked": true,
     "solution": false
    }
   },
   "outputs": [],
   "source": [
    "y = 0\n",
    "x = 5\n",
    "\n",
    "if x % 2 == 0:\n",
    "    y = x ** 2\n",
    "else:\n",
    "    y = x % 3\n",
    "    \n"
   ]
  },
  {
   "cell_type": "code",
   "execution_count": null,
   "metadata": {
    "collapsed": true
   },
   "outputs": [],
   "source": [
    "# write your code here\n",
    "y = ...\n",
    "\n",
    "###BEGIN SOLUTION TEMPLATE=\n",
    "y = x ** 2 if x % 2 == 0 else x % 3\n",
    "###END SOLUTION\n",
    "\n",
    "print(y)"
   ]
  },
  {
   "attachments": {},
   "cell_type": "markdown",
   "metadata": {
    "id": "z801Dffr5B-r",
    "nbgrader": {
     "grade": false,
     "locked": true,
     "solution": false
    }
   },
   "source": [
    "## Exercise 2.3.1\n",
    "\n",
    "Now, let's get down to practice.<br><br>Your first task is to finish the <code>pack_variables()</code> function — a function which will combine all inputs in one list and return it.<br><br>More precisely, this function will receive $5$ arguments as input and you have to return a list with these $5$ elements inside."
   ]
  },
  {
   "cell_type": "code",
   "execution_count": null,
   "metadata": {
    "collapsed": true,
    "id": "ILKR0y115Eiz"
   },
   "outputs": [],
   "source": [
    "def pack_variables(arg1, arg2, arg3, arg4, arg5):\n",
    "    ...\n",
    "\n",
    "###BEGIN SOLUTION TEMPLATE=\n",
    "def pack_variables(arg1, arg2, arg3, arg4, arg5):\n",
    "    pack = [arg1, arg2, arg3, arg4, arg5]\n",
    "    return pack\n",
    "###END SOLUTION\n",
    "\n",
    "print(pack_variables(1, 2, 4, 22, 7))\n"
   ]
  },
  {
   "cell_type": "code",
   "execution_count": null,
   "metadata": {
    "collapsed": true,
    "nbgrader": {
     "grade": true,
     "grade_id": "Q2.3.1",
     "locked": true,
     "points": "1",
     "solution": false
    }
   },
   "outputs": [],
   "source": [
    "###BEGIN HIDDEN TESTS\n",
    "assert len(pack_variables(221, 22, \"2\", 22, 7)) == 5 and type(pack_variables(221, 22, \"2\", 22, 7)) == str, '2.3.1 - Incorrect answer'\n",
    "###END HIDDEN TESTS"
   ]
  },
  {
   "attachments": {},
   "cell_type": "markdown",
   "metadata": {
    "id": "UzRn8czA6oIg",
    "nbgrader": {
     "grade": false,
     "locked": true,
     "solution": false
    }
   },
   "source": [
    "## Exercise 2.3.2\n",
    "\n",
    "Here, you will have to perform a quality assessment on a received list of GNSS measurements. But a simple one.<br><br>You have to check whether the received data has more than $1000$ measurements, in that case we know the receiver was running for a long time without being interrupted.\n",
    "If it is shorter than $1000$, we assume there were some interruptions. Hence, your function should return a message whether the data is fine or not."
   ]
  },
  {
   "cell_type": "code",
   "execution_count": null,
   "metadata": {
    "collapsed": true,
    "id": "bZPVKfEG6oYP"
   },
   "outputs": [],
   "source": [
    "def check_data(measurements):\n",
    "    ...\n",
    "\n",
    "###BEGIN SOLUTION TEMPLATE=\n",
    "def check_data(measurements):\n",
    "    if len(measurements) < 1000:\n",
    "        return \"Something wrong\"\n",
    "    else:\n",
    "        return \"All fine\"\n",
    "###END SOLUTION\n",
    "\n",
    "#You can check your code below, where we simulate 1250 measurements\n",
    "import random \n",
    "\n",
    "gnss_data = [random.random() * 2.2e8 for i in range(1250)]\n",
    "print(check_data(gnss_data))"
   ]
  },
  {
   "cell_type": "code",
   "execution_count": null,
   "metadata": {
    "collapsed": true,
    "nbgrader": {
     "grade": true,
     "grade_id": "Q2.3.2",
     "locked": true,
     "points": "1",
     "solution": false
    }
   },
   "outputs": [],
   "source": [
    "###BEGIN HIDDEN TESTS\n",
    "assert check_data([1,2,3]) == \"Something wrong\" and check_data([0 for i in range(1001)]), '2.1.2 - Incorrect answer'\n",
    "###END HIDDEN TESTS"
   ]
  },
  {
   "attachments": {},
   "cell_type": "markdown",
   "metadata": {
    "id": "oh_3_lSu8csf",
    "nbgrader": {
     "grade": false,
     "locked": true,
     "solution": false
    }
   },
   "source": [
    "## Exercise 2.3.3\n",
    "\n",
    "In this exercises you need to write something opposite to a packager... an unpacker! Sometimes it is easier to work with the most convenient data type, that is best suited for a specific task. In this example, you have to write a function which accepts data stored in a dictionary and saves some data from it. More precisely, you have to select $x$ and $y$ coordinates saved in the <code>input_dict</code> dictionary, and return them as a tuple, with $x$ being the first entry."
   ]
  },
  {
   "cell_type": "code",
   "execution_count": null,
   "metadata": {
    "collapsed": true,
    "nbgrader": {
     "grade": false,
     "locked": true,
     "solution": false
    }
   },
   "outputs": [],
   "source": [
    "# you do not have to change anything in this cell\n",
    "\n",
    "input_dict = {\n",
    "    'ID': '334856',\n",
    "    'operator_name': 'Jarno',\n",
    "    'observation_amount': '2485',\n",
    "    'loc_x': [2, 5, 10, 12, -5, 8, 27, 1],\n",
    "    'loc_y': [6, 1, -5, 15, 4, 8, 0, 10]\n",
    "}\n"
   ]
  },
  {
   "cell_type": "code",
   "execution_count": null,
   "metadata": {
    "collapsed": true,
    "id": "iQIBjGJF8dKX"
   },
   "outputs": [],
   "source": [
    "def unpack_dictionary(input_dict):\n",
    "    ...\n",
    "\n",
    "###BEGIN SOLUTION TEMPLATE=\n",
    "def unpack_dictionary(input_dict):\n",
    "    return (input_dict['loc_x'], input_dict['loc_y'])\n",
    "###END SOLUTION    \n",
    "\n",
    "print(unpack_dictionary(input_dict))"
   ]
  },
  {
   "cell_type": "code",
   "execution_count": null,
   "metadata": {
    "collapsed": true,
    "nbgrader": {
     "grade": true,
     "grade_id": "Q2.3.3",
     "locked": true,
     "points": "1",
     "solution": false
    }
   },
   "outputs": [],
   "source": [
    "###BEGIN HIDDEN TESTS\n",
    "assert type(unpack_dictionary(input_dict)) == tuple, '2.3.3 - Incorrect answer'\n",
    "###END HIDDEN TESTS"
   ]
  },
  {
   "attachments": {},
   "cell_type": "markdown",
   "metadata": {
    "id": "lALpyUu88dkE",
    "nbgrader": {
     "grade": false,
     "locked": true,
     "solution": false
    }
   },
   "source": [
    "## (Searching) Exercise 2.3.4 — List comprehension\n",
    "\n",
    "Sometimes you have to create a list of predefined size and fill it with data. This can be done easily using list comprehension.\n",
    "Write a function using list comprehension, in order to create a list of a predefined size and fill them with zeros."
   ]
  },
  {
   "cell_type": "code",
   "execution_count": null,
   "metadata": {
    "collapsed": true,
    "id": "-GmLXLy58d31"
   },
   "outputs": [],
   "source": [
    "def create_list(size):\n",
    "    ...\n",
    "\n",
    "###BEGIN SOLUTION TEMPLATE=\n",
    "def create_list(size):\n",
    "    new_list = [0 for i in range(size)]\n",
    "    return new_list\n",
    "###END SOLUTION\n",
    "\n",
    "print(create_list(5))"
   ]
  },
  {
   "cell_type": "code",
   "execution_count": null,
   "metadata": {
    "collapsed": true,
    "nbgrader": {
     "grade": true,
     "grade_id": "Q2.3.4",
     "locked": true,
     "points": "1",
     "solution": false
    }
   },
   "outputs": [],
   "source": [
    "###BEGIN HIDDEN TESTS\n",
    "assert len(create_list(5)) == 5 and type(create_list(5)) == list, '2.3.4 - Incorrect answer'\n",
    "###END HIDDEN TESTS"
   ]
  },
  {
   "attachments": {},
   "cell_type": "markdown",
   "metadata": {
    "id": "su7ODKnqB7tv",
    "nbgrader": {
     "grade": false,
     "locked": true,
     "solution": false
    }
   },
   "source": [
    "## Exercise 2.4.1\n",
    "\n",
    "In this exercise you will write your own Celsius to Fahrenheit converter! Your task is to write a function, which will accept the list of temperatures <code>temp_c</code>, in Celsius, and will output a list with the same temperatures, but in Fahrenheit."
   ]
  },
  {
   "cell_type": "code",
   "execution_count": null,
   "metadata": {
    "collapsed": true,
    "id": "ldeM_71XgK--",
    "nbgrader": {
     "grade": false,
     "locked": true,
     "solution": false
    }
   },
   "outputs": [],
   "source": [
    "# you do not need to change anything in this cell\n",
    "\n",
    "temp_c = [-1, -1.2, 1.3, 6.4, 11.2, 14.8, 17.8, 17.7, 13.7, 8.5, 4.1, 0.9]"
   ]
  },
  {
   "cell_type": "code",
   "execution_count": null,
   "metadata": {
    "collapsed": true,
    "id": "WYqtQ21Kgqzs"
   },
   "outputs": [],
   "source": [
    "def celsius_to_fahrenheit(temp_c):\n",
    "    ...\n",
    "\n",
    "###BEGIN SOLUTION TEMPLATE=\n",
    "def celsius_to_fahrenheit(temp_c):\n",
    "    temp_f = []\n",
    "\n",
    "    for i in range(len(temp_c)):\n",
    "        temp_f.append(temp_c[i] * 9 / 5 + 32) \n",
    "    return temp_f\n",
    "###END SOLUTION\n",
    "\n",
    "print(celsius_to_fahrenheit(temp_c))"
   ]
  },
  {
   "cell_type": "code",
   "execution_count": null,
   "metadata": {
    "collapsed": true,
    "nbgrader": {
     "grade": true,
     "grade_id": "Q2.4.1",
     "locked": true,
     "points": "1",
     "solution": false
    }
   },
   "outputs": [],
   "source": [
    "###BEGIN HIDDEN TESTS\n",
    "assert type(celsius_to_fahrenheit([-1])) == list and abs(celsius_to_fahrenheit([-1])[0] - 30.2) <= 1e-6, '2.4.1 - Incorrect answer'\n",
    "###END HIDDEN TESTS"
   ]
  },
  {
   "attachments": {},
   "cell_type": "markdown",
   "metadata": {
    "id": "2iKtqd2XhAcU",
    "nbgrader": {
     "grade": false,
     "locked": true,
     "solution": false
    }
   },
   "source": [
    "## Exercise 2.4.2\n",
    "\n",
    "Your task here is to write a function which will analyze a broadcasting message of the following format: <b>\"satellite_ids;date\"</b>, where the first part of the message contains unique lowercase letters, each corresponding to a different satellite ID, and the last part contains the date of the message.<br><br>\n",
    "Here are some examples:\n",
    "    <b>\"agf;06062022\"</b>,<b> \"abcdefgops;03121999\" </b>or<b> \"xyz;11112011\".</b>\n",
    "<br><br>Your task is to write a function, which for a provided broadcast message, will count the number of satellites mentioned in the message.\n"
   ]
  },
  {
   "cell_type": "code",
   "execution_count": null,
   "metadata": {
    "collapsed": true,
    "id": "niMqThVgiVeG"
   },
   "outputs": [],
   "source": [
    "def count_satellites(message):\n",
    "    ...\n",
    "\n",
    "###BEGIN SOLUTION TEMPLATE=\n",
    "def count_satellites(message):\n",
    "    for i in range(len(message)):\n",
    "        if message[i] == ';':\n",
    "            break\n",
    "\n",
    "    return i\n",
    "###END SOLUTION\n",
    "\n",
    "# Check that with the example below you count 5 satellites\n",
    "print(count_satellites(\"hallo;12122007\"))\n"
   ]
  },
  {
   "cell_type": "code",
   "execution_count": null,
   "metadata": {
    "collapsed": true,
    "nbgrader": {
     "grade": true,
     "grade_id": "Q2.4.2",
     "locked": true,
     "points": "1",
     "solution": false
    }
   },
   "outputs": [],
   "source": [
    "###BEGIN HIDDEN TESTS\n",
    "assert count_satellites(\"qute;12122007\") == 4, '2.4.2 - Incorrect answer'\n",
    "###END HIDDEN TESTS"
   ]
  },
  {
   "attachments": {},
   "cell_type": "markdown",
   "metadata": {
    "id": "GFziFh2Misx_",
    "nbgrader": {
     "grade": false,
     "locked": true,
     "solution": false
    }
   },
   "source": [
    "## Exercise 2.4.3\n",
    "\n",
    "Here you need to write a function that is able to sort any list consisting only of real numbers, in the descending order. For example, the list $[19, 5, 144, 6]$ becomes $[144, 19, 6, 5]$. Hint: use a built-in function or write your own bubble-sort algorithm to sort the list in ascending order, and then think of a clever way to change the order this list to descending order."
   ]
  },
  {
   "cell_type": "code",
   "execution_count": null,
   "metadata": {
    "colab": {
     "base_uri": "https://localhost:8080/"
    },
    "collapsed": true,
    "id": "2DB2jWVpi9Lr",
    "outputId": "c6af4f43-7138-4d09-b1ae-a913154dd107"
   },
   "outputs": [],
   "source": [
    "def sort_list(unsorted_list):\n",
    "    ...\n",
    "\n",
    "###BEGIN SOLUTION TEMPLATE=\n",
    "def sort_list(unsorted_list):\n",
    "    return sorted(unsorted_list)[::-1]\n",
    "###END SOLUTION\n",
    "\n",
    "\n",
    "print(sort_list([9, -1, 5, 1, -9, -9]))"
   ]
  },
  {
   "cell_type": "code",
   "execution_count": null,
   "metadata": {
    "collapsed": true,
    "nbgrader": {
     "grade": true,
     "grade_id": "Q2.4.3",
     "locked": true,
     "points": "1",
     "solution": false
    }
   },
   "outputs": [],
   "source": [
    "###BEGIN HIDDEN TESTS\n",
    "assert sort_list([3, 1, 2]) == [3, 2, 1], '2.4.3 - Incorrect answer'\n",
    "###END HIDDEN TESTS"
   ]
  },
  {
   "attachments": {},
   "cell_type": "markdown",
   "metadata": {
    "nbgrader": {
     "grade": false,
     "locked": true,
     "solution": false
    }
   },
   "source": [
    "Before you continue with exercises 2.4.4 and 2.4.5 we would like to try and facilitate your visualization of how to 'navigate' a 2D object such as a Matrix or a 2D list. All comes down to understanding indexing."
   ]
  },
  {
   "cell_type": "code",
   "execution_count": 8,
   "metadata": {
    "nbgrader": {
     "grade": false,
     "locked": true,
     "solution": false
    }
   },
   "outputs": [
    {
     "name": "stdout",
     "output_type": "stream",
     "text": [
      "[['[0][0]' '[0][1]' '[0][2]' '[0][3]']\n",
      " ['[1][0]' '[1][1]' '[1][2]' '[1][3]']\n",
      " ['[2][0]' '[2][1]' '[2][2]' '[2][3]']]\n"
     ]
    }
   ],
   "source": [
    "import numpy as np # ignore the use of np.array at this point, it just facilitates the printed\n",
    "# 'matrix view' below\n",
    "\n",
    "mat = np.array([['[0][0]','[0][1]','[0][2]','[0][3]'],['[1][0]','[1][1]','[1][2]','[1][3]'],['[2][0]','[2][1]','[2][2]','[2][3]']])\n",
    "print(mat)"
   ]
  },
  {
   "attachments": {},
   "cell_type": "markdown",
   "metadata": {
    "nbgrader": {
     "grade": false,
     "locked": true,
     "solution": false
    }
   },
   "source": [
    "To facilitate this illustration, the above Matrix has its own index as elements. In a 2D object, the first <b>indexing</b> is the number of the <b>row</b>, the second is the number of the <b>column</b>. Let's break it down."
   ]
  },
  {
   "cell_type": "code",
   "execution_count": 11,
   "metadata": {
    "nbgrader": {
     "grade": false,
     "locked": true,
     "solution": false
    }
   },
   "outputs": [
    {
     "name": "stdout",
     "output_type": "stream",
     "text": [
      "['[0][0]' '[0][1]' '[0][2]' '[0][3]']\n"
     ]
    }
   ],
   "source": [
    "print(mat[0]) # the 0-th row of the variable 'mat'"
   ]
  },
  {
   "cell_type": "code",
   "execution_count": 12,
   "metadata": {},
   "outputs": [
    {
     "name": "stdout",
     "output_type": "stream",
     "text": [
      "['[1][0]' '[1][1]' '[1][2]' '[1][3]']\n"
     ]
    }
   ],
   "source": [
    "print(mat[1]) # the 1-st row of the variable 'mat'; etc.."
   ]
  },
  {
   "cell_type": "code",
   "execution_count": 25,
   "metadata": {},
   "outputs": [
    {
     "name": "stdout",
     "output_type": "stream",
     "text": [
      "[2][3]\n"
     ]
    }
   ],
   "source": [
    "print(mat[2,3]) # the 2-nd row and 3-th column"
   ]
  },
  {
   "cell_type": "code",
   "execution_count": 26,
   "metadata": {},
   "outputs": [
    {
     "name": "stdout",
     "output_type": "stream",
     "text": [
      "['[0][2]' '[1][2]' '[2][2]']\n"
     ]
    }
   ],
   "source": [
    "print(mat[:,2]) # all rows and 2-nd column (in other words, only the 2-nd column)"
   ]
  },
  {
   "cell_type": "code",
   "execution_count": 27,
   "metadata": {},
   "outputs": [
    {
     "name": "stdout",
     "output_type": "stream",
     "text": [
      "['[2][0]' '[2][1]' '[2][2]' '[2][3]']\n"
     ]
    }
   ],
   "source": [
    "print(mat[-1,:]) # last row, all columns (therefore, last row)"
   ]
  },
  {
   "cell_type": "code",
   "execution_count": 29,
   "metadata": {},
   "outputs": [
    {
     "name": "stdout",
     "output_type": "stream",
     "text": [
      "['[2][0]' '[2][1]' '[2][2]' '[2][3]']\n"
     ]
    }
   ],
   "source": [
    "# could have also been achieved only by writing mat[-1]\n",
    "print(mat[-1])"
   ]
  },
  {
   "cell_type": "code",
   "execution_count": 30,
   "metadata": {},
   "outputs": [
    {
     "name": "stdout",
     "output_type": "stream",
     "text": [
      "3\n"
     ]
    }
   ],
   "source": [
    "# check the number of rows of the var 'mat'\n",
    "print(len(mat))"
   ]
  },
  {
   "cell_type": "code",
   "execution_count": 32,
   "metadata": {},
   "outputs": [
    {
     "name": "stdout",
     "output_type": "stream",
     "text": [
      "4\n"
     ]
    }
   ],
   "source": [
    "# check the number of columns of the var 'mat'\n",
    "print(len(mat[0])) # number of elements in row [0]"
   ]
  },
  {
   "attachments": {},
   "cell_type": "markdown",
   "metadata": {
    "nbgrader": {
     "grade": false,
     "locked": true,
     "solution": false
    }
   },
   "source": [
    "Note that here we only check the number of elements in the 0-th row, since all rows have same number of elements. However, you may also work with irregular lists, where each 'row' or 'sublist' will have a different number of 'columns'.\n",
    "\n",
    "Now that you are a bit more familiarized with indexing, let's hop into the last two exercises of this Notebook."
   ]
  },
  {
   "attachments": {},
   "cell_type": "markdown",
   "metadata": {
    "nbgrader": {
     "grade": false,
     "locked": true,
     "solution": false
    }
   },
   "source": [
    "## Exercise 2.4.4\n",
    "\n",
    "Quite frequently you will have to work with 2D data, which (in Python) is stored, sometimes, in 2 dimensional lists. Your task is to complete a function, which will count elements in an irregular 2D list (irregular means that the amount of elements within each sub-list is different). For that you will have to write a loop inside a loop (or, in other words, a double loop). The code below is almost complete, you just need finish typing the second <code>for</code> loop."
   ]
  },
  {
   "cell_type": "code",
   "execution_count": 8,
   "metadata": {},
   "outputs": [
    {
     "name": "stdout",
     "output_type": "stream",
     "text": [
      "Total amount of elements inside a test list: 10\n"
     ]
    }
   ],
   "source": [
    "def count_elements(data):\n",
    "    #initializing counter\n",
    "    cnt = 0    \n",
    "    for i in range(len(data)) # looping through the number of rows\n",
    "        for ... # looping to count elements in each row (or sub-list, in this case)\n",
    "            cnt += 1\n",
    "            \n",
    "    return cnt\n",
    "\n",
    "###BEGIN SOLUTION TEMPLATE=\n",
    "def count_elements(data):\n",
    "    #initializing counter\n",
    "    cnt = 0    \n",
    "    for i in range(len(data)):\n",
    "        for j in range(len(data[i])):\n",
    "            cnt += 1\n",
    "            \n",
    "    return cnt\n",
    "\n",
    "###END SOLUTION\n",
    "\n",
    "test = [[1, 2, 3], [\"list\", 4.5], [9, -1, \"another list\", 6, 101]]\n",
    "print(f'Total number of elements inside a test list: {count_elements(test)}')"
   ]
  },
  {
   "cell_type": "code",
   "execution_count": 9,
   "metadata": {
    "collapsed": true,
    "nbgrader": {
     "grade": true,
     "grade_id": "Q2.4.4",
     "locked": true,
     "points": "1",
     "solution": false
    }
   },
   "outputs": [],
   "source": [
    "###BEGIN HIDDEN TESTS\n",
    "test_data = [[1], [2, 3], [4, 5, 6], [7, 8, \"9\", 10]]\n",
    "assert count_elements(test_data) == 10, '2.4.4 - Incorrect answer'\n",
    "###END HIDDEN TESTS"
   ]
  },
  {
   "attachments": {},
   "cell_type": "markdown",
   "metadata": {
    "id": "hp6H5nvkjZLg",
    "nbgrader": {
     "grade": false,
     "locked": true,
     "solution": false
    }
   },
   "source": [
    "## Exercise 2.4.5\n",
    "\n",
    "In this exercise you will perform <a href=\"https://en.wikipedia.org/wiki/Downsampling_(signal_processing)\">downsampling</a> of a provided 'regular' 2D list. Downsampling is a procedure where only a subset of the data is sampled (to reduce its size, for example). Below a visual aid of what downsampling of a 2D list is. Instead of using all the data available, your task is to downsample the 2D list to keep only the data of every $a$-th row and every $b$-th column, including the first element $(a_{0,0})$.<br><br>$$A = \\left[\\begin{array}{ccccc}\n",
    "a_{0,0} & \\dots & a_{0,b} & \\dots & a_{0,2b} & \\dots & \\dots & a_{0,nb}\t& \\dots\\\\\n",
    "\\vdots & \\vdots & \\vdots & \\vdots & \\vdots & \\vdots & \\vdots & \\vdots & \\vdots\\\\\n",
    "a_{a,0} & \\dots & a_{a,b} & \\dots & a_{a,2b} & \\dots & \\dots & a_{a,nb}\t& \\dots\\\\\n",
    "\\vdots & \\vdots & \\vdots & \\vdots & \\vdots & \\vdots & \\vdots & \\vdots & \\vdots\\\\\n",
    "a_{2a,0} & \\dots & a_{2a,b} & \\dots & a_{2a,2b} & \\dots & \\dots & a_{2a,nb}\t& \\dots\\\\\n",
    "\\vdots & \\vdots & \\vdots & \\vdots & \\vdots & \\vdots & \\vdots & \\vdots & \\vdots\\\\\n",
    "\\vdots & \\vdots & \\vdots & \\vdots & \\vdots & \\vdots & \\vdots & \\vdots & \\vdots\\\\\n",
    "a_{ma,0} & \\dots & a_{ma,b} & \\dots & a_{ma,2b} & \\dots & \\dots & a_{ma,nb} & \\dots \\\\\n",
    "\\vdots & \\vdots & \\vdots & \\vdots & \\vdots & \\vdots & \\vdots & \\vdots & \\vdots\n",
    "\\end{array}\\right]$$\n",
    "\n",
    "<br><i>Hint: Use the index value of each element to realize if they should be included or not in the downsample_data list.<br>Hint2: Remember that $0$ % $X = 0$, for any $X$. (Modulus operator, discussed in Notebook 1)."
   ]
  },
  {
   "cell_type": "code",
   "execution_count": null,
   "metadata": {
    "collapsed": true,
    "id": "EM2H7o8kjZe_"
   },
   "outputs": [],
   "source": [
    "def downsample(data, a, b):\n",
    "    downsample_data = []\n",
    "\n",
    "    # create a for loop over len(data), which is the number of rows\n",
    "    for ...\n",
    "        row = []\n",
    "\n",
    "        # create a for loop over len(data[i]), which is the number of columns\n",
    "        for ...\n",
    "            # if an element is to be stored, append row variable (created above)\n",
    "            ... \n",
    "            ...\n",
    "\n",
    "        # finally append downsample_data      \n",
    "        if len(row) > 0:\n",
    "            ...\n",
    "         \n",
    "    return ...\n",
    "\n",
    "print(downsample(insar_data, 3, 4))\n",
    "###BEGIN SOLUTION TEMPLATE=\n",
    "def downsample(data, a, b):\n",
    "    downsample_data = []\n",
    "    \n",
    "    for i in range(len(data)):\n",
    "        row = []\n",
    "        for j in range(len(data[i])):\n",
    "            if i % a == 0 and j % b == 0:\n",
    "                row.append(data[i][j])\n",
    "        if len(row) > 0:\n",
    "            downsample_data.append(row)\n",
    "            \n",
    "    return downsample_data\n",
    "###END SOLUTION\n",
    "\n",
    "import numpy as np\n",
    "\n",
    "insar_data = [[np.random.rand() for i in range(12)] for i in range(9)]\n",
    "\n",
    "print(downsample(insar_data, 3, 4))"
   ]
  },
  {
   "cell_type": "code",
   "execution_count": null,
   "metadata": {
    "collapsed": true,
    "nbgrader": {
     "grade": true,
     "grade_id": "Q2.4.5",
     "locked": true,
     "points": "1",
     "solution": false
    }
   },
   "outputs": [],
   "source": [
    "###BEGIN HIDDEN TESTS\n",
    "insar_data = [[np.random.rand() for i in range(16)] for i in range(12)]\n",
    "downsampled = downsample(insar_data, 3, 4)\n",
    "dim1 = len(downsampled)\n",
    "dim2 = len(downsampled[0])\n",
    "assert dim1 == 4 and dim2 == 4, '2.4.5 - Incorrect answer'\n",
    "###END HIDDEN TESTS"
   ]
  }
 ],
 "metadata": {
  "colab": {
   "collapsed_sections": [],
   "name": "Python_2_1.ipynb",
   "provenance": []
  },
  "kernelspec": {
   "display_name": "Python 3.7",
   "language": "python",
   "name": "python37"
  },
  "language_info": {
   "codemirror_mode": {
    "name": "ipython",
    "version": 3
   },
   "file_extension": ".py",
   "mimetype": "text/x-python",
   "name": "python",
   "nbconvert_exporter": "python",
   "pygments_lexer": "ipython3",
   "version": "3.7.5"
  },
  "vscode": {
   "interpreter": {
    "hash": "978ede36192cb259dee8e5bd565c04d84487df4425914b0b004da2b901af68ae"
   }
  }
 },
 "nbformat": 4,
 "nbformat_minor": 1
}
