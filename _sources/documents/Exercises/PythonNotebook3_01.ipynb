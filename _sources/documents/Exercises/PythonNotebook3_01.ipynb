{
 "cells": [
  {
   "attachments": {},
   "cell_type": "markdown",
   "metadata": {
    "nbgrader": {
     "grade": false,
     "locked": true,
     "solution": false
    }
   },
   "source": [
    "<figure>\n",
    "  <IMG SRC=\"https://raw.githubusercontent.com/mbakker7/exploratory_computing_with_python/master/tudelft_logo.png\" WIDTH=250 ALIGN=\"right\">\n",
    "</figure>\n",
    "\n",
    "\n",
    "# Advanced strings and functions. Files and debugging Exercises."
   ]
  },
  {
   "attachments": {},
   "cell_type": "markdown",
   "metadata": {
    "nbgrader": {
     "grade": false,
     "locked": true,
     "solution": false
    }
   },
   "source": [
    "## Exercise 3.1.1\n",
    "\n",
    "Use the <code>print()</code> function and an f-string to make a statement about some car using all variables stored in the <code>car_info</code> dictionary.\n"
   ]
  },
  {
   "cell_type": "code",
   "execution_count": null,
   "metadata": {
    "collapsed": true,
    "nbgrader": {
     "grade": false,
     "locked": true,
     "solution": false
    }
   },
   "outputs": [],
   "source": [
    "# you do not have to change anything in this cell\n",
    "\n",
    "car_info = {\n",
    "    'top_speed' : '229', #km/h\n",
    "    'type' : 'Opel Astra'\n",
    "}"
   ]
  },
  {
   "cell_type": "code",
   "execution_count": null,
   "metadata": {
    "collapsed": true
   },
   "outputs": [],
   "source": [
    "# type your code here\n",
    "message = ...\n",
    "\n",
    "###BEGIN SOLUTION TEMPLATE=\n",
    "message = f\"Car {car_info['type']} can drive at max {car_info['top_speed']} km per hour\"\n",
    "###END SOLUTION\n",
    "\n",
    "print(message)"
   ]
  },
  {
   "cell_type": "code",
   "execution_count": null,
   "metadata": {
    "collapsed": true,
    "nbgrader": {
     "grade": true,
     "grade_id": "Q3.1.1",
     "locked": true,
     "points": "1",
     "solution": false
    }
   },
   "outputs": [],
   "source": [
    "###BEGIN HIDDEN TESTS\n",
    "assert car_info['top_speed'] in message and car_info['type'] in message, '3.1.1 - Incorrect answer'\n",
    "###END HIDDEN TESTS"
   ]
  },
  {
   "attachments": {},
   "cell_type": "markdown",
   "metadata": {
    "nbgrader": {
     "grade": false,
     "locked": true,
     "solution": false
    }
   },
   "source": [
    "## Exercise 3.1.2\n",
    "\n",
    "Print the value of <b>π</b> using $4$ decimal places."
   ]
  },
  {
   "cell_type": "code",
   "execution_count": null,
   "metadata": {
    "collapsed": true
   },
   "outputs": [],
   "source": [
    "# write your code here\n",
    "rounded_pi = ...\n",
    "\n",
    "###BEGIN SOLUTION TEMPLATE=\n",
    "rounded_pi = f\"{pi:.4f}\"\n",
    "###END SOLUTION\n",
    "print(rounded_pi)"
   ]
  },
  {
   "cell_type": "code",
   "execution_count": null,
   "metadata": {
    "collapsed": true,
    "nbgrader": {
     "grade": true,
     "grade_id": "Q3.1.2",
     "locked": true,
     "points": "1",
     "solution": false
    }
   },
   "outputs": [],
   "source": [
    "###BEGIN HIDDEN TESTS\n",
    "assert rounded_pi == \"3.1416\", '3.1.2 - Incorrect answer'\n",
    "###END HIDDEN TESTS"
   ]
  },
  {
   "attachments": {},
   "cell_type": "markdown",
   "metadata": {
    "nbgrader": {
     "grade": false,
     "locked": true,
     "solution": false
    }
   },
   "source": [
    "## Exercise 3.2.1\n",
    "\n",
    "Write a lambda function that converts a number from degrees to radians."
   ]
  },
  {
   "cell_type": "code",
   "execution_count": null,
   "metadata": {
    "collapsed": true
   },
   "outputs": [],
   "source": [
    "DegToRad = ...\n",
    "\n",
    "###BEGIN SOLUTION TEMPLATE=\n",
    "DegToRad = lambda theta : theta * (pi / 180)\n",
    "###END SOLUTION\n",
    "\n",
    "Angle = 180 # Degrees\n",
    "print(f\"An angle of {Angle} Degrees is equal to {DegToRad(180):.3f} radians\")"
   ]
  },
  {
   "cell_type": "code",
   "execution_count": null,
   "metadata": {
    "collapsed": true,
    "nbgrader": {
     "grade": true,
     "grade_id": "Q3.2.1",
     "locked": true,
     "points": "1",
     "solution": false
    }
   },
   "outputs": [],
   "source": [
    "###BEGIN HIDDEN TESTS\n",
    "assert type(DegToRad) == type(lambda x: x) and abs(DegToRad(90) - pi/2) <= 1e-6, '3.2.1 - Incorrect answer'\n",
    "###END HIDDEN TESTS"
   ]
  },
  {
   "attachments": {},
   "cell_type": "markdown",
   "metadata": {
    "nbgrader": {
     "grade": false,
     "locked": true,
     "solution": false
    }
   },
   "source": [
    "## Exercise 3.2.2\n",
    "\n",
    "Write a lambda function that takes four inputs: $(x_1, y_1, x_2, y_2)$ and computes the <a href=\"https://en.wikipedia.org/wiki/Euclidean_distance\">Euclidian distance</a> between point 1 $(x_1,y_1)$ and point 2 $(x_2,y_2)$.\n"
   ]
  },
  {
   "cell_type": "code",
   "execution_count": null,
   "metadata": {
    "collapsed": true
   },
   "outputs": [],
   "source": [
    "Distance = ...\n",
    "\n",
    "###BEGIN SOLUTION TEMPLATE=\n",
    "Distance = lambda x1, y1, x2, y2: sqrt((x1 - x2) ** 2 + (y1 - y2) ** 2)\n",
    "###END SOLUTION\n",
    "\n",
    "x1, y1 = 1, 1\n",
    "x2, y2 = 2, 2\n",
    "\n",
    "print(f\"Distance between points ({x1}, {y1}) and ({x2}, {y2}) is {Distance(x1, y1, x2, y2):.3f}\")"
   ]
  },
  {
   "cell_type": "code",
   "execution_count": null,
   "metadata": {
    "collapsed": true,
    "nbgrader": {
     "grade": true,
     "grade_id": "Q3.2.2",
     "locked": true,
     "points": "1",
     "solution": false
    }
   },
   "outputs": [],
   "source": [
    "###BEGIN HIDDEN TESTS\n",
    "assert abs(Distance(1, 1, 3, 3) - 2 * sqrt(2)) <= 1e-6, '3.2.2 - Incorrect answer'\n",
    "###END HIDDEN TESTS"
   ]
  },
  {
   "attachments": {},
   "cell_type": "markdown",
   "metadata": {
    "nbgrader": {
     "grade": false,
     "locked": true,
     "solution": false
    }
   },
   "source": [
    "## (Fixing) Exercise 3.3.1\n",
    "\n",
    "An engineer from Shell wrote a piece of code to find the file with updated logs. The file has a <code>*.txt</code> extension. It is located in the Vocareum environment and can be accessed using a relative or absolute path. The engineer wrote a piece of code to read the file and print its contents but something went wrong.\n"
   ]
  },
  {
   "cell_type": "code",
   "execution_count": null,
   "metadata": {
    "nbgrader": {
     "grade": false,
     "locked": false,
     "solution": false
    }
   },
   "outputs": [],
   "source": [
    "FilePath = \"./resource/lib/publicdata/UpdatedLogs.txt\"# Path of the file + (filename.txt)\n",
    "\n",
    "###BEGIN SOLUTION TEMPLATE=\n",
    "FilePath = \"./resource/lib/publicdata/updated_logs.txt\"\n",
    "###END SOLUTION\n",
    "\n",
    "\n",
    "txt_File = open(FilePath, mode=\"r\")                         # Open the file in read (r) mode\n",
    "File_Contents = txt_File.read()                             # Read the contents of the file\n",
    "txt_File.close()                                            # Close the file (good practice to do so!)\n",
    "\n",
    "print(File_Contents)                                        # Print the file"
   ]
  },
  {
   "cell_type": "code",
   "execution_count": null,
   "metadata": {
    "collapsed": true,
    "nbgrader": {
     "grade": true,
     "grade_id": "Q3.3.1",
     "locked": true,
     "points": "1",
     "solution": false
    }
   },
   "outputs": [],
   "source": [
    "###BEGIN HIDDEN TESTS\n",
    "assert FilePath == \"./resource/lib/publicdata/updated_logs.txt\", '3.3.1 - Incorrect answer'\n",
    "###END HIDDEN TESTS"
   ]
  },
  {
   "attachments": {},
   "cell_type": "markdown",
   "metadata": {
    "nbgrader": {
     "grade": false,
     "locked": true,
     "solution": false
    }
   },
   "source": [
    "## (Fixing) Exercise 3.4.1\n",
    "\n",
    "Fix the syntax errors so it prints \"AES\" without removing the variable that holds it. You'll need to fix 2 errors."
   ]
  },
  {
   "cell_type": "code",
   "execution_count": null,
   "metadata": {
    "collapsed": true
   },
   "outputs": [],
   "source": [
    "def get_abbreviation():\n",
    "    my abbreviation = \"AES\"\n",
    "     return my_abbreviation\n",
    "        \n",
    "###BEGIN SOLUTION TEMPLATE=\n",
    "def get_abbreviation():\n",
    "    my_abbreviation = \"AES\"\n",
    "    return my_abbreviation\n",
    "###END SOLUTION\n",
    "        \n",
    "print(get_abbreviation())"
   ]
  },
  {
   "cell_type": "code",
   "execution_count": null,
   "metadata": {
    "collapsed": true,
    "nbgrader": {
     "grade": true,
     "grade_id": "Q3.4.1",
     "locked": true,
     "points": "1",
     "solution": false
    }
   },
   "outputs": [],
   "source": [
    "###BEGIN HIDDEN TESTS\n",
    "assert get_abbreviation() == \"AES\", '3.4.1 - Incorrect answer'\n",
    "###END HIDDEN TESTS"
   ]
  },
  {
   "attachments": {},
   "cell_type": "markdown",
   "metadata": {
    "nbgrader": {
     "grade": false,
     "locked": true,
     "solution": false
    }
   },
   "source": [
    "## (Fixing) Exercise 3.4.2\n",
    "\n",
    "Solve the runtime error so all values of $B$ are printed. The output after running <code>create_string_from_lists()</code> should be the following:<br>\n",
    "<code>\n",
    "A[0] = 2\n",
    "B[0] = 5\n",
    "A[1] = 3\n",
    "B[1] = 6\n",
    "A[2] = 4\n",
    "B[2] = 7\n",
    "B[3] = 8\n",
    "</code>"
   ]
  },
  {
   "cell_type": "code",
   "execution_count": null,
   "metadata": {
    "collapsed": true
   },
   "outputs": [],
   "source": [
    "def create_string_from_lists():\n",
    "    s = \"\"\n",
    "    \n",
    "    A = [2, 3, 4]\n",
    "    B = [5, 6, 7, 8]\n",
    "    for i in range(4):\n",
    "        s += f\"A[{i}] = {A[i]}\\n\"\n",
    "        s += f\"B[{i}] = {B[i]}\\n\"\n",
    "    print(s)\n",
    "\n",
    "###BEGIN SOLUTION TEMPLATE=\n",
    "def create_string_from_lists():\n",
    "    s = \"\"\n",
    "    \n",
    "    A = [2, 3, 4]\n",
    "    B = [5, 6, 7, 8]\n",
    "    for i in range(4):\n",
    "        \n",
    "        if i < 3:\n",
    "            s += f\"A[{i}] = {A[i]}\\n\"\n",
    "            s += f\"B[{i}] = {B[i]}\\n\"\n",
    "        else:\n",
    "            s += f\"B[{i}] = {B[i]}\\n\"\n",
    "    print(s)   \n",
    "###END SOLUTION\n",
    "\n",
    "create_string_from_lists()"
   ]
  },
  {
   "cell_type": "code",
   "execution_count": null,
   "metadata": {
    "collapsed": true,
    "nbgrader": {
     "grade": true,
     "grade_id": "Q3.4.2",
     "locked": true,
     "points": "1",
     "solution": false
    }
   },
   "outputs": [],
   "source": [
    "###BEGIN HIDDEN TESTS\n",
    "assert \"B[3] = 8\" in create_string_from_lists(), '3.4.2 - Incorrect answer'\n",
    "###END HIDDEN TESTS"
   ]
  },
  {
   "attachments": {},
   "cell_type": "markdown",
   "metadata": {
    "nbgrader": {
     "grade": false,
     "locked": true,
     "solution": false
    }
   },
   "source": [
    "## (Fixing) Exercise 3.4.3\n",
    "\n",
    "Find the semantic error in this function:"
   ]
  },
  {
   "cell_type": "code",
   "execution_count": null,
   "metadata": {
    "collapsed": true
   },
   "outputs": [],
   "source": [
    "def factorial(x):\n",
    "    \"returns the factorial of x\"\n",
    "    if x == 0:\n",
    "        return 1\n",
    "    else: \n",
    "        return x ** factorial(x-1)\n",
    "\n",
    "###BEGIN SOLUTION TEMPLATE=\n",
    "def factorial(x):\n",
    "    \"returns the factorial of x\"\n",
    "    if x == 0:\n",
    "        return 1\n",
    "    else: \n",
    "        return x * factorial(x-1)\n",
    "###END SOLUTION\n",
    "\n",
    "factorial(4)"
   ]
  },
  {
   "cell_type": "code",
   "execution_count": null,
   "metadata": {
    "collapsed": true,
    "nbgrader": {
     "grade": true,
     "grade_id": "Q3.4.3",
     "locked": true,
     "points": "1",
     "solution": false
    }
   },
   "outputs": [],
   "source": [
    "###BEGIN HIDDEN TESTS\n",
    "assert factorial(5) == 120, '3.4.3 - Incorrect answer'\n",
    "###END HIDDEN TESTS"
   ]
  }
 ],
 "metadata": {
  "kernelspec": {
   "display_name": "Python 3.7",
   "language": "python",
   "name": "python37"
  },
  "language_info": {
   "codemirror_mode": {
    "name": "ipython",
    "version": 3
   },
   "file_extension": ".py",
   "mimetype": "text/x-python",
   "name": "python",
   "nbconvert_exporter": "python",
   "pygments_lexer": "ipython3",
   "version": "3.7.5"
  },
  "latex_envs": {
   "LaTeX_envs_menu_present": true,
   "autoclose": false,
   "autocomplete": true,
   "bibliofile": "biblio.bib",
   "cite_by": "apalike",
   "current_citInitial": 1,
   "eqLabelWithNumbers": true,
   "eqNumInitial": 1,
   "hotkeys": {
    "equation": "Ctrl-E",
    "itemize": "Ctrl-I"
   },
   "labels_anchors": false,
   "latex_user_defs": false,
   "report_style_numbering": false,
   "user_envs_cfg": false
  },
  "vscode": {
   "interpreter": {
    "hash": "1fe2f2b718b1108b9c4176932db8a0ead471245140baaa21ea96a4066683e6b2"
   }
  }
 },
 "nbformat": 4,
 "nbformat_minor": 2
}
