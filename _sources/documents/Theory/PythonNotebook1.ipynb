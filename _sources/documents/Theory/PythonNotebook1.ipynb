{
 "cells": [
  {
   "attachments": {},
   "cell_type": "markdown",
   "metadata": {
    "id": "7vcVhbkFS81g",
    "nbgrader": {
     "grade": false,
     "locked": true,
     "solution": false
    }
   },
   "source": [
    "<figure>\n",
    "  <IMG SRC=\"https://raw.githubusercontent.com/mbakker7/exploratory_computing_with_python/master/tudelft_logo.png\" WIDTH=250 ALIGN=\"right\">\n",
    "</figure>\n",
    "\n",
    "# 1. Variables, operators and functions. \n"
   ]
  },
  {
   "attachments": {},
   "cell_type": "markdown",
   "metadata": {
    "id": "c0279304",
    "nbgrader": {
     "grade": false,
     "locked": true,
     "solution": false
    }
   },
   "source": [
    "## 1.1 First Python Script\n",
    "\n",
    "So, it is time for your first Python script. It is located beneath. Go ahead, run it.\n"
   ]
  },
  {
   "cell_type": "code",
   "execution_count": 1,
   "metadata": {
    "colab": {
     "base_uri": "https://localhost:8080/"
    },
    "collapsed": true,
    "id": "3d1f70cf",
    "nbgrader": {
     "grade": false,
     "locked": true,
     "solution": false
    },
    "outputId": "ee5c28c1-473e-4c2d-9a33-b15b51fffc5f"
   },
   "outputs": [
    {
     "name": "stdout",
     "output_type": "stream",
     "text": [
      "Hello world!\n"
     ]
    }
   ],
   "source": [
    "# My First Python Script\n",
    "message = 'Hello world!'\n",
    "print(message)"
   ]
  },
  {
   "attachments": {},
   "cell_type": "markdown",
   "metadata": {
    "id": "7a16f396",
    "nbgrader": {
     "grade": false,
     "locked": true,
     "solution": false
    }
   },
   "source": [
    "\n",
    "`````{admonition} Let's break it down\n",
    "\n",
    "First line: <b><code># My First Python Script</code></b> is a <b>comment</b>, which is used just to explain and/or put useful information about the code next to it. If you need to create a comment — just type a <b><code>#</code></b> symbol and write your text after it. The interpreter does nothing with it — the comments are there just as useful information for you or another reader.\n",
    "\n",
    "Second line: <b><code>message = 'Hello world!'</code></b> creates a <b>variable</b> called <i> message </i> and assigns the text literal (string) <i>Hello world!</i> to it, by using the operator <i>=</i> (equal sign). Variables are used to store all data you use in your code.\n",
    "\n",
    "Third line: <b><code>print(message)</code></b> calls the <b>function</b><code>print()</code> and passes the variable <i>message</i> to it. A function is just a set of encapsulated code, which is tailored to perform a certain action. This specific function outputs the content of everything you pass to it. Since the variable <i>message</i> had a small line of text in it, the function <b><code>print()</code></b> outputs that message.\n",
    "\n",
    "This script is quite primitive and simple but it represents the main idea of programming in Python. You have data (which is stored in variables) and you perform an operation on it: by using the inbuilt <b><code>print()</code></b> function. In addition, you could create your own functions. \n",
    "\n",
    "`````"
   ]
  },
  {
   "attachments": {},
   "cell_type": "markdown",
   "metadata": {
    "id": "TcDyxZ7AS3Uz",
    "nbgrader": {
     "grade": false,
     "locked": true,
     "solution": false
    }
   },
   "source": [
    "## 1.2 Python Variables \n",
    "\n",
    "One of the most powerful features of a programming language is the ability to create and manipulate\n",
    "variables. A variable is a labeled storage that refers to a value. They are usually used in a way to make the code more readable, allowing reusability of your code.<br><br>As it was mentioned previously, Python is a high-level programming language. For that, it uses concepts of <b>Class</b> and <b>Object</b>. In short, a <b>Class</b> is a defined model or a data structure, it describes how the data of that class can be described and how it can be manipulated, and an <b>Object</b> or <b>Instance</b> is its realization. In other words, think about your favorite meal: the recipe is the <b>Class</b> of your meal and when you decide to use the recipe and cook it — you create an <b>Object</b> of that <b>Class</b>. Variables are the way how objects are stored and processed.\n",
    "\n",
    "\n",
    "### Rules for variable names\n",
    "* names can not start with a number\n",
    "* names can not contain spaces, use _ instead\n",
    "* names can not contain any of these symbols:\n",
    "\n",
    "      :'\",<>/?|\\!@#%^&*~-+\n",
    "      \n",
    "::: {note}     \n",
    "* it's considered best practice ([PEP8](https://www.python.org/dev/peps/pep-0008/#function-and-variable-names)) that names are lowercase with underscores\n",
    "* avoid using Python built-in keywords like `list` and `str`\n",
    "::: "
   ]
  },
  {
   "attachments": {},
   "cell_type": "markdown",
   "metadata": {
    "id": "OLzFLmBnS3Uz",
    "nbgrader": {
     "grade": false,
     "locked": true,
     "solution": false
    }
   },
   "source": [
    "### Assigning Variables\n",
    "\n",
    "Variable assignment follows <b><code>variable_name = value</code></b>, where a single equal sign $=$ is an <b>assignment operator</b>. More on operators will be covered in the next section. Let's see a few examples of how we can do this."
   ]
  },
  {
   "cell_type": "code",
   "execution_count": 2,
   "metadata": {
    "collapsed": true,
    "id": "-oXjFB0TS3U0",
    "nbgrader": {
     "grade": false,
     "locked": true,
     "solution": false
    }
   },
   "outputs": [],
   "source": [
    "# Let's create an object called \"a\" and assign it the number 5\n",
    "a = 5"
   ]
  },
  {
   "attachments": {},
   "cell_type": "markdown",
   "metadata": {
    "id": "loj_CSZ3S3U0",
    "nbgrader": {
     "grade": false,
     "locked": true,
     "solution": false
    }
   },
   "source": [
    "Now if I call `a` in my Python script, Python will treat it as the number $5$."
   ]
  },
  {
   "cell_type": "code",
   "execution_count": 3,
   "metadata": {
    "collapsed": true,
    "id": "-NydcpOmS3U0",
    "nbgrader": {
     "grade": false,
     "locked": true,
     "solution": false
    },
    "outputId": "0f54e2c6-c3b9-4247-94cd-0b341a2ad352"
   },
   "outputs": [
    {
     "data": {
      "text/plain": [
       "10"
      ]
     },
     "execution_count": 3,
     "metadata": {},
     "output_type": "execute_result"
    }
   ],
   "source": [
    "# Adding the objects\n",
    "a + a"
   ]
  },
  {
   "attachments": {},
   "cell_type": "markdown",
   "metadata": {
    "id": "xPQ0wjwUS3U0",
    "nbgrader": {
     "grade": false,
     "locked": true,
     "solution": false
    }
   },
   "source": [
    "What happens on reassignment? Will Python let us write over it?"
   ]
  },
  {
   "cell_type": "code",
   "execution_count": 4,
   "metadata": {
    "collapsed": true,
    "id": "q-fGZ0wMS3U0",
    "nbgrader": {
     "grade": false,
     "locked": true,
     "solution": false
    }
   },
   "outputs": [],
   "source": [
    "# Reassignment\n",
    "a = 20"
   ]
  },
  {
   "cell_type": "code",
   "execution_count": 5,
   "metadata": {
    "collapsed": true,
    "id": "d-6rzYcpS3U1",
    "nbgrader": {
     "grade": false,
     "locked": true,
     "solution": false
    },
    "outputId": "5e2f705f-9f13-4a46-cdc9-cac34cbc12e7"
   },
   "outputs": [
    {
     "name": "stdout",
     "output_type": "stream",
     "text": [
      "20\n"
     ]
    }
   ],
   "source": [
    "# Check\n",
    "print(a)"
   ]
  },
  {
   "attachments": {},
   "cell_type": "markdown",
   "metadata": {
    "id": "8CcorXSqS3U1",
    "nbgrader": {
     "grade": false,
     "locked": true,
     "solution": false
    }
   },
   "source": [
    "Yes! Python allows you to overwrite assigned variable names. We can also use the variables themselves when doing the reassignment."
   ]
  },
  {
   "attachments": {},
   "cell_type": "markdown",
   "metadata": {
    "id": "uqCmRVkbS3U1",
    "nbgrader": {
     "grade": false,
     "locked": true,
     "solution": false
    }
   },
   "source": [
    "Since <b><code>a = 20</code></b> was the last assignment to our variable <b><code>a</code></b>, you can keep using <b><code>a</code></b> in place of the number <b><code>20</code></b>:"
   ]
  },
  {
   "cell_type": "code",
   "execution_count": 6,
   "metadata": {
    "collapsed": true,
    "id": "QMktLeFOS3U2",
    "nbgrader": {
     "grade": false,
     "locked": true,
     "solution": false
    },
    "outputId": "a9467aa2-393f-4961-cec0-4c36dac6e26d"
   },
   "outputs": [
    {
     "data": {
      "text/plain": [
       "40"
      ]
     },
     "execution_count": 6,
     "metadata": {},
     "output_type": "execute_result"
    }
   ],
   "source": [
    "a + a"
   ]
  },
  {
   "attachments": {},
   "cell_type": "markdown",
   "metadata": {
    "id": "AjrlLAw7S3U2",
    "nbgrader": {
     "grade": false,
     "locked": true,
     "solution": false
    }
   },
   "source": [
    "Instead of writing <b><code>a+a</code></b>, Python has a built-in shortcut for these simple operations.<br><br>You can add, subtract, multiply and divide numbers with reassignment using <b><code>+=</code></b>, <b><code>-=</code></b>, <b><code>*=</code></b>, and <b><code>/=</code></b>, respectively."
   ]
  },
  {
   "cell_type": "code",
   "execution_count": 7,
   "metadata": {
    "collapsed": true,
    "id": "ho172OFAS3U2",
    "nbgrader": {
     "grade": false,
     "locked": true,
     "solution": false
    }
   },
   "outputs": [],
   "source": [
    "a += 10"
   ]
  },
  {
   "attachments": {},
   "cell_type": "markdown",
   "metadata": {
    "id": "de87302a",
    "nbgrader": {
     "grade": false,
     "locked": true,
     "solution": false
    }
   },
   "source": [
    "The above code will add **`10`** to the variable **`a`** every time you run that cell. \n",
    "\n",
    "Try it yourself, run it a few times and then run the below cell to see what's the value of **`a`**\n",
    "."
   ]
  },
  {
   "cell_type": "code",
   "execution_count": 8,
   "metadata": {
    "collapsed": true,
    "id": "tzz54psQS3U4",
    "nbgrader": {
     "grade": false,
     "locked": true,
     "solution": false
    },
    "outputId": "9227bb53-b2b5-4cf1-e438-eb61095b1b1e"
   },
   "outputs": [
    {
     "name": "stdout",
     "output_type": "stream",
     "text": [
      "30\n"
     ]
    }
   ],
   "source": [
    "print(a)"
   ]
  },
  {
   "attachments": {},
   "cell_type": "markdown",
   "metadata": {
    "id": "df4c695a",
    "nbgrader": {
     "grade": false,
     "locked": true,
     "solution": false
    }
   },
   "source": [
    "Below an example of a code that will double **`a`** every time that you run that cell."
   ]
  },
  {
   "cell_type": "code",
   "execution_count": 9,
   "metadata": {
    "collapsed": true,
    "id": "Sv2xzyhVS3U9",
    "nbgrader": {
     "grade": false,
     "locked": true,
     "solution": false
    }
   },
   "outputs": [
    {
     "name": "stdout",
     "output_type": "stream",
     "text": [
      "60\n"
     ]
    }
   ],
   "source": [
    "a *= 2\n",
    "print(a)"
   ]
  },
  {
   "attachments": {},
   "cell_type": "markdown",
   "metadata": {
    "id": "gH1ebT4sS3VB",
    "nbgrader": {
     "grade": false,
     "locked": true,
     "solution": false
    }
   },
   "source": [
    "### Determining variable type with <b><code>type()</code></b>\n",
    "\n",
    "You can check what type of object is assigned to a variable using Python's built-in <b><code>type()</code></b> function. Common data types include:\n",
    "\n",
    "\n",
    "* **int** (for integer numbers)\n",
    "* **float** (for floating point / all real numbers)\n",
    "* **str** (for string/text)\n",
    "* **bool** (for Boolean True/False)\n",
    "* **list**\n",
    "* **tuple**\n",
    "* **dict** \n",
    "* **set**\n",
    "\n",
    "\n",
    "::: {warning}\n",
    "Always check the type of your variables when debugging!\n",
    ":::"
   ]
  },
  {
   "attachments": {},
   "cell_type": "markdown",
   "metadata": {
    "id": "87e243a7",
    "nbgrader": {
     "grade": false,
     "locked": true,
     "solution": false
    }
   },
   "source": [
    "Below a few examples:"
   ]
  },
  {
   "cell_type": "code",
   "execution_count": 10,
   "metadata": {
    "collapsed": true,
    "id": "-DASPgHDS3VC",
    "nbgrader": {
     "grade": false,
     "locked": true,
     "solution": false
    },
    "outputId": "78ab767e-0978-4526-81e0-c79b369c2ae6"
   },
   "outputs": [
    {
     "data": {
      "text/plain": [
       "int"
      ]
     },
     "execution_count": 10,
     "metadata": {},
     "output_type": "execute_result"
    }
   ],
   "source": [
    "type(a)"
   ]
  },
  {
   "cell_type": "code",
   "execution_count": 11,
   "metadata": {
    "collapsed": true,
    "id": "151cff3a",
    "nbgrader": {
     "grade": false,
     "locked": true,
     "solution": false
    },
    "outputId": "483b66c5-0363-43f4-f716-46f6ad86721f"
   },
   "outputs": [
    {
     "data": {
      "text/plain": [
       "float"
      ]
     },
     "execution_count": 11,
     "metadata": {},
     "output_type": "execute_result"
    }
   ],
   "source": [
    "float_var = 3.1415\n",
    "type(float_var)"
   ]
  },
  {
   "cell_type": "code",
   "execution_count": 12,
   "metadata": {
    "collapsed": true,
    "nbgrader": {
     "grade": false,
     "locked": true,
     "solution": false
    }
   },
   "outputs": [
    {
     "name": "stdout",
     "output_type": "stream",
     "text": [
      "0.09999999999999998\n"
     ]
    }
   ],
   "source": [
    "a = 0.3\n",
    "b = 0.2\n",
    "c = a-b\n",
    "print(c)"
   ]
  },
  {
   "attachments": {},
   "cell_type": "markdown",
   "metadata": {
    "nbgrader": {
     "grade": false,
     "locked": true,
     "solution": false
    }
   },
   "source": [
    "You probably noticed that Python wrote $0.09999999999999998$ instead of $1$ when calculating $0.3 - 0.2$. Ignore it for now, this is explained later in this Notebook."
   ]
  },
  {
   "cell_type": "code",
   "execution_count": 13,
   "metadata": {
    "collapsed": true,
    "id": "ced9ae02",
    "nbgrader": {
     "grade": false,
     "locked": true,
     "solution": false
    },
    "outputId": "49d1b418-5b8f-48a9-c27f-84c5ccba21d1"
   },
   "outputs": [
    {
     "data": {
      "text/plain": [
       "bool"
      ]
     },
     "execution_count": 13,
     "metadata": {},
     "output_type": "execute_result"
    }
   ],
   "source": [
    "type(1<2)"
   ]
  },
  {
   "attachments": {},
   "cell_type": "markdown",
   "metadata": {
    "id": "cbabd161",
    "nbgrader": {
     "grade": false,
     "locked": true,
     "solution": false
    }
   },
   "source": [
    "Boolean variables can only take on two values: <b><code>True</code></b> or <b><code>False</code></b>. They are often used to check conditions."
   ]
  },
  {
   "cell_type": "code",
   "execution_count": 14,
   "metadata": {
    "collapsed": true,
    "id": "6e138f75",
    "nbgrader": {
     "grade": false,
     "locked": true,
     "solution": false
    },
    "outputId": "3a510470-c9ef-4501-9772-99fc52253c7f"
   },
   "outputs": [
    {
     "data": {
      "text/plain": [
       "True"
      ]
     },
     "execution_count": 14,
     "metadata": {},
     "output_type": "execute_result"
    }
   ],
   "source": [
    "1<2"
   ]
  },
  {
   "cell_type": "code",
   "execution_count": 15,
   "metadata": {
    "collapsed": true,
    "id": "4036bc6d",
    "nbgrader": {
     "grade": false,
     "locked": true,
     "solution": false
    },
    "outputId": "b34edd29-6020-47ec-cd03-14e0b1607413"
   },
   "outputs": [
    {
     "data": {
      "text/plain": [
       "str"
      ]
     },
     "execution_count": 15,
     "metadata": {},
     "output_type": "execute_result"
    }
   ],
   "source": [
    "# the variable from the first script\n",
    "type(message)"
   ]
  },
  {
   "attachments": {},
   "cell_type": "markdown",
   "metadata": {
    "id": "b358494d",
    "nbgrader": {
     "grade": false,
     "locked": true,
     "solution": false
    }
   },
   "source": [
    "<b>Strings</b> are variables represented in between <b><code>' '</code></b> or <b><code>\" \"</code></b>.<br><br>They are a <b>sequence</b> of values, therefore you are able to access and manipulate every character individually.<br><br>This is done with the bracket operator <b><code>[]</code></b>, which works as an <b>index</b>.<br><br>Let's take a look at our first variable from this notebook: <b><code>message</code></b>."
   ]
  },
  {
   "cell_type": "code",
   "execution_count": 16,
   "metadata": {
    "collapsed": true,
    "id": "493e9703",
    "nbgrader": {
     "grade": false,
     "locked": true,
     "solution": false
    },
    "outputId": "18bf0c72-1e6d-49cc-90ed-79cd3793f345"
   },
   "outputs": [
    {
     "data": {
      "text/plain": [
       "'Hello world!'"
      ]
     },
     "execution_count": 16,
     "metadata": {},
     "output_type": "execute_result"
    }
   ],
   "source": [
    "message"
   ]
  },
  {
   "cell_type": "code",
   "execution_count": 17,
   "metadata": {
    "collapsed": true,
    "id": "9509e9ae",
    "nbgrader": {
     "grade": false,
     "locked": true,
     "solution": false
    },
    "outputId": "71b77b96-56ac-4fec-eeec-5de598c393f2"
   },
   "outputs": [
    {
     "data": {
      "text/plain": [
       "'e'"
      ]
     },
     "execution_count": 17,
     "metadata": {},
     "output_type": "execute_result"
    }
   ],
   "source": [
    "message[1]"
   ]
  },
  {
   "attachments": {},
   "cell_type": "markdown",
   "metadata": {
    "id": "d378e554",
    "nbgrader": {
     "grade": false,
     "locked": true,
     "solution": false
    }
   },
   "source": [
    "<b>Nani???</b>"
   ]
  },
  {
   "attachments": {},
   "cell_type": "markdown",
   "metadata": {
    "id": "52be9a23",
    "nbgrader": {
     "grade": false,
     "locked": true,
     "solution": false
    }
   },
   "source": [
    "Why index <b><code>[1]</code></b> gave us the second letter? For most people, the first letter of the sentence <b><code>Hello world!</code></b> is <b><code>H</code></b> not <b><code>e</code></b>.\n",
    "\n",
    "So.. what happened?\n",
    "\n",
    "In Python, indexing starts at **`[0]`**. **`H`** is the *zero-th* character of **`Hello world!`**."
   ]
  },
  {
   "cell_type": "code",
   "execution_count": 18,
   "metadata": {
    "collapsed": true,
    "id": "00bd0987",
    "nbgrader": {
     "grade": false,
     "locked": true,
     "solution": false
    },
    "outputId": "c62d6076-38bf-4a61-f153-aa50ca7c75fa"
   },
   "outputs": [
    {
     "data": {
      "text/plain": [
       "'H'"
      ]
     },
     "execution_count": 18,
     "metadata": {},
     "output_type": "execute_result"
    }
   ],
   "source": [
    "message[0]"
   ]
  },
  {
   "attachments": {},
   "cell_type": "markdown",
   "metadata": {
    "id": "7cc759c9",
    "nbgrader": {
     "grade": false,
     "locked": true,
     "solution": false
    }
   },
   "source": [
    "You can also access the last value of a string using the index <b><code>[-1]</code></b>, the before-last using <b><code>[-2]</code></b> and so forth.. This will turn out to be very useful!"
   ]
  },
  {
   "cell_type": "code",
   "execution_count": 19,
   "metadata": {
    "collapsed": true,
    "id": "6f9dbc4a",
    "nbgrader": {
     "grade": false,
     "locked": true,
     "solution": false
    },
    "outputId": "2b4ac665-2aba-42a0-e5ea-bc8621f1574e"
   },
   "outputs": [
    {
     "data": {
      "text/plain": [
       "'!'"
      ]
     },
     "execution_count": 19,
     "metadata": {},
     "output_type": "execute_result"
    }
   ],
   "source": [
    "message[-1]"
   ]
  },
  {
   "attachments": {},
   "cell_type": "markdown",
   "metadata": {
    "id": "27920277",
    "nbgrader": {
     "grade": false,
     "locked": true,
     "solution": false
    }
   },
   "source": [
    "Strings are also immutable. You cannot reassign a new value for one of the characters. You will have to create a new string for that."
   ]
  },
  {
   "cell_type": "code",
   "execution_count": 20,
   "metadata": {
    "collapsed": true,
    "id": "11579009",
    "nbgrader": {
     "grade": false,
     "locked": true,
     "solution": false
    },
    "outputId": "28eb007f-7adf-4108-fb8a-6db5e0bcfa05"
   },
   "outputs": [
    {
     "ename": "TypeError",
     "evalue": "'str' object does not support item assignment",
     "output_type": "error",
     "traceback": [
      "\u001b[1;31m---------------------------------------------------------------------------\u001b[0m",
      "\u001b[1;31mTypeError\u001b[0m                                 Traceback (most recent call last)",
      "Cell \u001b[1;32mIn[20], line 1\u001b[0m\n\u001b[1;32m----> 1\u001b[0m message[\u001b[39m0\u001b[39m] \u001b[39m=\u001b[39m \u001b[39m'\u001b[39m\u001b[39mJ\u001b[39m\u001b[39m'\u001b[39m\n",
      "\u001b[1;31mTypeError\u001b[0m: 'str' object does not support item assignment"
     ]
    }
   ],
   "source": [
    "message[0] = 'J'"
   ]
  },
  {
   "attachments": {},
   "cell_type": "markdown",
   "metadata": {
    "id": "5777fe12",
    "nbgrader": {
     "grade": false,
     "locked": true,
     "solution": false
    }
   },
   "source": [
    "You can also add (i.e. concatenate) strings and characters. But it will create a new string, it will not modify the old one (since they are immutable)."
   ]
  },
  {
   "cell_type": "code",
   "execution_count": 21,
   "metadata": {
    "collapsed": true,
    "id": "5a8eab89",
    "nbgrader": {
     "grade": false,
     "locked": true,
     "solution": false
    },
    "outputId": "f886a8eb-8238-4c49-9c54-caae38e268b2"
   },
   "outputs": [
    {
     "data": {
      "text/plain": [
       "'Hello world!Hello world!'"
      ]
     },
     "execution_count": 21,
     "metadata": {},
     "output_type": "execute_result"
    }
   ],
   "source": [
    "message + message"
   ]
  },
  {
   "cell_type": "code",
   "execution_count": 22,
   "metadata": {
    "collapsed": true,
    "id": "a2164ca2",
    "nbgrader": {
     "grade": false,
     "locked": true,
     "solution": false
    },
    "outputId": "dde3141d-6812-454f-d960-4763d4552dbc"
   },
   "outputs": [
    {
     "data": {
      "text/plain": [
       "'Hell'"
      ]
     },
     "execution_count": 22,
     "metadata": {},
     "output_type": "execute_result"
    }
   ],
   "source": [
    "message[0]+message[1]+message[2]+message[3]"
   ]
  },
  {
   "attachments": {},
   "cell_type": "markdown",
   "metadata": {
    "id": "88633538",
    "nbgrader": {
     "grade": false,
     "locked": true,
     "solution": false
    }
   },
   "source": [
    "A segment of a string is called a <b>slice</b>. Selecting a slice is similar to selecting a character. Using the operator <b><code>:</code></b> you select the first value that you want to <b>get</b>, and the first value you want to <b>leave out</b> of the slice, for example:<br><br>\n",
    "\n",
    "Let's say we want to write the word <b>Hell</b> using our variable <b><code>message</code></b>, without having to type as much as above.\n",
    "\n",
    "1. Which letter is the first we want to <b>get</b>? **`H`**, which has index **`[0]`**.\n",
    "\n",
    "2. Which letter is the first we want to <b>leave out</b>? **`o`**, which has index **`[4]`**. So..."
   ]
  },
  {
   "cell_type": "code",
   "execution_count": 23,
   "metadata": {
    "collapsed": true,
    "id": "c65d21c0",
    "nbgrader": {
     "grade": false,
     "locked": true,
     "solution": false
    },
    "outputId": "d2317d7f-3f16-4e60-8f99-a9dc7c8543d8"
   },
   "outputs": [
    {
     "data": {
      "text/plain": [
       "'Hell'"
      ]
     },
     "execution_count": 23,
     "metadata": {},
     "output_type": "execute_result"
    }
   ],
   "source": [
    "message[0:4]"
   ]
  },
  {
   "attachments": {},
   "cell_type": "markdown",
   "metadata": {
    "id": "ac154077",
    "nbgrader": {
     "grade": false,
     "locked": true,
     "solution": false
    }
   },
   "source": [
    "One can also use our variable <code>message</code> to write the sentence <b><code>Hold door</code></b>."
   ]
  },
  {
   "cell_type": "code",
   "execution_count": 25,
   "metadata": {
    "collapsed": true,
    "nbgrader": {
     "grade": false,
     "locked": true,
     "solution": false
    }
   },
   "outputs": [
    {
     "data": {
      "text/plain": [
       "'Hold door'"
      ]
     },
     "execution_count": 25,
     "metadata": {},
     "output_type": "execute_result"
    }
   ],
   "source": [
    "message[0]+message[4]+message[-3:-1]+message[5]+message[-2]+2*message[4]+message[-4]"
   ]
  },
  {
   "attachments": {},
   "cell_type": "markdown",
   "metadata": {
    "id": "b5eea88c",
    "nbgrader": {
     "grade": false,
     "locked": true,
     "solution": false
    }
   },
   "source": [
    "::: {note}\n",
    "Real life example: Analyzing satellite data<br><br></b>Sentinel data title is formatted as: <b>S1A_IW_SLC__1SDV_20181205T015821_20181205T015851_024884_02BD8C_8700</b><br>\n",
    "    where each part means something, S1A means Sentinel-1A, IW means Interferometric Wide Swath<br> 20181205T015821 is a date, 2018 12 05, at 01h58m21s, etc.<br><br> Therefore, being able to manipulate this string is fundamental in order to organize and select satellite data. \n",
    "::: "
   ]
  },
  {
   "attachments": {},
   "cell_type": "markdown",
   "metadata": {
    "nbgrader": {
     "grade": false,
     "locked": true,
     "solution": false
    }
   },
   "source": [
    "### Dynamic Typing\n",
    "\n",
    "The way the computer is able to use the stored data becomes an attribute of the stored data. This attribute is called a <b>data type</b>. Python uses <b>dynamic typing</b>, meaning you can also reassign variables to different data types. This makes Python very flexible in assigning data types; it differs from other languages that are <b>statically typed</b>."
   ]
  },
  {
   "attachments": {},
   "cell_type": "markdown",
   "metadata": {
    "nbgrader": {
     "grade": false,
     "locked": true,
     "solution": false
    }
   },
   "source": [
    "#### Pros and Cons of Dynamic Typing\n",
    "##### Pros of Dynamic Typing\n",
    "* very easy to work with\n",
    "* faster development time\n",
    "\n",
    "##### Cons of Dynamic Typing\n",
    "* may result in unexpected bugs!\n",
    "* you need to be aware of **`type()`**."
   ]
  },
  {
   "cell_type": "code",
   "execution_count": 26,
   "metadata": {
    "collapsed": true,
    "nbgrader": {
     "grade": false,
     "locked": true,
     "solution": false
    }
   },
   "outputs": [
    {
     "name": "stdout",
     "output_type": "stream",
     "text": [
      "Type of a is = <class 'int'>\n",
      "Type of a is = <class 'str'>\n"
     ]
    }
   ],
   "source": [
    "a = 5\n",
    "print('Type of a is =',type(a))\n",
    "a = 'string'\n",
    "print('Type of a is =',type(a))"
   ]
  },
  {
   "attachments": {},
   "cell_type": "markdown",
   "metadata": {
    "nbgrader": {
     "grade": false,
     "locked": true,
     "solution": false
    }
   },
   "source": [
    "See, now **`a`** is no longer an **`int`** type but a **`str`** type"
   ]
  },
  {
   "attachments": {},
   "cell_type": "markdown",
   "metadata": {
    "nbgrader": {
     "grade": false,
     "locked": true,
     "solution": false
    }
   },
   "source": [
    "### Casting types\n",
    "\n",
    "Sometimes you want to change the type of a variable. For example, there is no point in arithmetically adding a number to a string. Or, when estimating the amount of oil wells, those should be integers (how would you build $2.5$ wells?). These two problems can be sometimes solved with casting.<br><br><b>Casting</b> is a procedure of changing variables type. Actually, you create a new variable with the requested data type using the variable you want to alter.\n",
    "\n",
    "Examples are shown below.\n",
    "    "
   ]
  },
  {
   "cell_type": "code",
   "execution_count": 27,
   "metadata": {
    "collapsed": true,
    "nbgrader": {
     "grade": false,
     "locked": true,
     "solution": false
    }
   },
   "outputs": [
    {
     "name": "stdout",
     "output_type": "stream",
     "text": [
      "123 <class 'str'>\n",
      "123 <class 'int'>\n"
     ]
    }
   ],
   "source": [
    "string_number = '123'\n",
    "print(string_number, type(string_number))\n",
    "\n",
    "integer_number = int(string_number)\n",
    "print(integer_number, type(integer_number))"
   ]
  },
  {
   "attachments": {},
   "cell_type": "markdown",
   "metadata": {
    "nbgrader": {
     "grade": false,
     "locked": true,
     "solution": false
    }
   },
   "source": [
    "As you can see, both variables look the same in the output but their type now is different. Because of that, the cell below will result in an error."
   ]
  },
  {
   "cell_type": "code",
   "execution_count": 28,
   "metadata": {
    "collapsed": true,
    "nbgrader": {
     "grade": false,
     "locked": true,
     "solution": false
    }
   },
   "outputs": [
    {
     "ename": "TypeError",
     "evalue": "can only concatenate str (not \"int\") to str",
     "output_type": "error",
     "traceback": [
      "\u001b[1;31m---------------------------------------------------------------------------\u001b[0m",
      "\u001b[1;31mTypeError\u001b[0m                                 Traceback (most recent call last)",
      "Cell \u001b[1;32mIn[28], line 1\u001b[0m\n\u001b[1;32m----> 1\u001b[0m string_number \u001b[39m+\u001b[39;49m \u001b[39m5\u001b[39;49m\n",
      "\u001b[1;31mTypeError\u001b[0m: can only concatenate str (not \"int\") to str"
     ]
    }
   ],
   "source": [
    "string_number + 5"
   ]
  },
  {
   "attachments": {},
   "cell_type": "markdown",
   "metadata": {
    "nbgrader": {
     "grade": false,
     "locked": true,
     "solution": false
    }
   },
   "source": [
    "But the next cell will run normally."
   ]
  },
  {
   "cell_type": "code",
   "execution_count": 29,
   "metadata": {
    "collapsed": true,
    "nbgrader": {
     "grade": false,
     "locked": true,
     "solution": false
    }
   },
   "outputs": [
    {
     "data": {
      "text/plain": [
       "128"
      ]
     },
     "execution_count": 29,
     "metadata": {},
     "output_type": "execute_result"
    }
   ],
   "source": [
    "integer_number + 5"
   ]
  },
  {
   "attachments": {},
   "cell_type": "markdown",
   "metadata": {
    "nbgrader": {
     "grade": false,
     "locked": true,
     "solution": false
    }
   },
   "source": [
    "### How do computers read variables?\n",
    "\n",
    "Computers and humans have different views on data. We, fellow humans, can easily read poetry and enjoy music. Computers are limited in that sense and they can operate on a really primitive level. They cannot even read normal text, for a computer, everything is represented with numbers. One of the popular text encodings <b>ASCII</b> has a table, where every symbol there is an integer number assigned to it. Letter 'a', for instance, has a value of $97$, and letter 'A' has a value of $65$. The value of 'B' is $66$ and if we want to take the letter before 'B' we just calculate $66 - 1$. You don't have to open an alphabet and, therefore, it is easier to work with numbers than with letters.<br><br>But even for numbers, computers have their own approach. On a really low level, all numbers are stored and operated in their binary form. Number $5$ becomes $101$, because $5 = 1\\cdot2^2 + 0 \\cdot2^1 + 1\\cdot2^0$. And since all symbols are also represented with numbers, it is not hard for computers to operate with them. But what about the floating numbers? How do you represent $1.5$ or $\\pi$? Well, computers try to represent them with binary code, which introduces some problems. In order to represent a fraction, they need an infinite amount of bits, to obtain the precision we use in math. But that's impossible! In other words, small errors will always be present in calculations as simple as $0.3 - 0.2$. From your math classes you know that the result of $0.3 - 0.2 = 0.1$, not $0.10001$ or $0.09999$. But try to run the cell below and see the result."
   ]
  },
  {
   "cell_type": "code",
   "execution_count": 30,
   "metadata": {
    "collapsed": true,
    "nbgrader": {
     "grade": false,
     "locked": true,
     "solution": false
    }
   },
   "outputs": [
    {
     "data": {
      "text/plain": [
       "0.19999999999999998"
      ]
     },
     "execution_count": 30,
     "metadata": {},
     "output_type": "execute_result"
    }
   ],
   "source": [
    "0.3 - 0.1"
   ]
  },
  {
   "attachments": {},
   "cell_type": "markdown",
   "metadata": {
    "nbgrader": {
     "grade": false,
     "locked": true,
     "solution": false
    }
   },
   "source": [
    "It is not what you would expect to see, right? The result has an error of $\\approx 10^{-15}$. In most cases, it can be neglected but be careful when comparing <b><code>float</code></b> and <b><code>int</code></b> numbers, as shown below."
   ]
  },
  {
   "cell_type": "code",
   "execution_count": 31,
   "metadata": {
    "collapsed": true,
    "nbgrader": {
     "grade": false,
     "locked": true,
     "solution": false
    }
   },
   "outputs": [
    {
     "data": {
      "text/plain": [
       "False"
      ]
     },
     "execution_count": 31,
     "metadata": {},
     "output_type": "execute_result"
    }
   ],
   "source": [
    "0.2 == 0.3-0.1"
   ]
  },
  {
   "attachments": {},
   "cell_type": "markdown",
   "metadata": {
    "nbgrader": {
     "grade": false,
     "locked": true,
     "solution": false
    }
   },
   "source": [
    "Indeed, $0.2 \\neq 0.19999999999999998$."
   ]
  },
  {
   "attachments": {},
   "cell_type": "markdown",
   "metadata": {
    "nbgrader": {
     "grade": false,
     "locked": true,
     "solution": false
    }
   },
   "source": [
    "::: {note}\n",
    "Within this course, in the end of each section you'll find exercises related to the subject that was just covered. There are three types of exercises: normal, fixing and searching.\n",
    "\n",
    "Normal exercises are straight forward exercises that you should be able to solve without much trouble.\n",
    "Fixing exercises are exercises where some piece of code is already written and you need to debug it (find the root of the error and fix it).\n",
    "\n",
    "Searching exercises are exercises that purposefully incorporate subjects that were not covered yet, in an attempt to encourage you to try and solve issues you haven't learned about yet.\n",
    ":::"
   ]
  },
  {
   "attachments": {},
   "cell_type": "markdown",
   "metadata": {
    "id": "Tpeh8gLqS3V4",
    "nbgrader": {
     "grade": false,
     "locked": true,
     "solution": false
    }
   },
   "source": [
    "## 1.3 Python Operators\n",
    "\n",
    "Python <b>operators</b> are used to perform operations on variables and values. They are symbols that represent a form of computation; think of addition or multiplication. The value to which this computation is applied to is called the <i>'operand'</i>. Most of the common operators you will recognize from mathematics."
   ]
  },
  {
   "attachments": {},
   "cell_type": "markdown",
   "metadata": {
    "id": "1yHso5KtS3WC",
    "nbgrader": {
     "grade": false,
     "locked": true,
     "solution": false
    }
   },
   "source": [
    "<h3> Arithmetic Operators </h3>\n",
    "\n",
    "| Math sign | Python sign | name |\n",
    "| :-: | :-: |:-:|\n",
    "| + | + | addition |\n",
    "| - | - | subtraction |\n",
    "| * | * | multiplication |\n",
    "| / | / | division |\n",
    "| ^ | ** | exponentiation |\n",
    "| mod | % | modulus |\n",
    "|  | // | floor division |\n",
    "\n",
    "\n",
    "<br>Most of the mathematical symbols stay the same when transforming a piece of mathematics to Python. Note that the exponentiation sign is a double multiplication sign!<br><br>\n",
    "The last two operators, modulus and floor division, can be defined as the following:<br>\n",
    "- modulus: return the remainder of a division<br>\n",
    "- floor division: returns the integer/whole part of the division\n"
   ]
  },
  {
   "attachments": {},
   "cell_type": "markdown",
   "metadata": {
    "id": "Ijx03oCKS3WD",
    "nbgrader": {
     "grade": false,
     "locked": true,
     "solution": false
    }
   },
   "source": [
    "Now we will provide some small examples\n",
    "\n",
    "a. multiply 4 by 3 and then add 2\n",
    "\n",
    "b. 2 to the power of 4 plus 1\n",
    "\n",
    "c. take the modulus of 352 over 23\n",
    "\n",
    "d. the floor division of 352 over 23\n",
    "\n",
    "\n"
   ]
  },
  {
   "cell_type": "code",
   "execution_count": 32,
   "metadata": {
    "colab": {
     "base_uri": "https://localhost:8080/"
    },
    "collapsed": true,
    "id": "wOPRR9oLS3WD",
    "nbgrader": {
     "grade": false,
     "locked": true,
     "solution": false
    },
    "outputId": "d888e6de-7185-453a-a33e-dc2f38817e9f"
   },
   "outputs": [
    {
     "name": "stdout",
     "output_type": "stream",
     "text": [
      "14\n"
     ]
    }
   ],
   "source": [
    "a = 2 + 4 * 3\n",
    "print(a)"
   ]
  },
  {
   "cell_type": "code",
   "execution_count": 33,
   "metadata": {
    "colab": {
     "base_uri": "https://localhost:8080/"
    },
    "collapsed": true,
    "id": "V50AuE4US3WD",
    "nbgrader": {
     "grade": false,
     "locked": true,
     "solution": false
    },
    "outputId": "d7518f7e-535f-4ea2-a233-06e71de779be"
   },
   "outputs": [
    {
     "name": "stdout",
     "output_type": "stream",
     "text": [
      "17\n"
     ]
    }
   ],
   "source": [
    "b = 2**4 + 1\n",
    "print(b)"
   ]
  },
  {
   "cell_type": "code",
   "execution_count": 34,
   "metadata": {
    "colab": {
     "base_uri": "https://localhost:8080/"
    },
    "collapsed": true,
    "id": "a674y2ZoS3WE",
    "nbgrader": {
     "grade": false,
     "locked": true,
     "solution": false
    },
    "outputId": "2b8bfe90-f5db-40b7-beac-119d63142e3f"
   },
   "outputs": [
    {
     "name": "stdout",
     "output_type": "stream",
     "text": [
      "7\n"
     ]
    }
   ],
   "source": [
    "c = 352 % 23\n",
    "print(c)"
   ]
  },
  {
   "attachments": {},
   "cell_type": "markdown",
   "metadata": {
    "nbgrader": {
     "grade": false,
     "locked": true,
     "solution": false
    }
   },
   "source": [
    "Explanation: $352 = 15 \\times 23 + 7$, therefore the **modulus operator** returns the value $7$."
   ]
  },
  {
   "cell_type": "code",
   "execution_count": 35,
   "metadata": {
    "collapsed": true,
    "nbgrader": {
     "grade": false,
     "locked": true,
     "solution": false
    }
   },
   "outputs": [
    {
     "name": "stdout",
     "output_type": "stream",
     "text": [
      "15\n"
     ]
    }
   ],
   "source": [
    "d = 352 // 23\n",
    "print(d)"
   ]
  },
  {
   "attachments": {},
   "cell_type": "markdown",
   "metadata": {
    "nbgrader": {
     "grade": false,
     "locked": true,
     "solution": false
    }
   },
   "source": [
    "Explanation: $352 = 15 \\times 23 + 7$, therefore the **floor division operator** returns the value $15$."
   ]
  },
  {
   "attachments": {},
   "cell_type": "markdown",
   "metadata": {
    "id": "w3HQ3fRHS3WE",
    "nbgrader": {
     "grade": false,
     "locked": true,
     "solution": false
    }
   },
   "source": [
    "Besides making sure that you use the right operators when writing mathematical functions, it is also important that you pay attention to the order of operators. When not done right, this can cause huge changes in the outcome. Therefore, when writing out large equations it is easier to use parentheses or split it into multiple variables. e.g.:\n",
    "\n",
    "$$y = x\\tan\\theta - \\frac{1}{2v_0^2}\\frac{g x^2}{\\cos^2\\theta} + y_0$$\n",
    "\n",
    "You could split this equation into four distinct variables:\n",
    "\n",
    "1. var_1 $ = x\\tan\\theta$\n",
    "2. var_2 $= \\frac{1}{2v_0^2}$\n",
    "3. var_3 $= \\frac{g x^2}{\\cos^2\\theta}$\n",
    "4. var_4 $= y_0$\n",
    "\n",
    "And then re-write it as ``y = var_1 - (var_2 * var_3) + var_4``"
   ]
  },
  {
   "cell_type": "code",
   "execution_count": 36,
   "metadata": {
    "collapsed": true,
    "nbgrader": {
     "grade": false,
     "locked": true,
     "solution": false
    }
   },
   "outputs": [
    {
     "name": "stdout",
     "output_type": "stream",
     "text": [
      "With parenthesis before = 18\n",
      "With parenthesis after = 14\n"
     ]
    }
   ],
   "source": [
    "parenthesis_before = (2 + 4) * 3\n",
    "print('With parenthesis before =',parenthesis_before)\n",
    "parenthesis_after = 2 + (4 * 3)\n",
    "print('With parenthesis after =',parenthesis_after)"
   ]
  },
  {
   "attachments": {},
   "cell_type": "markdown",
   "metadata": {
    "id": "6vVTBKf2S3WF",
    "nbgrader": {
     "grade": false,
     "locked": true,
     "solution": false
    }
   },
   "source": [
    "### Comparison Operators\n",
    "\n",
    "In Python, you often want to compare a value with another. For that, you use comparison operators.\n",
    "\n",
    "| Math sign | Python sign | Meaning |\n",
    "| :-: | :-: | :-: |\n",
    "| $=$ | ``==`` | Equal to |\n",
    "| $>$ | ``>`` | Greater than |\n",
    "| $>$ | ``<`` | Less than |\n",
    "| $\\geqslant$ | ``>=`` | Greater than or equal to |\n",
    "| $\\leqslant$ | ``<=`` | Less than or equal to |\n",
    "| $\\neq$ | ``!=`` | Not equal to |"
   ]
  },
  {
   "attachments": {},
   "cell_type": "markdown",
   "metadata": {
    "id": "tYgJkAjkS3WF",
    "nbgrader": {
     "grade": false,
     "locked": true,
     "solution": false
    }
   },
   "source": [
    "#### Checking if a value corresponds to the set conditions\n",
    "\n",
    "Check if the the variable **`num`** satisfies the set condition."
   ]
  },
  {
   "cell_type": "code",
   "execution_count": 37,
   "metadata": {
    "colab": {
     "base_uri": "https://localhost:8080/"
    },
    "collapsed": true,
    "id": "cwI6HOvCS3WF",
    "nbgrader": {
     "grade": false,
     "locked": true,
     "solution": false
    },
    "outputId": "8b6f1e68-f812-4758-b66c-8c1ece6e9885"
   },
   "outputs": [
    {
     "name": "stdout",
     "output_type": "stream",
     "text": [
      "True\n"
     ]
    }
   ],
   "source": [
    "num = 6\n",
    "print(num > 2)"
   ]
  },
  {
   "attachments": {},
   "cell_type": "markdown",
   "metadata": {
    "id": "rahfXQevS3WG",
    "nbgrader": {
     "grade": false,
     "locked": true,
     "solution": false
    }
   },
   "source": [
    "If the value does not satisfy the condition the system will return <b><code>False</code></b>"
   ]
  },
  {
   "cell_type": "code",
   "execution_count": 38,
   "metadata": {
    "collapsed": true,
    "id": "n3-STHSWS3WG",
    "nbgrader": {
     "grade": false,
     "locked": true,
     "solution": false
    },
    "outputId": "6796f022-fc31-4a4c-cb2e-9242d0be0761"
   },
   "outputs": [
    {
     "name": "stdout",
     "output_type": "stream",
     "text": [
      "False\n"
     ]
    }
   ],
   "source": [
    "print(num > 7)"
   ]
  },
  {
   "attachments": {},
   "cell_type": "markdown",
   "metadata": {
    "id": "k1fHyoR_S3WH",
    "nbgrader": {
     "grade": false,
     "locked": true,
     "solution": false
    }
   },
   "source": [
    "\n",
    "### Logical & Identity Operators\n",
    " \n",
    " |sign|description|\n",
    " |:-:|:-:|\n",
    " |and|returns True if both statements are true|\n",
    " |or|return True if at least 1 statements is true|\n",
    " |not|reverse of the results; returns False if the statement is True|\n",
    " |is|returns True if both variables are the same object|\n",
    " |is not|returns True if both variables are not the same object|\n",
    " |in|returns True if a sequence with the specified value is present in the object|\n",
    " |in not|returns True if a sequence with the specified value is not present in the object|"
   ]
  },
  {
   "attachments": {},
   "cell_type": "markdown",
   "metadata": {
    "id": "z-vMNiI9S3WH",
    "nbgrader": {
     "grade": false,
     "locked": true,
     "solution": false
    }
   },
   "source": [
    "#### <code>and</code></b> statement\n",
    "\n",
    "By using the <b><code>and</code></b> statement you can set multiple conditions for the system to return. This can be seen as setting a boundary condition for a mathematical function."
   ]
  },
  {
   "cell_type": "code",
   "execution_count": 39,
   "metadata": {
    "collapsed": true,
    "id": "C2nBS6w6S3WH",
    "nbgrader": {
     "grade": false,
     "locked": true,
     "solution": false
    },
    "outputId": "5ec763aa-a8d9-4a76-9442-c7d98a084b0e"
   },
   "outputs": [
    {
     "name": "stdout",
     "output_type": "stream",
     "text": [
      "True\n"
     ]
    }
   ],
   "source": [
    "num = 5\n",
    "print(num > 4 and num < 8)"
   ]
  },
  {
   "attachments": {},
   "cell_type": "markdown",
   "metadata": {
    "id": "jFLv4WxVS3WH",
    "nbgrader": {
     "grade": false,
     "locked": true,
     "solution": false
    }
   },
   "source": [
    "#### checking if a value appears in an object\n",
    "\n",
    "Suppose we have a string \"sandstone\", we can check if a value is present within the string through the following lines of code."
   ]
  },
  {
   "cell_type": "code",
   "execution_count": null,
   "metadata": {
    "collapsed": true,
    "id": "y3hzxJlPS3WH",
    "nbgrader": {
     "grade": false,
     "locked": true,
     "solution": false
    },
    "outputId": "847bb1bc-e366-4e2d-e18a-7e08b54826b8"
   },
   "outputs": [],
   "source": [
    "rock_type = \"sandstone\"\n",
    "print(\"sand\" in rock_type)"
   ]
  },
  {
   "attachments": {},
   "cell_type": "markdown",
   "metadata": {
    "nbgrader": {
     "grade": false,
     "locked": true,
     "solution": false
    }
   },
   "source": [
    "### <code>is</code></b> and <b><code>==</code></b> operators\n",
    "\n",
    "The <b><code>is</code></b> operator deserves a little more explanation since it can be easily confused with the <b><code>==</code></b> operator. The <b><code>is</code></b> statement does not compare the value of a variable but simply checks if two variables are the same object. On the other hand, <b><code>==</code></b> checks if the values of different variables are the same. In the underneath piece of code this is shown quite clearly. Although the values of the variables are the same, their <b><code>type</code></b> is not. Therefore, when compared using the <b><code>is</code></b> operator, it returns <b><code>False</code></b>."
   ]
  },
  {
   "cell_type": "code",
   "execution_count": 40,
   "metadata": {
    "collapsed": true,
    "nbgrader": {
     "grade": false,
     "locked": true,
     "solution": false
    }
   },
   "outputs": [
    {
     "name": "stdout",
     "output_type": "stream",
     "text": [
      "<class 'float'> <class 'int'> False\n",
      "True\n"
     ]
    }
   ],
   "source": [
    "x = 2.0\n",
    "y = 2\n",
    "\n",
    "print(type(x),type(y),x is y)\n",
    "print(x == y)"
   ]
  },
  {
   "attachments": {},
   "cell_type": "markdown",
   "metadata": {
    "nbgrader": {
     "grade": false,
     "locked": true,
     "solution": false
    }
   },
   "source": [
    "## 1.4 Python Functions\n",
    "\n",
    "A <b>function</b> is a collection of code that is assigned to a specific name. You have already seen some built-in Python functions, such as <b><code>print()</code></b>. Using functions is useful because it allows you to run the same code again without having to type it a second time.\n",
    "\n",
    "Below are some examples of common built-in Python functions and what they do:\n",
    "\n",
    "\n",
    "* ``print()``: Prints input to screen\n",
    "* ``type()``: Returns the type of the input\n",
    "* ``abs()``: Returns the absolute value of the input\n",
    "* ``min()``: Returns the minimum value of the input. (input could be a list, tuple, etc.)\n",
    "* ``max()``: Same as above, but returns the maximum value\n",
    "* ``sum()``: Returns the sum of the input (input could be a list, tuple, etc.)\n"
   ]
  },
  {
   "attachments": {},
   "cell_type": "markdown",
   "metadata": {
    "nbgrader": {
     "grade": false,
     "locked": true,
     "solution": false
    }
   },
   "source": [
    "But the story doesn't end at built-in functions. You can also write your own functions!\n",
    "\n",
    "### How to write a function\n",
    "\n",
    "To write a function, you must first define it. This is done by using the <b><code>def</code></b> statement. Then, you name the function and add, in the parentheses, which variables this function takes as an input, followed by a colon. The colon tells Python you are going to define the <b>function body</b> next (the part of the function that actually does the computation). As shown below:<br><br>\n",
    "\n",
    "<center><code>def function_name(input1, input2,...):<br>function_body<br>...<br>...</code></center>\n"
   ]
  },
  {
   "attachments": {},
   "cell_type": "markdown",
   "id": "242bb5c2",
   "metadata": {},
   "source": [
    "\n",
    "The <b><code>calculate_circle_area(r)</code></b> function below defines <b><code>pi</code></b> as a variable and then computes the area of a circle, which is stored in the variable <b><code>area</code></b>. Finally, it uses the <b><code>return</code></b> statement to output the <b><code>area</code></b> back to you. Once you have defined the function, you can then <b>call</b> it by typing the function name, and  the inputs in the parenthesis. For example, calling: <b><code>print(\"Hello World!\")</code></b>, prints the string <b><code>\"Hello World!\"</code></b>.\n",
    "\n",
    "<b>Indentation</b> <br>\n",
    "\n",
    "It is worth noting that the function body should be <b>indented</b>. This is how Python sees what piece of code is inside another code. An indented line of code is a line that starts with whitespace. You can do this by using the tab key on your keyboard."
   ]
  },
  {
   "attachments": {},
   "cell_type": "markdown",
   "metadata": {
    "nbgrader": {
     "grade": false,
     "locked": true,
     "solution": false
    }
   },
   "source": [
    "::: {note}\n",
    "Inputs of functions are more often called <b>arguments</b>.\n",
    ":::"
   ]
  },
  {
   "attachments": {},
   "cell_type": "markdown",
   "metadata": {
    "nbgrader": {
     "grade": false,
     "locked": true,
     "solution": false
    }
   },
   "source": [
    "### indentation of code within functions\n",
    "\n",
    "Let's say you'd want to compute the area of a circle, but you don't want to calculate $\\pi r^2$ the entire time. Then you can write a couple lines of code to do it for you, and wrap it up into a function, like the one below:\n"
   ]
  },
  {
   "cell_type": "code",
   "execution_count": 41,
   "metadata": {
    "collapsed": true,
    "nbgrader": {
     "grade": false,
     "locked": true,
     "solution": false
    }
   },
   "outputs": [],
   "source": [
    "def calculate_circle_area(r):\n",
    "    pi = 3.141592653589793\n",
    "    area = pi*(r**2)\n",
    "    return area"
   ]
  },
  {
   "attachments": {},
   "cell_type": "markdown",
   "metadata": {
    "nbgrader": {
     "grade": false,
     "locked": true,
     "solution": false
    }
   },
   "source": [
    "This function is called <b><code>calculate_circle_area(r)</code></b>, and takes the value <b><code>r</code></b> as an argument."
   ]
  },
  {
   "attachments": {},
   "cell_type": "markdown",
   "metadata": {
    "nbgrader": {
     "grade": false,
     "locked": true,
     "solution": false
    }
   },
   "source": [
    "Functions can have multiple arguments, for example:"
   ]
  },
  {
   "cell_type": "code",
   "execution_count": 42,
   "metadata": {
    "collapsed": true,
    "nbgrader": {
     "grade": false,
     "locked": true,
     "solution": false
    }
   },
   "outputs": [
    {
     "name": "stdout",
     "output_type": "stream",
     "text": [
      "Area of my rectangle is 24 cm^2\n"
     ]
    }
   ],
   "source": [
    "def calculate_rectangle_area(a, b):\n",
    "    area = a * b\n",
    "    return area\n",
    "\n",
    "print('Area of my rectangle is', calculate_rectangle_area(4, 6), 'cm^2')"
   ]
  },
  {
   "attachments": {},
   "cell_type": "markdown",
   "metadata": {
    "nbgrader": {
     "grade": false,
     "locked": true,
     "solution": false
    }
   },
   "source": [
    "In the cell above, the **`calculate_rectangle_area(a, b)`** function takes $2$ arguments, $a$ and $b$. \n",
    "\n",
    "The built-in function **`print()`** takes $3$ arguments:<br>\n",
    "the <b>string</b> <b><code>'Area of my rectangle is'</code></b>, the output of <b><code>calculate_rectangle_area(a, b)</code></b>, and another string <b><code>'cm^2'</code></b>.\n",
    "\n",
    "There are better ways to use the built-in <b><code>print()</code></b> function when writing long sentences that have variables in between. For example:"
   ]
  },
  {
   "cell_type": "code",
   "execution_count": 46,
   "metadata": {
    "collapsed": true,
    "nbgrader": {
     "grade": false,
     "locked": true,
     "solution": false
    }
   },
   "outputs": [
    {
     "name": "stdout",
     "output_type": "stream",
     "text": [
      "Area of my rectangle is 24 cm^2 and the area of my circle is 50.26548245743669 cm^2\n"
     ]
    }
   ],
   "source": [
    "print('Area of my rectangle is {} cm^2 and the area of my circle is {} cm^2'. \\\n",
    "      format(calculate_rectangle_area(4,6), calculate_circle_area(4)))"
   ]
  },
  {
   "attachments": {},
   "cell_type": "markdown",
   "metadata": {
    "nbgrader": {
     "grade": false,
     "locked": true,
     "solution": false
    }
   },
   "source": [
    "If a line in your code extends the width of your page, you can use a **\\\\** at the point where you want to break the line, as shown above.\n",
    "\n",
    "Note that the variables (separated by commas) called inside the <b><code>.format()</code></b> will appear, in order, where the <b>{ }</b> are located.\n",
    "\n",
    "Furthermore, you can also format how you want the numbers to appear, as shown below:"
   ]
  },
  {
   "cell_type": "code",
   "execution_count": 47,
   "metadata": {
    "collapsed": true,
    "nbgrader": {
     "grade": false,
     "locked": true,
     "solution": false
    }
   },
   "outputs": [
    {
     "name": "stdout",
     "output_type": "stream",
     "text": [
      "Area of my rectangle is 24.00000 cm^2 and the area of my circle is 50.27 cm^2\n"
     ]
    }
   ],
   "source": [
    "print('Area of my rectangle is {:.5f} cm^2 and the area of my circle is {:.2f} cm^2'. \\\n",
    "      format(calculate_rectangle_area(4,6), calculate_circle_area(4)))"
   ]
  },
  {
   "attachments": {},
   "cell_type": "markdown",
   "metadata": {},
   "source": [
    "Where the <b><code>:.5f</code></b> states that you want to print that variable with $5$ decimal numbers. Similarly, <b><code>:.2f</code></b> rounds the number to $2$ decimal numbers. More information on this in Section 3.1, in Notebook 3."
   ]
  },
  {
   "attachments": {},
   "cell_type": "markdown",
   "metadata": {
    "nbgrader": {
     "grade": false,
     "locked": true,
     "solution": false
    }
   },
   "source": [
    "### Documenting functions\n",
    "We have now successfully created a function that computes the area of a circle and the area of a rectangle. You could send this code to fellow students, but maybe they wouldn't know how to use them. This is where a <b>docstring</b> comes in handy. This is a string specified in the beginning of the function body which states information about the function. A lot of built-in Python functions also have docstrings, which is really useful when you're trying to understand how to use a function."
   ]
  },
  {
   "attachments": {},
   "cell_type": "markdown",
   "metadata": {
    "nbgrader": {
     "grade": false,
     "locked": true,
     "solution": false
    }
   },
   "source": [
    "Add a description to the <code>calculate_circle_area(r)</code> function below, as a docstring.<br> "
   ]
  },
  {
   "cell_type": "code",
   "execution_count": 48,
   "metadata": {
    "collapsed": true,
    "nbgrader": {
     "grade": false,
     "locked": false,
     "solution": false
    }
   },
   "outputs": [],
   "source": [
    "def calculate_circle_area(r):\n",
    "    '''This function calculate the area of a circle with radius r '''\n",
    "    pi_circle = 3.141592653589793\n",
    "    area = pi_circle*(r**2)\n",
    "    return area"
   ]
  },
  {
   "attachments": {},
   "cell_type": "markdown",
   "metadata": {
    "nbgrader": {
     "grade": false,
     "locked": true,
     "solution": false
    }
   },
   "source": [
    "As you can see, nothing happened. But, if we now call the function like this:\n",
    "```\n",
    "calculate_circle_area?\n",
    "```\n",
    "or:\n",
    "```\n",
    "help(calculate_circle_area)\n",
    "```\n",
    "we should see the description (docstring) of the function. Try yourself below:"
   ]
  },
  {
   "cell_type": "code",
   "execution_count": 49,
   "metadata": {
    "collapsed": true
   },
   "outputs": [
    {
     "name": "stdout",
     "output_type": "stream",
     "text": [
      "Help on function calculate_circle_area in module __main__:\n",
      "\n",
      "calculate_circle_area(r)\n",
      "    This function calculate the area of a circle with radius r\n",
      "\n"
     ]
    }
   ],
   "source": [
    "help(calculate_circle_area)\n"
   ]
  },
  {
   "attachments": {},
   "cell_type": "markdown",
   "metadata": {
    "nbgrader": {
     "grade": false,
     "locked": true,
     "solution": false
    }
   },
   "source": [
    "Now this isn't of much use when you work on your own code, unless you are very forgetful or have to write large programs.\n",
    "But if you work using other people's code, this is really useful, as it helps you figure out how to use each function."
   ]
  },
  {
   "attachments": {},
   "cell_type": "markdown",
   "metadata": {
    "nbgrader": {
     "grade": false,
     "locked": true,
     "solution": false
    }
   },
   "source": [
    "#### When to write or use a function?\n",
    "\n",
    "You can use functions in your code when you have a specific piece of code that you need to use multiple times (e.g.: plotting something).<br><br>Often you will find you want to use an output from a function later on. To do this, you can assign a function to a variable. Let's say I want to use the area of a circle in a later calculation. Then you can store it in a variable like this:"
   ]
  },
  {
   "cell_type": "code",
   "execution_count": 50,
   "metadata": {
    "collapsed": true,
    "nbgrader": {
     "grade": false,
     "locked": true,
     "solution": false
    }
   },
   "outputs": [],
   "source": [
    "Circle_Area = calculate_circle_area(4)\n",
    "# here, we stored the area of a circle that has a radius 4 \n",
    "# in the variable 'Circle_Area'"
   ]
  },
  {
   "attachments": {},
   "cell_type": "markdown",
   "metadata": {
    "nbgrader": {
     "grade": false,
     "locked": true,
     "solution": false
    }
   },
   "source": [
    "Nothing happens, but the value of <b><code>calculate_circle_area(4)</code></b> is now stored in the variable <b><code>Circle_Area</code></b>. See below:"
   ]
  },
  {
   "cell_type": "code",
   "execution_count": 51,
   "metadata": {
    "collapsed": true,
    "nbgrader": {
     "grade": false,
     "locked": true,
     "solution": false
    }
   },
   "outputs": [
    {
     "name": "stdout",
     "output_type": "stream",
     "text": [
      "50.26548245743669\n"
     ]
    }
   ],
   "source": [
    "print(Circle_Area)"
   ]
  },
  {
   "attachments": {},
   "cell_type": "markdown",
   "metadata": {
    "nbgrader": {
     "grade": false,
     "locked": true,
     "solution": false
    }
   },
   "source": [
    "We can see that the value was indeed stored.\n",
    "\n",
    "::: {warning}\n",
    "Variables that are defined inside a function body can <b>NOT</b> be called from outside of the function. These variables are called <b>local variables</b>.\n",
    ":::"
   ]
  },
  {
   "attachments": {},
   "cell_type": "markdown",
   "metadata": {
    "nbgrader": {
     "grade": false,
     "locked": true,
     "solution": false
    }
   },
   "source": [
    "Take the variable **`pi_circle`** that we defined in the function **`calculate_circle_area()`**. If we try to print it:"
   ]
  },
  {
   "cell_type": "code",
   "execution_count": 52,
   "metadata": {
    "collapsed": true,
    "nbgrader": {
     "grade": false,
     "locked": true,
     "solution": false
    }
   },
   "outputs": [
    {
     "ename": "NameError",
     "evalue": "name 'pi_circle' is not defined",
     "output_type": "error",
     "traceback": [
      "\u001b[1;31m---------------------------------------------------------------------------\u001b[0m",
      "\u001b[1;31mNameError\u001b[0m                                 Traceback (most recent call last)",
      "Cell \u001b[1;32mIn[52], line 1\u001b[0m\n\u001b[1;32m----> 1\u001b[0m \u001b[39mprint\u001b[39m(pi_circle)\n",
      "\u001b[1;31mNameError\u001b[0m: name 'pi_circle' is not defined"
     ]
    }
   ],
   "source": [
    "print(pi_circle)"
   ]
  },
  {
   "attachments": {},
   "cell_type": "markdown",
   "metadata": {
    "nbgrader": {
     "grade": false,
     "locked": true,
     "solution": false
    }
   },
   "source": [
    "See, it doesn't work!\n",
    "The error you get: <i>name 'pi_circle' is not defined</i>, means that you tried to call a variable that does not exist."
   ]
  },
  {
   "attachments": {},
   "cell_type": "markdown",
   "metadata": {
    "nbgrader": {
     "grade": false,
     "locked": true,
     "solution": false
    }
   },
   "source": [
    "## Additional study material:\n",
    "\n",
    "* Official Python Documentation - https://docs.python.org/3/tutorial/introduction.html\n",
    "* https://realpython.com/python-variables/\n",
    "* Think Python (2nd ed.) - Section 2\n",
    "\n",
    "* Official Python Documentation - https://docs.python.org/3/library/operator.html\n",
    "* https://realpython.com/python-operators-expressions/\n",
    "* Think Python (2nd ed.) - Sections 2 and 5\n",
    "\n",
    "* Official Python Documentation - https://docs.python.org/3/tutorial/controlflow.html#defining-functions\n",
    "* https://realpython.com/defining-your-own-python-function/\n",
    "* Think Python (2nd ed.) - Sections 3, 6 and 16"
   ]
  },
  {
   "attachments": {},
   "cell_type": "markdown",
   "metadata": {
    "nbgrader": {
     "grade": false,
     "locked": true,
     "solution": false
    }
   },
   "source": [
    "### After this Notebook you should be able to:\n",
    "\n",
    "- understand why you need to learn Python\n",
    "- create and re-assign new variables\n",
    "- determine the type of a variable using `type()`\n",
    "- slice strings\n",
    "- perform simple math using arithmetic operators\n",
    "- compare two or more variables\n",
    "- check if a value, or element, exists in an object\n",
    "- define a function, including its docstring"
   ]
  }
 ],
 "metadata": {
  "colab": {
   "collapsed_sections": [],
   "name": "merged.ipynb",
   "provenance": []
  },
  "kernelspec": {
   "display_name": "base",
   "language": "python",
   "name": "python3"
  },
  "language_info": {
   "codemirror_mode": {
    "name": "ipython",
    "version": 3
   },
   "file_extension": ".py",
   "mimetype": "text/x-python",
   "name": "python",
   "nbconvert_exporter": "python",
   "pygments_lexer": "ipython3",
   "version": "3.8.13"
  },
  "latex_envs": {
   "LaTeX_envs_menu_present": true,
   "autoclose": false,
   "autocomplete": true,
   "bibliofile": "biblio.bib",
   "cite_by": "apalike",
   "current_citInitial": 1,
   "eqLabelWithNumbers": true,
   "eqNumInitial": 1,
   "hotkeys": {
    "equation": "Ctrl-E",
    "itemize": "Ctrl-I"
   },
   "labels_anchors": false,
   "latex_user_defs": false,
   "report_style_numbering": false,
   "user_envs_cfg": false
  }
 },
 "nbformat": 4,
 "nbformat_minor": 5
}
